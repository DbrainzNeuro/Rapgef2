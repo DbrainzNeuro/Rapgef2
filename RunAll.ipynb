{
 "cells": [
  {
   "cell_type": "code",
   "execution_count": 4,
   "metadata": {
    "hideCode": false,
    "hidePrompt": true
   },
   "outputs": [],
   "source": [
    "import pandas as pd\n",
    "import io\n",
    "import matplotlib \n",
    "import plotly.express as px\n",
    "import plotly.graph_objects as go\n"
   ]
  },
  {
   "cell_type": "code",
   "execution_count": 12,
   "metadata": {
    "hideCode": false,
    "hidePrompt": true
   },
   "outputs": [
    {
     "data": {
      "application/vnd.plotly.v1+json": {
       "config": {
        "plotlyServerURL": "https://plot.ly"
       },
       "data": [
        {
         "alignmentgroup": "True",
         "customdata": [
          [
           "Pvalb",
           "Inhibitory",
           4.6966795999999995
          ],
          [
           "Sst",
           "Inhibitory",
           5.953242299999999
          ],
          [
           "Lamp5 Lhx6",
           "Inhibitory",
           2.46774
          ],
          [
           "Pvalb",
           "Inhibitory",
           4.665625599999999
          ],
          [
           "Pvalb",
           "Inhibitory",
           4.313212999999999
          ],
          [
           "Vip",
           "Inhibitory",
           2.8062669999999996
          ],
          [
           "Sst",
           "Inhibitory",
           5.4820437
          ],
          [
           "Lamp5",
           "Inhibitory",
           4.7944202
          ],
          [
           "Sst",
           "Inhibitory",
           4.721729799999999
          ],
          [
           "Lamp5 Lhx6",
           "Inhibitory",
           1.7461456999999998
          ],
          [
           "Sst",
           "Inhibitory",
           5.8911443
          ],
          [
           "Sncg",
           "Inhibitory",
           5.0404024000000005
          ],
          [
           "Pvalb Vipr2",
           "Inhibitory",
           3.9215063999999997
          ],
          [
           "Sst",
           "Inhibitory",
           4.672850599999999
          ],
          [
           "Sst",
           "Inhibitory",
           4.387013
          ],
          [
           "Sst",
           "Inhibitory",
           5.585970400000001
          ],
          [
           "Sst",
           "Inhibitory",
           5.7357087
          ],
          [
           "Vip",
           "Inhibitory",
           4.973205999999999
          ],
          [
           "Lamp5 Lhx6",
           "Inhibitory",
           2.43014
          ],
          [
           "Sst",
           "Inhibitory",
           4.547855
          ],
          [
           "Pvalb",
           "Inhibitory",
           4.843203
          ],
          [
           "Vip",
           "Inhibitory",
           2.6695116000000003
          ],
          [
           "Lamp5",
           "Inhibitory",
           4.9371795999999994
          ],
          [
           "Vip",
           "Inhibitory",
           2.0897818
          ],
          [
           "Sncg",
           "Inhibitory",
           3.928611
          ],
          [
           "Sncg",
           "Inhibitory",
           4.543232
          ],
          [
           "Sst",
           "Inhibitory",
           4.739006
          ],
          [
           "Vip",
           "Inhibitory",
           2.3468566
          ],
          [
           "Sncg",
           "Inhibitory",
           4.8091607000000005
          ],
          [
           "Lamp5",
           "Inhibitory",
           2.6637310000000003
          ],
          [
           "Sncg",
           "Inhibitory",
           4.1420417
          ],
          [
           "Sst",
           "Inhibitory",
           5.738788
          ],
          [
           "Lamp5",
           "Inhibitory",
           5.027264
          ],
          [
           "Sncg",
           "Inhibitory",
           5.0725803
          ],
          [
           "Lamp5",
           "Inhibitory",
           5.140037
          ],
          [
           "Lamp5",
           "Inhibitory",
           4.9306865
          ],
          [
           "Pvalb",
           "Inhibitory",
           4.699362799999999
          ],
          [
           "Pvalb",
           "Inhibitory",
           3.9099607000000005
          ],
          [
           "Sst Chodl",
           "Inhibitory",
           4.546005
          ],
          [
           "Sst",
           "Inhibitory",
           5.5503902
          ],
          [
           "Pvalb",
           "Inhibitory",
           4.1943445
          ],
          [
           "Meis2",
           "Inhibitory",
           2.921956
          ],
          [
           "Sncg",
           "Inhibitory",
           3.8996599
          ],
          [
           "Vip",
           "Inhibitory",
           5.1659690000000005
          ],
          [
           "Vip",
           "Inhibitory",
           2.713384
          ],
          [
           "Sncg",
           "Inhibitory",
           4.7400923
          ],
          [
           "Sst",
           "Inhibitory",
           5.577715400000001
          ],
          [
           "Pvalb",
           "Inhibitory",
           5.275411
          ],
          [
           "Sst",
           "Inhibitory",
           4.687515
          ],
          [
           "Pvalb",
           "Inhibitory",
           4.577019
          ],
          [
           "Lamp5",
           "Inhibitory",
           5.028757
          ],
          [
           "Vip",
           "Inhibitory",
           1.3590378
          ],
          [
           "Sst",
           "Inhibitory",
           5.8739550000000005
          ],
          [
           "Vip",
           "Inhibitory",
           2.318373
          ],
          [
           "Sst",
           "Inhibitory",
           5.513267
          ],
          [
           "Vip",
           "Inhibitory",
           2.7013655
          ],
          [
           "Sst",
           "Inhibitory",
           4.351694599999999
          ],
          [
           "Sst",
           "Inhibitory",
           5.984852
          ],
          [
           "Lamp5",
           "Inhibitory",
           2.3847362999999997
          ],
          [
           "Sncg",
           "Inhibitory",
           5.068281
          ],
          [
           "Sst",
           "Inhibitory",
           5.571569
          ],
          [
           "Sst",
           "Inhibitory",
           4.8659887
          ],
          [
           "Lamp5",
           "Inhibitory",
           4.459043
          ],
          [
           "Sncg",
           "Inhibitory",
           3.341025
          ],
          [
           "Sst",
           "Inhibitory",
           4.594648
          ],
          [
           "Sst",
           "Inhibitory",
           5.0383463
          ],
          [
           "Sst",
           "Inhibitory",
           5.657596
          ],
          [
           "Sst",
           "Inhibitory",
           4.6710763
          ],
          [
           "Sst",
           "Inhibitory",
           5.310309999999999
          ],
          [
           "Sst",
           "Inhibitory",
           4.837817
          ],
          [
           "Sncg",
           "Inhibitory",
           4.7734933
          ],
          [
           "Sncg",
           "Inhibitory",
           4.1637797
          ],
          [
           "Sst",
           "Inhibitory",
           5.090715
          ],
          [
           "Sst",
           "Inhibitory",
           3.9951413000000002
          ],
          [
           "Sncg",
           "Inhibitory",
           2.3113217
          ],
          [
           "Sst",
           "Inhibitory",
           5.688936
          ],
          [
           "Sst Chodl",
           "Inhibitory",
           5.698872
          ],
          [
           "Sst",
           "Inhibitory",
           5.688322
          ],
          [
           "Vip",
           "Inhibitory",
           2.2088432
          ],
          [
           "Pvalb",
           "Inhibitory",
           4.998747
          ],
          [
           "Lamp5 Lhx6",
           "Inhibitory",
           2.2454419999999997
          ],
          [
           "Vip",
           "Inhibitory",
           4.036437
          ],
          [
           "Lamp5",
           "Inhibitory",
           4.8153877
          ],
          [
           "Vip",
           "Inhibitory",
           2.7156773
          ],
          [
           "Sst Chodl",
           "Inhibitory",
           4.395576
          ],
          [
           "Sst",
           "Inhibitory",
           5.0544415
          ],
          [
           "Vip",
           "Inhibitory",
           2.4297272999999997
          ],
          [
           "Sst",
           "Inhibitory",
           5.632029
          ],
          [
           "Sst",
           "Inhibitory",
           4.5952525
          ],
          [
           "Vip",
           "Inhibitory",
           2.6285496
          ],
          [
           "Vip",
           "Inhibitory",
           3.1025019
          ],
          [
           "Pvalb",
           "Inhibitory",
           4.4559736
          ],
          [
           "Sncg",
           "Inhibitory",
           4.369318499999999
          ],
          [
           "Pvalb",
           "Inhibitory",
           4.849394
          ],
          [
           "Sst Chodl",
           "Inhibitory",
           4.874755
          ],
          [
           "Sst",
           "Inhibitory",
           5.8330283
          ],
          [
           "Vip",
           "Inhibitory",
           1.9811323
          ],
          [
           "Sst",
           "Inhibitory",
           4.2697353
          ],
          [
           "Pvalb",
           "Inhibitory",
           5.1705666
          ],
          [
           "Vip",
           "Inhibitory",
           2.0931356
          ],
          [
           "Lamp5",
           "Inhibitory",
           4.3261676
          ],
          [
           "Sst",
           "Inhibitory",
           5.4875684
          ],
          [
           "Vip",
           "Inhibitory",
           4.798344999999999
          ],
          [
           "Sst",
           "Inhibitory",
           5.5808444
          ],
          [
           "Sst",
           "Inhibitory",
           5.83122
          ],
          [
           "Sst",
           "Inhibitory",
           4.1489053
          ],
          [
           "Sst",
           "Inhibitory",
           5.673822400000001
          ],
          [
           "Vip",
           "Inhibitory",
           2.956829
          ]
         ],
         "hovertemplate": "<b>%{hovertext}</b><br><br>Cell_Type=%{customdata[1]}<br>higher_cluster=%{customdata[0]}<br>Expression=%{customdata[2]}<extra></extra>",
         "hovertext": [
          "108_Pvalb",
          "67_Sst",
          "6_Lamp5 Lhx6",
          "111_Pvalb",
          "117_Pvalb",
          "59_Vip",
          "66_Sst",
          "13_Lamp5",
          "86_Sst",
          "4_Lamp5 Lhx6",
          "65_Sst",
          "32_Sncg",
          "119_Pvalb Vipr2",
          "75_Sst",
          "71_Sst",
          "84_Sst",
          "80_Sst",
          "46_Vip",
          "3_Lamp5 Lhx6",
          "85_Sst",
          "114_Pvalb",
          "58_Vip",
          "11_Lamp5",
          "52_Vip",
          "31_Sncg",
          "35_Sncg",
          "100_Sst",
          "43_Vip",
          "29_Sncg",
          "14_Lamp5",
          "37_Sncg",
          "83_Sst",
          "12_Lamp5",
          "27_Sncg",
          "15_Lamp5",
          "39_Lamp5",
          "115_Pvalb",
          "105_Pvalb",
          "61_Sst Chodl",
          "68_Sst",
          "107_Pvalb",
          "2_Meis2",
          "30_Sncg",
          "41_Vip",
          "54_Vip",
          "36_Sncg",
          "76_Sst",
          "116_Pvalb",
          "96_Sst",
          "110_Pvalb",
          "10_Lamp5",
          "57_Vip",
          "94_Sst",
          "40_Vip",
          "74_Sst",
          "45_Vip",
          "87_Sst",
          "82_Sst",
          "8_Lamp5",
          "26_Sncg",
          "95_Sst",
          "98_Sst",
          "9_Lamp5",
          "38_Sncg",
          "102_Sst",
          "70_Sst",
          "79_Sst",
          "88_Sst",
          "101_Sst",
          "103_Sst",
          "25_Sncg",
          "33_Sncg",
          "78_Sst",
          "97_Sst",
          "28_Sncg",
          "93_Sst",
          "60_Sst Chodl",
          "69_Sst",
          "44_Vip",
          "109_Pvalb",
          "5_Lamp5 Lhx6",
          "49_Vip",
          "16_Lamp5",
          "55_Vip",
          "63_Sst Chodl",
          "73_Sst",
          "47_Vip",
          "91_Sst",
          "89_Sst",
          "42_Vip",
          "51_Vip",
          "106_Pvalb",
          "34_Sncg",
          "113_Pvalb",
          "62_Sst Chodl",
          "64_Sst",
          "48_Vip",
          "92_Sst",
          "112_Pvalb",
          "53_Vip",
          "7_Lamp5",
          "90_Sst",
          "56_Vip",
          "77_Sst",
          "81_Sst",
          "99_Sst",
          "72_Sst",
          "50_Vip"
         ],
         "legendgroup": "Inhibitory",
         "marker": {
          "color": "#636efa"
         },
         "name": "Inhibitory",
         "offsetgroup": "Inhibitory",
         "orientation": "v",
         "showlegend": true,
         "textposition": "auto",
         "type": "bar",
         "x": [
          "Pvalb",
          "Sst",
          "Lamp5 Lhx6",
          "Pvalb",
          "Pvalb",
          "Vip",
          "Sst",
          "Lamp5",
          "Sst",
          "Lamp5 Lhx6",
          "Sst",
          "Sncg",
          "Pvalb Vipr2",
          "Sst",
          "Sst",
          "Sst",
          "Sst",
          "Vip",
          "Lamp5 Lhx6",
          "Sst",
          "Pvalb",
          "Vip",
          "Lamp5",
          "Vip",
          "Sncg",
          "Sncg",
          "Sst",
          "Vip",
          "Sncg",
          "Lamp5",
          "Sncg",
          "Sst",
          "Lamp5",
          "Sncg",
          "Lamp5",
          "Lamp5",
          "Pvalb",
          "Pvalb",
          "Sst Chodl",
          "Sst",
          "Pvalb",
          "Meis2",
          "Sncg",
          "Vip",
          "Vip",
          "Sncg",
          "Sst",
          "Pvalb",
          "Sst",
          "Pvalb",
          "Lamp5",
          "Vip",
          "Sst",
          "Vip",
          "Sst",
          "Vip",
          "Sst",
          "Sst",
          "Lamp5",
          "Sncg",
          "Sst",
          "Sst",
          "Lamp5",
          "Sncg",
          "Sst",
          "Sst",
          "Sst",
          "Sst",
          "Sst",
          "Sst",
          "Sncg",
          "Sncg",
          "Sst",
          "Sst",
          "Sncg",
          "Sst",
          "Sst Chodl",
          "Sst",
          "Vip",
          "Pvalb",
          "Lamp5 Lhx6",
          "Vip",
          "Lamp5",
          "Vip",
          "Sst Chodl",
          "Sst",
          "Vip",
          "Sst",
          "Sst",
          "Vip",
          "Vip",
          "Pvalb",
          "Sncg",
          "Pvalb",
          "Sst Chodl",
          "Sst",
          "Vip",
          "Sst",
          "Pvalb",
          "Vip",
          "Lamp5",
          "Sst",
          "Vip",
          "Sst",
          "Sst",
          "Sst",
          "Sst",
          "Vip"
         ],
         "xaxis": "x",
         "y": [
          4.6966795999999995,
          5.953242299999999,
          2.46774,
          4.665625599999999,
          4.313212999999999,
          2.8062669999999996,
          5.4820437,
          4.7944202,
          4.721729799999999,
          1.7461456999999998,
          5.8911443,
          5.0404024000000005,
          3.9215063999999997,
          4.672850599999999,
          4.387013,
          5.585970400000001,
          5.7357087,
          4.973205999999999,
          2.43014,
          4.547855,
          4.843203,
          2.6695116000000003,
          4.9371795999999994,
          2.0897818,
          3.928611,
          4.543232,
          4.739006,
          2.3468566,
          4.8091607000000005,
          2.6637310000000003,
          4.1420417,
          5.738788,
          5.027264,
          5.0725803,
          5.140037,
          4.9306865,
          4.699362799999999,
          3.9099607000000005,
          4.546005,
          5.5503902,
          4.1943445,
          2.921956,
          3.8996599,
          5.1659690000000005,
          2.713384,
          4.7400923,
          5.577715400000001,
          5.275411,
          4.687515,
          4.577019,
          5.028757,
          1.3590378,
          5.8739550000000005,
          2.318373,
          5.513267,
          2.7013655,
          4.351694599999999,
          5.984852,
          2.3847362999999997,
          5.068281,
          5.571569,
          4.8659887,
          4.459043,
          3.341025,
          4.594648,
          5.0383463,
          5.657596,
          4.6710763,
          5.310309999999999,
          4.837817,
          4.7734933,
          4.1637797,
          5.090715,
          3.9951413000000002,
          2.3113217,
          5.688936,
          5.698872,
          5.688322,
          2.2088432,
          4.998747,
          2.2454419999999997,
          4.036437,
          4.8153877,
          2.7156773,
          4.395576,
          5.0544415,
          2.4297272999999997,
          5.632029,
          4.5952525,
          2.6285496,
          3.1025019,
          4.4559736,
          4.369318499999999,
          4.849394,
          4.874755,
          5.8330283,
          1.9811323,
          4.2697353,
          5.1705666,
          2.0931356,
          4.3261676,
          5.4875684,
          4.798344999999999,
          5.5808444,
          5.83122,
          4.1489053,
          5.673822400000001,
          2.956829
         ],
         "yaxis": "y"
        },
        {
         "alignmentgroup": "True",
         "customdata": [
          [
           "L6 IT CTX",
           "Excitatory",
           2.6759217
          ],
          [
           "CA3",
           "Excitatory",
           6.243418
          ],
          [
           "L6 CT CTX",
           "Excitatory",
           5.5523242999999995
          ],
          [
           "Pax6",
           "Excitatory",
           5.4418635
          ],
          [
           "L6 Car3",
           "Excitatory",
           5.086158
          ],
          [
           "CA1",
           "Excitatory",
           6.4654169999999995
          ],
          [
           "L6 IT CTX",
           "Excitatory",
           5.375281299999999
          ],
          [
           "L6 IT CTX",
           "Excitatory",
           6.3067236
          ],
          [
           "L6b/CT ENT",
           "Excitatory",
           5.9865127000000005
          ],
          [
           "L5 IT TPE-ENT",
           "Excitatory",
           5.762633
          ],
          [
           "SUB-ProS",
           "Excitatory",
           5.465733
          ],
          [
           "CA3",
           "Excitatory",
           7.204391499999999
          ],
          [
           "L6 IT CTX",
           "Excitatory",
           5.944362
          ],
          [
           "L2 IT RSPv",
           "Excitatory",
           6.6436996
          ],
          [
           "L5/6 IT CTX",
           "Excitatory",
           5.509567700000001
          ],
          [
           "L5 NP CTX",
           "Excitatory",
           4.5595193
          ],
          [
           "L6b/CT ENT",
           "Excitatory",
           5.6129489999999995
          ],
          [
           "L6b CTX",
           "Excitatory",
           4.3967404000000005
          ],
          [
           "L3 IT ENTm",
           "Excitatory",
           5.644229
          ],
          [
           "L6 CT CTX",
           "Excitatory",
           5.175231500000001
          ],
          [
           "L2/3 IT CTX",
           "Excitatory",
           4.4667845
          ],
          [
           "L5 PT CTX",
           "Excitatory",
           6.120343
          ],
          [
           "L3 RSP-ACA",
           "Excitatory",
           5.047371
          ],
          [
           "L6 CT CTX",
           "Excitatory",
           5.661402
          ],
          [
           "L2/3 IT ENTl",
           "Excitatory",
           4.9935527
          ],
          [
           "ProS",
           "Excitatory",
           6.2061234
          ],
          [
           "L6 CT CTX",
           "Excitatory",
           5.0748725
          ],
          [
           "L2/3 IT CTX",
           "Excitatory",
           5.8679156
          ],
          [
           "L5 PT CTX",
           "Excitatory",
           6.007839700000001
          ],
          [
           "L6b CTX",
           "Excitatory",
           5.148120400000001
          ],
          [
           "L2/3 IT PPP",
           "Excitatory",
           6.3784657
          ],
          [
           "L2/3 IT TPE",
           "Excitatory",
           6.3001914
          ],
          [
           "L6 IT CTX",
           "Excitatory",
           6.2930126
          ],
          [
           "L5 PT CTX",
           "Excitatory",
           4.897032299999999
          ],
          [
           "CA1",
           "Excitatory",
           5.8986425
          ],
          [
           "L2/3 IT CTX",
           "Excitatory",
           6.1578
          ],
          [
           "CA3",
           "Excitatory",
           7.048156
          ],
          [
           "L5 NP CTX",
           "Excitatory",
           3.753378
          ],
          [
           "Pax6",
           "Excitatory",
           5.0058637
          ],
          [
           "CA1-ProS",
           "Excitatory",
           5.87102
          ],
          [
           "NP SUB",
           "Excitatory",
           5.1874638
          ],
          [
           "L6 IT CTX",
           "Excitatory",
           6.802680499999999
          ],
          [
           "L6 CT CTX",
           "Excitatory",
           5.8015947
          ],
          [
           "L6 CT ENTm",
           "Excitatory",
           6.950625
          ],
          [
           "CA1-ProS",
           "Excitatory",
           5.8262362
          ],
          [
           "L6 CT CTX",
           "Excitatory",
           5.3469596
          ],
          [
           "CA1-ProS",
           "Excitatory",
           5.2762218
          ],
          [
           "L2/3 IT CTX",
           "Excitatory",
           6.2911825
          ],
          [
           "Pax6",
           "Excitatory",
           5.543636
          ],
          [
           "L6 IT CTX",
           "Excitatory",
           6.3478959999999995
          ],
          [
           "L6 CT CTX",
           "Excitatory",
           2.4067632999999997
          ],
          [
           "L5 PT CTX",
           "Excitatory",
           5.1920657
          ],
          [
           "L2/3 IT ENTl",
           "Excitatory",
           6.2347345
          ],
          [
           "CT SUB",
           "Excitatory",
           5.782426999999999
          ],
          [
           "SUB",
           "Excitatory",
           5.8232183
          ],
          [
           "L5 IT CTX",
           "Excitatory",
           5.4416385
          ],
          [
           "CA1",
           "Excitatory",
           6.467939
          ],
          [
           "L2/3 IT PPP",
           "Excitatory",
           5.9058523
          ],
          [
           "CA2-IG-FC",
           "Excitatory",
           6.4334335
          ],
          [
           "L2/3 IT CTX",
           "Excitatory",
           6.516129
          ],
          [
           "L4/5 IT CTX",
           "Excitatory",
           5.622645400000001
          ],
          [
           "CA3",
           "Excitatory",
           6.786134
          ],
          [
           "L5 NP CTX",
           "Excitatory",
           4.9275025999999995
          ],
          [
           "L5 NP CTX",
           "Excitatory",
           4.7967796
          ],
          [
           "L5 PT CTX",
           "Excitatory",
           6.3761887999999995
          ],
          [
           "L4/5 IT CTX",
           "Excitatory",
           4.716044
          ],
          [
           "L2/3 IT CTX",
           "Excitatory",
           6.072396299999999
          ],
          [
           "NP SUB",
           "Excitatory",
           3.0185728
          ],
          [
           "L6 Car3",
           "Excitatory",
           6.261009
          ],
          [
           "CA1",
           "Excitatory",
           6.175339
          ],
          [
           "CA3",
           "Excitatory",
           6.844261599999999
          ],
          [
           "L2 IT RSP-ACA",
           "Excitatory",
           5.597196
          ],
          [
           "L2/3 IT ENTl",
           "Excitatory",
           5.661241
          ],
          [
           "DG",
           "Excitatory",
           5.032541
          ],
          [
           "L2 IT RSPv",
           "Excitatory",
           6.149624299999999
          ],
          [
           "L5 PT CTX",
           "Excitatory",
           6.15837
          ],
          [
           "L6 Car3",
           "Excitatory",
           6.022864
          ],
          [
           "L5 PT CTX",
           "Excitatory",
           5.1189876
          ],
          [
           "L5 PT RSP-ACA",
           "Excitatory",
           5.688521
          ],
          [
           "SUB",
           "Excitatory",
           5.6292089999999995
          ],
          [
           "L3 IT ENTl",
           "Excitatory",
           5.16943
          ],
          [
           "L6 Car3",
           "Excitatory",
           5.772263
          ],
          [
           "L6b CTX",
           "Excitatory",
           4.270451
          ],
          [
           "L5 PT CTX",
           "Excitatory",
           5.262034
          ],
          [
           "L5/6 IT CTX",
           "Excitatory",
           5.9682865
          ],
          [
           "L2/3 IT PPP",
           "Excitatory",
           6.4744434
          ],
          [
           "ProS",
           "Excitatory",
           5.418145
          ],
          [
           "L6 NP CT CTX",
           "Excitatory",
           4.784468700000001
          ],
          [
           "NP SUB",
           "Excitatory",
           4.966531
          ],
          [
           "L2/3 IT APr",
           "Excitatory",
           6.493026
          ],
          [
           "L6b CTX",
           "Excitatory",
           5.3856782999999995
          ],
          [
           "L2/3 IT ENTl",
           "Excitatory",
           5.542383
          ],
          [
           "DG",
           "Excitatory",
           6.2698092
          ],
          [
           "L4/5 IT CTX",
           "Excitatory",
           5.614969
          ],
          [
           "L5 PT CTX",
           "Excitatory",
           6.166136
          ],
          [
           "CA2-IG-FC",
           "Excitatory",
           6.5883656
          ],
          [
           "L3 IT ENTm",
           "Excitatory",
           5.4185653
          ],
          [
           "CA3",
           "Excitatory",
           6.8471613
          ],
          [
           "L5 NP CTX",
           "Excitatory",
           5.059882
          ],
          [
           "L2/3 IT ENTl",
           "Excitatory",
           5.572255999999999
          ],
          [
           "L4/5 IT CTX",
           "Excitatory",
           2.583071
          ],
          [
           "L6 IT ENTl",
           "Excitatory",
           5.2988586
          ],
          [
           "CT SUB",
           "Excitatory",
           6.207814
          ],
          [
           "CA3",
           "Excitatory",
           6.2869209999999995
          ],
          [
           "L2/3 IT APr",
           "Excitatory",
           6.5712223
          ],
          [
           "L2 IT ProS",
           "Excitatory",
           7.311450999999999
          ],
          [
           "L4/5 IT TPE-ENT",
           "Excitatory",
           5.0536113
          ],
          [
           "L6 IT CTX",
           "Excitatory",
           5.92523
          ],
          [
           "L4/5 IT CTX",
           "Excitatory",
           5.8365593
          ],
          [
           "CA3",
           "Excitatory",
           6.8910884999999995
          ],
          [
           "CA1-ProS",
           "Excitatory",
           5.9843150000000005
          ],
          [
           "L6b CTX",
           "Excitatory",
           5.284594
          ],
          [
           "DG",
           "Excitatory",
           5.430473
          ],
          [
           "L2 IT PAR",
           "Excitatory",
           5.3357773
          ],
          [
           "L6 IT ENTl",
           "Excitatory",
           5.5094129999999994
          ],
          [
           "L5 PT CTX",
           "Excitatory",
           6.1462183
          ],
          [
           "L6 IT CTX",
           "Excitatory",
           6.812672599999999
          ],
          [
           "L4/5 IT CTX",
           "Excitatory",
           5.568671
          ],
          [
           "CA1",
           "Excitatory",
           6.186176000000001
          ],
          [
           "L6 CT CTX",
           "Excitatory",
           4.362938400000001
          ],
          [
           "L6b CTX",
           "Excitatory",
           4.714322
          ],
          [
           "L6b RHP",
           "Excitatory",
           4.8596144
          ],
          [
           "L4/5 IT CTX",
           "Excitatory",
           5.7281904
          ],
          [
           "L6b CTX",
           "Excitatory",
           4.780078400000001
          ],
          [
           "L2 IT ProS",
           "Excitatory",
           4.2910705
          ],
          [
           "L6b CTX",
           "Excitatory",
           4.9984226
          ],
          [
           "DG",
           "Excitatory",
           4.4285364000000005
          ],
          [
           "L2 IT PAR",
           "Excitatory",
           5.562621
          ],
          [
           "L3 RSP-ACA",
           "Excitatory",
           4.419676
          ],
          [
           "ProS",
           "Excitatory",
           5.5892158
          ],
          [
           "ProS",
           "Excitatory",
           6.129828
          ],
          [
           "L6 IT CTX",
           "Excitatory",
           5.206561
          ],
          [
           "L5 PT CTX",
           "Excitatory",
           6.2811174
          ],
          [
           "L5 IT TPE-ENT",
           "Excitatory",
           5.358198000000001
          ],
          [
           "CA1-ProS",
           "Excitatory",
           6.013433
          ],
          [
           "L4/5 IT CTX",
           "Excitatory",
           5.676183
          ],
          [
           "L2/3 IT ENTl",
           "Excitatory",
           5.1417836999999995
          ],
          [
           "L6 IT CTX",
           "Excitatory",
           5.827000599999999
          ],
          [
           "L6 CT CTX",
           "Excitatory",
           5.210582
          ],
          [
           "L2/3 IT ENTl",
           "Excitatory",
           6.0455666
          ],
          [
           "L2/3 IT CTX",
           "Excitatory",
           6.609990600000001
          ],
          [
           "L6b/CT ENT",
           "Excitatory",
           5.3102136
          ],
          [
           "L3 IT ENTl",
           "Excitatory",
           5.3722067000000004
          ],
          [
           "L2 IT ENTm",
           "Excitatory",
           5.312728400000001
          ],
          [
           "L2/3 IT ENTl",
           "Excitatory",
           5.2910733
          ],
          [
           "CA1",
           "Excitatory",
           6.4334636
          ],
          [
           "CA1",
           "Excitatory",
           6.3318305
          ],
          [
           "L5/6 IT CTX",
           "Excitatory",
           6.280453
          ],
          [
           "L5 NP CTX",
           "Excitatory",
           3.5120807000000003
          ],
          [
           "CT SUB",
           "Excitatory",
           4.722548000000001
          ],
          [
           "L5/6 IT CTX",
           "Excitatory",
           6.4357557
          ],
          [
           "L6 Car3",
           "Excitatory",
           5.4309087
          ],
          [
           "L2 IT ENTm",
           "Excitatory",
           6.3299685
          ],
          [
           "L2/3 IT ENTl",
           "Excitatory",
           6.1789665000000005
          ],
          [
           "L2/3 IT CTX",
           "Excitatory",
           6.487275
          ],
          [
           "ProS",
           "Excitatory",
           5.083696400000001
          ],
          [
           "L4/5 IT CTX",
           "Excitatory",
           5.8070636
          ],
          [
           "L5 IT CTX",
           "Excitatory",
           5.7520685
          ],
          [
           "L2/3 IT PPP",
           "Excitatory",
           7.0833364
          ],
          [
           "L5 NP CTX",
           "Excitatory",
           4.66716
          ],
          [
           "L4/5 IT CTX",
           "Excitatory",
           5.5796847000000005
          ],
          [
           "L2/3 IT ENTl",
           "Excitatory",
           3.0693848
          ],
          [
           "CA1",
           "Excitatory",
           6.594048
          ],
          [
           "L5 IT CTX",
           "Excitatory",
           5.5135093
          ],
          [
           "CA1",
           "Excitatory",
           6.120719
          ],
          [
           "L6 CT CTX",
           "Excitatory",
           5.839949
          ],
          [
           "L2/3 IT ENTl",
           "Excitatory",
           5.364545
          ],
          [
           "L6b RHP",
           "Excitatory",
           5.0948367
          ],
          [
           "L2/3 IT PPP",
           "Excitatory",
           6.8578563
          ],
          [
           "L5 IT CTX",
           "Excitatory",
           6.0032024
          ],
          [
           "SUB",
           "Excitatory",
           6.1731067
          ],
          [
           "SUB-ProS",
           "Excitatory",
           5.274334400000001
          ],
          [
           "L4/5 IT CTX",
           "Excitatory",
           5.654835
          ],
          [
           "L5 IT CTX",
           "Excitatory",
           5.8040595
          ],
          [
           "L5 IT CTX",
           "Excitatory",
           5.020164
          ],
          [
           "L2/3 IT CTX",
           "Excitatory",
           6.539643
          ],
          [
           "CA1",
           "Excitatory",
           5.9086823
          ],
          [
           "CA1",
           "Excitatory",
           6.685662299999999
          ],
          [
           "L6 CT CTX",
           "Excitatory",
           5.528196299999999
          ],
          [
           "L2 IT ENTl",
           "Excitatory",
           5.736657599999999
          ],
          [
           "L5/6 IT CTX",
           "Excitatory",
           6.659464999999999
          ],
          [
           "L2/3 IT CTX",
           "Excitatory",
           6.446843599999999
          ],
          [
           "L5 IT TPE-ENT",
           "Excitatory",
           6.1161017
          ],
          [
           "L5 PT CTX",
           "Excitatory",
           2.4269385
          ],
          [
           "L5 PT CTX",
           "Excitatory",
           6.1797667
          ],
          [
           "L2/3 IT APr",
           "Excitatory",
           5.7469397
          ],
          [
           "L2/3 IT CTX",
           "Excitatory",
           6.956133
          ],
          [
           "L2 IT ENTm",
           "Excitatory",
           6.396283599999999
          ],
          [
           "L5 PT CTX",
           "Excitatory",
           6.2807455
          ],
          [
           "L6b/CT ENT",
           "Excitatory",
           5.753315
          ],
          [
           "L6 IT RHP",
           "Excitatory",
           6.209766
          ],
          [
           "L5 PT CTX",
           "Excitatory",
           5.5780544
          ],
          [
           "L5 PT CTX",
           "Excitatory",
           5.8851237
          ],
          [
           "L2 IT HATA",
           "Excitatory",
           5.7313957
          ],
          [
           "L2/3 IT CTX",
           "Excitatory",
           6.6409364
          ],
          [
           "L5 PT CTX",
           "Excitatory",
           5.8874755
          ],
          [
           "L3 IT ENTm",
           "Excitatory",
           5.4285903
          ],
          [
           "L2/3 IT CTX",
           "Excitatory",
           6.5010943
          ],
          [
           "L2 IT ENTm",
           "Excitatory",
           7.0418825
          ],
          [
           "L5 IT TPE-ENT",
           "Excitatory",
           5.4304
          ],
          [
           "L2 IT ProS",
           "Excitatory",
           5.5344777
          ],
          [
           "CA3",
           "Excitatory",
           6.8590800000000005
          ],
          [
           "NP SUB",
           "Excitatory",
           5.642002
          ],
          [
           "L6b/CT ENT",
           "Excitatory",
           5.651528
          ],
          [
           "DG",
           "Excitatory",
           6.421975
          ],
          [
           "L3 IT ENTm",
           "Excitatory",
           5.3328767
          ],
          [
           "L6b CTX",
           "Excitatory",
           3.716526
          ],
          [
           "DG",
           "Excitatory",
           5.2513723
          ],
          [
           "CA1",
           "Excitatory",
           5.726869000000001
          ],
          [
           "L6 CT ENTm",
           "Excitatory",
           6.6332759999999995
          ],
          [
           "L6b CTX",
           "Excitatory",
           3.6602282999999995
          ],
          [
           "L3 IT ENTl",
           "Excitatory",
           2.2815950000000003
          ],
          [
           "L4/5 IT TPE-ENT",
           "Excitatory",
           5.021555
          ],
          [
           "L6 IT CTX",
           "Excitatory",
           6.2099247
          ],
          [
           "L5 PT RSP-ACA",
           "Excitatory",
           6.211377
          ],
          [
           "L2/3 IT APr",
           "Excitatory",
           6.014390000000001
          ],
          [
           "L4/5 IT CTX",
           "Excitatory",
           5.522287
          ],
          [
           "CA3",
           "Excitatory",
           6.9462475999999995
          ],
          [
           "NP SUB",
           "Excitatory",
           4.2916627
          ],
          [
           "L6b CTX",
           "Excitatory",
           5.685128700000001
          ],
          [
           "L2 IT ENTl",
           "Excitatory",
           5.3825417
          ],
          [
           "L5 IT TPE-ENT",
           "Excitatory",
           5.657374400000001
          ],
          [
           "L5 PPP",
           "Excitatory",
           5.83819
          ],
          [
           "CA1-ProS",
           "Excitatory",
           5.8268504
          ],
          [
           "L2 IT ENTl",
           "Excitatory",
           4.6330457
          ]
         ],
         "hovertemplate": "<b>%{hovertext}</b><br><br>Cell_Type=%{customdata[1]}<br>higher_cluster=%{customdata[0]}<br>Expression=%{customdata[2]}<extra></extra>",
         "hovertext": [
          "229_L6 IT CTX",
          "293_CA3",
          "323_L6 CT CTX",
          "17_Pax6",
          "261_L6 Car3",
          "289_CA1",
          "219_L6 IT CTX",
          "227_L6 IT CTX",
          "334_L6b/CT ENT",
          "212_L5 IT TPE-ENT",
          "266_SUB-ProS",
          "295_CA3",
          "223_L6 IT CTX",
          "131_L2 IT RSPv",
          "216_L5/6 IT CTX",
          "306_L5 NP CTX",
          "336_L6b/CT ENT",
          "350_L6b CTX",
          "142_L3 IT ENTm",
          "324_L6 CT CTX",
          "187_L2/3 IT CTX",
          "253_L5 PT CTX",
          "235_L3 RSP-ACA",
          "327_L6 CT CTX",
          "159_L2/3 IT ENTl",
          "272_ProS",
          "329_L6 CT CTX",
          "182_L2/3 IT CTX",
          "251_L5 PT CTX",
          "339_L6b CTX",
          "135_L2/3 IT PPP",
          "184_L2/3 IT TPE",
          "222_L6 IT CTX",
          "239_L5 PT CTX",
          "283_CA1",
          "179_L2/3 IT CTX",
          "294_CA3",
          "307_L5 NP CTX",
          "18_Pax6",
          "278_CA1-ProS",
          "316_NP SUB",
          "221_L6 IT CTX",
          "326_L6 CT CTX",
          "331_L6 CT ENTm",
          "276_CA1-ProS",
          "325_L6 CT CTX",
          "274_CA1-ProS",
          "176_L2/3 IT CTX",
          "19_Pax6",
          "224_L6 IT CTX",
          "322_L6 CT CTX",
          "238_L5 PT CTX",
          "165_L2/3 IT ENTl",
          "319_CT SUB",
          "264_SUB",
          "207_L5 IT CTX",
          "287_CA1",
          "136_L2/3 IT PPP",
          "302_CA2-IG-FC",
          "178_L2/3 IT CTX",
          "189_L4/5 IT CTX",
          "296_CA3",
          "305_L5 NP CTX",
          "304_L5 NP CTX",
          "246_L5 PT CTX",
          "197_L4/5 IT CTX",
          "183_L2/3 IT CTX",
          "315_NP SUB",
          "259_L6 Car3",
          "279_CA1",
          "300_CA3",
          "186_L2 IT RSP-ACA",
          "163_L2/3 IT ENTl",
          "123_DG",
          "130_L2 IT RSPv",
          "242_L5 PT CTX",
          "260_L6 Car3",
          "237_L5 PT CTX",
          "255_L5 PT RSP-ACA",
          "263_SUB",
          "146_L3 IT ENTl",
          "258_L6 Car3",
          "351_L6b CTX",
          "240_L5 PT CTX",
          "215_L5/6 IT CTX",
          "133_L2/3 IT PPP",
          "271_ProS",
          "311_L6 NP CT CTX",
          "313_NP SUB",
          "128_L2/3 IT APr",
          "343_L6b CTX",
          "173_L2/3 IT ENTl",
          "125_DG",
          "188_L4/5 IT CTX",
          "243_L5 PT CTX",
          "301_CA2-IG-FC",
          "140_L3 IT ENTm",
          "292_CA3",
          "308_L5 NP CTX",
          "164_L2/3 IT ENTl",
          "194_L4/5 IT CTX",
          "233_L6 IT ENTl",
          "317_CT SUB",
          "291_CA3",
          "129_L2/3 IT APr",
          "155_L2 IT ProS",
          "202_L4/5 IT TPE-ENT",
          "220_L6 IT CTX",
          "193_L4/5 IT CTX",
          "297_CA3",
          "275_CA1-ProS",
          "346_L6b CTX",
          "121_DG",
          "148_L2 IT PAR",
          "232_L6 IT ENTl",
          "254_L5 PT CTX",
          "225_L6 IT CTX",
          "195_L4/5 IT CTX",
          "290_CA1",
          "321_L6 CT CTX",
          "338_L6b CTX",
          "342_L6b RHP",
          "192_L4/5 IT CTX",
          "341_L6b CTX",
          "156_L2 IT ProS",
          "347_L6b CTX",
          "120_DG",
          "147_L2 IT PAR",
          "236_L3 RSP-ACA",
          "270_ProS",
          "268_ProS",
          "231_L6 IT CTX",
          "252_L5 PT CTX",
          "213_L5 IT TPE-ENT",
          "277_CA1-ProS",
          "196_L4/5 IT CTX",
          "166_L2/3 IT ENTl",
          "230_L6 IT CTX",
          "330_L6 CT CTX",
          "161_L2/3 IT ENTl",
          "180_L2/3 IT CTX",
          "335_L6b/CT ENT",
          "144_L3 IT ENTl",
          "150_L2 IT ENTm",
          "162_L2/3 IT ENTl",
          "280_CA1",
          "288_CA1",
          "218_L5/6 IT CTX",
          "310_L5 NP CTX",
          "318_CT SUB",
          "217_L5/6 IT CTX",
          "262_L6 Car3",
          "151_L2 IT ENTm",
          "167_L2/3 IT ENTl",
          "175_L2/3 IT CTX",
          "269_ProS",
          "191_L4/5 IT CTX",
          "205_L5 IT CTX",
          "132_L2/3 IT PPP",
          "309_L5 NP CTX",
          "200_L4/5 IT CTX",
          "158_L2/3 IT ENTl",
          "284_CA1",
          "203_L5 IT CTX",
          "285_CA1",
          "328_L6 CT CTX",
          "160_L2/3 IT ENTl",
          "344_L6b RHP",
          "134_L2/3 IT PPP",
          "206_L5 IT CTX",
          "265_SUB",
          "267_SUB-ProS",
          "198_L4/5 IT CTX",
          "204_L5 IT CTX",
          "208_L5 IT CTX",
          "172_L2/3 IT CTX",
          "281_CA1",
          "282_CA1",
          "320_L6 CT CTX",
          "137_L2 IT ENTl",
          "214_L5/6 IT CTX",
          "170_L2/3 IT CTX",
          "211_L5 IT TPE-ENT",
          "249_L5 PT CTX",
          "247_L5 PT CTX",
          "127_L2/3 IT APr",
          "174_L2/3 IT CTX",
          "153_L2 IT ENTm",
          "250_L5 PT CTX",
          "333_L6b/CT ENT",
          "228_L6 IT RHP",
          "244_L5 PT CTX",
          "241_L5 PT CTX",
          "157_L2 IT HATA",
          "171_L2/3 IT CTX",
          "248_L5 PT CTX",
          "141_L3 IT ENTm",
          "177_L2/3 IT CTX",
          "152_L2 IT ENTm",
          "209_L5 IT TPE-ENT",
          "154_L2 IT ProS",
          "299_CA3",
          "312_NP SUB",
          "337_L6b/CT ENT",
          "124_DG",
          "143_L3 IT ENTm",
          "349_L6b CTX",
          "122_DG",
          "286_CA1",
          "332_L6 CT ENTm",
          "348_L6b CTX",
          "145_L3 IT ENTl",
          "201_L4/5 IT TPE-ENT",
          "226_L6 IT CTX",
          "256_L5 PT RSP-ACA",
          "126_L2/3 IT APr",
          "190_L4/5 IT CTX",
          "298_CA3",
          "314_NP SUB",
          "340_L6b CTX",
          "139_L2 IT ENTl",
          "210_L5 IT TPE-ENT",
          "257_L5 PPP",
          "273_CA1-ProS",
          "138_L2 IT ENTl"
         ],
         "legendgroup": "Excitatory",
         "marker": {
          "color": "#EF553B"
         },
         "name": "Excitatory",
         "offsetgroup": "Excitatory",
         "orientation": "v",
         "showlegend": true,
         "textposition": "auto",
         "type": "bar",
         "x": [
          "L6 IT CTX",
          "CA3",
          "L6 CT CTX",
          "Pax6",
          "L6 Car3",
          "CA1",
          "L6 IT CTX",
          "L6 IT CTX",
          "L6b/CT ENT",
          "L5 IT TPE-ENT",
          "SUB-ProS",
          "CA3",
          "L6 IT CTX",
          "L2 IT RSPv",
          "L5/6 IT CTX",
          "L5 NP CTX",
          "L6b/CT ENT",
          "L6b CTX",
          "L3 IT ENTm",
          "L6 CT CTX",
          "L2/3 IT CTX",
          "L5 PT CTX",
          "L3 RSP-ACA",
          "L6 CT CTX",
          "L2/3 IT ENTl",
          "ProS",
          "L6 CT CTX",
          "L2/3 IT CTX",
          "L5 PT CTX",
          "L6b CTX",
          "L2/3 IT PPP",
          "L2/3 IT TPE",
          "L6 IT CTX",
          "L5 PT CTX",
          "CA1",
          "L2/3 IT CTX",
          "CA3",
          "L5 NP CTX",
          "Pax6",
          "CA1-ProS",
          "NP SUB",
          "L6 IT CTX",
          "L6 CT CTX",
          "L6 CT ENTm",
          "CA1-ProS",
          "L6 CT CTX",
          "CA1-ProS",
          "L2/3 IT CTX",
          "Pax6",
          "L6 IT CTX",
          "L6 CT CTX",
          "L5 PT CTX",
          "L2/3 IT ENTl",
          "CT SUB",
          "SUB",
          "L5 IT CTX",
          "CA1",
          "L2/3 IT PPP",
          "CA2-IG-FC",
          "L2/3 IT CTX",
          "L4/5 IT CTX",
          "CA3",
          "L5 NP CTX",
          "L5 NP CTX",
          "L5 PT CTX",
          "L4/5 IT CTX",
          "L2/3 IT CTX",
          "NP SUB",
          "L6 Car3",
          "CA1",
          "CA3",
          "L2 IT RSP-ACA",
          "L2/3 IT ENTl",
          "DG",
          "L2 IT RSPv",
          "L5 PT CTX",
          "L6 Car3",
          "L5 PT CTX",
          "L5 PT RSP-ACA",
          "SUB",
          "L3 IT ENTl",
          "L6 Car3",
          "L6b CTX",
          "L5 PT CTX",
          "L5/6 IT CTX",
          "L2/3 IT PPP",
          "ProS",
          "L6 NP CT CTX",
          "NP SUB",
          "L2/3 IT APr",
          "L6b CTX",
          "L2/3 IT ENTl",
          "DG",
          "L4/5 IT CTX",
          "L5 PT CTX",
          "CA2-IG-FC",
          "L3 IT ENTm",
          "CA3",
          "L5 NP CTX",
          "L2/3 IT ENTl",
          "L4/5 IT CTX",
          "L6 IT ENTl",
          "CT SUB",
          "CA3",
          "L2/3 IT APr",
          "L2 IT ProS",
          "L4/5 IT TPE-ENT",
          "L6 IT CTX",
          "L4/5 IT CTX",
          "CA3",
          "CA1-ProS",
          "L6b CTX",
          "DG",
          "L2 IT PAR",
          "L6 IT ENTl",
          "L5 PT CTX",
          "L6 IT CTX",
          "L4/5 IT CTX",
          "CA1",
          "L6 CT CTX",
          "L6b CTX",
          "L6b RHP",
          "L4/5 IT CTX",
          "L6b CTX",
          "L2 IT ProS",
          "L6b CTX",
          "DG",
          "L2 IT PAR",
          "L3 RSP-ACA",
          "ProS",
          "ProS",
          "L6 IT CTX",
          "L5 PT CTX",
          "L5 IT TPE-ENT",
          "CA1-ProS",
          "L4/5 IT CTX",
          "L2/3 IT ENTl",
          "L6 IT CTX",
          "L6 CT CTX",
          "L2/3 IT ENTl",
          "L2/3 IT CTX",
          "L6b/CT ENT",
          "L3 IT ENTl",
          "L2 IT ENTm",
          "L2/3 IT ENTl",
          "CA1",
          "CA1",
          "L5/6 IT CTX",
          "L5 NP CTX",
          "CT SUB",
          "L5/6 IT CTX",
          "L6 Car3",
          "L2 IT ENTm",
          "L2/3 IT ENTl",
          "L2/3 IT CTX",
          "ProS",
          "L4/5 IT CTX",
          "L5 IT CTX",
          "L2/3 IT PPP",
          "L5 NP CTX",
          "L4/5 IT CTX",
          "L2/3 IT ENTl",
          "CA1",
          "L5 IT CTX",
          "CA1",
          "L6 CT CTX",
          "L2/3 IT ENTl",
          "L6b RHP",
          "L2/3 IT PPP",
          "L5 IT CTX",
          "SUB",
          "SUB-ProS",
          "L4/5 IT CTX",
          "L5 IT CTX",
          "L5 IT CTX",
          "L2/3 IT CTX",
          "CA1",
          "CA1",
          "L6 CT CTX",
          "L2 IT ENTl",
          "L5/6 IT CTX",
          "L2/3 IT CTX",
          "L5 IT TPE-ENT",
          "L5 PT CTX",
          "L5 PT CTX",
          "L2/3 IT APr",
          "L2/3 IT CTX",
          "L2 IT ENTm",
          "L5 PT CTX",
          "L6b/CT ENT",
          "L6 IT RHP",
          "L5 PT CTX",
          "L5 PT CTX",
          "L2 IT HATA",
          "L2/3 IT CTX",
          "L5 PT CTX",
          "L3 IT ENTm",
          "L2/3 IT CTX",
          "L2 IT ENTm",
          "L5 IT TPE-ENT",
          "L2 IT ProS",
          "CA3",
          "NP SUB",
          "L6b/CT ENT",
          "DG",
          "L3 IT ENTm",
          "L6b CTX",
          "DG",
          "CA1",
          "L6 CT ENTm",
          "L6b CTX",
          "L3 IT ENTl",
          "L4/5 IT TPE-ENT",
          "L6 IT CTX",
          "L5 PT RSP-ACA",
          "L2/3 IT APr",
          "L4/5 IT CTX",
          "CA3",
          "NP SUB",
          "L6b CTX",
          "L2 IT ENTl",
          "L5 IT TPE-ENT",
          "L5 PPP",
          "CA1-ProS",
          "L2 IT ENTl"
         ],
         "xaxis": "x",
         "y": [
          2.6759217,
          6.243418,
          5.5523242999999995,
          5.4418635,
          5.086158,
          6.4654169999999995,
          5.375281299999999,
          6.3067236,
          5.9865127000000005,
          5.762633,
          5.465733,
          7.204391499999999,
          5.944362,
          6.6436996,
          5.509567700000001,
          4.5595193,
          5.6129489999999995,
          4.3967404000000005,
          5.644229,
          5.175231500000001,
          4.4667845,
          6.120343,
          5.047371,
          5.661402,
          4.9935527,
          6.2061234,
          5.0748725,
          5.8679156,
          6.007839700000001,
          5.148120400000001,
          6.3784657,
          6.3001914,
          6.2930126,
          4.897032299999999,
          5.8986425,
          6.1578,
          7.048156,
          3.753378,
          5.0058637,
          5.87102,
          5.1874638,
          6.802680499999999,
          5.8015947,
          6.950625,
          5.8262362,
          5.3469596,
          5.2762218,
          6.2911825,
          5.543636,
          6.3478959999999995,
          2.4067632999999997,
          5.1920657,
          6.2347345,
          5.782426999999999,
          5.8232183,
          5.4416385,
          6.467939,
          5.9058523,
          6.4334335,
          6.516129,
          5.622645400000001,
          6.786134,
          4.9275025999999995,
          4.7967796,
          6.3761887999999995,
          4.716044,
          6.072396299999999,
          3.0185728,
          6.261009,
          6.175339,
          6.844261599999999,
          5.597196,
          5.661241,
          5.032541,
          6.149624299999999,
          6.15837,
          6.022864,
          5.1189876,
          5.688521,
          5.6292089999999995,
          5.16943,
          5.772263,
          4.270451,
          5.262034,
          5.9682865,
          6.4744434,
          5.418145,
          4.784468700000001,
          4.966531,
          6.493026,
          5.3856782999999995,
          5.542383,
          6.2698092,
          5.614969,
          6.166136,
          6.5883656,
          5.4185653,
          6.8471613,
          5.059882,
          5.572255999999999,
          2.583071,
          5.2988586,
          6.207814,
          6.2869209999999995,
          6.5712223,
          7.311450999999999,
          5.0536113,
          5.92523,
          5.8365593,
          6.8910884999999995,
          5.9843150000000005,
          5.284594,
          5.430473,
          5.3357773,
          5.5094129999999994,
          6.1462183,
          6.812672599999999,
          5.568671,
          6.186176000000001,
          4.362938400000001,
          4.714322,
          4.8596144,
          5.7281904,
          4.780078400000001,
          4.2910705,
          4.9984226,
          4.4285364000000005,
          5.562621,
          4.419676,
          5.5892158,
          6.129828,
          5.206561,
          6.2811174,
          5.358198000000001,
          6.013433,
          5.676183,
          5.1417836999999995,
          5.827000599999999,
          5.210582,
          6.0455666,
          6.609990600000001,
          5.3102136,
          5.3722067000000004,
          5.312728400000001,
          5.2910733,
          6.4334636,
          6.3318305,
          6.280453,
          3.5120807000000003,
          4.722548000000001,
          6.4357557,
          5.4309087,
          6.3299685,
          6.1789665000000005,
          6.487275,
          5.083696400000001,
          5.8070636,
          5.7520685,
          7.0833364,
          4.66716,
          5.5796847000000005,
          3.0693848,
          6.594048,
          5.5135093,
          6.120719,
          5.839949,
          5.364545,
          5.0948367,
          6.8578563,
          6.0032024,
          6.1731067,
          5.274334400000001,
          5.654835,
          5.8040595,
          5.020164,
          6.539643,
          5.9086823,
          6.685662299999999,
          5.528196299999999,
          5.736657599999999,
          6.659464999999999,
          6.446843599999999,
          6.1161017,
          2.4269385,
          6.1797667,
          5.7469397,
          6.956133,
          6.396283599999999,
          6.2807455,
          5.753315,
          6.209766,
          5.5780544,
          5.8851237,
          5.7313957,
          6.6409364,
          5.8874755,
          5.4285903,
          6.5010943,
          7.0418825,
          5.4304,
          5.5344777,
          6.8590800000000005,
          5.642002,
          5.651528,
          6.421975,
          5.3328767,
          3.716526,
          5.2513723,
          5.726869000000001,
          6.6332759999999995,
          3.6602282999999995,
          2.2815950000000003,
          5.021555,
          6.2099247,
          6.211377,
          6.014390000000001,
          5.522287,
          6.9462475999999995,
          4.2916627,
          5.685128700000001,
          5.3825417,
          5.657374400000001,
          5.83819,
          5.8268504,
          4.6330457
         ],
         "yaxis": "y"
        },
        {
         "alignmentgroup": "True",
         "customdata": [
          [
           "SMC",
           "Non-Neuronal",
           0.02187717
          ],
          [
           "Astro",
           "Non-Neuronal",
           0.518305
          ],
          [
           "Micro",
           "Non-Neuronal",
           0.3928562
          ],
          [
           "Oligo",
           "Non-Neuronal",
           0.33657247
          ],
          [
           "Peri",
           "Non-Neuronal",
           2.5813146000000002
          ],
          [
           "Oligo",
           "Non-Neuronal",
           3.3213220000000003
          ],
          [
           "OPC",
           "Non-Neuronal",
           1.8070084
          ],
          [
           "CR",
           "Non-Neuronal",
           1.8571247
          ],
          [
           "VLMC",
           "Non-Neuronal",
           0
          ],
          [
           "Oligo",
           "Non-Neuronal",
           0.89665496
          ],
          [
           "VLMC",
           "Non-Neuronal",
           1.2214931999999998
          ],
          [
           "PVM",
           "Non-Neuronal",
           1.7989362000000002
          ],
          [
           "Astro",
           "Non-Neuronal",
           0.113035865
          ],
          [
           "OPC",
           "Non-Neuronal",
           1.9316357
          ],
          [
           "Oligo",
           "Non-Neuronal",
           0.6401216
          ],
          [
           "Oligo",
           "Non-Neuronal",
           2.9676087000000004
          ],
          [
           "Endo",
           "Non-Neuronal",
           8.635946
          ],
          [
           "Oligo",
           "Non-Neuronal",
           1.688192
          ],
          [
           "SMC",
           "Non-Neuronal",
           0.42509028
          ],
          [
           "Micro",
           "Non-Neuronal",
           0.5686767
          ],
          [
           "Oligo",
           "Non-Neuronal",
           0
          ],
          [
           "Oligo",
           "Non-Neuronal",
           4.4805517
          ],
          [
           "VLMC",
           "Non-Neuronal",
           1.2228909
          ],
          [
           "Endo",
           "Non-Neuronal",
           6.888949
          ]
         ],
         "hovertemplate": "<b>%{hovertext}</b><br><br>Cell_Type=%{customdata[1]}<br>higher_cluster=%{customdata[0]}<br>Expression=%{customdata[2]}<extra></extra>",
         "hovertext": [
          "372_SMC",
          "356_Astro",
          "378_Micro",
          "368_Oligo",
          "371_Peri",
          "363_Oligo",
          "359_OPC",
          "1_CR",
          "376_VLMC",
          "361_Oligo",
          "374_VLMC",
          "379_PVM",
          "358_Astro",
          "360_OPC",
          "366_Oligo",
          "364_Oligo",
          "369_Endo",
          "367_Oligo",
          "373_SMC",
          "377_Micro",
          "362_Oligo",
          "365_Oligo",
          "375_VLMC",
          "370_Endo"
         ],
         "legendgroup": "Non-Neuronal",
         "marker": {
          "color": "#00cc96"
         },
         "name": "Non-Neuronal",
         "offsetgroup": "Non-Neuronal",
         "orientation": "v",
         "showlegend": true,
         "textposition": "auto",
         "type": "bar",
         "x": [
          "SMC",
          "Astro",
          "Micro",
          "Oligo",
          "Peri",
          "Oligo",
          "OPC",
          "CR",
          "VLMC",
          "Oligo",
          "VLMC",
          "PVM",
          "Astro",
          "OPC",
          "Oligo",
          "Oligo",
          "Endo",
          "Oligo",
          "SMC",
          "Micro",
          "Oligo",
          "Oligo",
          "VLMC",
          "Endo"
         ],
         "xaxis": "x",
         "y": [
          0.02187717,
          0.518305,
          0.3928562,
          0.33657247,
          2.5813146000000002,
          3.3213220000000003,
          1.8070084,
          1.8571247,
          0,
          0.89665496,
          1.2214931999999998,
          1.7989362000000002,
          0.113035865,
          1.9316357,
          0.6401216,
          2.9676087000000004,
          8.635946,
          1.688192,
          0.42509028,
          0.5686767,
          0,
          4.4805517,
          1.2228909,
          6.888949
         ],
         "yaxis": "y"
        },
        {
         "alignmentgroup": "True",
         "customdata": [
          [
           "Ndnf HPF",
           "Unknown",
           2.3484254
          ],
          [
           "Ndnf HPF",
           "Unknown",
           4.864262
          ],
          [
           "NP PPP",
           "Unknown",
           5.432983999999999
          ],
          [
           "",
           "Unknown",
           1.9158291
          ],
          [
           "V3d",
           "Unknown",
           0
          ],
          [
           "NP PPP",
           "Unknown",
           6.2722483
          ],
          [
           "NP PPP",
           "Unknown",
           5.8966637
          ],
          [
           "Ndnf HPF",
           "Unknown",
           4.59472
          ],
          [
           "Ndnf HPF",
           "Unknown",
           4.195772
          ],
          [
           "Ndnf HPF",
           "Unknown",
           4.523839
          ]
         ],
         "hovertemplate": "<b>%{hovertext}</b><br><br>Cell_Type=%{customdata[1]}<br>higher_cluster=%{customdata[0]}<br>Expression=%{customdata[2]}<extra></extra>",
         "hovertext": [
          "22_Ndnf HPF",
          "23_Ndnf HPF",
          "353_NP PPP",
          null,
          "355_V3d",
          "352_NP PPP",
          "354_NP PPP",
          "20_Ndnf HPF",
          "21_Ndnf HPF",
          "24_Ndnf HPF"
         ],
         "legendgroup": "Unknown",
         "marker": {
          "color": "#ab63fa"
         },
         "name": "Unknown",
         "offsetgroup": "Unknown",
         "orientation": "v",
         "showlegend": true,
         "textposition": "auto",
         "type": "bar",
         "x": [
          "Ndnf HPF",
          "Ndnf HPF",
          "NP PPP",
          "",
          "V3d",
          "NP PPP",
          "NP PPP",
          "Ndnf HPF",
          "Ndnf HPF",
          "Ndnf HPF"
         ],
         "xaxis": "x",
         "y": [
          2.3484254,
          4.864262,
          5.432983999999999,
          1.9158291,
          0,
          6.2722483,
          5.8966637,
          4.59472,
          4.195772,
          4.523839
         ],
         "yaxis": "y"
        }
       ],
       "layout": {
        "barmode": "relative",
        "height": 600,
        "legend": {
         "title": {
          "text": "Cell_Type"
         },
         "tracegroupgap": 0
        },
        "margin": {
         "t": 60
        },
        "template": {
         "data": {
          "bar": [
           {
            "error_x": {
             "color": "#2a3f5f"
            },
            "error_y": {
             "color": "#2a3f5f"
            },
            "marker": {
             "line": {
              "color": "#E5ECF6",
              "width": 0.5
             }
            },
            "type": "bar"
           }
          ],
          "barpolar": [
           {
            "marker": {
             "line": {
              "color": "#E5ECF6",
              "width": 0.5
             }
            },
            "type": "barpolar"
           }
          ],
          "carpet": [
           {
            "aaxis": {
             "endlinecolor": "#2a3f5f",
             "gridcolor": "white",
             "linecolor": "white",
             "minorgridcolor": "white",
             "startlinecolor": "#2a3f5f"
            },
            "baxis": {
             "endlinecolor": "#2a3f5f",
             "gridcolor": "white",
             "linecolor": "white",
             "minorgridcolor": "white",
             "startlinecolor": "#2a3f5f"
            },
            "type": "carpet"
           }
          ],
          "choropleth": [
           {
            "colorbar": {
             "outlinewidth": 0,
             "ticks": ""
            },
            "type": "choropleth"
           }
          ],
          "contour": [
           {
            "colorbar": {
             "outlinewidth": 0,
             "ticks": ""
            },
            "colorscale": [
             [
              0,
              "#0d0887"
             ],
             [
              0.1111111111111111,
              "#46039f"
             ],
             [
              0.2222222222222222,
              "#7201a8"
             ],
             [
              0.3333333333333333,
              "#9c179e"
             ],
             [
              0.4444444444444444,
              "#bd3786"
             ],
             [
              0.5555555555555556,
              "#d8576b"
             ],
             [
              0.6666666666666666,
              "#ed7953"
             ],
             [
              0.7777777777777778,
              "#fb9f3a"
             ],
             [
              0.8888888888888888,
              "#fdca26"
             ],
             [
              1,
              "#f0f921"
             ]
            ],
            "type": "contour"
           }
          ],
          "contourcarpet": [
           {
            "colorbar": {
             "outlinewidth": 0,
             "ticks": ""
            },
            "type": "contourcarpet"
           }
          ],
          "heatmap": [
           {
            "colorbar": {
             "outlinewidth": 0,
             "ticks": ""
            },
            "colorscale": [
             [
              0,
              "#0d0887"
             ],
             [
              0.1111111111111111,
              "#46039f"
             ],
             [
              0.2222222222222222,
              "#7201a8"
             ],
             [
              0.3333333333333333,
              "#9c179e"
             ],
             [
              0.4444444444444444,
              "#bd3786"
             ],
             [
              0.5555555555555556,
              "#d8576b"
             ],
             [
              0.6666666666666666,
              "#ed7953"
             ],
             [
              0.7777777777777778,
              "#fb9f3a"
             ],
             [
              0.8888888888888888,
              "#fdca26"
             ],
             [
              1,
              "#f0f921"
             ]
            ],
            "type": "heatmap"
           }
          ],
          "heatmapgl": [
           {
            "colorbar": {
             "outlinewidth": 0,
             "ticks": ""
            },
            "colorscale": [
             [
              0,
              "#0d0887"
             ],
             [
              0.1111111111111111,
              "#46039f"
             ],
             [
              0.2222222222222222,
              "#7201a8"
             ],
             [
              0.3333333333333333,
              "#9c179e"
             ],
             [
              0.4444444444444444,
              "#bd3786"
             ],
             [
              0.5555555555555556,
              "#d8576b"
             ],
             [
              0.6666666666666666,
              "#ed7953"
             ],
             [
              0.7777777777777778,
              "#fb9f3a"
             ],
             [
              0.8888888888888888,
              "#fdca26"
             ],
             [
              1,
              "#f0f921"
             ]
            ],
            "type": "heatmapgl"
           }
          ],
          "histogram": [
           {
            "marker": {
             "colorbar": {
              "outlinewidth": 0,
              "ticks": ""
             }
            },
            "type": "histogram"
           }
          ],
          "histogram2d": [
           {
            "colorbar": {
             "outlinewidth": 0,
             "ticks": ""
            },
            "colorscale": [
             [
              0,
              "#0d0887"
             ],
             [
              0.1111111111111111,
              "#46039f"
             ],
             [
              0.2222222222222222,
              "#7201a8"
             ],
             [
              0.3333333333333333,
              "#9c179e"
             ],
             [
              0.4444444444444444,
              "#bd3786"
             ],
             [
              0.5555555555555556,
              "#d8576b"
             ],
             [
              0.6666666666666666,
              "#ed7953"
             ],
             [
              0.7777777777777778,
              "#fb9f3a"
             ],
             [
              0.8888888888888888,
              "#fdca26"
             ],
             [
              1,
              "#f0f921"
             ]
            ],
            "type": "histogram2d"
           }
          ],
          "histogram2dcontour": [
           {
            "colorbar": {
             "outlinewidth": 0,
             "ticks": ""
            },
            "colorscale": [
             [
              0,
              "#0d0887"
             ],
             [
              0.1111111111111111,
              "#46039f"
             ],
             [
              0.2222222222222222,
              "#7201a8"
             ],
             [
              0.3333333333333333,
              "#9c179e"
             ],
             [
              0.4444444444444444,
              "#bd3786"
             ],
             [
              0.5555555555555556,
              "#d8576b"
             ],
             [
              0.6666666666666666,
              "#ed7953"
             ],
             [
              0.7777777777777778,
              "#fb9f3a"
             ],
             [
              0.8888888888888888,
              "#fdca26"
             ],
             [
              1,
              "#f0f921"
             ]
            ],
            "type": "histogram2dcontour"
           }
          ],
          "mesh3d": [
           {
            "colorbar": {
             "outlinewidth": 0,
             "ticks": ""
            },
            "type": "mesh3d"
           }
          ],
          "parcoords": [
           {
            "line": {
             "colorbar": {
              "outlinewidth": 0,
              "ticks": ""
             }
            },
            "type": "parcoords"
           }
          ],
          "pie": [
           {
            "automargin": true,
            "type": "pie"
           }
          ],
          "scatter": [
           {
            "marker": {
             "colorbar": {
              "outlinewidth": 0,
              "ticks": ""
             }
            },
            "type": "scatter"
           }
          ],
          "scatter3d": [
           {
            "line": {
             "colorbar": {
              "outlinewidth": 0,
              "ticks": ""
             }
            },
            "marker": {
             "colorbar": {
              "outlinewidth": 0,
              "ticks": ""
             }
            },
            "type": "scatter3d"
           }
          ],
          "scattercarpet": [
           {
            "marker": {
             "colorbar": {
              "outlinewidth": 0,
              "ticks": ""
             }
            },
            "type": "scattercarpet"
           }
          ],
          "scattergeo": [
           {
            "marker": {
             "colorbar": {
              "outlinewidth": 0,
              "ticks": ""
             }
            },
            "type": "scattergeo"
           }
          ],
          "scattergl": [
           {
            "marker": {
             "colorbar": {
              "outlinewidth": 0,
              "ticks": ""
             }
            },
            "type": "scattergl"
           }
          ],
          "scattermapbox": [
           {
            "marker": {
             "colorbar": {
              "outlinewidth": 0,
              "ticks": ""
             }
            },
            "type": "scattermapbox"
           }
          ],
          "scatterpolar": [
           {
            "marker": {
             "colorbar": {
              "outlinewidth": 0,
              "ticks": ""
             }
            },
            "type": "scatterpolar"
           }
          ],
          "scatterpolargl": [
           {
            "marker": {
             "colorbar": {
              "outlinewidth": 0,
              "ticks": ""
             }
            },
            "type": "scatterpolargl"
           }
          ],
          "scatterternary": [
           {
            "marker": {
             "colorbar": {
              "outlinewidth": 0,
              "ticks": ""
             }
            },
            "type": "scatterternary"
           }
          ],
          "surface": [
           {
            "colorbar": {
             "outlinewidth": 0,
             "ticks": ""
            },
            "colorscale": [
             [
              0,
              "#0d0887"
             ],
             [
              0.1111111111111111,
              "#46039f"
             ],
             [
              0.2222222222222222,
              "#7201a8"
             ],
             [
              0.3333333333333333,
              "#9c179e"
             ],
             [
              0.4444444444444444,
              "#bd3786"
             ],
             [
              0.5555555555555556,
              "#d8576b"
             ],
             [
              0.6666666666666666,
              "#ed7953"
             ],
             [
              0.7777777777777778,
              "#fb9f3a"
             ],
             [
              0.8888888888888888,
              "#fdca26"
             ],
             [
              1,
              "#f0f921"
             ]
            ],
            "type": "surface"
           }
          ],
          "table": [
           {
            "cells": {
             "fill": {
              "color": "#EBF0F8"
             },
             "line": {
              "color": "white"
             }
            },
            "header": {
             "fill": {
              "color": "#C8D4E3"
             },
             "line": {
              "color": "white"
             }
            },
            "type": "table"
           }
          ]
         },
         "layout": {
          "annotationdefaults": {
           "arrowcolor": "#2a3f5f",
           "arrowhead": 0,
           "arrowwidth": 1
          },
          "coloraxis": {
           "colorbar": {
            "outlinewidth": 0,
            "ticks": ""
           }
          },
          "colorscale": {
           "diverging": [
            [
             0,
             "#8e0152"
            ],
            [
             0.1,
             "#c51b7d"
            ],
            [
             0.2,
             "#de77ae"
            ],
            [
             0.3,
             "#f1b6da"
            ],
            [
             0.4,
             "#fde0ef"
            ],
            [
             0.5,
             "#f7f7f7"
            ],
            [
             0.6,
             "#e6f5d0"
            ],
            [
             0.7,
             "#b8e186"
            ],
            [
             0.8,
             "#7fbc41"
            ],
            [
             0.9,
             "#4d9221"
            ],
            [
             1,
             "#276419"
            ]
           ],
           "sequential": [
            [
             0,
             "#0d0887"
            ],
            [
             0.1111111111111111,
             "#46039f"
            ],
            [
             0.2222222222222222,
             "#7201a8"
            ],
            [
             0.3333333333333333,
             "#9c179e"
            ],
            [
             0.4444444444444444,
             "#bd3786"
            ],
            [
             0.5555555555555556,
             "#d8576b"
            ],
            [
             0.6666666666666666,
             "#ed7953"
            ],
            [
             0.7777777777777778,
             "#fb9f3a"
            ],
            [
             0.8888888888888888,
             "#fdca26"
            ],
            [
             1,
             "#f0f921"
            ]
           ],
           "sequentialminus": [
            [
             0,
             "#0d0887"
            ],
            [
             0.1111111111111111,
             "#46039f"
            ],
            [
             0.2222222222222222,
             "#7201a8"
            ],
            [
             0.3333333333333333,
             "#9c179e"
            ],
            [
             0.4444444444444444,
             "#bd3786"
            ],
            [
             0.5555555555555556,
             "#d8576b"
            ],
            [
             0.6666666666666666,
             "#ed7953"
            ],
            [
             0.7777777777777778,
             "#fb9f3a"
            ],
            [
             0.8888888888888888,
             "#fdca26"
            ],
            [
             1,
             "#f0f921"
            ]
           ]
          },
          "colorway": [
           "#636efa",
           "#EF553B",
           "#00cc96",
           "#ab63fa",
           "#FFA15A",
           "#19d3f3",
           "#FF6692",
           "#B6E880",
           "#FF97FF",
           "#FECB52"
          ],
          "font": {
           "color": "#2a3f5f"
          },
          "geo": {
           "bgcolor": "white",
           "lakecolor": "white",
           "landcolor": "#E5ECF6",
           "showlakes": true,
           "showland": true,
           "subunitcolor": "white"
          },
          "hoverlabel": {
           "align": "left"
          },
          "hovermode": "closest",
          "mapbox": {
           "style": "light"
          },
          "paper_bgcolor": "white",
          "plot_bgcolor": "#E5ECF6",
          "polar": {
           "angularaxis": {
            "gridcolor": "white",
            "linecolor": "white",
            "ticks": ""
           },
           "bgcolor": "#E5ECF6",
           "radialaxis": {
            "gridcolor": "white",
            "linecolor": "white",
            "ticks": ""
           }
          },
          "scene": {
           "xaxis": {
            "backgroundcolor": "#E5ECF6",
            "gridcolor": "white",
            "gridwidth": 2,
            "linecolor": "white",
            "showbackground": true,
            "ticks": "",
            "zerolinecolor": "white"
           },
           "yaxis": {
            "backgroundcolor": "#E5ECF6",
            "gridcolor": "white",
            "gridwidth": 2,
            "linecolor": "white",
            "showbackground": true,
            "ticks": "",
            "zerolinecolor": "white"
           },
           "zaxis": {
            "backgroundcolor": "#E5ECF6",
            "gridcolor": "white",
            "gridwidth": 2,
            "linecolor": "white",
            "showbackground": true,
            "ticks": "",
            "zerolinecolor": "white"
           }
          },
          "shapedefaults": {
           "line": {
            "color": "#2a3f5f"
           }
          },
          "ternary": {
           "aaxis": {
            "gridcolor": "white",
            "linecolor": "white",
            "ticks": ""
           },
           "baxis": {
            "gridcolor": "white",
            "linecolor": "white",
            "ticks": ""
           },
           "bgcolor": "#E5ECF6",
           "caxis": {
            "gridcolor": "white",
            "linecolor": "white",
            "ticks": ""
           }
          },
          "title": {
           "x": 0.05
          },
          "xaxis": {
           "automargin": true,
           "gridcolor": "white",
           "linecolor": "white",
           "ticks": "",
           "title": {
            "standoff": 15
           },
           "zerolinecolor": "white",
           "zerolinewidth": 2
          },
          "yaxis": {
           "automargin": true,
           "gridcolor": "white",
           "linecolor": "white",
           "ticks": "",
           "title": {
            "standoff": 15
           },
           "zerolinecolor": "white",
           "zerolinewidth": 2
          }
         }
        },
        "title": {
         "text": "Rapgef2: Adult mouse, Single Cell, Allen Transcriptomics"
        },
        "width": 1000,
        "xaxis": {
         "anchor": "y",
         "categoryorder": "total descending",
         "domain": [
          0,
          1
         ],
         "title": {
          "text": "Cell Type"
         }
        },
        "yaxis": {
         "anchor": "x",
         "domain": [
          0,
          1
         ],
         "title": {
          "text": "Expression"
         }
        }
       }
      },
      "text/html": [
       "<div>\n",
       "        \n",
       "        \n",
       "            <div id=\"000189f3-68a1-46d4-bd68-683f9415edcf\" class=\"plotly-graph-div\" style=\"height:600px; width:1000px;\"></div>\n",
       "            <script type=\"text/javascript\">\n",
       "                require([\"plotly\"], function(Plotly) {\n",
       "                    window.PLOTLYENV=window.PLOTLYENV || {};\n",
       "                    \n",
       "                if (document.getElementById(\"000189f3-68a1-46d4-bd68-683f9415edcf\")) {\n",
       "                    Plotly.newPlot(\n",
       "                        '000189f3-68a1-46d4-bd68-683f9415edcf',\n",
       "                        [{\"alignmentgroup\": \"True\", \"customdata\": [[\"Pvalb\", \"Inhibitory\", 4.6966795999999995], [\"Sst\", \"Inhibitory\", 5.953242299999999], [\"Lamp5 Lhx6\", \"Inhibitory\", 2.46774], [\"Pvalb\", \"Inhibitory\", 4.665625599999999], [\"Pvalb\", \"Inhibitory\", 4.313212999999999], [\"Vip\", \"Inhibitory\", 2.8062669999999996], [\"Sst\", \"Inhibitory\", 5.4820437], [\"Lamp5\", \"Inhibitory\", 4.7944202], [\"Sst\", \"Inhibitory\", 4.721729799999999], [\"Lamp5 Lhx6\", \"Inhibitory\", 1.7461456999999998], [\"Sst\", \"Inhibitory\", 5.8911443], [\"Sncg\", \"Inhibitory\", 5.0404024000000005], [\"Pvalb Vipr2\", \"Inhibitory\", 3.9215063999999997], [\"Sst\", \"Inhibitory\", 4.672850599999999], [\"Sst\", \"Inhibitory\", 4.387013], [\"Sst\", \"Inhibitory\", 5.585970400000001], [\"Sst\", \"Inhibitory\", 5.7357087], [\"Vip\", \"Inhibitory\", 4.973205999999999], [\"Lamp5 Lhx6\", \"Inhibitory\", 2.43014], [\"Sst\", \"Inhibitory\", 4.547855], [\"Pvalb\", \"Inhibitory\", 4.843203], [\"Vip\", \"Inhibitory\", 2.6695116000000003], [\"Lamp5\", \"Inhibitory\", 4.9371795999999994], [\"Vip\", \"Inhibitory\", 2.0897818], [\"Sncg\", \"Inhibitory\", 3.928611], [\"Sncg\", \"Inhibitory\", 4.543232], [\"Sst\", \"Inhibitory\", 4.739006], [\"Vip\", \"Inhibitory\", 2.3468566], [\"Sncg\", \"Inhibitory\", 4.8091607000000005], [\"Lamp5\", \"Inhibitory\", 2.6637310000000003], [\"Sncg\", \"Inhibitory\", 4.1420417], [\"Sst\", \"Inhibitory\", 5.738788], [\"Lamp5\", \"Inhibitory\", 5.027264], [\"Sncg\", \"Inhibitory\", 5.0725803], [\"Lamp5\", \"Inhibitory\", 5.140037], [\"Lamp5\", \"Inhibitory\", 4.9306865], [\"Pvalb\", \"Inhibitory\", 4.699362799999999], [\"Pvalb\", \"Inhibitory\", 3.9099607000000005], [\"Sst Chodl\", \"Inhibitory\", 4.546005], [\"Sst\", \"Inhibitory\", 5.5503902], [\"Pvalb\", \"Inhibitory\", 4.1943445], [\"Meis2\", \"Inhibitory\", 2.921956], [\"Sncg\", \"Inhibitory\", 3.8996599], [\"Vip\", \"Inhibitory\", 5.1659690000000005], [\"Vip\", \"Inhibitory\", 2.713384], [\"Sncg\", \"Inhibitory\", 4.7400923], [\"Sst\", \"Inhibitory\", 5.577715400000001], [\"Pvalb\", \"Inhibitory\", 5.275411], [\"Sst\", \"Inhibitory\", 4.687515], [\"Pvalb\", \"Inhibitory\", 4.577019], [\"Lamp5\", \"Inhibitory\", 5.028757], [\"Vip\", \"Inhibitory\", 1.3590378], [\"Sst\", \"Inhibitory\", 5.8739550000000005], [\"Vip\", \"Inhibitory\", 2.318373], [\"Sst\", \"Inhibitory\", 5.513267], [\"Vip\", \"Inhibitory\", 2.7013655], [\"Sst\", \"Inhibitory\", 4.351694599999999], [\"Sst\", \"Inhibitory\", 5.984852], [\"Lamp5\", \"Inhibitory\", 2.3847362999999997], [\"Sncg\", \"Inhibitory\", 5.068281], [\"Sst\", \"Inhibitory\", 5.571569], [\"Sst\", \"Inhibitory\", 4.8659887], [\"Lamp5\", \"Inhibitory\", 4.459043], [\"Sncg\", \"Inhibitory\", 3.341025], [\"Sst\", \"Inhibitory\", 4.594648], [\"Sst\", \"Inhibitory\", 5.0383463], [\"Sst\", \"Inhibitory\", 5.657596], [\"Sst\", \"Inhibitory\", 4.6710763], [\"Sst\", \"Inhibitory\", 5.310309999999999], [\"Sst\", \"Inhibitory\", 4.837817], [\"Sncg\", \"Inhibitory\", 4.7734933], [\"Sncg\", \"Inhibitory\", 4.1637797], [\"Sst\", \"Inhibitory\", 5.090715], [\"Sst\", \"Inhibitory\", 3.9951413000000002], [\"Sncg\", \"Inhibitory\", 2.3113217], [\"Sst\", \"Inhibitory\", 5.688936], [\"Sst Chodl\", \"Inhibitory\", 5.698872], [\"Sst\", \"Inhibitory\", 5.688322], [\"Vip\", \"Inhibitory\", 2.2088432], [\"Pvalb\", \"Inhibitory\", 4.998747], [\"Lamp5 Lhx6\", \"Inhibitory\", 2.2454419999999997], [\"Vip\", \"Inhibitory\", 4.036437], [\"Lamp5\", \"Inhibitory\", 4.8153877], [\"Vip\", \"Inhibitory\", 2.7156773], [\"Sst Chodl\", \"Inhibitory\", 4.395576], [\"Sst\", \"Inhibitory\", 5.0544415], [\"Vip\", \"Inhibitory\", 2.4297272999999997], [\"Sst\", \"Inhibitory\", 5.632029], [\"Sst\", \"Inhibitory\", 4.5952525], [\"Vip\", \"Inhibitory\", 2.6285496], [\"Vip\", \"Inhibitory\", 3.1025019], [\"Pvalb\", \"Inhibitory\", 4.4559736], [\"Sncg\", \"Inhibitory\", 4.369318499999999], [\"Pvalb\", \"Inhibitory\", 4.849394], [\"Sst Chodl\", \"Inhibitory\", 4.874755], [\"Sst\", \"Inhibitory\", 5.8330283], [\"Vip\", \"Inhibitory\", 1.9811323], [\"Sst\", \"Inhibitory\", 4.2697353], [\"Pvalb\", \"Inhibitory\", 5.1705666], [\"Vip\", \"Inhibitory\", 2.0931356], [\"Lamp5\", \"Inhibitory\", 4.3261676], [\"Sst\", \"Inhibitory\", 5.4875684], [\"Vip\", \"Inhibitory\", 4.798344999999999], [\"Sst\", \"Inhibitory\", 5.5808444], [\"Sst\", \"Inhibitory\", 5.83122], [\"Sst\", \"Inhibitory\", 4.1489053], [\"Sst\", \"Inhibitory\", 5.673822400000001], [\"Vip\", \"Inhibitory\", 2.956829]], \"hovertemplate\": \"<b>%{hovertext}</b><br><br>Cell_Type=%{customdata[1]}<br>higher_cluster=%{customdata[0]}<br>Expression=%{customdata[2]}<extra></extra>\", \"hovertext\": [\"108_Pvalb\", \"67_Sst\", \"6_Lamp5 Lhx6\", \"111_Pvalb\", \"117_Pvalb\", \"59_Vip\", \"66_Sst\", \"13_Lamp5\", \"86_Sst\", \"4_Lamp5 Lhx6\", \"65_Sst\", \"32_Sncg\", \"119_Pvalb Vipr2\", \"75_Sst\", \"71_Sst\", \"84_Sst\", \"80_Sst\", \"46_Vip\", \"3_Lamp5 Lhx6\", \"85_Sst\", \"114_Pvalb\", \"58_Vip\", \"11_Lamp5\", \"52_Vip\", \"31_Sncg\", \"35_Sncg\", \"100_Sst\", \"43_Vip\", \"29_Sncg\", \"14_Lamp5\", \"37_Sncg\", \"83_Sst\", \"12_Lamp5\", \"27_Sncg\", \"15_Lamp5\", \"39_Lamp5\", \"115_Pvalb\", \"105_Pvalb\", \"61_Sst Chodl\", \"68_Sst\", \"107_Pvalb\", \"2_Meis2\", \"30_Sncg\", \"41_Vip\", \"54_Vip\", \"36_Sncg\", \"76_Sst\", \"116_Pvalb\", \"96_Sst\", \"110_Pvalb\", \"10_Lamp5\", \"57_Vip\", \"94_Sst\", \"40_Vip\", \"74_Sst\", \"45_Vip\", \"87_Sst\", \"82_Sst\", \"8_Lamp5\", \"26_Sncg\", \"95_Sst\", \"98_Sst\", \"9_Lamp5\", \"38_Sncg\", \"102_Sst\", \"70_Sst\", \"79_Sst\", \"88_Sst\", \"101_Sst\", \"103_Sst\", \"25_Sncg\", \"33_Sncg\", \"78_Sst\", \"97_Sst\", \"28_Sncg\", \"93_Sst\", \"60_Sst Chodl\", \"69_Sst\", \"44_Vip\", \"109_Pvalb\", \"5_Lamp5 Lhx6\", \"49_Vip\", \"16_Lamp5\", \"55_Vip\", \"63_Sst Chodl\", \"73_Sst\", \"47_Vip\", \"91_Sst\", \"89_Sst\", \"42_Vip\", \"51_Vip\", \"106_Pvalb\", \"34_Sncg\", \"113_Pvalb\", \"62_Sst Chodl\", \"64_Sst\", \"48_Vip\", \"92_Sst\", \"112_Pvalb\", \"53_Vip\", \"7_Lamp5\", \"90_Sst\", \"56_Vip\", \"77_Sst\", \"81_Sst\", \"99_Sst\", \"72_Sst\", \"50_Vip\"], \"legendgroup\": \"Inhibitory\", \"marker\": {\"color\": \"#636efa\"}, \"name\": \"Inhibitory\", \"offsetgroup\": \"Inhibitory\", \"orientation\": \"v\", \"showlegend\": true, \"textposition\": \"auto\", \"type\": \"bar\", \"x\": [\"Pvalb\", \"Sst\", \"Lamp5 Lhx6\", \"Pvalb\", \"Pvalb\", \"Vip\", \"Sst\", \"Lamp5\", \"Sst\", \"Lamp5 Lhx6\", \"Sst\", \"Sncg\", \"Pvalb Vipr2\", \"Sst\", \"Sst\", \"Sst\", \"Sst\", \"Vip\", \"Lamp5 Lhx6\", \"Sst\", \"Pvalb\", \"Vip\", \"Lamp5\", \"Vip\", \"Sncg\", \"Sncg\", \"Sst\", \"Vip\", \"Sncg\", \"Lamp5\", \"Sncg\", \"Sst\", \"Lamp5\", \"Sncg\", \"Lamp5\", \"Lamp5\", \"Pvalb\", \"Pvalb\", \"Sst Chodl\", \"Sst\", \"Pvalb\", \"Meis2\", \"Sncg\", \"Vip\", \"Vip\", \"Sncg\", \"Sst\", \"Pvalb\", \"Sst\", \"Pvalb\", \"Lamp5\", \"Vip\", \"Sst\", \"Vip\", \"Sst\", \"Vip\", \"Sst\", \"Sst\", \"Lamp5\", \"Sncg\", \"Sst\", \"Sst\", \"Lamp5\", \"Sncg\", \"Sst\", \"Sst\", \"Sst\", \"Sst\", \"Sst\", \"Sst\", \"Sncg\", \"Sncg\", \"Sst\", \"Sst\", \"Sncg\", \"Sst\", \"Sst Chodl\", \"Sst\", \"Vip\", \"Pvalb\", \"Lamp5 Lhx6\", \"Vip\", \"Lamp5\", \"Vip\", \"Sst Chodl\", \"Sst\", \"Vip\", \"Sst\", \"Sst\", \"Vip\", \"Vip\", \"Pvalb\", \"Sncg\", \"Pvalb\", \"Sst Chodl\", \"Sst\", \"Vip\", \"Sst\", \"Pvalb\", \"Vip\", \"Lamp5\", \"Sst\", \"Vip\", \"Sst\", \"Sst\", \"Sst\", \"Sst\", \"Vip\"], \"xaxis\": \"x\", \"y\": [4.6966795999999995, 5.953242299999999, 2.46774, 4.665625599999999, 4.313212999999999, 2.8062669999999996, 5.4820437, 4.7944202, 4.721729799999999, 1.7461456999999998, 5.8911443, 5.0404024000000005, 3.9215063999999997, 4.672850599999999, 4.387013, 5.585970400000001, 5.7357087, 4.973205999999999, 2.43014, 4.547855, 4.843203, 2.6695116000000003, 4.9371795999999994, 2.0897818, 3.928611, 4.543232, 4.739006, 2.3468566, 4.8091607000000005, 2.6637310000000003, 4.1420417, 5.738788, 5.027264, 5.0725803, 5.140037, 4.9306865, 4.699362799999999, 3.9099607000000005, 4.546005, 5.5503902, 4.1943445, 2.921956, 3.8996599, 5.1659690000000005, 2.713384, 4.7400923, 5.577715400000001, 5.275411, 4.687515, 4.577019, 5.028757, 1.3590378, 5.8739550000000005, 2.318373, 5.513267, 2.7013655, 4.351694599999999, 5.984852, 2.3847362999999997, 5.068281, 5.571569, 4.8659887, 4.459043, 3.341025, 4.594648, 5.0383463, 5.657596, 4.6710763, 5.310309999999999, 4.837817, 4.7734933, 4.1637797, 5.090715, 3.9951413000000002, 2.3113217, 5.688936, 5.698872, 5.688322, 2.2088432, 4.998747, 2.2454419999999997, 4.036437, 4.8153877, 2.7156773, 4.395576, 5.0544415, 2.4297272999999997, 5.632029, 4.5952525, 2.6285496, 3.1025019, 4.4559736, 4.369318499999999, 4.849394, 4.874755, 5.8330283, 1.9811323, 4.2697353, 5.1705666, 2.0931356, 4.3261676, 5.4875684, 4.798344999999999, 5.5808444, 5.83122, 4.1489053, 5.673822400000001, 2.956829], \"yaxis\": \"y\"}, {\"alignmentgroup\": \"True\", \"customdata\": [[\"L6 IT CTX\", \"Excitatory\", 2.6759217], [\"CA3\", \"Excitatory\", 6.243418], [\"L6 CT CTX\", \"Excitatory\", 5.5523242999999995], [\"Pax6\", \"Excitatory\", 5.4418635], [\"L6 Car3\", \"Excitatory\", 5.086158], [\"CA1\", \"Excitatory\", 6.4654169999999995], [\"L6 IT CTX\", \"Excitatory\", 5.375281299999999], [\"L6 IT CTX\", \"Excitatory\", 6.3067236], [\"L6b/CT ENT\", \"Excitatory\", 5.9865127000000005], [\"L5 IT TPE-ENT\", \"Excitatory\", 5.762633], [\"SUB-ProS\", \"Excitatory\", 5.465733], [\"CA3\", \"Excitatory\", 7.204391499999999], [\"L6 IT CTX\", \"Excitatory\", 5.944362], [\"L2 IT RSPv\", \"Excitatory\", 6.6436996], [\"L5/6 IT CTX\", \"Excitatory\", 5.509567700000001], [\"L5 NP CTX\", \"Excitatory\", 4.5595193], [\"L6b/CT ENT\", \"Excitatory\", 5.6129489999999995], [\"L6b CTX\", \"Excitatory\", 4.3967404000000005], [\"L3 IT ENTm\", \"Excitatory\", 5.644229], [\"L6 CT CTX\", \"Excitatory\", 5.175231500000001], [\"L2/3 IT CTX\", \"Excitatory\", 4.4667845], [\"L5 PT CTX\", \"Excitatory\", 6.120343], [\"L3 RSP-ACA\", \"Excitatory\", 5.047371], [\"L6 CT CTX\", \"Excitatory\", 5.661402], [\"L2/3 IT ENTl\", \"Excitatory\", 4.9935527], [\"ProS\", \"Excitatory\", 6.2061234], [\"L6 CT CTX\", \"Excitatory\", 5.0748725], [\"L2/3 IT CTX\", \"Excitatory\", 5.8679156], [\"L5 PT CTX\", \"Excitatory\", 6.007839700000001], [\"L6b CTX\", \"Excitatory\", 5.148120400000001], [\"L2/3 IT PPP\", \"Excitatory\", 6.3784657], [\"L2/3 IT TPE\", \"Excitatory\", 6.3001914], [\"L6 IT CTX\", \"Excitatory\", 6.2930126], [\"L5 PT CTX\", \"Excitatory\", 4.897032299999999], [\"CA1\", \"Excitatory\", 5.8986425], [\"L2/3 IT CTX\", \"Excitatory\", 6.1578], [\"CA3\", \"Excitatory\", 7.048156], [\"L5 NP CTX\", \"Excitatory\", 3.753378], [\"Pax6\", \"Excitatory\", 5.0058637], [\"CA1-ProS\", \"Excitatory\", 5.87102], [\"NP SUB\", \"Excitatory\", 5.1874638], [\"L6 IT CTX\", \"Excitatory\", 6.802680499999999], [\"L6 CT CTX\", \"Excitatory\", 5.8015947], [\"L6 CT ENTm\", \"Excitatory\", 6.950625], [\"CA1-ProS\", \"Excitatory\", 5.8262362], [\"L6 CT CTX\", \"Excitatory\", 5.3469596], [\"CA1-ProS\", \"Excitatory\", 5.2762218], [\"L2/3 IT CTX\", \"Excitatory\", 6.2911825], [\"Pax6\", \"Excitatory\", 5.543636], [\"L6 IT CTX\", \"Excitatory\", 6.3478959999999995], [\"L6 CT CTX\", \"Excitatory\", 2.4067632999999997], [\"L5 PT CTX\", \"Excitatory\", 5.1920657], [\"L2/3 IT ENTl\", \"Excitatory\", 6.2347345], [\"CT SUB\", \"Excitatory\", 5.782426999999999], [\"SUB\", \"Excitatory\", 5.8232183], [\"L5 IT CTX\", \"Excitatory\", 5.4416385], [\"CA1\", \"Excitatory\", 6.467939], [\"L2/3 IT PPP\", \"Excitatory\", 5.9058523], [\"CA2-IG-FC\", \"Excitatory\", 6.4334335], [\"L2/3 IT CTX\", \"Excitatory\", 6.516129], [\"L4/5 IT CTX\", \"Excitatory\", 5.622645400000001], [\"CA3\", \"Excitatory\", 6.786134], [\"L5 NP CTX\", \"Excitatory\", 4.9275025999999995], [\"L5 NP CTX\", \"Excitatory\", 4.7967796], [\"L5 PT CTX\", \"Excitatory\", 6.3761887999999995], [\"L4/5 IT CTX\", \"Excitatory\", 4.716044], [\"L2/3 IT CTX\", \"Excitatory\", 6.072396299999999], [\"NP SUB\", \"Excitatory\", 3.0185728], [\"L6 Car3\", \"Excitatory\", 6.261009], [\"CA1\", \"Excitatory\", 6.175339], [\"CA3\", \"Excitatory\", 6.844261599999999], [\"L2 IT RSP-ACA\", \"Excitatory\", 5.597196], [\"L2/3 IT ENTl\", \"Excitatory\", 5.661241], [\"DG\", \"Excitatory\", 5.032541], [\"L2 IT RSPv\", \"Excitatory\", 6.149624299999999], [\"L5 PT CTX\", \"Excitatory\", 6.15837], [\"L6 Car3\", \"Excitatory\", 6.022864], [\"L5 PT CTX\", \"Excitatory\", 5.1189876], [\"L5 PT RSP-ACA\", \"Excitatory\", 5.688521], [\"SUB\", \"Excitatory\", 5.6292089999999995], [\"L3 IT ENTl\", \"Excitatory\", 5.16943], [\"L6 Car3\", \"Excitatory\", 5.772263], [\"L6b CTX\", \"Excitatory\", 4.270451], [\"L5 PT CTX\", \"Excitatory\", 5.262034], [\"L5/6 IT CTX\", \"Excitatory\", 5.9682865], [\"L2/3 IT PPP\", \"Excitatory\", 6.4744434], [\"ProS\", \"Excitatory\", 5.418145], [\"L6 NP CT CTX\", \"Excitatory\", 4.784468700000001], [\"NP SUB\", \"Excitatory\", 4.966531], [\"L2/3 IT APr\", \"Excitatory\", 6.493026], [\"L6b CTX\", \"Excitatory\", 5.3856782999999995], [\"L2/3 IT ENTl\", \"Excitatory\", 5.542383], [\"DG\", \"Excitatory\", 6.2698092], [\"L4/5 IT CTX\", \"Excitatory\", 5.614969], [\"L5 PT CTX\", \"Excitatory\", 6.166136], [\"CA2-IG-FC\", \"Excitatory\", 6.5883656], [\"L3 IT ENTm\", \"Excitatory\", 5.4185653], [\"CA3\", \"Excitatory\", 6.8471613], [\"L5 NP CTX\", \"Excitatory\", 5.059882], [\"L2/3 IT ENTl\", \"Excitatory\", 5.572255999999999], [\"L4/5 IT CTX\", \"Excitatory\", 2.583071], [\"L6 IT ENTl\", \"Excitatory\", 5.2988586], [\"CT SUB\", \"Excitatory\", 6.207814], [\"CA3\", \"Excitatory\", 6.2869209999999995], [\"L2/3 IT APr\", \"Excitatory\", 6.5712223], [\"L2 IT ProS\", \"Excitatory\", 7.311450999999999], [\"L4/5 IT TPE-ENT\", \"Excitatory\", 5.0536113], [\"L6 IT CTX\", \"Excitatory\", 5.92523], [\"L4/5 IT CTX\", \"Excitatory\", 5.8365593], [\"CA3\", \"Excitatory\", 6.8910884999999995], [\"CA1-ProS\", \"Excitatory\", 5.9843150000000005], [\"L6b CTX\", \"Excitatory\", 5.284594], [\"DG\", \"Excitatory\", 5.430473], [\"L2 IT PAR\", \"Excitatory\", 5.3357773], [\"L6 IT ENTl\", \"Excitatory\", 5.5094129999999994], [\"L5 PT CTX\", \"Excitatory\", 6.1462183], [\"L6 IT CTX\", \"Excitatory\", 6.812672599999999], [\"L4/5 IT CTX\", \"Excitatory\", 5.568671], [\"CA1\", \"Excitatory\", 6.186176000000001], [\"L6 CT CTX\", \"Excitatory\", 4.362938400000001], [\"L6b CTX\", \"Excitatory\", 4.714322], [\"L6b RHP\", \"Excitatory\", 4.8596144], [\"L4/5 IT CTX\", \"Excitatory\", 5.7281904], [\"L6b CTX\", \"Excitatory\", 4.780078400000001], [\"L2 IT ProS\", \"Excitatory\", 4.2910705], [\"L6b CTX\", \"Excitatory\", 4.9984226], [\"DG\", \"Excitatory\", 4.4285364000000005], [\"L2 IT PAR\", \"Excitatory\", 5.562621], [\"L3 RSP-ACA\", \"Excitatory\", 4.419676], [\"ProS\", \"Excitatory\", 5.5892158], [\"ProS\", \"Excitatory\", 6.129828], [\"L6 IT CTX\", \"Excitatory\", 5.206561], [\"L5 PT CTX\", \"Excitatory\", 6.2811174], [\"L5 IT TPE-ENT\", \"Excitatory\", 5.358198000000001], [\"CA1-ProS\", \"Excitatory\", 6.013433], [\"L4/5 IT CTX\", \"Excitatory\", 5.676183], [\"L2/3 IT ENTl\", \"Excitatory\", 5.1417836999999995], [\"L6 IT CTX\", \"Excitatory\", 5.827000599999999], [\"L6 CT CTX\", \"Excitatory\", 5.210582], [\"L2/3 IT ENTl\", \"Excitatory\", 6.0455666], [\"L2/3 IT CTX\", \"Excitatory\", 6.609990600000001], [\"L6b/CT ENT\", \"Excitatory\", 5.3102136], [\"L3 IT ENTl\", \"Excitatory\", 5.3722067000000004], [\"L2 IT ENTm\", \"Excitatory\", 5.312728400000001], [\"L2/3 IT ENTl\", \"Excitatory\", 5.2910733], [\"CA1\", \"Excitatory\", 6.4334636], [\"CA1\", \"Excitatory\", 6.3318305], [\"L5/6 IT CTX\", \"Excitatory\", 6.280453], [\"L5 NP CTX\", \"Excitatory\", 3.5120807000000003], [\"CT SUB\", \"Excitatory\", 4.722548000000001], [\"L5/6 IT CTX\", \"Excitatory\", 6.4357557], [\"L6 Car3\", \"Excitatory\", 5.4309087], [\"L2 IT ENTm\", \"Excitatory\", 6.3299685], [\"L2/3 IT ENTl\", \"Excitatory\", 6.1789665000000005], [\"L2/3 IT CTX\", \"Excitatory\", 6.487275], [\"ProS\", \"Excitatory\", 5.083696400000001], [\"L4/5 IT CTX\", \"Excitatory\", 5.8070636], [\"L5 IT CTX\", \"Excitatory\", 5.7520685], [\"L2/3 IT PPP\", \"Excitatory\", 7.0833364], [\"L5 NP CTX\", \"Excitatory\", 4.66716], [\"L4/5 IT CTX\", \"Excitatory\", 5.5796847000000005], [\"L2/3 IT ENTl\", \"Excitatory\", 3.0693848], [\"CA1\", \"Excitatory\", 6.594048], [\"L5 IT CTX\", \"Excitatory\", 5.5135093], [\"CA1\", \"Excitatory\", 6.120719], [\"L6 CT CTX\", \"Excitatory\", 5.839949], [\"L2/3 IT ENTl\", \"Excitatory\", 5.364545], [\"L6b RHP\", \"Excitatory\", 5.0948367], [\"L2/3 IT PPP\", \"Excitatory\", 6.8578563], [\"L5 IT CTX\", \"Excitatory\", 6.0032024], [\"SUB\", \"Excitatory\", 6.1731067], [\"SUB-ProS\", \"Excitatory\", 5.274334400000001], [\"L4/5 IT CTX\", \"Excitatory\", 5.654835], [\"L5 IT CTX\", \"Excitatory\", 5.8040595], [\"L5 IT CTX\", \"Excitatory\", 5.020164], [\"L2/3 IT CTX\", \"Excitatory\", 6.539643], [\"CA1\", \"Excitatory\", 5.9086823], [\"CA1\", \"Excitatory\", 6.685662299999999], [\"L6 CT CTX\", \"Excitatory\", 5.528196299999999], [\"L2 IT ENTl\", \"Excitatory\", 5.736657599999999], [\"L5/6 IT CTX\", \"Excitatory\", 6.659464999999999], [\"L2/3 IT CTX\", \"Excitatory\", 6.446843599999999], [\"L5 IT TPE-ENT\", \"Excitatory\", 6.1161017], [\"L5 PT CTX\", \"Excitatory\", 2.4269385], [\"L5 PT CTX\", \"Excitatory\", 6.1797667], [\"L2/3 IT APr\", \"Excitatory\", 5.7469397], [\"L2/3 IT CTX\", \"Excitatory\", 6.956133], [\"L2 IT ENTm\", \"Excitatory\", 6.396283599999999], [\"L5 PT CTX\", \"Excitatory\", 6.2807455], [\"L6b/CT ENT\", \"Excitatory\", 5.753315], [\"L6 IT RHP\", \"Excitatory\", 6.209766], [\"L5 PT CTX\", \"Excitatory\", 5.5780544], [\"L5 PT CTX\", \"Excitatory\", 5.8851237], [\"L2 IT HATA\", \"Excitatory\", 5.7313957], [\"L2/3 IT CTX\", \"Excitatory\", 6.6409364], [\"L5 PT CTX\", \"Excitatory\", 5.8874755], [\"L3 IT ENTm\", \"Excitatory\", 5.4285903], [\"L2/3 IT CTX\", \"Excitatory\", 6.5010943], [\"L2 IT ENTm\", \"Excitatory\", 7.0418825], [\"L5 IT TPE-ENT\", \"Excitatory\", 5.4304], [\"L2 IT ProS\", \"Excitatory\", 5.5344777], [\"CA3\", \"Excitatory\", 6.8590800000000005], [\"NP SUB\", \"Excitatory\", 5.642002], [\"L6b/CT ENT\", \"Excitatory\", 5.651528], [\"DG\", \"Excitatory\", 6.421975], [\"L3 IT ENTm\", \"Excitatory\", 5.3328767], [\"L6b CTX\", \"Excitatory\", 3.716526], [\"DG\", \"Excitatory\", 5.2513723], [\"CA1\", \"Excitatory\", 5.726869000000001], [\"L6 CT ENTm\", \"Excitatory\", 6.6332759999999995], [\"L6b CTX\", \"Excitatory\", 3.6602282999999995], [\"L3 IT ENTl\", \"Excitatory\", 2.2815950000000003], [\"L4/5 IT TPE-ENT\", \"Excitatory\", 5.021555], [\"L6 IT CTX\", \"Excitatory\", 6.2099247], [\"L5 PT RSP-ACA\", \"Excitatory\", 6.211377], [\"L2/3 IT APr\", \"Excitatory\", 6.014390000000001], [\"L4/5 IT CTX\", \"Excitatory\", 5.522287], [\"CA3\", \"Excitatory\", 6.9462475999999995], [\"NP SUB\", \"Excitatory\", 4.2916627], [\"L6b CTX\", \"Excitatory\", 5.685128700000001], [\"L2 IT ENTl\", \"Excitatory\", 5.3825417], [\"L5 IT TPE-ENT\", \"Excitatory\", 5.657374400000001], [\"L5 PPP\", \"Excitatory\", 5.83819], [\"CA1-ProS\", \"Excitatory\", 5.8268504], [\"L2 IT ENTl\", \"Excitatory\", 4.6330457]], \"hovertemplate\": \"<b>%{hovertext}</b><br><br>Cell_Type=%{customdata[1]}<br>higher_cluster=%{customdata[0]}<br>Expression=%{customdata[2]}<extra></extra>\", \"hovertext\": [\"229_L6 IT CTX\", \"293_CA3\", \"323_L6 CT CTX\", \"17_Pax6\", \"261_L6 Car3\", \"289_CA1\", \"219_L6 IT CTX\", \"227_L6 IT CTX\", \"334_L6b/CT ENT\", \"212_L5 IT TPE-ENT\", \"266_SUB-ProS\", \"295_CA3\", \"223_L6 IT CTX\", \"131_L2 IT RSPv\", \"216_L5/6 IT CTX\", \"306_L5 NP CTX\", \"336_L6b/CT ENT\", \"350_L6b CTX\", \"142_L3 IT ENTm\", \"324_L6 CT CTX\", \"187_L2/3 IT CTX\", \"253_L5 PT CTX\", \"235_L3 RSP-ACA\", \"327_L6 CT CTX\", \"159_L2/3 IT ENTl\", \"272_ProS\", \"329_L6 CT CTX\", \"182_L2/3 IT CTX\", \"251_L5 PT CTX\", \"339_L6b CTX\", \"135_L2/3 IT PPP\", \"184_L2/3 IT TPE\", \"222_L6 IT CTX\", \"239_L5 PT CTX\", \"283_CA1\", \"179_L2/3 IT CTX\", \"294_CA3\", \"307_L5 NP CTX\", \"18_Pax6\", \"278_CA1-ProS\", \"316_NP SUB\", \"221_L6 IT CTX\", \"326_L6 CT CTX\", \"331_L6 CT ENTm\", \"276_CA1-ProS\", \"325_L6 CT CTX\", \"274_CA1-ProS\", \"176_L2/3 IT CTX\", \"19_Pax6\", \"224_L6 IT CTX\", \"322_L6 CT CTX\", \"238_L5 PT CTX\", \"165_L2/3 IT ENTl\", \"319_CT SUB\", \"264_SUB\", \"207_L5 IT CTX\", \"287_CA1\", \"136_L2/3 IT PPP\", \"302_CA2-IG-FC\", \"178_L2/3 IT CTX\", \"189_L4/5 IT CTX\", \"296_CA3\", \"305_L5 NP CTX\", \"304_L5 NP CTX\", \"246_L5 PT CTX\", \"197_L4/5 IT CTX\", \"183_L2/3 IT CTX\", \"315_NP SUB\", \"259_L6 Car3\", \"279_CA1\", \"300_CA3\", \"186_L2 IT RSP-ACA\", \"163_L2/3 IT ENTl\", \"123_DG\", \"130_L2 IT RSPv\", \"242_L5 PT CTX\", \"260_L6 Car3\", \"237_L5 PT CTX\", \"255_L5 PT RSP-ACA\", \"263_SUB\", \"146_L3 IT ENTl\", \"258_L6 Car3\", \"351_L6b CTX\", \"240_L5 PT CTX\", \"215_L5/6 IT CTX\", \"133_L2/3 IT PPP\", \"271_ProS\", \"311_L6 NP CT CTX\", \"313_NP SUB\", \"128_L2/3 IT APr\", \"343_L6b CTX\", \"173_L2/3 IT ENTl\", \"125_DG\", \"188_L4/5 IT CTX\", \"243_L5 PT CTX\", \"301_CA2-IG-FC\", \"140_L3 IT ENTm\", \"292_CA3\", \"308_L5 NP CTX\", \"164_L2/3 IT ENTl\", \"194_L4/5 IT CTX\", \"233_L6 IT ENTl\", \"317_CT SUB\", \"291_CA3\", \"129_L2/3 IT APr\", \"155_L2 IT ProS\", \"202_L4/5 IT TPE-ENT\", \"220_L6 IT CTX\", \"193_L4/5 IT CTX\", \"297_CA3\", \"275_CA1-ProS\", \"346_L6b CTX\", \"121_DG\", \"148_L2 IT PAR\", \"232_L6 IT ENTl\", \"254_L5 PT CTX\", \"225_L6 IT CTX\", \"195_L4/5 IT CTX\", \"290_CA1\", \"321_L6 CT CTX\", \"338_L6b CTX\", \"342_L6b RHP\", \"192_L4/5 IT CTX\", \"341_L6b CTX\", \"156_L2 IT ProS\", \"347_L6b CTX\", \"120_DG\", \"147_L2 IT PAR\", \"236_L3 RSP-ACA\", \"270_ProS\", \"268_ProS\", \"231_L6 IT CTX\", \"252_L5 PT CTX\", \"213_L5 IT TPE-ENT\", \"277_CA1-ProS\", \"196_L4/5 IT CTX\", \"166_L2/3 IT ENTl\", \"230_L6 IT CTX\", \"330_L6 CT CTX\", \"161_L2/3 IT ENTl\", \"180_L2/3 IT CTX\", \"335_L6b/CT ENT\", \"144_L3 IT ENTl\", \"150_L2 IT ENTm\", \"162_L2/3 IT ENTl\", \"280_CA1\", \"288_CA1\", \"218_L5/6 IT CTX\", \"310_L5 NP CTX\", \"318_CT SUB\", \"217_L5/6 IT CTX\", \"262_L6 Car3\", \"151_L2 IT ENTm\", \"167_L2/3 IT ENTl\", \"175_L2/3 IT CTX\", \"269_ProS\", \"191_L4/5 IT CTX\", \"205_L5 IT CTX\", \"132_L2/3 IT PPP\", \"309_L5 NP CTX\", \"200_L4/5 IT CTX\", \"158_L2/3 IT ENTl\", \"284_CA1\", \"203_L5 IT CTX\", \"285_CA1\", \"328_L6 CT CTX\", \"160_L2/3 IT ENTl\", \"344_L6b RHP\", \"134_L2/3 IT PPP\", \"206_L5 IT CTX\", \"265_SUB\", \"267_SUB-ProS\", \"198_L4/5 IT CTX\", \"204_L5 IT CTX\", \"208_L5 IT CTX\", \"172_L2/3 IT CTX\", \"281_CA1\", \"282_CA1\", \"320_L6 CT CTX\", \"137_L2 IT ENTl\", \"214_L5/6 IT CTX\", \"170_L2/3 IT CTX\", \"211_L5 IT TPE-ENT\", \"249_L5 PT CTX\", \"247_L5 PT CTX\", \"127_L2/3 IT APr\", \"174_L2/3 IT CTX\", \"153_L2 IT ENTm\", \"250_L5 PT CTX\", \"333_L6b/CT ENT\", \"228_L6 IT RHP\", \"244_L5 PT CTX\", \"241_L5 PT CTX\", \"157_L2 IT HATA\", \"171_L2/3 IT CTX\", \"248_L5 PT CTX\", \"141_L3 IT ENTm\", \"177_L2/3 IT CTX\", \"152_L2 IT ENTm\", \"209_L5 IT TPE-ENT\", \"154_L2 IT ProS\", \"299_CA3\", \"312_NP SUB\", \"337_L6b/CT ENT\", \"124_DG\", \"143_L3 IT ENTm\", \"349_L6b CTX\", \"122_DG\", \"286_CA1\", \"332_L6 CT ENTm\", \"348_L6b CTX\", \"145_L3 IT ENTl\", \"201_L4/5 IT TPE-ENT\", \"226_L6 IT CTX\", \"256_L5 PT RSP-ACA\", \"126_L2/3 IT APr\", \"190_L4/5 IT CTX\", \"298_CA3\", \"314_NP SUB\", \"340_L6b CTX\", \"139_L2 IT ENTl\", \"210_L5 IT TPE-ENT\", \"257_L5 PPP\", \"273_CA1-ProS\", \"138_L2 IT ENTl\"], \"legendgroup\": \"Excitatory\", \"marker\": {\"color\": \"#EF553B\"}, \"name\": \"Excitatory\", \"offsetgroup\": \"Excitatory\", \"orientation\": \"v\", \"showlegend\": true, \"textposition\": \"auto\", \"type\": \"bar\", \"x\": [\"L6 IT CTX\", \"CA3\", \"L6 CT CTX\", \"Pax6\", \"L6 Car3\", \"CA1\", \"L6 IT CTX\", \"L6 IT CTX\", \"L6b/CT ENT\", \"L5 IT TPE-ENT\", \"SUB-ProS\", \"CA3\", \"L6 IT CTX\", \"L2 IT RSPv\", \"L5/6 IT CTX\", \"L5 NP CTX\", \"L6b/CT ENT\", \"L6b CTX\", \"L3 IT ENTm\", \"L6 CT CTX\", \"L2/3 IT CTX\", \"L5 PT CTX\", \"L3 RSP-ACA\", \"L6 CT CTX\", \"L2/3 IT ENTl\", \"ProS\", \"L6 CT CTX\", \"L2/3 IT CTX\", \"L5 PT CTX\", \"L6b CTX\", \"L2/3 IT PPP\", \"L2/3 IT TPE\", \"L6 IT CTX\", \"L5 PT CTX\", \"CA1\", \"L2/3 IT CTX\", \"CA3\", \"L5 NP CTX\", \"Pax6\", \"CA1-ProS\", \"NP SUB\", \"L6 IT CTX\", \"L6 CT CTX\", \"L6 CT ENTm\", \"CA1-ProS\", \"L6 CT CTX\", \"CA1-ProS\", \"L2/3 IT CTX\", \"Pax6\", \"L6 IT CTX\", \"L6 CT CTX\", \"L5 PT CTX\", \"L2/3 IT ENTl\", \"CT SUB\", \"SUB\", \"L5 IT CTX\", \"CA1\", \"L2/3 IT PPP\", \"CA2-IG-FC\", \"L2/3 IT CTX\", \"L4/5 IT CTX\", \"CA3\", \"L5 NP CTX\", \"L5 NP CTX\", \"L5 PT CTX\", \"L4/5 IT CTX\", \"L2/3 IT CTX\", \"NP SUB\", \"L6 Car3\", \"CA1\", \"CA3\", \"L2 IT RSP-ACA\", \"L2/3 IT ENTl\", \"DG\", \"L2 IT RSPv\", \"L5 PT CTX\", \"L6 Car3\", \"L5 PT CTX\", \"L5 PT RSP-ACA\", \"SUB\", \"L3 IT ENTl\", \"L6 Car3\", \"L6b CTX\", \"L5 PT CTX\", \"L5/6 IT CTX\", \"L2/3 IT PPP\", \"ProS\", \"L6 NP CT CTX\", \"NP SUB\", \"L2/3 IT APr\", \"L6b CTX\", \"L2/3 IT ENTl\", \"DG\", \"L4/5 IT CTX\", \"L5 PT CTX\", \"CA2-IG-FC\", \"L3 IT ENTm\", \"CA3\", \"L5 NP CTX\", \"L2/3 IT ENTl\", \"L4/5 IT CTX\", \"L6 IT ENTl\", \"CT SUB\", \"CA3\", \"L2/3 IT APr\", \"L2 IT ProS\", \"L4/5 IT TPE-ENT\", \"L6 IT CTX\", \"L4/5 IT CTX\", \"CA3\", \"CA1-ProS\", \"L6b CTX\", \"DG\", \"L2 IT PAR\", \"L6 IT ENTl\", \"L5 PT CTX\", \"L6 IT CTX\", \"L4/5 IT CTX\", \"CA1\", \"L6 CT CTX\", \"L6b CTX\", \"L6b RHP\", \"L4/5 IT CTX\", \"L6b CTX\", \"L2 IT ProS\", \"L6b CTX\", \"DG\", \"L2 IT PAR\", \"L3 RSP-ACA\", \"ProS\", \"ProS\", \"L6 IT CTX\", \"L5 PT CTX\", \"L5 IT TPE-ENT\", \"CA1-ProS\", \"L4/5 IT CTX\", \"L2/3 IT ENTl\", \"L6 IT CTX\", \"L6 CT CTX\", \"L2/3 IT ENTl\", \"L2/3 IT CTX\", \"L6b/CT ENT\", \"L3 IT ENTl\", \"L2 IT ENTm\", \"L2/3 IT ENTl\", \"CA1\", \"CA1\", \"L5/6 IT CTX\", \"L5 NP CTX\", \"CT SUB\", \"L5/6 IT CTX\", \"L6 Car3\", \"L2 IT ENTm\", \"L2/3 IT ENTl\", \"L2/3 IT CTX\", \"ProS\", \"L4/5 IT CTX\", \"L5 IT CTX\", \"L2/3 IT PPP\", \"L5 NP CTX\", \"L4/5 IT CTX\", \"L2/3 IT ENTl\", \"CA1\", \"L5 IT CTX\", \"CA1\", \"L6 CT CTX\", \"L2/3 IT ENTl\", \"L6b RHP\", \"L2/3 IT PPP\", \"L5 IT CTX\", \"SUB\", \"SUB-ProS\", \"L4/5 IT CTX\", \"L5 IT CTX\", \"L5 IT CTX\", \"L2/3 IT CTX\", \"CA1\", \"CA1\", \"L6 CT CTX\", \"L2 IT ENTl\", \"L5/6 IT CTX\", \"L2/3 IT CTX\", \"L5 IT TPE-ENT\", \"L5 PT CTX\", \"L5 PT CTX\", \"L2/3 IT APr\", \"L2/3 IT CTX\", \"L2 IT ENTm\", \"L5 PT CTX\", \"L6b/CT ENT\", \"L6 IT RHP\", \"L5 PT CTX\", \"L5 PT CTX\", \"L2 IT HATA\", \"L2/3 IT CTX\", \"L5 PT CTX\", \"L3 IT ENTm\", \"L2/3 IT CTX\", \"L2 IT ENTm\", \"L5 IT TPE-ENT\", \"L2 IT ProS\", \"CA3\", \"NP SUB\", \"L6b/CT ENT\", \"DG\", \"L3 IT ENTm\", \"L6b CTX\", \"DG\", \"CA1\", \"L6 CT ENTm\", \"L6b CTX\", \"L3 IT ENTl\", \"L4/5 IT TPE-ENT\", \"L6 IT CTX\", \"L5 PT RSP-ACA\", \"L2/3 IT APr\", \"L4/5 IT CTX\", \"CA3\", \"NP SUB\", \"L6b CTX\", \"L2 IT ENTl\", \"L5 IT TPE-ENT\", \"L5 PPP\", \"CA1-ProS\", \"L2 IT ENTl\"], \"xaxis\": \"x\", \"y\": [2.6759217, 6.243418, 5.5523242999999995, 5.4418635, 5.086158, 6.4654169999999995, 5.375281299999999, 6.3067236, 5.9865127000000005, 5.762633, 5.465733, 7.204391499999999, 5.944362, 6.6436996, 5.509567700000001, 4.5595193, 5.6129489999999995, 4.3967404000000005, 5.644229, 5.175231500000001, 4.4667845, 6.120343, 5.047371, 5.661402, 4.9935527, 6.2061234, 5.0748725, 5.8679156, 6.007839700000001, 5.148120400000001, 6.3784657, 6.3001914, 6.2930126, 4.897032299999999, 5.8986425, 6.1578, 7.048156, 3.753378, 5.0058637, 5.87102, 5.1874638, 6.802680499999999, 5.8015947, 6.950625, 5.8262362, 5.3469596, 5.2762218, 6.2911825, 5.543636, 6.3478959999999995, 2.4067632999999997, 5.1920657, 6.2347345, 5.782426999999999, 5.8232183, 5.4416385, 6.467939, 5.9058523, 6.4334335, 6.516129, 5.622645400000001, 6.786134, 4.9275025999999995, 4.7967796, 6.3761887999999995, 4.716044, 6.072396299999999, 3.0185728, 6.261009, 6.175339, 6.844261599999999, 5.597196, 5.661241, 5.032541, 6.149624299999999, 6.15837, 6.022864, 5.1189876, 5.688521, 5.6292089999999995, 5.16943, 5.772263, 4.270451, 5.262034, 5.9682865, 6.4744434, 5.418145, 4.784468700000001, 4.966531, 6.493026, 5.3856782999999995, 5.542383, 6.2698092, 5.614969, 6.166136, 6.5883656, 5.4185653, 6.8471613, 5.059882, 5.572255999999999, 2.583071, 5.2988586, 6.207814, 6.2869209999999995, 6.5712223, 7.311450999999999, 5.0536113, 5.92523, 5.8365593, 6.8910884999999995, 5.9843150000000005, 5.284594, 5.430473, 5.3357773, 5.5094129999999994, 6.1462183, 6.812672599999999, 5.568671, 6.186176000000001, 4.362938400000001, 4.714322, 4.8596144, 5.7281904, 4.780078400000001, 4.2910705, 4.9984226, 4.4285364000000005, 5.562621, 4.419676, 5.5892158, 6.129828, 5.206561, 6.2811174, 5.358198000000001, 6.013433, 5.676183, 5.1417836999999995, 5.827000599999999, 5.210582, 6.0455666, 6.609990600000001, 5.3102136, 5.3722067000000004, 5.312728400000001, 5.2910733, 6.4334636, 6.3318305, 6.280453, 3.5120807000000003, 4.722548000000001, 6.4357557, 5.4309087, 6.3299685, 6.1789665000000005, 6.487275, 5.083696400000001, 5.8070636, 5.7520685, 7.0833364, 4.66716, 5.5796847000000005, 3.0693848, 6.594048, 5.5135093, 6.120719, 5.839949, 5.364545, 5.0948367, 6.8578563, 6.0032024, 6.1731067, 5.274334400000001, 5.654835, 5.8040595, 5.020164, 6.539643, 5.9086823, 6.685662299999999, 5.528196299999999, 5.736657599999999, 6.659464999999999, 6.446843599999999, 6.1161017, 2.4269385, 6.1797667, 5.7469397, 6.956133, 6.396283599999999, 6.2807455, 5.753315, 6.209766, 5.5780544, 5.8851237, 5.7313957, 6.6409364, 5.8874755, 5.4285903, 6.5010943, 7.0418825, 5.4304, 5.5344777, 6.8590800000000005, 5.642002, 5.651528, 6.421975, 5.3328767, 3.716526, 5.2513723, 5.726869000000001, 6.6332759999999995, 3.6602282999999995, 2.2815950000000003, 5.021555, 6.2099247, 6.211377, 6.014390000000001, 5.522287, 6.9462475999999995, 4.2916627, 5.685128700000001, 5.3825417, 5.657374400000001, 5.83819, 5.8268504, 4.6330457], \"yaxis\": \"y\"}, {\"alignmentgroup\": \"True\", \"customdata\": [[\"SMC\", \"Non-Neuronal\", 0.02187717], [\"Astro\", \"Non-Neuronal\", 0.518305], [\"Micro\", \"Non-Neuronal\", 0.3928562], [\"Oligo\", \"Non-Neuronal\", 0.33657247], [\"Peri\", \"Non-Neuronal\", 2.5813146000000002], [\"Oligo\", \"Non-Neuronal\", 3.3213220000000003], [\"OPC\", \"Non-Neuronal\", 1.8070084], [\"CR\", \"Non-Neuronal\", 1.8571247], [\"VLMC\", \"Non-Neuronal\", 0.0], [\"Oligo\", \"Non-Neuronal\", 0.89665496], [\"VLMC\", \"Non-Neuronal\", 1.2214931999999998], [\"PVM\", \"Non-Neuronal\", 1.7989362000000002], [\"Astro\", \"Non-Neuronal\", 0.113035865], [\"OPC\", \"Non-Neuronal\", 1.9316357], [\"Oligo\", \"Non-Neuronal\", 0.6401216], [\"Oligo\", \"Non-Neuronal\", 2.9676087000000004], [\"Endo\", \"Non-Neuronal\", 8.635946], [\"Oligo\", \"Non-Neuronal\", 1.688192], [\"SMC\", \"Non-Neuronal\", 0.42509028], [\"Micro\", \"Non-Neuronal\", 0.5686767], [\"Oligo\", \"Non-Neuronal\", 0.0], [\"Oligo\", \"Non-Neuronal\", 4.4805517], [\"VLMC\", \"Non-Neuronal\", 1.2228909], [\"Endo\", \"Non-Neuronal\", 6.888949]], \"hovertemplate\": \"<b>%{hovertext}</b><br><br>Cell_Type=%{customdata[1]}<br>higher_cluster=%{customdata[0]}<br>Expression=%{customdata[2]}<extra></extra>\", \"hovertext\": [\"372_SMC\", \"356_Astro\", \"378_Micro\", \"368_Oligo\", \"371_Peri\", \"363_Oligo\", \"359_OPC\", \"1_CR\", \"376_VLMC\", \"361_Oligo\", \"374_VLMC\", \"379_PVM\", \"358_Astro\", \"360_OPC\", \"366_Oligo\", \"364_Oligo\", \"369_Endo\", \"367_Oligo\", \"373_SMC\", \"377_Micro\", \"362_Oligo\", \"365_Oligo\", \"375_VLMC\", \"370_Endo\"], \"legendgroup\": \"Non-Neuronal\", \"marker\": {\"color\": \"#00cc96\"}, \"name\": \"Non-Neuronal\", \"offsetgroup\": \"Non-Neuronal\", \"orientation\": \"v\", \"showlegend\": true, \"textposition\": \"auto\", \"type\": \"bar\", \"x\": [\"SMC\", \"Astro\", \"Micro\", \"Oligo\", \"Peri\", \"Oligo\", \"OPC\", \"CR\", \"VLMC\", \"Oligo\", \"VLMC\", \"PVM\", \"Astro\", \"OPC\", \"Oligo\", \"Oligo\", \"Endo\", \"Oligo\", \"SMC\", \"Micro\", \"Oligo\", \"Oligo\", \"VLMC\", \"Endo\"], \"xaxis\": \"x\", \"y\": [0.02187717, 0.518305, 0.3928562, 0.33657247, 2.5813146000000002, 3.3213220000000003, 1.8070084, 1.8571247, 0.0, 0.89665496, 1.2214931999999998, 1.7989362000000002, 0.113035865, 1.9316357, 0.6401216, 2.9676087000000004, 8.635946, 1.688192, 0.42509028, 0.5686767, 0.0, 4.4805517, 1.2228909, 6.888949], \"yaxis\": \"y\"}, {\"alignmentgroup\": \"True\", \"customdata\": [[\"Ndnf HPF\", \"Unknown\", 2.3484254], [\"Ndnf HPF\", \"Unknown\", 4.864262], [\"NP PPP\", \"Unknown\", 5.432983999999999], [\"\", \"Unknown\", 1.9158291], [\"V3d\", \"Unknown\", 0.0], [\"NP PPP\", \"Unknown\", 6.2722483], [\"NP PPP\", \"Unknown\", 5.8966637], [\"Ndnf HPF\", \"Unknown\", 4.59472], [\"Ndnf HPF\", \"Unknown\", 4.195772], [\"Ndnf HPF\", \"Unknown\", 4.523839]], \"hovertemplate\": \"<b>%{hovertext}</b><br><br>Cell_Type=%{customdata[1]}<br>higher_cluster=%{customdata[0]}<br>Expression=%{customdata[2]}<extra></extra>\", \"hovertext\": [\"22_Ndnf HPF\", \"23_Ndnf HPF\", \"353_NP PPP\", null, \"355_V3d\", \"352_NP PPP\", \"354_NP PPP\", \"20_Ndnf HPF\", \"21_Ndnf HPF\", \"24_Ndnf HPF\"], \"legendgroup\": \"Unknown\", \"marker\": {\"color\": \"#ab63fa\"}, \"name\": \"Unknown\", \"offsetgroup\": \"Unknown\", \"orientation\": \"v\", \"showlegend\": true, \"textposition\": \"auto\", \"type\": \"bar\", \"x\": [\"Ndnf HPF\", \"Ndnf HPF\", \"NP PPP\", \"\", \"V3d\", \"NP PPP\", \"NP PPP\", \"Ndnf HPF\", \"Ndnf HPF\", \"Ndnf HPF\"], \"xaxis\": \"x\", \"y\": [2.3484254, 4.864262, 5.432983999999999, 1.9158291, 0.0, 6.2722483, 5.8966637, 4.59472, 4.195772, 4.523839], \"yaxis\": \"y\"}],\n",
       "                        {\"barmode\": \"relative\", \"height\": 600, \"legend\": {\"title\": {\"text\": \"Cell_Type\"}, \"tracegroupgap\": 0}, \"margin\": {\"t\": 60}, \"template\": {\"data\": {\"bar\": [{\"error_x\": {\"color\": \"#2a3f5f\"}, \"error_y\": {\"color\": \"#2a3f5f\"}, \"marker\": {\"line\": {\"color\": \"#E5ECF6\", \"width\": 0.5}}, \"type\": \"bar\"}], \"barpolar\": [{\"marker\": {\"line\": {\"color\": \"#E5ECF6\", \"width\": 0.5}}, \"type\": \"barpolar\"}], \"carpet\": [{\"aaxis\": {\"endlinecolor\": \"#2a3f5f\", \"gridcolor\": \"white\", \"linecolor\": \"white\", \"minorgridcolor\": \"white\", \"startlinecolor\": \"#2a3f5f\"}, \"baxis\": {\"endlinecolor\": \"#2a3f5f\", \"gridcolor\": \"white\", \"linecolor\": \"white\", \"minorgridcolor\": \"white\", \"startlinecolor\": \"#2a3f5f\"}, \"type\": \"carpet\"}], \"choropleth\": [{\"colorbar\": {\"outlinewidth\": 0, \"ticks\": \"\"}, \"type\": \"choropleth\"}], \"contour\": [{\"colorbar\": {\"outlinewidth\": 0, \"ticks\": \"\"}, \"colorscale\": [[0.0, \"#0d0887\"], [0.1111111111111111, \"#46039f\"], [0.2222222222222222, \"#7201a8\"], [0.3333333333333333, \"#9c179e\"], [0.4444444444444444, \"#bd3786\"], [0.5555555555555556, \"#d8576b\"], [0.6666666666666666, \"#ed7953\"], [0.7777777777777778, \"#fb9f3a\"], [0.8888888888888888, \"#fdca26\"], [1.0, \"#f0f921\"]], \"type\": \"contour\"}], \"contourcarpet\": [{\"colorbar\": {\"outlinewidth\": 0, \"ticks\": \"\"}, \"type\": \"contourcarpet\"}], \"heatmap\": [{\"colorbar\": {\"outlinewidth\": 0, \"ticks\": \"\"}, \"colorscale\": [[0.0, \"#0d0887\"], [0.1111111111111111, \"#46039f\"], [0.2222222222222222, \"#7201a8\"], [0.3333333333333333, \"#9c179e\"], [0.4444444444444444, \"#bd3786\"], [0.5555555555555556, \"#d8576b\"], [0.6666666666666666, \"#ed7953\"], [0.7777777777777778, \"#fb9f3a\"], [0.8888888888888888, \"#fdca26\"], [1.0, \"#f0f921\"]], \"type\": \"heatmap\"}], \"heatmapgl\": [{\"colorbar\": {\"outlinewidth\": 0, \"ticks\": \"\"}, \"colorscale\": [[0.0, \"#0d0887\"], [0.1111111111111111, \"#46039f\"], [0.2222222222222222, \"#7201a8\"], [0.3333333333333333, \"#9c179e\"], [0.4444444444444444, \"#bd3786\"], [0.5555555555555556, \"#d8576b\"], [0.6666666666666666, \"#ed7953\"], [0.7777777777777778, \"#fb9f3a\"], [0.8888888888888888, \"#fdca26\"], [1.0, \"#f0f921\"]], \"type\": \"heatmapgl\"}], \"histogram\": [{\"marker\": {\"colorbar\": {\"outlinewidth\": 0, \"ticks\": \"\"}}, \"type\": \"histogram\"}], \"histogram2d\": [{\"colorbar\": {\"outlinewidth\": 0, \"ticks\": \"\"}, \"colorscale\": [[0.0, \"#0d0887\"], [0.1111111111111111, \"#46039f\"], [0.2222222222222222, \"#7201a8\"], [0.3333333333333333, \"#9c179e\"], [0.4444444444444444, \"#bd3786\"], [0.5555555555555556, \"#d8576b\"], [0.6666666666666666, \"#ed7953\"], [0.7777777777777778, \"#fb9f3a\"], [0.8888888888888888, \"#fdca26\"], [1.0, \"#f0f921\"]], \"type\": \"histogram2d\"}], \"histogram2dcontour\": [{\"colorbar\": {\"outlinewidth\": 0, \"ticks\": \"\"}, \"colorscale\": [[0.0, \"#0d0887\"], [0.1111111111111111, \"#46039f\"], [0.2222222222222222, \"#7201a8\"], [0.3333333333333333, \"#9c179e\"], [0.4444444444444444, \"#bd3786\"], [0.5555555555555556, \"#d8576b\"], [0.6666666666666666, \"#ed7953\"], [0.7777777777777778, \"#fb9f3a\"], [0.8888888888888888, \"#fdca26\"], [1.0, \"#f0f921\"]], \"type\": \"histogram2dcontour\"}], \"mesh3d\": [{\"colorbar\": {\"outlinewidth\": 0, \"ticks\": \"\"}, \"type\": \"mesh3d\"}], \"parcoords\": [{\"line\": {\"colorbar\": {\"outlinewidth\": 0, \"ticks\": \"\"}}, \"type\": \"parcoords\"}], \"pie\": [{\"automargin\": true, \"type\": \"pie\"}], \"scatter\": [{\"marker\": {\"colorbar\": {\"outlinewidth\": 0, \"ticks\": \"\"}}, \"type\": \"scatter\"}], \"scatter3d\": [{\"line\": {\"colorbar\": {\"outlinewidth\": 0, \"ticks\": \"\"}}, \"marker\": {\"colorbar\": {\"outlinewidth\": 0, \"ticks\": \"\"}}, \"type\": \"scatter3d\"}], \"scattercarpet\": [{\"marker\": {\"colorbar\": {\"outlinewidth\": 0, \"ticks\": \"\"}}, \"type\": \"scattercarpet\"}], \"scattergeo\": [{\"marker\": {\"colorbar\": {\"outlinewidth\": 0, \"ticks\": \"\"}}, \"type\": \"scattergeo\"}], \"scattergl\": [{\"marker\": {\"colorbar\": {\"outlinewidth\": 0, \"ticks\": \"\"}}, \"type\": \"scattergl\"}], \"scattermapbox\": [{\"marker\": {\"colorbar\": {\"outlinewidth\": 0, \"ticks\": \"\"}}, \"type\": \"scattermapbox\"}], \"scatterpolar\": [{\"marker\": {\"colorbar\": {\"outlinewidth\": 0, \"ticks\": \"\"}}, \"type\": \"scatterpolar\"}], \"scatterpolargl\": [{\"marker\": {\"colorbar\": {\"outlinewidth\": 0, \"ticks\": \"\"}}, \"type\": \"scatterpolargl\"}], \"scatterternary\": [{\"marker\": {\"colorbar\": {\"outlinewidth\": 0, \"ticks\": \"\"}}, \"type\": \"scatterternary\"}], \"surface\": [{\"colorbar\": {\"outlinewidth\": 0, \"ticks\": \"\"}, \"colorscale\": [[0.0, \"#0d0887\"], [0.1111111111111111, \"#46039f\"], [0.2222222222222222, \"#7201a8\"], [0.3333333333333333, \"#9c179e\"], [0.4444444444444444, \"#bd3786\"], [0.5555555555555556, \"#d8576b\"], [0.6666666666666666, \"#ed7953\"], [0.7777777777777778, \"#fb9f3a\"], [0.8888888888888888, \"#fdca26\"], [1.0, \"#f0f921\"]], \"type\": \"surface\"}], \"table\": [{\"cells\": {\"fill\": {\"color\": \"#EBF0F8\"}, \"line\": {\"color\": \"white\"}}, \"header\": {\"fill\": {\"color\": \"#C8D4E3\"}, \"line\": {\"color\": \"white\"}}, \"type\": \"table\"}]}, \"layout\": {\"annotationdefaults\": {\"arrowcolor\": \"#2a3f5f\", \"arrowhead\": 0, \"arrowwidth\": 1}, \"coloraxis\": {\"colorbar\": {\"outlinewidth\": 0, \"ticks\": \"\"}}, \"colorscale\": {\"diverging\": [[0, \"#8e0152\"], [0.1, \"#c51b7d\"], [0.2, \"#de77ae\"], [0.3, \"#f1b6da\"], [0.4, \"#fde0ef\"], [0.5, \"#f7f7f7\"], [0.6, \"#e6f5d0\"], [0.7, \"#b8e186\"], [0.8, \"#7fbc41\"], [0.9, \"#4d9221\"], [1, \"#276419\"]], \"sequential\": [[0.0, \"#0d0887\"], [0.1111111111111111, \"#46039f\"], [0.2222222222222222, \"#7201a8\"], [0.3333333333333333, \"#9c179e\"], [0.4444444444444444, \"#bd3786\"], [0.5555555555555556, \"#d8576b\"], [0.6666666666666666, \"#ed7953\"], [0.7777777777777778, \"#fb9f3a\"], [0.8888888888888888, \"#fdca26\"], [1.0, \"#f0f921\"]], \"sequentialminus\": [[0.0, \"#0d0887\"], [0.1111111111111111, \"#46039f\"], [0.2222222222222222, \"#7201a8\"], [0.3333333333333333, \"#9c179e\"], [0.4444444444444444, \"#bd3786\"], [0.5555555555555556, \"#d8576b\"], [0.6666666666666666, \"#ed7953\"], [0.7777777777777778, \"#fb9f3a\"], [0.8888888888888888, \"#fdca26\"], [1.0, \"#f0f921\"]]}, \"colorway\": [\"#636efa\", \"#EF553B\", \"#00cc96\", \"#ab63fa\", \"#FFA15A\", \"#19d3f3\", \"#FF6692\", \"#B6E880\", \"#FF97FF\", \"#FECB52\"], \"font\": {\"color\": \"#2a3f5f\"}, \"geo\": {\"bgcolor\": \"white\", \"lakecolor\": \"white\", \"landcolor\": \"#E5ECF6\", \"showlakes\": true, \"showland\": true, \"subunitcolor\": \"white\"}, \"hoverlabel\": {\"align\": \"left\"}, \"hovermode\": \"closest\", \"mapbox\": {\"style\": \"light\"}, \"paper_bgcolor\": \"white\", \"plot_bgcolor\": \"#E5ECF6\", \"polar\": {\"angularaxis\": {\"gridcolor\": \"white\", \"linecolor\": \"white\", \"ticks\": \"\"}, \"bgcolor\": \"#E5ECF6\", \"radialaxis\": {\"gridcolor\": \"white\", \"linecolor\": \"white\", \"ticks\": \"\"}}, \"scene\": {\"xaxis\": {\"backgroundcolor\": \"#E5ECF6\", \"gridcolor\": \"white\", \"gridwidth\": 2, \"linecolor\": \"white\", \"showbackground\": true, \"ticks\": \"\", \"zerolinecolor\": \"white\"}, \"yaxis\": {\"backgroundcolor\": \"#E5ECF6\", \"gridcolor\": \"white\", \"gridwidth\": 2, \"linecolor\": \"white\", \"showbackground\": true, \"ticks\": \"\", \"zerolinecolor\": \"white\"}, \"zaxis\": {\"backgroundcolor\": \"#E5ECF6\", \"gridcolor\": \"white\", \"gridwidth\": 2, \"linecolor\": \"white\", \"showbackground\": true, \"ticks\": \"\", \"zerolinecolor\": \"white\"}}, \"shapedefaults\": {\"line\": {\"color\": \"#2a3f5f\"}}, \"ternary\": {\"aaxis\": {\"gridcolor\": \"white\", \"linecolor\": \"white\", \"ticks\": \"\"}, \"baxis\": {\"gridcolor\": \"white\", \"linecolor\": \"white\", \"ticks\": \"\"}, \"bgcolor\": \"#E5ECF6\", \"caxis\": {\"gridcolor\": \"white\", \"linecolor\": \"white\", \"ticks\": \"\"}}, \"title\": {\"x\": 0.05}, \"xaxis\": {\"automargin\": true, \"gridcolor\": \"white\", \"linecolor\": \"white\", \"ticks\": \"\", \"title\": {\"standoff\": 15}, \"zerolinecolor\": \"white\", \"zerolinewidth\": 2}, \"yaxis\": {\"automargin\": true, \"gridcolor\": \"white\", \"linecolor\": \"white\", \"ticks\": \"\", \"title\": {\"standoff\": 15}, \"zerolinecolor\": \"white\", \"zerolinewidth\": 2}}}, \"title\": {\"text\": \"Rapgef2: Adult mouse, Single Cell, Allen Transcriptomics\"}, \"width\": 1000, \"xaxis\": {\"anchor\": \"y\", \"categoryorder\": \"total descending\", \"domain\": [0.0, 1.0], \"title\": {\"text\": \"Cell Type\"}}, \"yaxis\": {\"anchor\": \"x\", \"domain\": [0.0, 1.0], \"title\": {\"text\": \"Expression\"}}},\n",
       "                        {\"responsive\": true}\n",
       "                    ).then(function(){\n",
       "                            \n",
       "var gd = document.getElementById('000189f3-68a1-46d4-bd68-683f9415edcf');\n",
       "var x = new MutationObserver(function (mutations, observer) {{\n",
       "        var display = window.getComputedStyle(gd).display;\n",
       "        if (!display || display === 'none') {{\n",
       "            console.log([gd, 'removed!']);\n",
       "            Plotly.purge(gd);\n",
       "            observer.disconnect();\n",
       "        }}\n",
       "}});\n",
       "\n",
       "// Listen for the removal of the full notebook cells\n",
       "var notebookContainer = gd.closest('#notebook-container');\n",
       "if (notebookContainer) {{\n",
       "    x.observe(notebookContainer, {childList: true});\n",
       "}}\n",
       "\n",
       "// Listen for the clearing of the current output cell\n",
       "var outputEl = gd.closest('.output');\n",
       "if (outputEl) {{\n",
       "    x.observe(outputEl, {childList: true});\n",
       "}}\n",
       "\n",
       "                        })\n",
       "                };\n",
       "                });\n",
       "            </script>\n",
       "        </div>"
      ]
     },
     "metadata": {},
     "output_type": "display_data"
    },
    {
     "data": {
      "application/vnd.plotly.v1+json": {
       "config": {
        "plotlyServerURL": "https://plot.ly"
       },
       "data": [
        {
         "cells": {
          "align": "left",
          "fill": {
           "color": "lavender"
          },
          "values": [
           [
            "108_Pvalb",
            "229_L6 IT CTX",
            "67_Sst",
            "6_Lamp5 Lhx6",
            "111_Pvalb",
            "293_CA3",
            "323_L6 CT CTX",
            "17_Pax6",
            "261_L6 Car3",
            "289_CA1",
            "219_L6 IT CTX",
            "227_L6 IT CTX",
            "334_L6b/CT ENT",
            "117_Pvalb",
            "212_L5 IT TPE-ENT",
            "266_SUB-ProS",
            "295_CA3",
            "372_SMC",
            "59_Vip",
            "66_Sst",
            "223_L6 IT CTX",
            "22_Ndnf HPF",
            "131_L2 IT RSPv",
            "13_Lamp5",
            "216_L5/6 IT CTX",
            "306_L5 NP CTX",
            "336_L6b/CT ENT",
            "86_Sst",
            "4_Lamp5 Lhx6",
            "65_Sst",
            "350_L6b CTX",
            "142_L3 IT ENTm",
            "324_L6 CT CTX",
            "187_L2/3 IT CTX",
            "253_L5 PT CTX",
            "32_Sncg",
            "119_Pvalb Vipr2",
            "235_L3 RSP-ACA",
            "327_L6 CT CTX",
            "75_Sst",
            "356_Astro",
            "159_L2/3 IT ENTl",
            "272_ProS",
            "329_L6 CT CTX",
            "182_L2/3 IT CTX",
            "251_L5 PT CTX",
            "378_Micro",
            "71_Sst",
            "339_L6b CTX",
            "84_Sst",
            "135_L2/3 IT PPP",
            "80_Sst",
            "46_Vip",
            "184_L2/3 IT TPE",
            "3_Lamp5 Lhx6",
            "85_Sst",
            "222_L6 IT CTX",
            "368_Oligo",
            "114_Pvalb",
            "239_L5 PT CTX",
            "23_Ndnf HPF",
            "283_CA1",
            "58_Vip",
            "179_L2/3 IT CTX",
            "294_CA3",
            "307_L5 NP CTX",
            "11_Lamp5",
            "18_Pax6",
            "278_CA1-ProS",
            "316_NP SUB",
            "353_NP PPP",
            "371_Peri",
            "52_Vip",
            "221_L6 IT CTX",
            "31_Sncg",
            "35_Sncg",
            null,
            "326_L6 CT CTX",
            "331_L6 CT ENTm",
            "276_CA1-ProS",
            "325_L6 CT CTX",
            "100_Sst",
            "274_CA1-ProS",
            "43_Vip",
            "176_L2/3 IT CTX",
            "19_Pax6",
            "224_L6 IT CTX",
            "29_Sncg",
            "322_L6 CT CTX",
            "14_Lamp5",
            "363_Oligo",
            "37_Sncg",
            "83_Sst",
            "238_L5 PT CTX",
            "165_L2/3 IT ENTl",
            "319_CT SUB",
            "12_Lamp5",
            "264_SUB",
            "27_Sncg",
            "15_Lamp5",
            "207_L5 IT CTX",
            "39_Lamp5",
            "115_Pvalb",
            "355_V3d",
            "105_Pvalb",
            "287_CA1",
            "136_L2/3 IT PPP",
            "302_CA2-IG-FC",
            "61_Sst Chodl",
            "178_L2/3 IT CTX",
            "189_L4/5 IT CTX",
            "296_CA3",
            "305_L5 NP CTX",
            "359_OPC",
            "304_L5 NP CTX",
            "246_L5 PT CTX",
            "68_Sst",
            "197_L4/5 IT CTX",
            "107_Pvalb",
            "183_L2/3 IT CTX",
            "2_Meis2",
            "315_NP SUB",
            "259_L6 Car3",
            "279_CA1",
            "30_Sncg",
            "41_Vip",
            "300_CA3",
            "54_Vip",
            "186_L2 IT RSP-ACA",
            "163_L2/3 IT ENTl",
            "36_Sncg",
            "123_DG",
            "130_L2 IT RSPv",
            "242_L5 PT CTX",
            "260_L6 Car3",
            "237_L5 PT CTX",
            "255_L5 PT RSP-ACA",
            "263_SUB",
            "146_L3 IT ENTl",
            "258_L6 Car3",
            "351_L6b CTX",
            "240_L5 PT CTX",
            "76_Sst",
            "116_Pvalb",
            "1_CR",
            "215_L5/6 IT CTX",
            "133_L2/3 IT PPP",
            "271_ProS",
            "311_L6 NP CT CTX",
            "313_NP SUB",
            "96_Sst",
            "128_L2/3 IT APr",
            "376_VLMC",
            "343_L6b CTX",
            "110_Pvalb",
            "173_L2/3 IT ENTl",
            "125_DG",
            "188_L4/5 IT CTX",
            "243_L5 PT CTX",
            "301_CA2-IG-FC",
            "361_Oligo",
            "374_VLMC",
            "379_PVM",
            "140_L3 IT ENTm",
            "292_CA3",
            "308_L5 NP CTX",
            "10_Lamp5",
            "164_L2/3 IT ENTl",
            "194_L4/5 IT CTX",
            "233_L6 IT ENTl",
            "317_CT SUB",
            "57_Vip",
            "291_CA3",
            "94_Sst",
            "129_L2/3 IT APr",
            "155_L2 IT ProS",
            "202_L4/5 IT TPE-ENT",
            "220_L6 IT CTX",
            "40_Vip",
            "193_L4/5 IT CTX",
            "297_CA3",
            "275_CA1-ProS",
            "346_L6b CTX",
            "121_DG",
            "148_L2 IT PAR",
            "232_L6 IT ENTl",
            "254_L5 PT CTX",
            "74_Sst",
            "225_L6 IT CTX",
            "195_L4/5 IT CTX",
            "290_CA1",
            "321_L6 CT CTX",
            "45_Vip",
            "87_Sst",
            "338_L6b CTX",
            "82_Sst",
            "342_L6b RHP",
            "8_Lamp5",
            "192_L4/5 IT CTX",
            "26_Sncg",
            "95_Sst",
            "341_L6b CTX",
            "98_Sst",
            "358_Astro",
            "360_OPC",
            "156_L2 IT ProS",
            "347_L6b CTX",
            "9_Lamp5",
            "120_DG",
            "147_L2 IT PAR",
            "236_L3 RSP-ACA",
            "270_ProS",
            "38_Sncg",
            "268_ProS",
            "102_Sst",
            "231_L6 IT CTX",
            "70_Sst",
            "79_Sst",
            "88_Sst",
            "252_L5 PT CTX",
            "101_Sst",
            "103_Sst",
            "213_L5 IT TPE-ENT",
            "277_CA1-ProS",
            "196_L4/5 IT CTX",
            "25_Sncg",
            "33_Sncg",
            "166_L2/3 IT ENTl",
            "230_L6 IT CTX",
            "78_Sst",
            "330_L6 CT CTX",
            "352_NP PPP",
            "354_NP PPP",
            "97_Sst",
            "161_L2/3 IT ENTl",
            "180_L2/3 IT CTX",
            "28_Sncg",
            "93_Sst",
            "366_Oligo",
            "335_L6b/CT ENT",
            "60_Sst Chodl",
            "144_L3 IT ENTl",
            "69_Sst",
            "150_L2 IT ENTm",
            "162_L2/3 IT ENTl",
            "280_CA1",
            "288_CA1",
            "218_L5/6 IT CTX",
            "44_Vip",
            "109_Pvalb",
            "5_Lamp5 Lhx6",
            "310_L5 NP CTX",
            "318_CT SUB",
            "217_L5/6 IT CTX",
            "262_L6 Car3",
            "151_L2 IT ENTm",
            "167_L2/3 IT ENTl",
            "175_L2/3 IT CTX",
            "20_Ndnf HPF",
            "269_ProS",
            "191_L4/5 IT CTX",
            "205_L5 IT CTX",
            "364_Oligo",
            "49_Vip",
            "132_L2/3 IT PPP",
            "16_Lamp5",
            "309_L5 NP CTX",
            "55_Vip",
            "63_Sst Chodl",
            "200_L4/5 IT CTX",
            "158_L2/3 IT ENTl",
            "284_CA1",
            "203_L5 IT CTX",
            "285_CA1",
            "73_Sst",
            "328_L6 CT CTX",
            "369_Endo",
            "160_L2/3 IT ENTl",
            "344_L6b RHP",
            "367_Oligo",
            "134_L2/3 IT PPP",
            "206_L5 IT CTX",
            "265_SUB",
            "267_SUB-ProS",
            "21_Ndnf HPF",
            "47_Vip",
            "198_L4/5 IT CTX",
            "204_L5 IT CTX",
            "91_Sst",
            "208_L5 IT CTX",
            "89_Sst",
            "172_L2/3 IT CTX",
            "281_CA1",
            "282_CA1",
            "320_L6 CT CTX",
            "42_Vip",
            "137_L2 IT ENTl",
            "214_L5/6 IT CTX",
            "51_Vip",
            "170_L2/3 IT CTX",
            "211_L5 IT TPE-ENT",
            "106_Pvalb",
            "249_L5 PT CTX",
            "34_Sncg",
            "373_SMC",
            "113_Pvalb",
            "247_L5 PT CTX",
            "62_Sst Chodl",
            "127_L2/3 IT APr",
            "174_L2/3 IT CTX",
            "377_Micro",
            "153_L2 IT ENTm",
            "250_L5 PT CTX",
            "333_L6b/CT ENT",
            "64_Sst",
            "362_Oligo",
            "48_Vip",
            "228_L6 IT RHP",
            "244_L5 PT CTX",
            "92_Sst",
            "112_Pvalb",
            "241_L5 PT CTX",
            "53_Vip",
            "157_L2 IT HATA",
            "171_L2/3 IT CTX",
            "7_Lamp5",
            "90_Sst",
            "248_L5 PT CTX",
            "365_Oligo",
            "375_VLMC",
            "56_Vip",
            "77_Sst",
            "141_L3 IT ENTm",
            "177_L2/3 IT CTX",
            "81_Sst",
            "152_L2 IT ENTm",
            "209_L5 IT TPE-ENT",
            "154_L2 IT ProS",
            "24_Ndnf HPF",
            "299_CA3",
            "312_NP SUB",
            "337_L6b/CT ENT",
            "99_Sst",
            "124_DG",
            "143_L3 IT ENTm",
            "349_L6b CTX",
            "72_Sst",
            "122_DG",
            "286_CA1",
            "332_L6 CT ENTm",
            "348_L6b CTX",
            "145_L3 IT ENTl",
            "201_L4/5 IT TPE-ENT",
            "226_L6 IT CTX",
            "256_L5 PT RSP-ACA",
            "50_Vip",
            "126_L2/3 IT APr",
            "190_L4/5 IT CTX",
            "298_CA3",
            "314_NP SUB",
            "340_L6b CTX",
            "139_L2 IT ENTl",
            "210_L5 IT TPE-ENT",
            "370_Endo",
            "257_L5 PPP",
            "273_CA1-ProS",
            "138_L2 IT ENTl"
           ],
           [
            "Pvalb",
            "L6 IT CTX",
            "Sst",
            "Lamp5 Lhx6",
            "Pvalb",
            "CA3",
            "L6 CT CTX",
            "Pax6",
            "L6 Car3",
            "CA1",
            "L6 IT CTX",
            "L6 IT CTX",
            "L6b/CT ENT",
            "Pvalb",
            "L5 IT TPE-ENT",
            "SUB-ProS",
            "CA3",
            "SMC",
            "Vip",
            "Sst",
            "L6 IT CTX",
            "Ndnf HPF",
            "L2 IT RSPv",
            "Lamp5",
            "L5/6 IT CTX",
            "L5 NP CTX",
            "L6b/CT ENT",
            "Sst",
            "Lamp5 Lhx6",
            "Sst",
            "L6b CTX",
            "L3 IT ENTm",
            "L6 CT CTX",
            "L2/3 IT CTX",
            "L5 PT CTX",
            "Sncg",
            "Pvalb Vipr2",
            "L3 RSP-ACA",
            "L6 CT CTX",
            "Sst",
            "Astro",
            "L2/3 IT ENTl",
            "ProS",
            "L6 CT CTX",
            "L2/3 IT CTX",
            "L5 PT CTX",
            "Micro",
            "Sst",
            "L6b CTX",
            "Sst",
            "L2/3 IT PPP",
            "Sst",
            "Vip",
            "L2/3 IT TPE",
            "Lamp5 Lhx6",
            "Sst",
            "L6 IT CTX",
            "Oligo",
            "Pvalb",
            "L5 PT CTX",
            "Ndnf HPF",
            "CA1",
            "Vip",
            "L2/3 IT CTX",
            "CA3",
            "L5 NP CTX",
            "Lamp5",
            "Pax6",
            "CA1-ProS",
            "NP SUB",
            "NP PPP",
            "Peri",
            "Vip",
            "L6 IT CTX",
            "Sncg",
            "Sncg",
            "",
            "L6 CT CTX",
            "L6 CT ENTm",
            "CA1-ProS",
            "L6 CT CTX",
            "Sst",
            "CA1-ProS",
            "Vip",
            "L2/3 IT CTX",
            "Pax6",
            "L6 IT CTX",
            "Sncg",
            "L6 CT CTX",
            "Lamp5",
            "Oligo",
            "Sncg",
            "Sst",
            "L5 PT CTX",
            "L2/3 IT ENTl",
            "CT SUB",
            "Lamp5",
            "SUB",
            "Sncg",
            "Lamp5",
            "L5 IT CTX",
            "Lamp5",
            "Pvalb",
            "V3d",
            "Pvalb",
            "CA1",
            "L2/3 IT PPP",
            "CA2-IG-FC",
            "Sst Chodl",
            "L2/3 IT CTX",
            "L4/5 IT CTX",
            "CA3",
            "L5 NP CTX",
            "OPC",
            "L5 NP CTX",
            "L5 PT CTX",
            "Sst",
            "L4/5 IT CTX",
            "Pvalb",
            "L2/3 IT CTX",
            "Meis2",
            "NP SUB",
            "L6 Car3",
            "CA1",
            "Sncg",
            "Vip",
            "CA3",
            "Vip",
            "L2 IT RSP-ACA",
            "L2/3 IT ENTl",
            "Sncg",
            "DG",
            "L2 IT RSPv",
            "L5 PT CTX",
            "L6 Car3",
            "L5 PT CTX",
            "L5 PT RSP-ACA",
            "SUB",
            "L3 IT ENTl",
            "L6 Car3",
            "L6b CTX",
            "L5 PT CTX",
            "Sst",
            "Pvalb",
            "CR",
            "L5/6 IT CTX",
            "L2/3 IT PPP",
            "ProS",
            "L6 NP CT CTX",
            "NP SUB",
            "Sst",
            "L2/3 IT APr",
            "VLMC",
            "L6b CTX",
            "Pvalb",
            "L2/3 IT ENTl",
            "DG",
            "L4/5 IT CTX",
            "L5 PT CTX",
            "CA2-IG-FC",
            "Oligo",
            "VLMC",
            "PVM",
            "L3 IT ENTm",
            "CA3",
            "L5 NP CTX",
            "Lamp5",
            "L2/3 IT ENTl",
            "L4/5 IT CTX",
            "L6 IT ENTl",
            "CT SUB",
            "Vip",
            "CA3",
            "Sst",
            "L2/3 IT APr",
            "L2 IT ProS",
            "L4/5 IT TPE-ENT",
            "L6 IT CTX",
            "Vip",
            "L4/5 IT CTX",
            "CA3",
            "CA1-ProS",
            "L6b CTX",
            "DG",
            "L2 IT PAR",
            "L6 IT ENTl",
            "L5 PT CTX",
            "Sst",
            "L6 IT CTX",
            "L4/5 IT CTX",
            "CA1",
            "L6 CT CTX",
            "Vip",
            "Sst",
            "L6b CTX",
            "Sst",
            "L6b RHP",
            "Lamp5",
            "L4/5 IT CTX",
            "Sncg",
            "Sst",
            "L6b CTX",
            "Sst",
            "Astro",
            "OPC",
            "L2 IT ProS",
            "L6b CTX",
            "Lamp5",
            "DG",
            "L2 IT PAR",
            "L3 RSP-ACA",
            "ProS",
            "Sncg",
            "ProS",
            "Sst",
            "L6 IT CTX",
            "Sst",
            "Sst",
            "Sst",
            "L5 PT CTX",
            "Sst",
            "Sst",
            "L5 IT TPE-ENT",
            "CA1-ProS",
            "L4/5 IT CTX",
            "Sncg",
            "Sncg",
            "L2/3 IT ENTl",
            "L6 IT CTX",
            "Sst",
            "L6 CT CTX",
            "NP PPP",
            "NP PPP",
            "Sst",
            "L2/3 IT ENTl",
            "L2/3 IT CTX",
            "Sncg",
            "Sst",
            "Oligo",
            "L6b/CT ENT",
            "Sst Chodl",
            "L3 IT ENTl",
            "Sst",
            "L2 IT ENTm",
            "L2/3 IT ENTl",
            "CA1",
            "CA1",
            "L5/6 IT CTX",
            "Vip",
            "Pvalb",
            "Lamp5 Lhx6",
            "L5 NP CTX",
            "CT SUB",
            "L5/6 IT CTX",
            "L6 Car3",
            "L2 IT ENTm",
            "L2/3 IT ENTl",
            "L2/3 IT CTX",
            "Ndnf HPF",
            "ProS",
            "L4/5 IT CTX",
            "L5 IT CTX",
            "Oligo",
            "Vip",
            "L2/3 IT PPP",
            "Lamp5",
            "L5 NP CTX",
            "Vip",
            "Sst Chodl",
            "L4/5 IT CTX",
            "L2/3 IT ENTl",
            "CA1",
            "L5 IT CTX",
            "CA1",
            "Sst",
            "L6 CT CTX",
            "Endo",
            "L2/3 IT ENTl",
            "L6b RHP",
            "Oligo",
            "L2/3 IT PPP",
            "L5 IT CTX",
            "SUB",
            "SUB-ProS",
            "Ndnf HPF",
            "Vip",
            "L4/5 IT CTX",
            "L5 IT CTX",
            "Sst",
            "L5 IT CTX",
            "Sst",
            "L2/3 IT CTX",
            "CA1",
            "CA1",
            "L6 CT CTX",
            "Vip",
            "L2 IT ENTl",
            "L5/6 IT CTX",
            "Vip",
            "L2/3 IT CTX",
            "L5 IT TPE-ENT",
            "Pvalb",
            "L5 PT CTX",
            "Sncg",
            "SMC",
            "Pvalb",
            "L5 PT CTX",
            "Sst Chodl",
            "L2/3 IT APr",
            "L2/3 IT CTX",
            "Micro",
            "L2 IT ENTm",
            "L5 PT CTX",
            "L6b/CT ENT",
            "Sst",
            "Oligo",
            "Vip",
            "L6 IT RHP",
            "L5 PT CTX",
            "Sst",
            "Pvalb",
            "L5 PT CTX",
            "Vip",
            "L2 IT HATA",
            "L2/3 IT CTX",
            "Lamp5",
            "Sst",
            "L5 PT CTX",
            "Oligo",
            "VLMC",
            "Vip",
            "Sst",
            "L3 IT ENTm",
            "L2/3 IT CTX",
            "Sst",
            "L2 IT ENTm",
            "L5 IT TPE-ENT",
            "L2 IT ProS",
            "Ndnf HPF",
            "CA3",
            "NP SUB",
            "L6b/CT ENT",
            "Sst",
            "DG",
            "L3 IT ENTm",
            "L6b CTX",
            "Sst",
            "DG",
            "CA1",
            "L6 CT ENTm",
            "L6b CTX",
            "L3 IT ENTl",
            "L4/5 IT TPE-ENT",
            "L6 IT CTX",
            "L5 PT RSP-ACA",
            "Vip",
            "L2/3 IT APr",
            "L4/5 IT CTX",
            "CA3",
            "NP SUB",
            "L6b CTX",
            "L2 IT ENTl",
            "L5 IT TPE-ENT",
            "Endo",
            "L5 PPP",
            "CA1-ProS",
            "L2 IT ENTl"
           ],
           [
            "Inhibitory",
            "Excitatory",
            "Inhibitory",
            "Inhibitory",
            "Inhibitory",
            "Excitatory",
            "Excitatory",
            "Excitatory",
            "Excitatory",
            "Excitatory",
            "Excitatory",
            "Excitatory",
            "Excitatory",
            "Inhibitory",
            "Excitatory",
            "Excitatory",
            "Excitatory",
            "Non-Neuronal",
            "Inhibitory",
            "Inhibitory",
            "Excitatory",
            "Unknown",
            "Excitatory",
            "Inhibitory",
            "Excitatory",
            "Excitatory",
            "Excitatory",
            "Inhibitory",
            "Inhibitory",
            "Inhibitory",
            "Excitatory",
            "Excitatory",
            "Excitatory",
            "Excitatory",
            "Excitatory",
            "Inhibitory",
            "Inhibitory",
            "Excitatory",
            "Excitatory",
            "Inhibitory",
            "Non-Neuronal",
            "Excitatory",
            "Excitatory",
            "Excitatory",
            "Excitatory",
            "Excitatory",
            "Non-Neuronal",
            "Inhibitory",
            "Excitatory",
            "Inhibitory",
            "Excitatory",
            "Inhibitory",
            "Inhibitory",
            "Excitatory",
            "Inhibitory",
            "Inhibitory",
            "Excitatory",
            "Non-Neuronal",
            "Inhibitory",
            "Excitatory",
            "Unknown",
            "Excitatory",
            "Inhibitory",
            "Excitatory",
            "Excitatory",
            "Excitatory",
            "Inhibitory",
            "Excitatory",
            "Excitatory",
            "Excitatory",
            "Unknown",
            "Non-Neuronal",
            "Inhibitory",
            "Excitatory",
            "Inhibitory",
            "Inhibitory",
            "Unknown",
            "Excitatory",
            "Excitatory",
            "Excitatory",
            "Excitatory",
            "Inhibitory",
            "Excitatory",
            "Inhibitory",
            "Excitatory",
            "Excitatory",
            "Excitatory",
            "Inhibitory",
            "Excitatory",
            "Inhibitory",
            "Non-Neuronal",
            "Inhibitory",
            "Inhibitory",
            "Excitatory",
            "Excitatory",
            "Excitatory",
            "Inhibitory",
            "Excitatory",
            "Inhibitory",
            "Inhibitory",
            "Excitatory",
            "Inhibitory",
            "Inhibitory",
            "Unknown",
            "Inhibitory",
            "Excitatory",
            "Excitatory",
            "Excitatory",
            "Inhibitory",
            "Excitatory",
            "Excitatory",
            "Excitatory",
            "Excitatory",
            "Non-Neuronal",
            "Excitatory",
            "Excitatory",
            "Inhibitory",
            "Excitatory",
            "Inhibitory",
            "Excitatory",
            "Inhibitory",
            "Excitatory",
            "Excitatory",
            "Excitatory",
            "Inhibitory",
            "Inhibitory",
            "Excitatory",
            "Inhibitory",
            "Excitatory",
            "Excitatory",
            "Inhibitory",
            "Excitatory",
            "Excitatory",
            "Excitatory",
            "Excitatory",
            "Excitatory",
            "Excitatory",
            "Excitatory",
            "Excitatory",
            "Excitatory",
            "Excitatory",
            "Excitatory",
            "Inhibitory",
            "Inhibitory",
            "Non-Neuronal",
            "Excitatory",
            "Excitatory",
            "Excitatory",
            "Excitatory",
            "Excitatory",
            "Inhibitory",
            "Excitatory",
            "Non-Neuronal",
            "Excitatory",
            "Inhibitory",
            "Excitatory",
            "Excitatory",
            "Excitatory",
            "Excitatory",
            "Excitatory",
            "Non-Neuronal",
            "Non-Neuronal",
            "Non-Neuronal",
            "Excitatory",
            "Excitatory",
            "Excitatory",
            "Inhibitory",
            "Excitatory",
            "Excitatory",
            "Excitatory",
            "Excitatory",
            "Inhibitory",
            "Excitatory",
            "Inhibitory",
            "Excitatory",
            "Excitatory",
            "Excitatory",
            "Excitatory",
            "Inhibitory",
            "Excitatory",
            "Excitatory",
            "Excitatory",
            "Excitatory",
            "Excitatory",
            "Excitatory",
            "Excitatory",
            "Excitatory",
            "Inhibitory",
            "Excitatory",
            "Excitatory",
            "Excitatory",
            "Excitatory",
            "Inhibitory",
            "Inhibitory",
            "Excitatory",
            "Inhibitory",
            "Excitatory",
            "Inhibitory",
            "Excitatory",
            "Inhibitory",
            "Inhibitory",
            "Excitatory",
            "Inhibitory",
            "Non-Neuronal",
            "Non-Neuronal",
            "Excitatory",
            "Excitatory",
            "Inhibitory",
            "Excitatory",
            "Excitatory",
            "Excitatory",
            "Excitatory",
            "Inhibitory",
            "Excitatory",
            "Inhibitory",
            "Excitatory",
            "Inhibitory",
            "Inhibitory",
            "Inhibitory",
            "Excitatory",
            "Inhibitory",
            "Inhibitory",
            "Excitatory",
            "Excitatory",
            "Excitatory",
            "Inhibitory",
            "Inhibitory",
            "Excitatory",
            "Excitatory",
            "Inhibitory",
            "Excitatory",
            "Unknown",
            "Unknown",
            "Inhibitory",
            "Excitatory",
            "Excitatory",
            "Inhibitory",
            "Inhibitory",
            "Non-Neuronal",
            "Excitatory",
            "Inhibitory",
            "Excitatory",
            "Inhibitory",
            "Excitatory",
            "Excitatory",
            "Excitatory",
            "Excitatory",
            "Excitatory",
            "Inhibitory",
            "Inhibitory",
            "Inhibitory",
            "Excitatory",
            "Excitatory",
            "Excitatory",
            "Excitatory",
            "Excitatory",
            "Excitatory",
            "Excitatory",
            "Unknown",
            "Excitatory",
            "Excitatory",
            "Excitatory",
            "Non-Neuronal",
            "Inhibitory",
            "Excitatory",
            "Inhibitory",
            "Excitatory",
            "Inhibitory",
            "Inhibitory",
            "Excitatory",
            "Excitatory",
            "Excitatory",
            "Excitatory",
            "Excitatory",
            "Inhibitory",
            "Excitatory",
            "Non-Neuronal",
            "Excitatory",
            "Excitatory",
            "Non-Neuronal",
            "Excitatory",
            "Excitatory",
            "Excitatory",
            "Excitatory",
            "Unknown",
            "Inhibitory",
            "Excitatory",
            "Excitatory",
            "Inhibitory",
            "Excitatory",
            "Inhibitory",
            "Excitatory",
            "Excitatory",
            "Excitatory",
            "Excitatory",
            "Inhibitory",
            "Excitatory",
            "Excitatory",
            "Inhibitory",
            "Excitatory",
            "Excitatory",
            "Inhibitory",
            "Excitatory",
            "Inhibitory",
            "Non-Neuronal",
            "Inhibitory",
            "Excitatory",
            "Inhibitory",
            "Excitatory",
            "Excitatory",
            "Non-Neuronal",
            "Excitatory",
            "Excitatory",
            "Excitatory",
            "Inhibitory",
            "Non-Neuronal",
            "Inhibitory",
            "Excitatory",
            "Excitatory",
            "Inhibitory",
            "Inhibitory",
            "Excitatory",
            "Inhibitory",
            "Excitatory",
            "Excitatory",
            "Inhibitory",
            "Inhibitory",
            "Excitatory",
            "Non-Neuronal",
            "Non-Neuronal",
            "Inhibitory",
            "Inhibitory",
            "Excitatory",
            "Excitatory",
            "Inhibitory",
            "Excitatory",
            "Excitatory",
            "Excitatory",
            "Unknown",
            "Excitatory",
            "Excitatory",
            "Excitatory",
            "Inhibitory",
            "Excitatory",
            "Excitatory",
            "Excitatory",
            "Inhibitory",
            "Excitatory",
            "Excitatory",
            "Excitatory",
            "Excitatory",
            "Excitatory",
            "Excitatory",
            "Excitatory",
            "Excitatory",
            "Inhibitory",
            "Excitatory",
            "Excitatory",
            "Excitatory",
            "Excitatory",
            "Excitatory",
            "Excitatory",
            "Excitatory",
            "Non-Neuronal",
            "Excitatory",
            "Excitatory",
            "Excitatory"
           ],
           [
            "Rapgef2",
            "Rapgef2",
            "Rapgef2",
            "Rapgef2",
            "Rapgef2",
            "Rapgef2",
            "Rapgef2",
            "Rapgef2",
            "Rapgef2",
            "Rapgef2",
            "Rapgef2",
            "Rapgef2",
            "Rapgef2",
            "Rapgef2",
            "Rapgef2",
            "Rapgef2",
            "Rapgef2",
            "Rapgef2",
            "Rapgef2",
            "Rapgef2",
            "Rapgef2",
            "Rapgef2",
            "Rapgef2",
            "Rapgef2",
            "Rapgef2",
            "Rapgef2",
            "Rapgef2",
            "Rapgef2",
            "Rapgef2",
            "Rapgef2",
            "Rapgef2",
            "Rapgef2",
            "Rapgef2",
            "Rapgef2",
            "Rapgef2",
            "Rapgef2",
            "Rapgef2",
            "Rapgef2",
            "Rapgef2",
            "Rapgef2",
            "Rapgef2",
            "Rapgef2",
            "Rapgef2",
            "Rapgef2",
            "Rapgef2",
            "Rapgef2",
            "Rapgef2",
            "Rapgef2",
            "Rapgef2",
            "Rapgef2",
            "Rapgef2",
            "Rapgef2",
            "Rapgef2",
            "Rapgef2",
            "Rapgef2",
            "Rapgef2",
            "Rapgef2",
            "Rapgef2",
            "Rapgef2",
            "Rapgef2",
            "Rapgef2",
            "Rapgef2",
            "Rapgef2",
            "Rapgef2",
            "Rapgef2",
            "Rapgef2",
            "Rapgef2",
            "Rapgef2",
            "Rapgef2",
            "Rapgef2",
            "Rapgef2",
            "Rapgef2",
            "Rapgef2",
            "Rapgef2",
            "Rapgef2",
            "Rapgef2",
            "Rapgef2",
            "Rapgef2",
            "Rapgef2",
            "Rapgef2",
            "Rapgef2",
            "Rapgef2",
            "Rapgef2",
            "Rapgef2",
            "Rapgef2",
            "Rapgef2",
            "Rapgef2",
            "Rapgef2",
            "Rapgef2",
            "Rapgef2",
            "Rapgef2",
            "Rapgef2",
            "Rapgef2",
            "Rapgef2",
            "Rapgef2",
            "Rapgef2",
            "Rapgef2",
            "Rapgef2",
            "Rapgef2",
            "Rapgef2",
            "Rapgef2",
            "Rapgef2",
            "Rapgef2",
            "Rapgef2",
            "Rapgef2",
            "Rapgef2",
            "Rapgef2",
            "Rapgef2",
            "Rapgef2",
            "Rapgef2",
            "Rapgef2",
            "Rapgef2",
            "Rapgef2",
            "Rapgef2",
            "Rapgef2",
            "Rapgef2",
            "Rapgef2",
            "Rapgef2",
            "Rapgef2",
            "Rapgef2",
            "Rapgef2",
            "Rapgef2",
            "Rapgef2",
            "Rapgef2",
            "Rapgef2",
            "Rapgef2",
            "Rapgef2",
            "Rapgef2",
            "Rapgef2",
            "Rapgef2",
            "Rapgef2",
            "Rapgef2",
            "Rapgef2",
            "Rapgef2",
            "Rapgef2",
            "Rapgef2",
            "Rapgef2",
            "Rapgef2",
            "Rapgef2",
            "Rapgef2",
            "Rapgef2",
            "Rapgef2",
            "Rapgef2",
            "Rapgef2",
            "Rapgef2",
            "Rapgef2",
            "Rapgef2",
            "Rapgef2",
            "Rapgef2",
            "Rapgef2",
            "Rapgef2",
            "Rapgef2",
            "Rapgef2",
            "Rapgef2",
            "Rapgef2",
            "Rapgef2",
            "Rapgef2",
            "Rapgef2",
            "Rapgef2",
            "Rapgef2",
            "Rapgef2",
            "Rapgef2",
            "Rapgef2",
            "Rapgef2",
            "Rapgef2",
            "Rapgef2",
            "Rapgef2",
            "Rapgef2",
            "Rapgef2",
            "Rapgef2",
            "Rapgef2",
            "Rapgef2",
            "Rapgef2",
            "Rapgef2",
            "Rapgef2",
            "Rapgef2",
            "Rapgef2",
            "Rapgef2",
            "Rapgef2",
            "Rapgef2",
            "Rapgef2",
            "Rapgef2",
            "Rapgef2",
            "Rapgef2",
            "Rapgef2",
            "Rapgef2",
            "Rapgef2",
            "Rapgef2",
            "Rapgef2",
            "Rapgef2",
            "Rapgef2",
            "Rapgef2",
            "Rapgef2",
            "Rapgef2",
            "Rapgef2",
            "Rapgef2",
            "Rapgef2",
            "Rapgef2",
            "Rapgef2",
            "Rapgef2",
            "Rapgef2",
            "Rapgef2",
            "Rapgef2",
            "Rapgef2",
            "Rapgef2",
            "Rapgef2",
            "Rapgef2",
            "Rapgef2",
            "Rapgef2",
            "Rapgef2",
            "Rapgef2",
            "Rapgef2",
            "Rapgef2",
            "Rapgef2",
            "Rapgef2",
            "Rapgef2",
            "Rapgef2",
            "Rapgef2",
            "Rapgef2",
            "Rapgef2",
            "Rapgef2",
            "Rapgef2",
            "Rapgef2",
            "Rapgef2",
            "Rapgef2",
            "Rapgef2",
            "Rapgef2",
            "Rapgef2",
            "Rapgef2",
            "Rapgef2",
            "Rapgef2",
            "Rapgef2",
            "Rapgef2",
            "Rapgef2",
            "Rapgef2",
            "Rapgef2",
            "Rapgef2",
            "Rapgef2",
            "Rapgef2",
            "Rapgef2",
            "Rapgef2",
            "Rapgef2",
            "Rapgef2",
            "Rapgef2",
            "Rapgef2",
            "Rapgef2",
            "Rapgef2",
            "Rapgef2",
            "Rapgef2",
            "Rapgef2",
            "Rapgef2",
            "Rapgef2",
            "Rapgef2",
            "Rapgef2",
            "Rapgef2",
            "Rapgef2",
            "Rapgef2",
            "Rapgef2",
            "Rapgef2",
            "Rapgef2",
            "Rapgef2",
            "Rapgef2",
            "Rapgef2",
            "Rapgef2",
            "Rapgef2",
            "Rapgef2",
            "Rapgef2",
            "Rapgef2",
            "Rapgef2",
            "Rapgef2",
            "Rapgef2",
            "Rapgef2",
            "Rapgef2",
            "Rapgef2",
            "Rapgef2",
            "Rapgef2",
            "Rapgef2",
            "Rapgef2",
            "Rapgef2",
            "Rapgef2",
            "Rapgef2",
            "Rapgef2",
            "Rapgef2",
            "Rapgef2",
            "Rapgef2",
            "Rapgef2",
            "Rapgef2",
            "Rapgef2",
            "Rapgef2",
            "Rapgef2",
            "Rapgef2",
            "Rapgef2",
            "Rapgef2",
            "Rapgef2",
            "Rapgef2",
            "Rapgef2",
            "Rapgef2",
            "Rapgef2",
            "Rapgef2",
            "Rapgef2",
            "Rapgef2",
            "Rapgef2",
            "Rapgef2",
            "Rapgef2",
            "Rapgef2",
            "Rapgef2",
            "Rapgef2",
            "Rapgef2",
            "Rapgef2",
            "Rapgef2",
            "Rapgef2",
            "Rapgef2",
            "Rapgef2",
            "Rapgef2",
            "Rapgef2",
            "Rapgef2",
            "Rapgef2",
            "Rapgef2",
            "Rapgef2",
            "Rapgef2",
            "Rapgef2",
            "Rapgef2",
            "Rapgef2",
            "Rapgef2",
            "Rapgef2",
            "Rapgef2",
            "Rapgef2",
            "Rapgef2",
            "Rapgef2",
            "Rapgef2",
            "Rapgef2",
            "Rapgef2",
            "Rapgef2",
            "Rapgef2",
            "Rapgef2",
            "Rapgef2",
            "Rapgef2",
            "Rapgef2",
            "Rapgef2",
            "Rapgef2",
            "Rapgef2",
            "Rapgef2",
            "Rapgef2",
            "Rapgef2",
            "Rapgef2",
            "Rapgef2",
            "Rapgef2",
            "Rapgef2",
            "Rapgef2",
            "Rapgef2",
            "Rapgef2",
            "Rapgef2",
            "Rapgef2",
            "Rapgef2",
            "Rapgef2",
            "Rapgef2",
            "Rapgef2",
            "Rapgef2",
            "Rapgef2",
            "Rapgef2",
            "Rapgef2",
            "Rapgef2",
            "Rapgef2",
            "Rapgef2",
            "Rapgef2",
            "Rapgef2",
            "Rapgef2"
           ],
           [
            4.6966795999999995,
            2.6759217,
            5.953242299999999,
            2.46774,
            4.665625599999999,
            6.243418,
            5.5523242999999995,
            5.4418635,
            5.086158,
            6.4654169999999995,
            5.375281299999999,
            6.3067236,
            5.9865127000000005,
            4.313212999999999,
            5.762633,
            5.465733,
            7.204391499999999,
            0.02187717,
            2.8062669999999996,
            5.4820437,
            5.944362,
            2.3484254,
            6.6436996,
            4.7944202,
            5.509567700000001,
            4.5595193,
            5.6129489999999995,
            4.721729799999999,
            1.7461456999999998,
            5.8911443,
            4.3967404000000005,
            5.644229,
            5.175231500000001,
            4.4667845,
            6.120343,
            5.0404024000000005,
            3.9215063999999997,
            5.047371,
            5.661402,
            4.672850599999999,
            0.518305,
            4.9935527,
            6.2061234,
            5.0748725,
            5.8679156,
            6.007839700000001,
            0.3928562,
            4.387013,
            5.148120400000001,
            5.585970400000001,
            6.3784657,
            5.7357087,
            4.973205999999999,
            6.3001914,
            2.43014,
            4.547855,
            6.2930126,
            0.33657247,
            4.843203,
            4.897032299999999,
            4.864262,
            5.8986425,
            2.6695116000000003,
            6.1578,
            7.048156,
            3.753378,
            4.9371795999999994,
            5.0058637,
            5.87102,
            5.1874638,
            5.432983999999999,
            2.5813146000000002,
            2.0897818,
            6.802680499999999,
            3.928611,
            4.543232,
            1.9158291,
            5.8015947,
            6.950625,
            5.8262362,
            5.3469596,
            4.739006,
            5.2762218,
            2.3468566,
            6.2911825,
            5.543636,
            6.3478959999999995,
            4.8091607000000005,
            2.4067632999999997,
            2.6637310000000003,
            3.3213220000000003,
            4.1420417,
            5.738788,
            5.1920657,
            6.2347345,
            5.782426999999999,
            5.027264,
            5.8232183,
            5.0725803,
            5.140037,
            5.4416385,
            4.9306865,
            4.699362799999999,
            0,
            3.9099607000000005,
            6.467939,
            5.9058523,
            6.4334335,
            4.546005,
            6.516129,
            5.622645400000001,
            6.786134,
            4.9275025999999995,
            1.8070084,
            4.7967796,
            6.3761887999999995,
            5.5503902,
            4.716044,
            4.1943445,
            6.072396299999999,
            2.921956,
            3.0185728,
            6.261009,
            6.175339,
            3.8996599,
            5.1659690000000005,
            6.844261599999999,
            2.713384,
            5.597196,
            5.661241,
            4.7400923,
            5.032541,
            6.149624299999999,
            6.15837,
            6.022864,
            5.1189876,
            5.688521,
            5.6292089999999995,
            5.16943,
            5.772263,
            4.270451,
            5.262034,
            5.577715400000001,
            5.275411,
            1.8571247,
            5.9682865,
            6.4744434,
            5.418145,
            4.784468700000001,
            4.966531,
            4.687515,
            6.493026,
            0,
            5.3856782999999995,
            4.577019,
            5.542383,
            6.2698092,
            5.614969,
            6.166136,
            6.5883656,
            0.89665496,
            1.2214931999999998,
            1.7989362000000002,
            5.4185653,
            6.8471613,
            5.059882,
            5.028757,
            5.572255999999999,
            2.583071,
            5.2988586,
            6.207814,
            1.3590378,
            6.2869209999999995,
            5.8739550000000005,
            6.5712223,
            7.311450999999999,
            5.0536113,
            5.92523,
            2.318373,
            5.8365593,
            6.8910884999999995,
            5.9843150000000005,
            5.284594,
            5.430473,
            5.3357773,
            5.5094129999999994,
            6.1462183,
            5.513267,
            6.812672599999999,
            5.568671,
            6.186176000000001,
            4.362938400000001,
            2.7013655,
            4.351694599999999,
            4.714322,
            5.984852,
            4.8596144,
            2.3847362999999997,
            5.7281904,
            5.068281,
            5.571569,
            4.780078400000001,
            4.8659887,
            0.113035865,
            1.9316357,
            4.2910705,
            4.9984226,
            4.459043,
            4.4285364000000005,
            5.562621,
            4.419676,
            5.5892158,
            3.341025,
            6.129828,
            4.594648,
            5.206561,
            5.0383463,
            5.657596,
            4.6710763,
            6.2811174,
            5.310309999999999,
            4.837817,
            5.358198000000001,
            6.013433,
            5.676183,
            4.7734933,
            4.1637797,
            5.1417836999999995,
            5.827000599999999,
            5.090715,
            5.210582,
            6.2722483,
            5.8966637,
            3.9951413000000002,
            6.0455666,
            6.609990600000001,
            2.3113217,
            5.688936,
            0.6401216,
            5.3102136,
            5.698872,
            5.3722067000000004,
            5.688322,
            5.312728400000001,
            5.2910733,
            6.4334636,
            6.3318305,
            6.280453,
            2.2088432,
            4.998747,
            2.2454419999999997,
            3.5120807000000003,
            4.722548000000001,
            6.4357557,
            5.4309087,
            6.3299685,
            6.1789665000000005,
            6.487275,
            4.59472,
            5.083696400000001,
            5.8070636,
            5.7520685,
            2.9676087000000004,
            4.036437,
            7.0833364,
            4.8153877,
            4.66716,
            2.7156773,
            4.395576,
            5.5796847000000005,
            3.0693848,
            6.594048,
            5.5135093,
            6.120719,
            5.0544415,
            5.839949,
            8.635946,
            5.364545,
            5.0948367,
            1.688192,
            6.8578563,
            6.0032024,
            6.1731067,
            5.274334400000001,
            4.195772,
            2.4297272999999997,
            5.654835,
            5.8040595,
            5.632029,
            5.020164,
            4.5952525,
            6.539643,
            5.9086823,
            6.685662299999999,
            5.528196299999999,
            2.6285496,
            5.736657599999999,
            6.659464999999999,
            3.1025019,
            6.446843599999999,
            6.1161017,
            4.4559736,
            2.4269385,
            4.369318499999999,
            0.42509028,
            4.849394,
            6.1797667,
            4.874755,
            5.7469397,
            6.956133,
            0.5686767,
            6.396283599999999,
            6.2807455,
            5.753315,
            5.8330283,
            0,
            1.9811323,
            6.209766,
            5.5780544,
            4.2697353,
            5.1705666,
            5.8851237,
            2.0931356,
            5.7313957,
            6.6409364,
            4.3261676,
            5.4875684,
            5.8874755,
            4.4805517,
            1.2228909,
            4.798344999999999,
            5.5808444,
            5.4285903,
            6.5010943,
            5.83122,
            7.0418825,
            5.4304,
            5.5344777,
            4.523839,
            6.8590800000000005,
            5.642002,
            5.651528,
            4.1489053,
            6.421975,
            5.3328767,
            3.716526,
            5.673822400000001,
            5.2513723,
            5.726869000000001,
            6.6332759999999995,
            3.6602282999999995,
            2.2815950000000003,
            5.021555,
            6.2099247,
            6.211377,
            2.956829,
            6.014390000000001,
            5.522287,
            6.9462475999999995,
            4.2916627,
            5.685128700000001,
            5.3825417,
            5.657374400000001,
            6.888949,
            5.83819,
            5.8268504,
            4.6330457
           ]
          ]
         },
         "header": {
          "align": "left",
          "fill": {
           "color": "paleturquoise"
          },
          "values": [
           "cluster_label",
           "higher_cluster",
           "Cell_Type",
           "Gene",
           "Expression"
          ]
         },
         "type": "table"
        }
       ],
       "layout": {
        "template": {
         "data": {
          "bar": [
           {
            "error_x": {
             "color": "#2a3f5f"
            },
            "error_y": {
             "color": "#2a3f5f"
            },
            "marker": {
             "line": {
              "color": "#E5ECF6",
              "width": 0.5
             }
            },
            "type": "bar"
           }
          ],
          "barpolar": [
           {
            "marker": {
             "line": {
              "color": "#E5ECF6",
              "width": 0.5
             }
            },
            "type": "barpolar"
           }
          ],
          "carpet": [
           {
            "aaxis": {
             "endlinecolor": "#2a3f5f",
             "gridcolor": "white",
             "linecolor": "white",
             "minorgridcolor": "white",
             "startlinecolor": "#2a3f5f"
            },
            "baxis": {
             "endlinecolor": "#2a3f5f",
             "gridcolor": "white",
             "linecolor": "white",
             "minorgridcolor": "white",
             "startlinecolor": "#2a3f5f"
            },
            "type": "carpet"
           }
          ],
          "choropleth": [
           {
            "colorbar": {
             "outlinewidth": 0,
             "ticks": ""
            },
            "type": "choropleth"
           }
          ],
          "contour": [
           {
            "colorbar": {
             "outlinewidth": 0,
             "ticks": ""
            },
            "colorscale": [
             [
              0,
              "#0d0887"
             ],
             [
              0.1111111111111111,
              "#46039f"
             ],
             [
              0.2222222222222222,
              "#7201a8"
             ],
             [
              0.3333333333333333,
              "#9c179e"
             ],
             [
              0.4444444444444444,
              "#bd3786"
             ],
             [
              0.5555555555555556,
              "#d8576b"
             ],
             [
              0.6666666666666666,
              "#ed7953"
             ],
             [
              0.7777777777777778,
              "#fb9f3a"
             ],
             [
              0.8888888888888888,
              "#fdca26"
             ],
             [
              1,
              "#f0f921"
             ]
            ],
            "type": "contour"
           }
          ],
          "contourcarpet": [
           {
            "colorbar": {
             "outlinewidth": 0,
             "ticks": ""
            },
            "type": "contourcarpet"
           }
          ],
          "heatmap": [
           {
            "colorbar": {
             "outlinewidth": 0,
             "ticks": ""
            },
            "colorscale": [
             [
              0,
              "#0d0887"
             ],
             [
              0.1111111111111111,
              "#46039f"
             ],
             [
              0.2222222222222222,
              "#7201a8"
             ],
             [
              0.3333333333333333,
              "#9c179e"
             ],
             [
              0.4444444444444444,
              "#bd3786"
             ],
             [
              0.5555555555555556,
              "#d8576b"
             ],
             [
              0.6666666666666666,
              "#ed7953"
             ],
             [
              0.7777777777777778,
              "#fb9f3a"
             ],
             [
              0.8888888888888888,
              "#fdca26"
             ],
             [
              1,
              "#f0f921"
             ]
            ],
            "type": "heatmap"
           }
          ],
          "heatmapgl": [
           {
            "colorbar": {
             "outlinewidth": 0,
             "ticks": ""
            },
            "colorscale": [
             [
              0,
              "#0d0887"
             ],
             [
              0.1111111111111111,
              "#46039f"
             ],
             [
              0.2222222222222222,
              "#7201a8"
             ],
             [
              0.3333333333333333,
              "#9c179e"
             ],
             [
              0.4444444444444444,
              "#bd3786"
             ],
             [
              0.5555555555555556,
              "#d8576b"
             ],
             [
              0.6666666666666666,
              "#ed7953"
             ],
             [
              0.7777777777777778,
              "#fb9f3a"
             ],
             [
              0.8888888888888888,
              "#fdca26"
             ],
             [
              1,
              "#f0f921"
             ]
            ],
            "type": "heatmapgl"
           }
          ],
          "histogram": [
           {
            "marker": {
             "colorbar": {
              "outlinewidth": 0,
              "ticks": ""
             }
            },
            "type": "histogram"
           }
          ],
          "histogram2d": [
           {
            "colorbar": {
             "outlinewidth": 0,
             "ticks": ""
            },
            "colorscale": [
             [
              0,
              "#0d0887"
             ],
             [
              0.1111111111111111,
              "#46039f"
             ],
             [
              0.2222222222222222,
              "#7201a8"
             ],
             [
              0.3333333333333333,
              "#9c179e"
             ],
             [
              0.4444444444444444,
              "#bd3786"
             ],
             [
              0.5555555555555556,
              "#d8576b"
             ],
             [
              0.6666666666666666,
              "#ed7953"
             ],
             [
              0.7777777777777778,
              "#fb9f3a"
             ],
             [
              0.8888888888888888,
              "#fdca26"
             ],
             [
              1,
              "#f0f921"
             ]
            ],
            "type": "histogram2d"
           }
          ],
          "histogram2dcontour": [
           {
            "colorbar": {
             "outlinewidth": 0,
             "ticks": ""
            },
            "colorscale": [
             [
              0,
              "#0d0887"
             ],
             [
              0.1111111111111111,
              "#46039f"
             ],
             [
              0.2222222222222222,
              "#7201a8"
             ],
             [
              0.3333333333333333,
              "#9c179e"
             ],
             [
              0.4444444444444444,
              "#bd3786"
             ],
             [
              0.5555555555555556,
              "#d8576b"
             ],
             [
              0.6666666666666666,
              "#ed7953"
             ],
             [
              0.7777777777777778,
              "#fb9f3a"
             ],
             [
              0.8888888888888888,
              "#fdca26"
             ],
             [
              1,
              "#f0f921"
             ]
            ],
            "type": "histogram2dcontour"
           }
          ],
          "mesh3d": [
           {
            "colorbar": {
             "outlinewidth": 0,
             "ticks": ""
            },
            "type": "mesh3d"
           }
          ],
          "parcoords": [
           {
            "line": {
             "colorbar": {
              "outlinewidth": 0,
              "ticks": ""
             }
            },
            "type": "parcoords"
           }
          ],
          "pie": [
           {
            "automargin": true,
            "type": "pie"
           }
          ],
          "scatter": [
           {
            "marker": {
             "colorbar": {
              "outlinewidth": 0,
              "ticks": ""
             }
            },
            "type": "scatter"
           }
          ],
          "scatter3d": [
           {
            "line": {
             "colorbar": {
              "outlinewidth": 0,
              "ticks": ""
             }
            },
            "marker": {
             "colorbar": {
              "outlinewidth": 0,
              "ticks": ""
             }
            },
            "type": "scatter3d"
           }
          ],
          "scattercarpet": [
           {
            "marker": {
             "colorbar": {
              "outlinewidth": 0,
              "ticks": ""
             }
            },
            "type": "scattercarpet"
           }
          ],
          "scattergeo": [
           {
            "marker": {
             "colorbar": {
              "outlinewidth": 0,
              "ticks": ""
             }
            },
            "type": "scattergeo"
           }
          ],
          "scattergl": [
           {
            "marker": {
             "colorbar": {
              "outlinewidth": 0,
              "ticks": ""
             }
            },
            "type": "scattergl"
           }
          ],
          "scattermapbox": [
           {
            "marker": {
             "colorbar": {
              "outlinewidth": 0,
              "ticks": ""
             }
            },
            "type": "scattermapbox"
           }
          ],
          "scatterpolar": [
           {
            "marker": {
             "colorbar": {
              "outlinewidth": 0,
              "ticks": ""
             }
            },
            "type": "scatterpolar"
           }
          ],
          "scatterpolargl": [
           {
            "marker": {
             "colorbar": {
              "outlinewidth": 0,
              "ticks": ""
             }
            },
            "type": "scatterpolargl"
           }
          ],
          "scatterternary": [
           {
            "marker": {
             "colorbar": {
              "outlinewidth": 0,
              "ticks": ""
             }
            },
            "type": "scatterternary"
           }
          ],
          "surface": [
           {
            "colorbar": {
             "outlinewidth": 0,
             "ticks": ""
            },
            "colorscale": [
             [
              0,
              "#0d0887"
             ],
             [
              0.1111111111111111,
              "#46039f"
             ],
             [
              0.2222222222222222,
              "#7201a8"
             ],
             [
              0.3333333333333333,
              "#9c179e"
             ],
             [
              0.4444444444444444,
              "#bd3786"
             ],
             [
              0.5555555555555556,
              "#d8576b"
             ],
             [
              0.6666666666666666,
              "#ed7953"
             ],
             [
              0.7777777777777778,
              "#fb9f3a"
             ],
             [
              0.8888888888888888,
              "#fdca26"
             ],
             [
              1,
              "#f0f921"
             ]
            ],
            "type": "surface"
           }
          ],
          "table": [
           {
            "cells": {
             "fill": {
              "color": "#EBF0F8"
             },
             "line": {
              "color": "white"
             }
            },
            "header": {
             "fill": {
              "color": "#C8D4E3"
             },
             "line": {
              "color": "white"
             }
            },
            "type": "table"
           }
          ]
         },
         "layout": {
          "annotationdefaults": {
           "arrowcolor": "#2a3f5f",
           "arrowhead": 0,
           "arrowwidth": 1
          },
          "coloraxis": {
           "colorbar": {
            "outlinewidth": 0,
            "ticks": ""
           }
          },
          "colorscale": {
           "diverging": [
            [
             0,
             "#8e0152"
            ],
            [
             0.1,
             "#c51b7d"
            ],
            [
             0.2,
             "#de77ae"
            ],
            [
             0.3,
             "#f1b6da"
            ],
            [
             0.4,
             "#fde0ef"
            ],
            [
             0.5,
             "#f7f7f7"
            ],
            [
             0.6,
             "#e6f5d0"
            ],
            [
             0.7,
             "#b8e186"
            ],
            [
             0.8,
             "#7fbc41"
            ],
            [
             0.9,
             "#4d9221"
            ],
            [
             1,
             "#276419"
            ]
           ],
           "sequential": [
            [
             0,
             "#0d0887"
            ],
            [
             0.1111111111111111,
             "#46039f"
            ],
            [
             0.2222222222222222,
             "#7201a8"
            ],
            [
             0.3333333333333333,
             "#9c179e"
            ],
            [
             0.4444444444444444,
             "#bd3786"
            ],
            [
             0.5555555555555556,
             "#d8576b"
            ],
            [
             0.6666666666666666,
             "#ed7953"
            ],
            [
             0.7777777777777778,
             "#fb9f3a"
            ],
            [
             0.8888888888888888,
             "#fdca26"
            ],
            [
             1,
             "#f0f921"
            ]
           ],
           "sequentialminus": [
            [
             0,
             "#0d0887"
            ],
            [
             0.1111111111111111,
             "#46039f"
            ],
            [
             0.2222222222222222,
             "#7201a8"
            ],
            [
             0.3333333333333333,
             "#9c179e"
            ],
            [
             0.4444444444444444,
             "#bd3786"
            ],
            [
             0.5555555555555556,
             "#d8576b"
            ],
            [
             0.6666666666666666,
             "#ed7953"
            ],
            [
             0.7777777777777778,
             "#fb9f3a"
            ],
            [
             0.8888888888888888,
             "#fdca26"
            ],
            [
             1,
             "#f0f921"
            ]
           ]
          },
          "colorway": [
           "#636efa",
           "#EF553B",
           "#00cc96",
           "#ab63fa",
           "#FFA15A",
           "#19d3f3",
           "#FF6692",
           "#B6E880",
           "#FF97FF",
           "#FECB52"
          ],
          "font": {
           "color": "#2a3f5f"
          },
          "geo": {
           "bgcolor": "white",
           "lakecolor": "white",
           "landcolor": "#E5ECF6",
           "showlakes": true,
           "showland": true,
           "subunitcolor": "white"
          },
          "hoverlabel": {
           "align": "left"
          },
          "hovermode": "closest",
          "mapbox": {
           "style": "light"
          },
          "paper_bgcolor": "white",
          "plot_bgcolor": "#E5ECF6",
          "polar": {
           "angularaxis": {
            "gridcolor": "white",
            "linecolor": "white",
            "ticks": ""
           },
           "bgcolor": "#E5ECF6",
           "radialaxis": {
            "gridcolor": "white",
            "linecolor": "white",
            "ticks": ""
           }
          },
          "scene": {
           "xaxis": {
            "backgroundcolor": "#E5ECF6",
            "gridcolor": "white",
            "gridwidth": 2,
            "linecolor": "white",
            "showbackground": true,
            "ticks": "",
            "zerolinecolor": "white"
           },
           "yaxis": {
            "backgroundcolor": "#E5ECF6",
            "gridcolor": "white",
            "gridwidth": 2,
            "linecolor": "white",
            "showbackground": true,
            "ticks": "",
            "zerolinecolor": "white"
           },
           "zaxis": {
            "backgroundcolor": "#E5ECF6",
            "gridcolor": "white",
            "gridwidth": 2,
            "linecolor": "white",
            "showbackground": true,
            "ticks": "",
            "zerolinecolor": "white"
           }
          },
          "shapedefaults": {
           "line": {
            "color": "#2a3f5f"
           }
          },
          "ternary": {
           "aaxis": {
            "gridcolor": "white",
            "linecolor": "white",
            "ticks": ""
           },
           "baxis": {
            "gridcolor": "white",
            "linecolor": "white",
            "ticks": ""
           },
           "bgcolor": "#E5ECF6",
           "caxis": {
            "gridcolor": "white",
            "linecolor": "white",
            "ticks": ""
           }
          },
          "title": {
           "x": 0.05
          },
          "xaxis": {
           "automargin": true,
           "gridcolor": "white",
           "linecolor": "white",
           "ticks": "",
           "title": {
            "standoff": 15
           },
           "zerolinecolor": "white",
           "zerolinewidth": 2
          },
          "yaxis": {
           "automargin": true,
           "gridcolor": "white",
           "linecolor": "white",
           "ticks": "",
           "title": {
            "standoff": 15
           },
           "zerolinecolor": "white",
           "zerolinewidth": 2
          }
         }
        },
        "title": {
         "text": "Rapgef2: Rapgef2: Adult mouse, Single Cell, Allen Transcriptomics"
        }
       }
      },
      "text/html": [
       "<div>\n",
       "        \n",
       "        \n",
       "            <div id=\"53309498-bdab-46b0-93b7-5b6265a078b2\" class=\"plotly-graph-div\" style=\"height:525px; width:100%;\"></div>\n",
       "            <script type=\"text/javascript\">\n",
       "                require([\"plotly\"], function(Plotly) {\n",
       "                    window.PLOTLYENV=window.PLOTLYENV || {};\n",
       "                    \n",
       "                if (document.getElementById(\"53309498-bdab-46b0-93b7-5b6265a078b2\")) {\n",
       "                    Plotly.newPlot(\n",
       "                        '53309498-bdab-46b0-93b7-5b6265a078b2',\n",
       "                        [{\"cells\": {\"align\": \"left\", \"fill\": {\"color\": \"lavender\"}, \"values\": [[\"108_Pvalb\", \"229_L6 IT CTX\", \"67_Sst\", \"6_Lamp5 Lhx6\", \"111_Pvalb\", \"293_CA3\", \"323_L6 CT CTX\", \"17_Pax6\", \"261_L6 Car3\", \"289_CA1\", \"219_L6 IT CTX\", \"227_L6 IT CTX\", \"334_L6b/CT ENT\", \"117_Pvalb\", \"212_L5 IT TPE-ENT\", \"266_SUB-ProS\", \"295_CA3\", \"372_SMC\", \"59_Vip\", \"66_Sst\", \"223_L6 IT CTX\", \"22_Ndnf HPF\", \"131_L2 IT RSPv\", \"13_Lamp5\", \"216_L5/6 IT CTX\", \"306_L5 NP CTX\", \"336_L6b/CT ENT\", \"86_Sst\", \"4_Lamp5 Lhx6\", \"65_Sst\", \"350_L6b CTX\", \"142_L3 IT ENTm\", \"324_L6 CT CTX\", \"187_L2/3 IT CTX\", \"253_L5 PT CTX\", \"32_Sncg\", \"119_Pvalb Vipr2\", \"235_L3 RSP-ACA\", \"327_L6 CT CTX\", \"75_Sst\", \"356_Astro\", \"159_L2/3 IT ENTl\", \"272_ProS\", \"329_L6 CT CTX\", \"182_L2/3 IT CTX\", \"251_L5 PT CTX\", \"378_Micro\", \"71_Sst\", \"339_L6b CTX\", \"84_Sst\", \"135_L2/3 IT PPP\", \"80_Sst\", \"46_Vip\", \"184_L2/3 IT TPE\", \"3_Lamp5 Lhx6\", \"85_Sst\", \"222_L6 IT CTX\", \"368_Oligo\", \"114_Pvalb\", \"239_L5 PT CTX\", \"23_Ndnf HPF\", \"283_CA1\", \"58_Vip\", \"179_L2/3 IT CTX\", \"294_CA3\", \"307_L5 NP CTX\", \"11_Lamp5\", \"18_Pax6\", \"278_CA1-ProS\", \"316_NP SUB\", \"353_NP PPP\", \"371_Peri\", \"52_Vip\", \"221_L6 IT CTX\", \"31_Sncg\", \"35_Sncg\", null, \"326_L6 CT CTX\", \"331_L6 CT ENTm\", \"276_CA1-ProS\", \"325_L6 CT CTX\", \"100_Sst\", \"274_CA1-ProS\", \"43_Vip\", \"176_L2/3 IT CTX\", \"19_Pax6\", \"224_L6 IT CTX\", \"29_Sncg\", \"322_L6 CT CTX\", \"14_Lamp5\", \"363_Oligo\", \"37_Sncg\", \"83_Sst\", \"238_L5 PT CTX\", \"165_L2/3 IT ENTl\", \"319_CT SUB\", \"12_Lamp5\", \"264_SUB\", \"27_Sncg\", \"15_Lamp5\", \"207_L5 IT CTX\", \"39_Lamp5\", \"115_Pvalb\", \"355_V3d\", \"105_Pvalb\", \"287_CA1\", \"136_L2/3 IT PPP\", \"302_CA2-IG-FC\", \"61_Sst Chodl\", \"178_L2/3 IT CTX\", \"189_L4/5 IT CTX\", \"296_CA3\", \"305_L5 NP CTX\", \"359_OPC\", \"304_L5 NP CTX\", \"246_L5 PT CTX\", \"68_Sst\", \"197_L4/5 IT CTX\", \"107_Pvalb\", \"183_L2/3 IT CTX\", \"2_Meis2\", \"315_NP SUB\", \"259_L6 Car3\", \"279_CA1\", \"30_Sncg\", \"41_Vip\", \"300_CA3\", \"54_Vip\", \"186_L2 IT RSP-ACA\", \"163_L2/3 IT ENTl\", \"36_Sncg\", \"123_DG\", \"130_L2 IT RSPv\", \"242_L5 PT CTX\", \"260_L6 Car3\", \"237_L5 PT CTX\", \"255_L5 PT RSP-ACA\", \"263_SUB\", \"146_L3 IT ENTl\", \"258_L6 Car3\", \"351_L6b CTX\", \"240_L5 PT CTX\", \"76_Sst\", \"116_Pvalb\", \"1_CR\", \"215_L5/6 IT CTX\", \"133_L2/3 IT PPP\", \"271_ProS\", \"311_L6 NP CT CTX\", \"313_NP SUB\", \"96_Sst\", \"128_L2/3 IT APr\", \"376_VLMC\", \"343_L6b CTX\", \"110_Pvalb\", \"173_L2/3 IT ENTl\", \"125_DG\", \"188_L4/5 IT CTX\", \"243_L5 PT CTX\", \"301_CA2-IG-FC\", \"361_Oligo\", \"374_VLMC\", \"379_PVM\", \"140_L3 IT ENTm\", \"292_CA3\", \"308_L5 NP CTX\", \"10_Lamp5\", \"164_L2/3 IT ENTl\", \"194_L4/5 IT CTX\", \"233_L6 IT ENTl\", \"317_CT SUB\", \"57_Vip\", \"291_CA3\", \"94_Sst\", \"129_L2/3 IT APr\", \"155_L2 IT ProS\", \"202_L4/5 IT TPE-ENT\", \"220_L6 IT CTX\", \"40_Vip\", \"193_L4/5 IT CTX\", \"297_CA3\", \"275_CA1-ProS\", \"346_L6b CTX\", \"121_DG\", \"148_L2 IT PAR\", \"232_L6 IT ENTl\", \"254_L5 PT CTX\", \"74_Sst\", \"225_L6 IT CTX\", \"195_L4/5 IT CTX\", \"290_CA1\", \"321_L6 CT CTX\", \"45_Vip\", \"87_Sst\", \"338_L6b CTX\", \"82_Sst\", \"342_L6b RHP\", \"8_Lamp5\", \"192_L4/5 IT CTX\", \"26_Sncg\", \"95_Sst\", \"341_L6b CTX\", \"98_Sst\", \"358_Astro\", \"360_OPC\", \"156_L2 IT ProS\", \"347_L6b CTX\", \"9_Lamp5\", \"120_DG\", \"147_L2 IT PAR\", \"236_L3 RSP-ACA\", \"270_ProS\", \"38_Sncg\", \"268_ProS\", \"102_Sst\", \"231_L6 IT CTX\", \"70_Sst\", \"79_Sst\", \"88_Sst\", \"252_L5 PT CTX\", \"101_Sst\", \"103_Sst\", \"213_L5 IT TPE-ENT\", \"277_CA1-ProS\", \"196_L4/5 IT CTX\", \"25_Sncg\", \"33_Sncg\", \"166_L2/3 IT ENTl\", \"230_L6 IT CTX\", \"78_Sst\", \"330_L6 CT CTX\", \"352_NP PPP\", \"354_NP PPP\", \"97_Sst\", \"161_L2/3 IT ENTl\", \"180_L2/3 IT CTX\", \"28_Sncg\", \"93_Sst\", \"366_Oligo\", \"335_L6b/CT ENT\", \"60_Sst Chodl\", \"144_L3 IT ENTl\", \"69_Sst\", \"150_L2 IT ENTm\", \"162_L2/3 IT ENTl\", \"280_CA1\", \"288_CA1\", \"218_L5/6 IT CTX\", \"44_Vip\", \"109_Pvalb\", \"5_Lamp5 Lhx6\", \"310_L5 NP CTX\", \"318_CT SUB\", \"217_L5/6 IT CTX\", \"262_L6 Car3\", \"151_L2 IT ENTm\", \"167_L2/3 IT ENTl\", \"175_L2/3 IT CTX\", \"20_Ndnf HPF\", \"269_ProS\", \"191_L4/5 IT CTX\", \"205_L5 IT CTX\", \"364_Oligo\", \"49_Vip\", \"132_L2/3 IT PPP\", \"16_Lamp5\", \"309_L5 NP CTX\", \"55_Vip\", \"63_Sst Chodl\", \"200_L4/5 IT CTX\", \"158_L2/3 IT ENTl\", \"284_CA1\", \"203_L5 IT CTX\", \"285_CA1\", \"73_Sst\", \"328_L6 CT CTX\", \"369_Endo\", \"160_L2/3 IT ENTl\", \"344_L6b RHP\", \"367_Oligo\", \"134_L2/3 IT PPP\", \"206_L5 IT CTX\", \"265_SUB\", \"267_SUB-ProS\", \"21_Ndnf HPF\", \"47_Vip\", \"198_L4/5 IT CTX\", \"204_L5 IT CTX\", \"91_Sst\", \"208_L5 IT CTX\", \"89_Sst\", \"172_L2/3 IT CTX\", \"281_CA1\", \"282_CA1\", \"320_L6 CT CTX\", \"42_Vip\", \"137_L2 IT ENTl\", \"214_L5/6 IT CTX\", \"51_Vip\", \"170_L2/3 IT CTX\", \"211_L5 IT TPE-ENT\", \"106_Pvalb\", \"249_L5 PT CTX\", \"34_Sncg\", \"373_SMC\", \"113_Pvalb\", \"247_L5 PT CTX\", \"62_Sst Chodl\", \"127_L2/3 IT APr\", \"174_L2/3 IT CTX\", \"377_Micro\", \"153_L2 IT ENTm\", \"250_L5 PT CTX\", \"333_L6b/CT ENT\", \"64_Sst\", \"362_Oligo\", \"48_Vip\", \"228_L6 IT RHP\", \"244_L5 PT CTX\", \"92_Sst\", \"112_Pvalb\", \"241_L5 PT CTX\", \"53_Vip\", \"157_L2 IT HATA\", \"171_L2/3 IT CTX\", \"7_Lamp5\", \"90_Sst\", \"248_L5 PT CTX\", \"365_Oligo\", \"375_VLMC\", \"56_Vip\", \"77_Sst\", \"141_L3 IT ENTm\", \"177_L2/3 IT CTX\", \"81_Sst\", \"152_L2 IT ENTm\", \"209_L5 IT TPE-ENT\", \"154_L2 IT ProS\", \"24_Ndnf HPF\", \"299_CA3\", \"312_NP SUB\", \"337_L6b/CT ENT\", \"99_Sst\", \"124_DG\", \"143_L3 IT ENTm\", \"349_L6b CTX\", \"72_Sst\", \"122_DG\", \"286_CA1\", \"332_L6 CT ENTm\", \"348_L6b CTX\", \"145_L3 IT ENTl\", \"201_L4/5 IT TPE-ENT\", \"226_L6 IT CTX\", \"256_L5 PT RSP-ACA\", \"50_Vip\", \"126_L2/3 IT APr\", \"190_L4/5 IT CTX\", \"298_CA3\", \"314_NP SUB\", \"340_L6b CTX\", \"139_L2 IT ENTl\", \"210_L5 IT TPE-ENT\", \"370_Endo\", \"257_L5 PPP\", \"273_CA1-ProS\", \"138_L2 IT ENTl\"], [\"Pvalb\", \"L6 IT CTX\", \"Sst\", \"Lamp5 Lhx6\", \"Pvalb\", \"CA3\", \"L6 CT CTX\", \"Pax6\", \"L6 Car3\", \"CA1\", \"L6 IT CTX\", \"L6 IT CTX\", \"L6b/CT ENT\", \"Pvalb\", \"L5 IT TPE-ENT\", \"SUB-ProS\", \"CA3\", \"SMC\", \"Vip\", \"Sst\", \"L6 IT CTX\", \"Ndnf HPF\", \"L2 IT RSPv\", \"Lamp5\", \"L5/6 IT CTX\", \"L5 NP CTX\", \"L6b/CT ENT\", \"Sst\", \"Lamp5 Lhx6\", \"Sst\", \"L6b CTX\", \"L3 IT ENTm\", \"L6 CT CTX\", \"L2/3 IT CTX\", \"L5 PT CTX\", \"Sncg\", \"Pvalb Vipr2\", \"L3 RSP-ACA\", \"L6 CT CTX\", \"Sst\", \"Astro\", \"L2/3 IT ENTl\", \"ProS\", \"L6 CT CTX\", \"L2/3 IT CTX\", \"L5 PT CTX\", \"Micro\", \"Sst\", \"L6b CTX\", \"Sst\", \"L2/3 IT PPP\", \"Sst\", \"Vip\", \"L2/3 IT TPE\", \"Lamp5 Lhx6\", \"Sst\", \"L6 IT CTX\", \"Oligo\", \"Pvalb\", \"L5 PT CTX\", \"Ndnf HPF\", \"CA1\", \"Vip\", \"L2/3 IT CTX\", \"CA3\", \"L5 NP CTX\", \"Lamp5\", \"Pax6\", \"CA1-ProS\", \"NP SUB\", \"NP PPP\", \"Peri\", \"Vip\", \"L6 IT CTX\", \"Sncg\", \"Sncg\", \"\", \"L6 CT CTX\", \"L6 CT ENTm\", \"CA1-ProS\", \"L6 CT CTX\", \"Sst\", \"CA1-ProS\", \"Vip\", \"L2/3 IT CTX\", \"Pax6\", \"L6 IT CTX\", \"Sncg\", \"L6 CT CTX\", \"Lamp5\", \"Oligo\", \"Sncg\", \"Sst\", \"L5 PT CTX\", \"L2/3 IT ENTl\", \"CT SUB\", \"Lamp5\", \"SUB\", \"Sncg\", \"Lamp5\", \"L5 IT CTX\", \"Lamp5\", \"Pvalb\", \"V3d\", \"Pvalb\", \"CA1\", \"L2/3 IT PPP\", \"CA2-IG-FC\", \"Sst Chodl\", \"L2/3 IT CTX\", \"L4/5 IT CTX\", \"CA3\", \"L5 NP CTX\", \"OPC\", \"L5 NP CTX\", \"L5 PT CTX\", \"Sst\", \"L4/5 IT CTX\", \"Pvalb\", \"L2/3 IT CTX\", \"Meis2\", \"NP SUB\", \"L6 Car3\", \"CA1\", \"Sncg\", \"Vip\", \"CA3\", \"Vip\", \"L2 IT RSP-ACA\", \"L2/3 IT ENTl\", \"Sncg\", \"DG\", \"L2 IT RSPv\", \"L5 PT CTX\", \"L6 Car3\", \"L5 PT CTX\", \"L5 PT RSP-ACA\", \"SUB\", \"L3 IT ENTl\", \"L6 Car3\", \"L6b CTX\", \"L5 PT CTX\", \"Sst\", \"Pvalb\", \"CR\", \"L5/6 IT CTX\", \"L2/3 IT PPP\", \"ProS\", \"L6 NP CT CTX\", \"NP SUB\", \"Sst\", \"L2/3 IT APr\", \"VLMC\", \"L6b CTX\", \"Pvalb\", \"L2/3 IT ENTl\", \"DG\", \"L4/5 IT CTX\", \"L5 PT CTX\", \"CA2-IG-FC\", \"Oligo\", \"VLMC\", \"PVM\", \"L3 IT ENTm\", \"CA3\", \"L5 NP CTX\", \"Lamp5\", \"L2/3 IT ENTl\", \"L4/5 IT CTX\", \"L6 IT ENTl\", \"CT SUB\", \"Vip\", \"CA3\", \"Sst\", \"L2/3 IT APr\", \"L2 IT ProS\", \"L4/5 IT TPE-ENT\", \"L6 IT CTX\", \"Vip\", \"L4/5 IT CTX\", \"CA3\", \"CA1-ProS\", \"L6b CTX\", \"DG\", \"L2 IT PAR\", \"L6 IT ENTl\", \"L5 PT CTX\", \"Sst\", \"L6 IT CTX\", \"L4/5 IT CTX\", \"CA1\", \"L6 CT CTX\", \"Vip\", \"Sst\", \"L6b CTX\", \"Sst\", \"L6b RHP\", \"Lamp5\", \"L4/5 IT CTX\", \"Sncg\", \"Sst\", \"L6b CTX\", \"Sst\", \"Astro\", \"OPC\", \"L2 IT ProS\", \"L6b CTX\", \"Lamp5\", \"DG\", \"L2 IT PAR\", \"L3 RSP-ACA\", \"ProS\", \"Sncg\", \"ProS\", \"Sst\", \"L6 IT CTX\", \"Sst\", \"Sst\", \"Sst\", \"L5 PT CTX\", \"Sst\", \"Sst\", \"L5 IT TPE-ENT\", \"CA1-ProS\", \"L4/5 IT CTX\", \"Sncg\", \"Sncg\", \"L2/3 IT ENTl\", \"L6 IT CTX\", \"Sst\", \"L6 CT CTX\", \"NP PPP\", \"NP PPP\", \"Sst\", \"L2/3 IT ENTl\", \"L2/3 IT CTX\", \"Sncg\", \"Sst\", \"Oligo\", \"L6b/CT ENT\", \"Sst Chodl\", \"L3 IT ENTl\", \"Sst\", \"L2 IT ENTm\", \"L2/3 IT ENTl\", \"CA1\", \"CA1\", \"L5/6 IT CTX\", \"Vip\", \"Pvalb\", \"Lamp5 Lhx6\", \"L5 NP CTX\", \"CT SUB\", \"L5/6 IT CTX\", \"L6 Car3\", \"L2 IT ENTm\", \"L2/3 IT ENTl\", \"L2/3 IT CTX\", \"Ndnf HPF\", \"ProS\", \"L4/5 IT CTX\", \"L5 IT CTX\", \"Oligo\", \"Vip\", \"L2/3 IT PPP\", \"Lamp5\", \"L5 NP CTX\", \"Vip\", \"Sst Chodl\", \"L4/5 IT CTX\", \"L2/3 IT ENTl\", \"CA1\", \"L5 IT CTX\", \"CA1\", \"Sst\", \"L6 CT CTX\", \"Endo\", \"L2/3 IT ENTl\", \"L6b RHP\", \"Oligo\", \"L2/3 IT PPP\", \"L5 IT CTX\", \"SUB\", \"SUB-ProS\", \"Ndnf HPF\", \"Vip\", \"L4/5 IT CTX\", \"L5 IT CTX\", \"Sst\", \"L5 IT CTX\", \"Sst\", \"L2/3 IT CTX\", \"CA1\", \"CA1\", \"L6 CT CTX\", \"Vip\", \"L2 IT ENTl\", \"L5/6 IT CTX\", \"Vip\", \"L2/3 IT CTX\", \"L5 IT TPE-ENT\", \"Pvalb\", \"L5 PT CTX\", \"Sncg\", \"SMC\", \"Pvalb\", \"L5 PT CTX\", \"Sst Chodl\", \"L2/3 IT APr\", \"L2/3 IT CTX\", \"Micro\", \"L2 IT ENTm\", \"L5 PT CTX\", \"L6b/CT ENT\", \"Sst\", \"Oligo\", \"Vip\", \"L6 IT RHP\", \"L5 PT CTX\", \"Sst\", \"Pvalb\", \"L5 PT CTX\", \"Vip\", \"L2 IT HATA\", \"L2/3 IT CTX\", \"Lamp5\", \"Sst\", \"L5 PT CTX\", \"Oligo\", \"VLMC\", \"Vip\", \"Sst\", \"L3 IT ENTm\", \"L2/3 IT CTX\", \"Sst\", \"L2 IT ENTm\", \"L5 IT TPE-ENT\", \"L2 IT ProS\", \"Ndnf HPF\", \"CA3\", \"NP SUB\", \"L6b/CT ENT\", \"Sst\", \"DG\", \"L3 IT ENTm\", \"L6b CTX\", \"Sst\", \"DG\", \"CA1\", \"L6 CT ENTm\", \"L6b CTX\", \"L3 IT ENTl\", \"L4/5 IT TPE-ENT\", \"L6 IT CTX\", \"L5 PT RSP-ACA\", \"Vip\", \"L2/3 IT APr\", \"L4/5 IT CTX\", \"CA3\", \"NP SUB\", \"L6b CTX\", \"L2 IT ENTl\", \"L5 IT TPE-ENT\", \"Endo\", \"L5 PPP\", \"CA1-ProS\", \"L2 IT ENTl\"], [\"Inhibitory\", \"Excitatory\", \"Inhibitory\", \"Inhibitory\", \"Inhibitory\", \"Excitatory\", \"Excitatory\", \"Excitatory\", \"Excitatory\", \"Excitatory\", \"Excitatory\", \"Excitatory\", \"Excitatory\", \"Inhibitory\", \"Excitatory\", \"Excitatory\", \"Excitatory\", \"Non-Neuronal\", \"Inhibitory\", \"Inhibitory\", \"Excitatory\", \"Unknown\", \"Excitatory\", \"Inhibitory\", \"Excitatory\", \"Excitatory\", \"Excitatory\", \"Inhibitory\", \"Inhibitory\", \"Inhibitory\", \"Excitatory\", \"Excitatory\", \"Excitatory\", \"Excitatory\", \"Excitatory\", \"Inhibitory\", \"Inhibitory\", \"Excitatory\", \"Excitatory\", \"Inhibitory\", \"Non-Neuronal\", \"Excitatory\", \"Excitatory\", \"Excitatory\", \"Excitatory\", \"Excitatory\", \"Non-Neuronal\", \"Inhibitory\", \"Excitatory\", \"Inhibitory\", \"Excitatory\", \"Inhibitory\", \"Inhibitory\", \"Excitatory\", \"Inhibitory\", \"Inhibitory\", \"Excitatory\", \"Non-Neuronal\", \"Inhibitory\", \"Excitatory\", \"Unknown\", \"Excitatory\", \"Inhibitory\", \"Excitatory\", \"Excitatory\", \"Excitatory\", \"Inhibitory\", \"Excitatory\", \"Excitatory\", \"Excitatory\", \"Unknown\", \"Non-Neuronal\", \"Inhibitory\", \"Excitatory\", \"Inhibitory\", \"Inhibitory\", \"Unknown\", \"Excitatory\", \"Excitatory\", \"Excitatory\", \"Excitatory\", \"Inhibitory\", \"Excitatory\", \"Inhibitory\", \"Excitatory\", \"Excitatory\", \"Excitatory\", \"Inhibitory\", \"Excitatory\", \"Inhibitory\", \"Non-Neuronal\", \"Inhibitory\", \"Inhibitory\", \"Excitatory\", \"Excitatory\", \"Excitatory\", \"Inhibitory\", \"Excitatory\", \"Inhibitory\", \"Inhibitory\", \"Excitatory\", \"Inhibitory\", \"Inhibitory\", \"Unknown\", \"Inhibitory\", \"Excitatory\", \"Excitatory\", \"Excitatory\", \"Inhibitory\", \"Excitatory\", \"Excitatory\", \"Excitatory\", \"Excitatory\", \"Non-Neuronal\", \"Excitatory\", \"Excitatory\", \"Inhibitory\", \"Excitatory\", \"Inhibitory\", \"Excitatory\", \"Inhibitory\", \"Excitatory\", \"Excitatory\", \"Excitatory\", \"Inhibitory\", \"Inhibitory\", \"Excitatory\", \"Inhibitory\", \"Excitatory\", \"Excitatory\", \"Inhibitory\", \"Excitatory\", \"Excitatory\", \"Excitatory\", \"Excitatory\", \"Excitatory\", \"Excitatory\", \"Excitatory\", \"Excitatory\", \"Excitatory\", \"Excitatory\", \"Excitatory\", \"Inhibitory\", \"Inhibitory\", \"Non-Neuronal\", \"Excitatory\", \"Excitatory\", \"Excitatory\", \"Excitatory\", \"Excitatory\", \"Inhibitory\", \"Excitatory\", \"Non-Neuronal\", \"Excitatory\", \"Inhibitory\", \"Excitatory\", \"Excitatory\", \"Excitatory\", \"Excitatory\", \"Excitatory\", \"Non-Neuronal\", \"Non-Neuronal\", \"Non-Neuronal\", \"Excitatory\", \"Excitatory\", \"Excitatory\", \"Inhibitory\", \"Excitatory\", \"Excitatory\", \"Excitatory\", \"Excitatory\", \"Inhibitory\", \"Excitatory\", \"Inhibitory\", \"Excitatory\", \"Excitatory\", \"Excitatory\", \"Excitatory\", \"Inhibitory\", \"Excitatory\", \"Excitatory\", \"Excitatory\", \"Excitatory\", \"Excitatory\", \"Excitatory\", \"Excitatory\", \"Excitatory\", \"Inhibitory\", \"Excitatory\", \"Excitatory\", \"Excitatory\", \"Excitatory\", \"Inhibitory\", \"Inhibitory\", \"Excitatory\", \"Inhibitory\", \"Excitatory\", \"Inhibitory\", \"Excitatory\", \"Inhibitory\", \"Inhibitory\", \"Excitatory\", \"Inhibitory\", \"Non-Neuronal\", \"Non-Neuronal\", \"Excitatory\", \"Excitatory\", \"Inhibitory\", \"Excitatory\", \"Excitatory\", \"Excitatory\", \"Excitatory\", \"Inhibitory\", \"Excitatory\", \"Inhibitory\", \"Excitatory\", \"Inhibitory\", \"Inhibitory\", \"Inhibitory\", \"Excitatory\", \"Inhibitory\", \"Inhibitory\", \"Excitatory\", \"Excitatory\", \"Excitatory\", \"Inhibitory\", \"Inhibitory\", \"Excitatory\", \"Excitatory\", \"Inhibitory\", \"Excitatory\", \"Unknown\", \"Unknown\", \"Inhibitory\", \"Excitatory\", \"Excitatory\", \"Inhibitory\", \"Inhibitory\", \"Non-Neuronal\", \"Excitatory\", \"Inhibitory\", \"Excitatory\", \"Inhibitory\", \"Excitatory\", \"Excitatory\", \"Excitatory\", \"Excitatory\", \"Excitatory\", \"Inhibitory\", \"Inhibitory\", \"Inhibitory\", \"Excitatory\", \"Excitatory\", \"Excitatory\", \"Excitatory\", \"Excitatory\", \"Excitatory\", \"Excitatory\", \"Unknown\", \"Excitatory\", \"Excitatory\", \"Excitatory\", \"Non-Neuronal\", \"Inhibitory\", \"Excitatory\", \"Inhibitory\", \"Excitatory\", \"Inhibitory\", \"Inhibitory\", \"Excitatory\", \"Excitatory\", \"Excitatory\", \"Excitatory\", \"Excitatory\", \"Inhibitory\", \"Excitatory\", \"Non-Neuronal\", \"Excitatory\", \"Excitatory\", \"Non-Neuronal\", \"Excitatory\", \"Excitatory\", \"Excitatory\", \"Excitatory\", \"Unknown\", \"Inhibitory\", \"Excitatory\", \"Excitatory\", \"Inhibitory\", \"Excitatory\", \"Inhibitory\", \"Excitatory\", \"Excitatory\", \"Excitatory\", \"Excitatory\", \"Inhibitory\", \"Excitatory\", \"Excitatory\", \"Inhibitory\", \"Excitatory\", \"Excitatory\", \"Inhibitory\", \"Excitatory\", \"Inhibitory\", \"Non-Neuronal\", \"Inhibitory\", \"Excitatory\", \"Inhibitory\", \"Excitatory\", \"Excitatory\", \"Non-Neuronal\", \"Excitatory\", \"Excitatory\", \"Excitatory\", \"Inhibitory\", \"Non-Neuronal\", \"Inhibitory\", \"Excitatory\", \"Excitatory\", \"Inhibitory\", \"Inhibitory\", \"Excitatory\", \"Inhibitory\", \"Excitatory\", \"Excitatory\", \"Inhibitory\", \"Inhibitory\", \"Excitatory\", \"Non-Neuronal\", \"Non-Neuronal\", \"Inhibitory\", \"Inhibitory\", \"Excitatory\", \"Excitatory\", \"Inhibitory\", \"Excitatory\", \"Excitatory\", \"Excitatory\", \"Unknown\", \"Excitatory\", \"Excitatory\", \"Excitatory\", \"Inhibitory\", \"Excitatory\", \"Excitatory\", \"Excitatory\", \"Inhibitory\", \"Excitatory\", \"Excitatory\", \"Excitatory\", \"Excitatory\", \"Excitatory\", \"Excitatory\", \"Excitatory\", \"Excitatory\", \"Inhibitory\", \"Excitatory\", \"Excitatory\", \"Excitatory\", \"Excitatory\", \"Excitatory\", \"Excitatory\", \"Excitatory\", \"Non-Neuronal\", \"Excitatory\", \"Excitatory\", \"Excitatory\"], [\"Rapgef2\", \"Rapgef2\", \"Rapgef2\", \"Rapgef2\", \"Rapgef2\", \"Rapgef2\", \"Rapgef2\", \"Rapgef2\", \"Rapgef2\", \"Rapgef2\", \"Rapgef2\", \"Rapgef2\", \"Rapgef2\", \"Rapgef2\", \"Rapgef2\", \"Rapgef2\", \"Rapgef2\", \"Rapgef2\", \"Rapgef2\", \"Rapgef2\", \"Rapgef2\", \"Rapgef2\", \"Rapgef2\", \"Rapgef2\", \"Rapgef2\", \"Rapgef2\", \"Rapgef2\", \"Rapgef2\", \"Rapgef2\", \"Rapgef2\", \"Rapgef2\", \"Rapgef2\", \"Rapgef2\", \"Rapgef2\", \"Rapgef2\", \"Rapgef2\", \"Rapgef2\", \"Rapgef2\", \"Rapgef2\", \"Rapgef2\", \"Rapgef2\", \"Rapgef2\", \"Rapgef2\", \"Rapgef2\", \"Rapgef2\", \"Rapgef2\", \"Rapgef2\", \"Rapgef2\", \"Rapgef2\", \"Rapgef2\", \"Rapgef2\", \"Rapgef2\", \"Rapgef2\", \"Rapgef2\", \"Rapgef2\", \"Rapgef2\", \"Rapgef2\", \"Rapgef2\", \"Rapgef2\", \"Rapgef2\", \"Rapgef2\", \"Rapgef2\", \"Rapgef2\", \"Rapgef2\", \"Rapgef2\", \"Rapgef2\", \"Rapgef2\", \"Rapgef2\", \"Rapgef2\", \"Rapgef2\", \"Rapgef2\", \"Rapgef2\", \"Rapgef2\", \"Rapgef2\", \"Rapgef2\", \"Rapgef2\", \"Rapgef2\", \"Rapgef2\", \"Rapgef2\", \"Rapgef2\", \"Rapgef2\", \"Rapgef2\", \"Rapgef2\", \"Rapgef2\", \"Rapgef2\", \"Rapgef2\", \"Rapgef2\", \"Rapgef2\", \"Rapgef2\", \"Rapgef2\", \"Rapgef2\", \"Rapgef2\", \"Rapgef2\", \"Rapgef2\", \"Rapgef2\", \"Rapgef2\", \"Rapgef2\", \"Rapgef2\", \"Rapgef2\", \"Rapgef2\", \"Rapgef2\", \"Rapgef2\", \"Rapgef2\", \"Rapgef2\", \"Rapgef2\", \"Rapgef2\", \"Rapgef2\", \"Rapgef2\", \"Rapgef2\", \"Rapgef2\", \"Rapgef2\", \"Rapgef2\", \"Rapgef2\", \"Rapgef2\", \"Rapgef2\", \"Rapgef2\", \"Rapgef2\", \"Rapgef2\", \"Rapgef2\", \"Rapgef2\", \"Rapgef2\", \"Rapgef2\", \"Rapgef2\", \"Rapgef2\", \"Rapgef2\", \"Rapgef2\", \"Rapgef2\", \"Rapgef2\", \"Rapgef2\", \"Rapgef2\", \"Rapgef2\", \"Rapgef2\", \"Rapgef2\", \"Rapgef2\", \"Rapgef2\", \"Rapgef2\", \"Rapgef2\", \"Rapgef2\", \"Rapgef2\", \"Rapgef2\", \"Rapgef2\", \"Rapgef2\", \"Rapgef2\", \"Rapgef2\", \"Rapgef2\", \"Rapgef2\", \"Rapgef2\", \"Rapgef2\", \"Rapgef2\", \"Rapgef2\", \"Rapgef2\", \"Rapgef2\", \"Rapgef2\", \"Rapgef2\", \"Rapgef2\", \"Rapgef2\", \"Rapgef2\", \"Rapgef2\", \"Rapgef2\", \"Rapgef2\", \"Rapgef2\", \"Rapgef2\", \"Rapgef2\", \"Rapgef2\", \"Rapgef2\", \"Rapgef2\", \"Rapgef2\", \"Rapgef2\", \"Rapgef2\", \"Rapgef2\", \"Rapgef2\", \"Rapgef2\", \"Rapgef2\", \"Rapgef2\", \"Rapgef2\", \"Rapgef2\", \"Rapgef2\", \"Rapgef2\", \"Rapgef2\", \"Rapgef2\", \"Rapgef2\", \"Rapgef2\", \"Rapgef2\", \"Rapgef2\", \"Rapgef2\", \"Rapgef2\", \"Rapgef2\", \"Rapgef2\", \"Rapgef2\", \"Rapgef2\", \"Rapgef2\", \"Rapgef2\", \"Rapgef2\", \"Rapgef2\", \"Rapgef2\", \"Rapgef2\", \"Rapgef2\", \"Rapgef2\", \"Rapgef2\", \"Rapgef2\", \"Rapgef2\", \"Rapgef2\", \"Rapgef2\", \"Rapgef2\", \"Rapgef2\", \"Rapgef2\", \"Rapgef2\", \"Rapgef2\", \"Rapgef2\", \"Rapgef2\", \"Rapgef2\", \"Rapgef2\", \"Rapgef2\", \"Rapgef2\", \"Rapgef2\", \"Rapgef2\", \"Rapgef2\", \"Rapgef2\", \"Rapgef2\", \"Rapgef2\", \"Rapgef2\", \"Rapgef2\", \"Rapgef2\", \"Rapgef2\", \"Rapgef2\", \"Rapgef2\", \"Rapgef2\", \"Rapgef2\", \"Rapgef2\", \"Rapgef2\", \"Rapgef2\", \"Rapgef2\", \"Rapgef2\", \"Rapgef2\", \"Rapgef2\", \"Rapgef2\", \"Rapgef2\", \"Rapgef2\", \"Rapgef2\", \"Rapgef2\", \"Rapgef2\", \"Rapgef2\", \"Rapgef2\", \"Rapgef2\", \"Rapgef2\", \"Rapgef2\", \"Rapgef2\", \"Rapgef2\", \"Rapgef2\", \"Rapgef2\", \"Rapgef2\", \"Rapgef2\", \"Rapgef2\", \"Rapgef2\", \"Rapgef2\", \"Rapgef2\", \"Rapgef2\", \"Rapgef2\", \"Rapgef2\", \"Rapgef2\", \"Rapgef2\", \"Rapgef2\", \"Rapgef2\", \"Rapgef2\", \"Rapgef2\", \"Rapgef2\", \"Rapgef2\", \"Rapgef2\", \"Rapgef2\", \"Rapgef2\", \"Rapgef2\", \"Rapgef2\", \"Rapgef2\", \"Rapgef2\", \"Rapgef2\", \"Rapgef2\", \"Rapgef2\", \"Rapgef2\", \"Rapgef2\", \"Rapgef2\", \"Rapgef2\", \"Rapgef2\", \"Rapgef2\", \"Rapgef2\", \"Rapgef2\", \"Rapgef2\", \"Rapgef2\", \"Rapgef2\", \"Rapgef2\", \"Rapgef2\", \"Rapgef2\", \"Rapgef2\", \"Rapgef2\", \"Rapgef2\", \"Rapgef2\", \"Rapgef2\", \"Rapgef2\", \"Rapgef2\", \"Rapgef2\", \"Rapgef2\", \"Rapgef2\", \"Rapgef2\", \"Rapgef2\", \"Rapgef2\", \"Rapgef2\", \"Rapgef2\", \"Rapgef2\", \"Rapgef2\", \"Rapgef2\", \"Rapgef2\", \"Rapgef2\", \"Rapgef2\", \"Rapgef2\", \"Rapgef2\", \"Rapgef2\", \"Rapgef2\", \"Rapgef2\", \"Rapgef2\", \"Rapgef2\", \"Rapgef2\", \"Rapgef2\", \"Rapgef2\", \"Rapgef2\", \"Rapgef2\", \"Rapgef2\", \"Rapgef2\", \"Rapgef2\", \"Rapgef2\", \"Rapgef2\", \"Rapgef2\", \"Rapgef2\", \"Rapgef2\", \"Rapgef2\", \"Rapgef2\", \"Rapgef2\", \"Rapgef2\", \"Rapgef2\", \"Rapgef2\", \"Rapgef2\", \"Rapgef2\", \"Rapgef2\", \"Rapgef2\", \"Rapgef2\", \"Rapgef2\", \"Rapgef2\", \"Rapgef2\", \"Rapgef2\", \"Rapgef2\", \"Rapgef2\", \"Rapgef2\", \"Rapgef2\", \"Rapgef2\", \"Rapgef2\", \"Rapgef2\", \"Rapgef2\", \"Rapgef2\", \"Rapgef2\", \"Rapgef2\", \"Rapgef2\", \"Rapgef2\", \"Rapgef2\", \"Rapgef2\", \"Rapgef2\", \"Rapgef2\", \"Rapgef2\", \"Rapgef2\", \"Rapgef2\"], [4.6966795999999995, 2.6759217, 5.953242299999999, 2.46774, 4.665625599999999, 6.243418, 5.5523242999999995, 5.4418635, 5.086158, 6.4654169999999995, 5.375281299999999, 6.3067236, 5.9865127000000005, 4.313212999999999, 5.762633, 5.465733, 7.204391499999999, 0.02187717, 2.8062669999999996, 5.4820437, 5.944362, 2.3484254, 6.6436996, 4.7944202, 5.509567700000001, 4.5595193, 5.6129489999999995, 4.721729799999999, 1.7461456999999998, 5.8911443, 4.3967404000000005, 5.644229, 5.175231500000001, 4.4667845, 6.120343, 5.0404024000000005, 3.9215063999999997, 5.047371, 5.661402, 4.672850599999999, 0.518305, 4.9935527, 6.2061234, 5.0748725, 5.8679156, 6.007839700000001, 0.3928562, 4.387013, 5.148120400000001, 5.585970400000001, 6.3784657, 5.7357087, 4.973205999999999, 6.3001914, 2.43014, 4.547855, 6.2930126, 0.33657247, 4.843203, 4.897032299999999, 4.864262, 5.8986425, 2.6695116000000003, 6.1578, 7.048156, 3.753378, 4.9371795999999994, 5.0058637, 5.87102, 5.1874638, 5.432983999999999, 2.5813146000000002, 2.0897818, 6.802680499999999, 3.928611, 4.543232, 1.9158291, 5.8015947, 6.950625, 5.8262362, 5.3469596, 4.739006, 5.2762218, 2.3468566, 6.2911825, 5.543636, 6.3478959999999995, 4.8091607000000005, 2.4067632999999997, 2.6637310000000003, 3.3213220000000003, 4.1420417, 5.738788, 5.1920657, 6.2347345, 5.782426999999999, 5.027264, 5.8232183, 5.0725803, 5.140037, 5.4416385, 4.9306865, 4.699362799999999, 0.0, 3.9099607000000005, 6.467939, 5.9058523, 6.4334335, 4.546005, 6.516129, 5.622645400000001, 6.786134, 4.9275025999999995, 1.8070084, 4.7967796, 6.3761887999999995, 5.5503902, 4.716044, 4.1943445, 6.072396299999999, 2.921956, 3.0185728, 6.261009, 6.175339, 3.8996599, 5.1659690000000005, 6.844261599999999, 2.713384, 5.597196, 5.661241, 4.7400923, 5.032541, 6.149624299999999, 6.15837, 6.022864, 5.1189876, 5.688521, 5.6292089999999995, 5.16943, 5.772263, 4.270451, 5.262034, 5.577715400000001, 5.275411, 1.8571247, 5.9682865, 6.4744434, 5.418145, 4.784468700000001, 4.966531, 4.687515, 6.493026, 0.0, 5.3856782999999995, 4.577019, 5.542383, 6.2698092, 5.614969, 6.166136, 6.5883656, 0.89665496, 1.2214931999999998, 1.7989362000000002, 5.4185653, 6.8471613, 5.059882, 5.028757, 5.572255999999999, 2.583071, 5.2988586, 6.207814, 1.3590378, 6.2869209999999995, 5.8739550000000005, 6.5712223, 7.311450999999999, 5.0536113, 5.92523, 2.318373, 5.8365593, 6.8910884999999995, 5.9843150000000005, 5.284594, 5.430473, 5.3357773, 5.5094129999999994, 6.1462183, 5.513267, 6.812672599999999, 5.568671, 6.186176000000001, 4.362938400000001, 2.7013655, 4.351694599999999, 4.714322, 5.984852, 4.8596144, 2.3847362999999997, 5.7281904, 5.068281, 5.571569, 4.780078400000001, 4.8659887, 0.113035865, 1.9316357, 4.2910705, 4.9984226, 4.459043, 4.4285364000000005, 5.562621, 4.419676, 5.5892158, 3.341025, 6.129828, 4.594648, 5.206561, 5.0383463, 5.657596, 4.6710763, 6.2811174, 5.310309999999999, 4.837817, 5.358198000000001, 6.013433, 5.676183, 4.7734933, 4.1637797, 5.1417836999999995, 5.827000599999999, 5.090715, 5.210582, 6.2722483, 5.8966637, 3.9951413000000002, 6.0455666, 6.609990600000001, 2.3113217, 5.688936, 0.6401216, 5.3102136, 5.698872, 5.3722067000000004, 5.688322, 5.312728400000001, 5.2910733, 6.4334636, 6.3318305, 6.280453, 2.2088432, 4.998747, 2.2454419999999997, 3.5120807000000003, 4.722548000000001, 6.4357557, 5.4309087, 6.3299685, 6.1789665000000005, 6.487275, 4.59472, 5.083696400000001, 5.8070636, 5.7520685, 2.9676087000000004, 4.036437, 7.0833364, 4.8153877, 4.66716, 2.7156773, 4.395576, 5.5796847000000005, 3.0693848, 6.594048, 5.5135093, 6.120719, 5.0544415, 5.839949, 8.635946, 5.364545, 5.0948367, 1.688192, 6.8578563, 6.0032024, 6.1731067, 5.274334400000001, 4.195772, 2.4297272999999997, 5.654835, 5.8040595, 5.632029, 5.020164, 4.5952525, 6.539643, 5.9086823, 6.685662299999999, 5.528196299999999, 2.6285496, 5.736657599999999, 6.659464999999999, 3.1025019, 6.446843599999999, 6.1161017, 4.4559736, 2.4269385, 4.369318499999999, 0.42509028, 4.849394, 6.1797667, 4.874755, 5.7469397, 6.956133, 0.5686767, 6.396283599999999, 6.2807455, 5.753315, 5.8330283, 0.0, 1.9811323, 6.209766, 5.5780544, 4.2697353, 5.1705666, 5.8851237, 2.0931356, 5.7313957, 6.6409364, 4.3261676, 5.4875684, 5.8874755, 4.4805517, 1.2228909, 4.798344999999999, 5.5808444, 5.4285903, 6.5010943, 5.83122, 7.0418825, 5.4304, 5.5344777, 4.523839, 6.8590800000000005, 5.642002, 5.651528, 4.1489053, 6.421975, 5.3328767, 3.716526, 5.673822400000001, 5.2513723, 5.726869000000001, 6.6332759999999995, 3.6602282999999995, 2.2815950000000003, 5.021555, 6.2099247, 6.211377, 2.956829, 6.014390000000001, 5.522287, 6.9462475999999995, 4.2916627, 5.685128700000001, 5.3825417, 5.657374400000001, 6.888949, 5.83819, 5.8268504, 4.6330457]]}, \"header\": {\"align\": \"left\", \"fill\": {\"color\": \"paleturquoise\"}, \"values\": [\"cluster_label\", \"higher_cluster\", \"Cell_Type\", \"Gene\", \"Expression\"]}, \"type\": \"table\"}],\n",
       "                        {\"template\": {\"data\": {\"bar\": [{\"error_x\": {\"color\": \"#2a3f5f\"}, \"error_y\": {\"color\": \"#2a3f5f\"}, \"marker\": {\"line\": {\"color\": \"#E5ECF6\", \"width\": 0.5}}, \"type\": \"bar\"}], \"barpolar\": [{\"marker\": {\"line\": {\"color\": \"#E5ECF6\", \"width\": 0.5}}, \"type\": \"barpolar\"}], \"carpet\": [{\"aaxis\": {\"endlinecolor\": \"#2a3f5f\", \"gridcolor\": \"white\", \"linecolor\": \"white\", \"minorgridcolor\": \"white\", \"startlinecolor\": \"#2a3f5f\"}, \"baxis\": {\"endlinecolor\": \"#2a3f5f\", \"gridcolor\": \"white\", \"linecolor\": \"white\", \"minorgridcolor\": \"white\", \"startlinecolor\": \"#2a3f5f\"}, \"type\": \"carpet\"}], \"choropleth\": [{\"colorbar\": {\"outlinewidth\": 0, \"ticks\": \"\"}, \"type\": \"choropleth\"}], \"contour\": [{\"colorbar\": {\"outlinewidth\": 0, \"ticks\": \"\"}, \"colorscale\": [[0.0, \"#0d0887\"], [0.1111111111111111, \"#46039f\"], [0.2222222222222222, \"#7201a8\"], [0.3333333333333333, \"#9c179e\"], [0.4444444444444444, \"#bd3786\"], [0.5555555555555556, \"#d8576b\"], [0.6666666666666666, \"#ed7953\"], [0.7777777777777778, \"#fb9f3a\"], [0.8888888888888888, \"#fdca26\"], [1.0, \"#f0f921\"]], \"type\": \"contour\"}], \"contourcarpet\": [{\"colorbar\": {\"outlinewidth\": 0, \"ticks\": \"\"}, \"type\": \"contourcarpet\"}], \"heatmap\": [{\"colorbar\": {\"outlinewidth\": 0, \"ticks\": \"\"}, \"colorscale\": [[0.0, \"#0d0887\"], [0.1111111111111111, \"#46039f\"], [0.2222222222222222, \"#7201a8\"], [0.3333333333333333, \"#9c179e\"], [0.4444444444444444, \"#bd3786\"], [0.5555555555555556, \"#d8576b\"], [0.6666666666666666, \"#ed7953\"], [0.7777777777777778, \"#fb9f3a\"], [0.8888888888888888, \"#fdca26\"], [1.0, \"#f0f921\"]], \"type\": \"heatmap\"}], \"heatmapgl\": [{\"colorbar\": {\"outlinewidth\": 0, \"ticks\": \"\"}, \"colorscale\": [[0.0, \"#0d0887\"], [0.1111111111111111, \"#46039f\"], [0.2222222222222222, \"#7201a8\"], [0.3333333333333333, \"#9c179e\"], [0.4444444444444444, \"#bd3786\"], [0.5555555555555556, \"#d8576b\"], [0.6666666666666666, \"#ed7953\"], [0.7777777777777778, \"#fb9f3a\"], [0.8888888888888888, \"#fdca26\"], [1.0, \"#f0f921\"]], \"type\": \"heatmapgl\"}], \"histogram\": [{\"marker\": {\"colorbar\": {\"outlinewidth\": 0, \"ticks\": \"\"}}, \"type\": \"histogram\"}], \"histogram2d\": [{\"colorbar\": {\"outlinewidth\": 0, \"ticks\": \"\"}, \"colorscale\": [[0.0, \"#0d0887\"], [0.1111111111111111, \"#46039f\"], [0.2222222222222222, \"#7201a8\"], [0.3333333333333333, \"#9c179e\"], [0.4444444444444444, \"#bd3786\"], [0.5555555555555556, \"#d8576b\"], [0.6666666666666666, \"#ed7953\"], [0.7777777777777778, \"#fb9f3a\"], [0.8888888888888888, \"#fdca26\"], [1.0, \"#f0f921\"]], \"type\": \"histogram2d\"}], \"histogram2dcontour\": [{\"colorbar\": {\"outlinewidth\": 0, \"ticks\": \"\"}, \"colorscale\": [[0.0, \"#0d0887\"], [0.1111111111111111, \"#46039f\"], [0.2222222222222222, \"#7201a8\"], [0.3333333333333333, \"#9c179e\"], [0.4444444444444444, \"#bd3786\"], [0.5555555555555556, \"#d8576b\"], [0.6666666666666666, \"#ed7953\"], [0.7777777777777778, \"#fb9f3a\"], [0.8888888888888888, \"#fdca26\"], [1.0, \"#f0f921\"]], \"type\": \"histogram2dcontour\"}], \"mesh3d\": [{\"colorbar\": {\"outlinewidth\": 0, \"ticks\": \"\"}, \"type\": \"mesh3d\"}], \"parcoords\": [{\"line\": {\"colorbar\": {\"outlinewidth\": 0, \"ticks\": \"\"}}, \"type\": \"parcoords\"}], \"pie\": [{\"automargin\": true, \"type\": \"pie\"}], \"scatter\": [{\"marker\": {\"colorbar\": {\"outlinewidth\": 0, \"ticks\": \"\"}}, \"type\": \"scatter\"}], \"scatter3d\": [{\"line\": {\"colorbar\": {\"outlinewidth\": 0, \"ticks\": \"\"}}, \"marker\": {\"colorbar\": {\"outlinewidth\": 0, \"ticks\": \"\"}}, \"type\": \"scatter3d\"}], \"scattercarpet\": [{\"marker\": {\"colorbar\": {\"outlinewidth\": 0, \"ticks\": \"\"}}, \"type\": \"scattercarpet\"}], \"scattergeo\": [{\"marker\": {\"colorbar\": {\"outlinewidth\": 0, \"ticks\": \"\"}}, \"type\": \"scattergeo\"}], \"scattergl\": [{\"marker\": {\"colorbar\": {\"outlinewidth\": 0, \"ticks\": \"\"}}, \"type\": \"scattergl\"}], \"scattermapbox\": [{\"marker\": {\"colorbar\": {\"outlinewidth\": 0, \"ticks\": \"\"}}, \"type\": \"scattermapbox\"}], \"scatterpolar\": [{\"marker\": {\"colorbar\": {\"outlinewidth\": 0, \"ticks\": \"\"}}, \"type\": \"scatterpolar\"}], \"scatterpolargl\": [{\"marker\": {\"colorbar\": {\"outlinewidth\": 0, \"ticks\": \"\"}}, \"type\": \"scatterpolargl\"}], \"scatterternary\": [{\"marker\": {\"colorbar\": {\"outlinewidth\": 0, \"ticks\": \"\"}}, \"type\": \"scatterternary\"}], \"surface\": [{\"colorbar\": {\"outlinewidth\": 0, \"ticks\": \"\"}, \"colorscale\": [[0.0, \"#0d0887\"], [0.1111111111111111, \"#46039f\"], [0.2222222222222222, \"#7201a8\"], [0.3333333333333333, \"#9c179e\"], [0.4444444444444444, \"#bd3786\"], [0.5555555555555556, \"#d8576b\"], [0.6666666666666666, \"#ed7953\"], [0.7777777777777778, \"#fb9f3a\"], [0.8888888888888888, \"#fdca26\"], [1.0, \"#f0f921\"]], \"type\": \"surface\"}], \"table\": [{\"cells\": {\"fill\": {\"color\": \"#EBF0F8\"}, \"line\": {\"color\": \"white\"}}, \"header\": {\"fill\": {\"color\": \"#C8D4E3\"}, \"line\": {\"color\": \"white\"}}, \"type\": \"table\"}]}, \"layout\": {\"annotationdefaults\": {\"arrowcolor\": \"#2a3f5f\", \"arrowhead\": 0, \"arrowwidth\": 1}, \"coloraxis\": {\"colorbar\": {\"outlinewidth\": 0, \"ticks\": \"\"}}, \"colorscale\": {\"diverging\": [[0, \"#8e0152\"], [0.1, \"#c51b7d\"], [0.2, \"#de77ae\"], [0.3, \"#f1b6da\"], [0.4, \"#fde0ef\"], [0.5, \"#f7f7f7\"], [0.6, \"#e6f5d0\"], [0.7, \"#b8e186\"], [0.8, \"#7fbc41\"], [0.9, \"#4d9221\"], [1, \"#276419\"]], \"sequential\": [[0.0, \"#0d0887\"], [0.1111111111111111, \"#46039f\"], [0.2222222222222222, \"#7201a8\"], [0.3333333333333333, \"#9c179e\"], [0.4444444444444444, \"#bd3786\"], [0.5555555555555556, \"#d8576b\"], [0.6666666666666666, \"#ed7953\"], [0.7777777777777778, \"#fb9f3a\"], [0.8888888888888888, \"#fdca26\"], [1.0, \"#f0f921\"]], \"sequentialminus\": [[0.0, \"#0d0887\"], [0.1111111111111111, \"#46039f\"], [0.2222222222222222, \"#7201a8\"], [0.3333333333333333, \"#9c179e\"], [0.4444444444444444, \"#bd3786\"], [0.5555555555555556, \"#d8576b\"], [0.6666666666666666, \"#ed7953\"], [0.7777777777777778, \"#fb9f3a\"], [0.8888888888888888, \"#fdca26\"], [1.0, \"#f0f921\"]]}, \"colorway\": [\"#636efa\", \"#EF553B\", \"#00cc96\", \"#ab63fa\", \"#FFA15A\", \"#19d3f3\", \"#FF6692\", \"#B6E880\", \"#FF97FF\", \"#FECB52\"], \"font\": {\"color\": \"#2a3f5f\"}, \"geo\": {\"bgcolor\": \"white\", \"lakecolor\": \"white\", \"landcolor\": \"#E5ECF6\", \"showlakes\": true, \"showland\": true, \"subunitcolor\": \"white\"}, \"hoverlabel\": {\"align\": \"left\"}, \"hovermode\": \"closest\", \"mapbox\": {\"style\": \"light\"}, \"paper_bgcolor\": \"white\", \"plot_bgcolor\": \"#E5ECF6\", \"polar\": {\"angularaxis\": {\"gridcolor\": \"white\", \"linecolor\": \"white\", \"ticks\": \"\"}, \"bgcolor\": \"#E5ECF6\", \"radialaxis\": {\"gridcolor\": \"white\", \"linecolor\": \"white\", \"ticks\": \"\"}}, \"scene\": {\"xaxis\": {\"backgroundcolor\": \"#E5ECF6\", \"gridcolor\": \"white\", \"gridwidth\": 2, \"linecolor\": \"white\", \"showbackground\": true, \"ticks\": \"\", \"zerolinecolor\": \"white\"}, \"yaxis\": {\"backgroundcolor\": \"#E5ECF6\", \"gridcolor\": \"white\", \"gridwidth\": 2, \"linecolor\": \"white\", \"showbackground\": true, \"ticks\": \"\", \"zerolinecolor\": \"white\"}, \"zaxis\": {\"backgroundcolor\": \"#E5ECF6\", \"gridcolor\": \"white\", \"gridwidth\": 2, \"linecolor\": \"white\", \"showbackground\": true, \"ticks\": \"\", \"zerolinecolor\": \"white\"}}, \"shapedefaults\": {\"line\": {\"color\": \"#2a3f5f\"}}, \"ternary\": {\"aaxis\": {\"gridcolor\": \"white\", \"linecolor\": \"white\", \"ticks\": \"\"}, \"baxis\": {\"gridcolor\": \"white\", \"linecolor\": \"white\", \"ticks\": \"\"}, \"bgcolor\": \"#E5ECF6\", \"caxis\": {\"gridcolor\": \"white\", \"linecolor\": \"white\", \"ticks\": \"\"}}, \"title\": {\"x\": 0.05}, \"xaxis\": {\"automargin\": true, \"gridcolor\": \"white\", \"linecolor\": \"white\", \"ticks\": \"\", \"title\": {\"standoff\": 15}, \"zerolinecolor\": \"white\", \"zerolinewidth\": 2}, \"yaxis\": {\"automargin\": true, \"gridcolor\": \"white\", \"linecolor\": \"white\", \"ticks\": \"\", \"title\": {\"standoff\": 15}, \"zerolinecolor\": \"white\", \"zerolinewidth\": 2}}}, \"title\": {\"text\": \"Rapgef2: Rapgef2: Adult mouse, Single Cell, Allen Transcriptomics\"}},\n",
       "                        {\"responsive\": true}\n",
       "                    ).then(function(){\n",
       "                            \n",
       "var gd = document.getElementById('53309498-bdab-46b0-93b7-5b6265a078b2');\n",
       "var x = new MutationObserver(function (mutations, observer) {{\n",
       "        var display = window.getComputedStyle(gd).display;\n",
       "        if (!display || display === 'none') {{\n",
       "            console.log([gd, 'removed!']);\n",
       "            Plotly.purge(gd);\n",
       "            observer.disconnect();\n",
       "        }}\n",
       "}});\n",
       "\n",
       "// Listen for the removal of the full notebook cells\n",
       "var notebookContainer = gd.closest('#notebook-container');\n",
       "if (notebookContainer) {{\n",
       "    x.observe(notebookContainer, {childList: true});\n",
       "}}\n",
       "\n",
       "// Listen for the clearing of the current output cell\n",
       "var outputEl = gd.closest('.output');\n",
       "if (outputEl) {{\n",
       "    x.observe(outputEl, {childList: true});\n",
       "}}\n",
       "\n",
       "                        })\n",
       "                };\n",
       "                });\n",
       "            </script>\n",
       "        </div>"
      ]
     },
     "metadata": {},
     "output_type": "display_data"
    }
   ],
   "source": [
    "\n",
    "mouse_means0 = pd.read_csv('https://idk-etl-prod-download-bucket.s3.amazonaws.com/aibs_mouse_ctx-hip_smart-seq/trimmed_means.csv')\n",
    "#human_means0 = pd.read_csv('https://idk-etl-prod-download-bucket.s3.amazonaws.com/aibs_human_ctx_smart-seq/trimmed_means.csv')\n",
    "\n",
    "# Get all gene and cell type names: HUMAN\n",
    "#human_idx = list(human_means0.columns.values)\n",
    "#human_listOfColumnNames = list(human_means0['cluster_label'])\n",
    "# Get all gene and cell type: MOUSE\n",
    "mouse_idx = list(mouse_means0.columns.values)\n",
    "mouse_listOfColumnNames = list(mouse_means0['cluster_label'])\n",
    "\n",
    "\n",
    "#combine clusters into higher_clusters\n",
    "newlist =[]\n",
    "for i in mouse_listOfColumnNames:\n",
    "    i = str(i)\n",
    "    head, sep, tail = i.partition('_') \n",
    "    newlist.append(tail) \n",
    "mouse_means0['higher_cluster'] = newlist\n",
    "\n",
    "\n",
    "\n",
    "#list what cell clusters count as which cell types\n",
    "excite_list = ['CA1','CA1-ProS','CA2-IG-FC','CA3','CT SUB','DG', 'L2 IT ENTl',\n",
    " 'L2 IT ENTm','L2 IT HATA','L2 IT PAR','L2 IT ProS','L2 IT RSP-ACA','L2 IT RSPv',\n",
    " 'L2/3 IT APr','L2/3 IT CTX','L2/3 IT ENTl','L2/3 IT PPP','L2/3 IT TPE',\n",
    " 'L3 IT ENTl','L3 IT ENTm','L3 RSP-ACA','L4/5 IT CTX','L4/5 IT TPE-ENT',\n",
    " 'L5 IT CTX','L5 IT TPE-ENT','L5 NP CTX','L5 PPP','L5 PT CTX','L5 PT RSP-ACA',\n",
    " 'L5/6 IT CTX', 'L6 Car3', 'L6 CT CTX','L6 CT ENTm','L6 IT CTX','L6 IT ENTl',\n",
    " 'L6 IT RHP','L6 NP CT CTX','L6b CTX','L6b RHP','L6b/CT ENT','Pax6','SUB','SUB-ProS', 'ProS','Ndnf HPF'\n",
    " 'NP PPP','NP SUB']\n",
    "\n",
    "non_neuron_list = [ 'VLMC', 'Oligo', 'Micro', 'Endo', 'Astro', 'CR', 'OPC', 'Peri',  'PVM', 'SMC', 'v3d']\n",
    "\n",
    "inhib_list =  ['Lamp5 Lhx6','Lamp5','Meis2','Pvalb Vipr2','Pvalb','Sncg','Sst Chodl','Sst','Vip']\n",
    "\n",
    "all_list = excite_list + non_neuron_list + inhib_list\n",
    "\n",
    "#add cell type data to frame\n",
    "mega_grps = []\n",
    "for i in mouse_means0[\"higher_cluster\"]:\n",
    "    if i in excite_list :\n",
    "        mega_grps.append(\"Excitatory\")\n",
    "    if i in inhib_list :\n",
    "        mega_grps.append(\"Inhibitory\")\n",
    "    if i in non_neuron_list :\n",
    "        mega_grps.append(\"Non-Neuronal\")\n",
    "    if i not in all_list :\n",
    "        mega_grps.append(\"Unknown\")\n",
    "mouse_means0[\"Cell_Type\"] = mega_grps\n",
    "\n",
    "#reshape for graphing\n",
    "genestestdf1 = pd.melt(mouse_means0, id_vars =['cluster_label','higher_cluster', \"Cell_Type\"],\n",
    "                      var_name ='Gene', value_name ='Expression')\n",
    "genestestdf2 = genestestdf1[genestestdf1[\"Gene\"] == 'Rapgef2']\n",
    "\n",
    "\n",
    "fig = px.bar(genestestdf2, x=\"higher_cluster\", y=\"Expression\", color = \"Cell_Type\", \n",
    "                    #facet_col = \"Cell_Type\",\n",
    "             #facet_wrap = 4,\n",
    "                    width=1000, height=600,\n",
    "                    hover_name = \"cluster_label\",\n",
    "                    hover_data = [\"higher_cluster\", \"Cell_Type\", \"Expression\"]\n",
    "                    )\n",
    "for a in fig.layout.annotations:\n",
    "    a.text = a.text.split(\"=\")[1]\n",
    "fig.update_yaxes(title_text='')\n",
    "fig.update_layout(\n",
    "    title=\"Rapgef2: Adult mouse, Single Cell, Allen Transcriptomics\",\n",
    "    xaxis_title=\"Cell Type\",\n",
    "    yaxis_title=\"Expression\",\n",
    "    xaxis={'categoryorder':'total descending'}\n",
    ")\n",
    "fig.show()\n",
    "\n",
    "            ## print table\n",
    "fig2 = go.Figure(data=[go.Table(\n",
    "    header=dict(values=list(genestestdf2.columns),\n",
    "                fill_color='paleturquoise',\n",
    "                align='left'),\n",
    "    cells=dict(values=[genestestdf2.cluster_label,genestestdf2.higher_cluster, genestestdf2.Cell_Type, genestestdf2.Gene,genestestdf2.Expression],\n",
    "               fill_color='lavender',\n",
    "               align='left'))\n",
    "])\n",
    "\n",
    "fig2.update_layout(title=\"Rapgef2: Rapgef2: Adult mouse, Single Cell, Allen Transcriptomics\")\n",
    "fig2.show()"
   ]
  },
  {
   "cell_type": "code",
   "execution_count": 3,
   "metadata": {
    "hideCode": true,
    "hidePrompt": true
   },
   "outputs": [
    {
     "data": {
      "application/vnd.plotly.v1+json": {
       "config": {
        "plotlyServerURL": "https://plot.ly"
       },
       "data": [
        {
         "alignmentgroup": "True",
         "customdata": [
          [
           "Neuron",
           "Neuron_CA2CA3_Pvrl3-Rgs15-Calb2 [#6]",
           2.83321334405622,
           0
          ],
          [
           "Neuron",
           "Neuron_Subiculum_Slc17a6 [#2]",
           2.7080502011022096,
           8.395659836866479e-31
          ],
          [
           "Neuron",
           "RSG_Tshz2-Shisa8 [#6]",
           2.6390573296152597,
           2.04576845240115e-107
          ],
          [
           "Neuron",
           "Neuron_Claustrum_Nr4a2 [#5]",
           2.484906649788,
           4.08400032039014e-11
          ],
          [
           "Neuron",
           "Neuron_Layer5_Parm1 [#7]",
           2.3978952727983702,
           2.38100419074208e-40
          ],
          [
           "Neuron",
           "Neuron_Subiculum_Entorhinal_Nxph3 [#3]",
           2.3978952727983702,
           0.00308944818365243
          ],
          [
           "Neuron",
           "Neuron_Dentate_C1ql2 [#4]",
           2.3978952727983702,
           8.476327376513849e-16
          ],
          [
           "Neuron",
           "Neuron_CA1_Subiculum_Postsubiculum_Entorhinal_Fibcd1-Dcn-Cbln1-Ptgfr-Fezf2 [#5]",
           2.3978952727983702,
           0.0554503267529836
          ],
          [
           "Neuron",
           "Neuron_dSPN_Drd1 [#10]",
           2.3978952727983702,
           1.0216283241220297e-79
          ],
          [
           "Neuron",
           "Neuron_Layer23_Nptxr [#6]",
           2.30258509299405,
           9.457377094537159e-78
          ],
          [
           "Neuron",
           "Neuron_Ppp1r1b [#3]",
           2.30258509299405,
           1.8449111529613893e-160
          ],
          [
           "Neuron",
           "Neuron_iSPN_Adora2a [#11]",
           2.30258509299405,
           0.00025053024506471803
          ],
          [
           "Neuron",
           "Neuron_SPN_BNST_Amygdala_Otof [#13]",
           2.30258509299405,
           0.153343908737328
          ],
          [
           "Neuron",
           "Neuron_Layer6Subplate_Syt6 [#3]",
           2.19722457733622,
           1.3203933214913901e-05
          ],
          [
           "Neuron",
           "Neuron_Layer6Subplate_Syt6 [#1]",
           2.19722457733622,
           0.194047659376876
          ],
          [
           "Neuron",
           "Neuron_Layer23_5_6_Subiculum_Calb1-Rorb-Fermt1-Tshz2-Oprk1-Crym-Sema3e [#2]",
           2.19722457733622,
           0.0037563751311186703
          ],
          [
           "Neuron",
           "Neuron_Layer5_Bcl6 [#3]",
           2.19722457733622,
           0.00431631623411374
          ],
          [
           "Neuron",
           "Interneuron_CGE_Cplx3-Synpr [#1]",
           2.07944154167984,
           0.000279315538527082
          ],
          [
           "Neuron",
           "Interneuron_MGE_Sst-Pvalb [#2]",
           2.07944154167984,
           2.7334910469714998e-05
          ],
          [
           "Neuron",
           "Neuron_Layer5b_Fezf2 [#4]",
           2.07944154167984,
           0.000779548184255756
          ],
          [
           "Neuron",
           "Interneuron_CGE_Cplx3-Synpr [#4]",
           2.07944154167984,
           0.0536532635228013
          ],
          [
           "Neuron",
           "Interneuron_MGE_Sst-Pvalb [#5]",
           2.07944154167984,
           0.146184065984034
          ],
          [
           "Neuron",
           "Layer5b_Fezf2 [#7]",
           2.07944154167984,
           0.22644718861229698
          ],
          [
           "Neuron",
           "Interneuron_Gad2 [#1]",
           2.07944154167984,
           2.11724779689152e-44
          ],
          [
           "Neuron",
           "Neuron_Gad2-Ahi1 [#3]",
           2.07944154167984,
           5.026535384337099e-56
          ],
          [
           "Neuron",
           "Interneurons_and_Other_Nnat [#4]",
           1.9459101490553101,
           0.10706606257167
          ],
          [
           "Neuron",
           "Interneuron_Pvalb_Th_Pnoc [#14]",
           1.9459101490553101,
           8.17709121905317e-07
          ],
          [
           "Neuron",
           "Interneuron_Sst [#15]",
           1.9459101490553101,
           7.080372174011159e-07
          ],
          [
           "Neuron",
           "Neuron_CA3_C1ql3 [#1]",
           1.9459101490553101,
           0.0256506522864582
          ],
          [
           "Neuron",
           "Neuron_Rora [#2]",
           1.9459101490553101,
           0.0166059844979101
          ],
          [
           "Neuron",
           "Neuron_Syt1 [#4]",
           1.79175946922805,
           1.25197128995084e-24
          ],
          [
           "Neuron",
           "Neuron_Gabra1 [#2]",
           1.79175946922805,
           1.57532829508569e-25
          ],
          [
           "Neuron",
           "Neuron_CajalRetzius_Lhx1 [#14]",
           1.79175946922805,
           1.18968826336102e-05
          ],
          [
           "Neuron",
           "Neuron_Gad2 [#3]",
           1.79175946922805,
           6.17260809057622e-65
          ],
          [
           "Neuron",
           "Neuron_Habenula_Tac2 [#1]",
           1.79175946922805,
           0.9543560730527451
          ],
          [
           "Neuron",
           "Neuron_Rora [#2]",
           1.79175946922805,
           7.847678298460959e-35
          ],
          [
           "Neuron",
           "GranularNeuron_Gabra6 [#1]",
           1.6094379124341003,
           1.73675101298754e-18
          ],
          [
           "Neuron",
           "Interneurons_Pvalb [#3]",
           1.6094379124341003,
           0.203723812470323
          ],
          [
           "Neuron",
           "Interneuron_Chat [#12]",
           1.6094379124341003,
           1.79125995385936e-09
          ],
          [
           "Neuron",
           "Neuron_Chat [#1]",
           1.38629436111989,
           0.0028261219723870303
          ],
          [
           "Neuron",
           "Neuron_Th [#4]",
           1.38629436111989,
           0.92859716777852
          ],
          [
           "Neuron",
           "PurkinjeNeuron_Pcp2 [#2]",
           0.693147180559945,
           1.18792292476695e-10
          ]
         ],
         "hovertemplate": "<b>%{hovertext}</b><br><br>Class=%{customdata[0]}<br>Rapgef2_Amount=%{customdata[2]}<br>Cluster=%{customdata[1]}<br>Rapgef2_PVal=%{customdata[3]}<extra></extra>",
         "hovertext": [
          "Neuron_CA2CA3_Pvrl3-Rgs15-Calb2 [#6]",
          "Neuron_Subiculum_Slc17a6 [#2]",
          "RSG_Tshz2-Shisa8 [#6]",
          "Neuron_Claustrum_Nr4a2 [#5]",
          "Neuron_Layer5_Parm1 [#7]",
          "Neuron_Subiculum_Entorhinal_Nxph3 [#3]",
          "Neuron_Dentate_C1ql2 [#4]",
          "Neuron_CA1_Subiculum_Postsubiculum_Entorhinal_Fibcd1-Dcn-Cbln1-Ptgfr-Fezf2 [#5]",
          "Neuron_dSPN_Drd1 [#10]",
          "Neuron_Layer23_Nptxr [#6]",
          "Neuron_Ppp1r1b [#3]",
          "Neuron_iSPN_Adora2a [#11]",
          "Neuron_SPN_BNST_Amygdala_Otof [#13]",
          "Neuron_Layer6Subplate_Syt6 [#3]",
          "Neuron_Layer6Subplate_Syt6 [#1]",
          "Neuron_Layer23_5_6_Subiculum_Calb1-Rorb-Fermt1-Tshz2-Oprk1-Crym-Sema3e [#2]",
          "Neuron_Layer5_Bcl6 [#3]",
          "Interneuron_CGE_Cplx3-Synpr [#1]",
          "Interneuron_MGE_Sst-Pvalb [#2]",
          "Neuron_Layer5b_Fezf2 [#4]",
          "Interneuron_CGE_Cplx3-Synpr [#4]",
          "Interneuron_MGE_Sst-Pvalb [#5]",
          "Layer5b_Fezf2 [#7]",
          "Interneuron_Gad2 [#1]",
          "Neuron_Gad2-Ahi1 [#3]",
          "Interneurons_and_Other_Nnat [#4]",
          "Interneuron_Pvalb_Th_Pnoc [#14]",
          "Interneuron_Sst [#15]",
          "Neuron_CA3_C1ql3 [#1]",
          "Neuron_Rora [#2]",
          "Neuron_Syt1 [#4]",
          "Neuron_Gabra1 [#2]",
          "Neuron_CajalRetzius_Lhx1 [#14]",
          "Neuron_Gad2 [#3]",
          "Neuron_Habenula_Tac2 [#1]",
          "Neuron_Rora [#2]",
          "GranularNeuron_Gabra6 [#1]",
          "Interneurons_Pvalb [#3]",
          "Interneuron_Chat [#12]",
          "Neuron_Chat [#1]",
          "Neuron_Th [#4]",
          "PurkinjeNeuron_Pcp2 [#2]"
         ],
         "legendgroup": "Neuron",
         "marker": {
          "color": "#636efa"
         },
         "name": "Neuron",
         "offsetgroup": "Neuron",
         "orientation": "v",
         "showlegend": true,
         "textposition": "auto",
         "type": "bar",
         "x": [
          "Neuron",
          "Neuron",
          "Neuron",
          "Neuron",
          "Neuron",
          "Neuron",
          "Neuron",
          "Neuron",
          "Neuron",
          "Neuron",
          "Neuron",
          "Neuron",
          "Neuron",
          "Neuron",
          "Neuron",
          "Neuron",
          "Neuron",
          "Neuron",
          "Neuron",
          "Neuron",
          "Neuron",
          "Neuron",
          "Neuron",
          "Neuron",
          "Neuron",
          "Neuron",
          "Neuron",
          "Neuron",
          "Neuron",
          "Neuron",
          "Neuron",
          "Neuron",
          "Neuron",
          "Neuron",
          "Neuron",
          "Neuron",
          "Neuron",
          "Neuron",
          "Neuron",
          "Neuron",
          "Neuron",
          "Neuron"
         ],
         "xaxis": "x",
         "y": [
          2.83321334405622,
          2.7080502011022096,
          2.6390573296152597,
          2.484906649788,
          2.3978952727983702,
          2.3978952727983702,
          2.3978952727983702,
          2.3978952727983702,
          2.3978952727983702,
          2.30258509299405,
          2.30258509299405,
          2.30258509299405,
          2.30258509299405,
          2.19722457733622,
          2.19722457733622,
          2.19722457733622,
          2.19722457733622,
          2.07944154167984,
          2.07944154167984,
          2.07944154167984,
          2.07944154167984,
          2.07944154167984,
          2.07944154167984,
          2.07944154167984,
          2.07944154167984,
          1.9459101490553101,
          1.9459101490553101,
          1.9459101490553101,
          1.9459101490553101,
          1.9459101490553101,
          1.79175946922805,
          1.79175946922805,
          1.79175946922805,
          1.79175946922805,
          1.79175946922805,
          1.79175946922805,
          1.6094379124341003,
          1.6094379124341003,
          1.6094379124341003,
          1.38629436111989,
          1.38629436111989,
          0.693147180559945
         ],
         "yaxis": "y"
        },
        {
         "alignmentgroup": "True",
         "customdata": [
          [
           "Endothelial",
           "Endothelial_Flt1 [#12]",
           2.3978952727983702,
           4.40665977396744e-15
          ],
          [
           "Endothelial",
           "Endothelial_Flt1 [#7]",
           2.3978952727983702,
           6.4904261133257686e-114
          ],
          [
           "Endothelial",
           "Endothelial_Flt1 [#4]",
           2.3978952727983702,
           6.691088642699817e-171
          ],
          [
           "Endothelial",
           "Endothelial_Flt1 [#12]",
           2.30258509299405,
           1.31248904844705e-05
          ],
          [
           "Endothelial",
           "Endothelial_Flt1 [#2]",
           2.30258509299405,
           1.06178373845168e-52
          ],
          [
           "Endothelial",
           "Endothelial_Flt1 [#15]",
           2.30258509299405,
           0.006363408180190829
          ],
          [
           "Endothelial",
           "Endothelial_Flt1 [#7]",
           2.30258509299405,
           0.6284673104457571
          ],
          [
           "Endothelial",
           "Endothelial_Flt1 [#12]",
           2.30258509299405,
           1.67267522002675e-110
          ],
          [
           "Endothelial",
           "Endothelial_Flt1 [#10]",
           1.79175946922805,
           0.0144725822990474
          ]
         ],
         "hovertemplate": "<b>%{hovertext}</b><br><br>Class=%{customdata[0]}<br>Rapgef2_Amount=%{customdata[2]}<br>Cluster=%{customdata[1]}<br>Rapgef2_PVal=%{customdata[3]}<extra></extra>",
         "hovertext": [
          "Endothelial_Flt1 [#12]",
          "Endothelial_Flt1 [#7]",
          "Endothelial_Flt1 [#4]",
          "Endothelial_Flt1 [#12]",
          "Endothelial_Flt1 [#2]",
          "Endothelial_Flt1 [#15]",
          "Endothelial_Flt1 [#7]",
          "Endothelial_Flt1 [#12]",
          "Endothelial_Flt1 [#10]"
         ],
         "legendgroup": "Endothelial",
         "marker": {
          "color": "#EF553B"
         },
         "name": "Endothelial",
         "offsetgroup": "Endothelial",
         "orientation": "v",
         "showlegend": true,
         "textposition": "auto",
         "type": "bar",
         "x": [
          "Endothelial",
          "Endothelial",
          "Endothelial",
          "Endothelial",
          "Endothelial",
          "Endothelial",
          "Endothelial",
          "Endothelial",
          "Endothelial"
         ],
         "xaxis": "x",
         "y": [
          2.3978952727983702,
          2.3978952727983702,
          2.3978952727983702,
          2.30258509299405,
          2.30258509299405,
          2.30258509299405,
          2.30258509299405,
          2.30258509299405,
          1.79175946922805
         ],
         "yaxis": "y"
        },
        {
         "alignmentgroup": "True",
         "customdata": [
          [
           "Microglia_Macrophage",
           "Microglia_Macrophage_C1qb [#11]",
           1.9459101490553101,
           0.000828026835336854
          ],
          [
           "Microglia_Macrophage",
           "Microglia_Macrophage_Tmem119-Mrc1 [#11]",
           1.79175946922805,
           0.0007552144256360299
          ],
          [
           "Microglia_Macrophage",
           "Microglia_Macrophage_C1qb [#9]",
           1.79175946922805,
           0.72435692397616
          ],
          [
           "Microglia_Macrophage",
           "Microglia_Macrophage_C1qb [#11]",
           1.6094379124341003,
           0.350521353975846
          ],
          [
           "Microglia_Macrophage",
           "Microglia_Macrophage_C1qb [#5]",
           1.38629436111989,
           1
          ],
          [
           "Microglia_Macrophage",
           "Microglia_Macrophage_C1qb [#10]",
           1.38629436111989,
           1.20276580325459e-13
          ],
          [
           "Microglia_Macrophage",
           "Microglia_Macrophage_C1qb [#6]",
           1.38629436111989,
           2.76480750070967e-08
          ],
          [
           "Microglia_Macrophage",
           "Microglia_Macrophage_C1qb [#7]",
           1.38629436111989,
           0.21636739638133398
          ]
         ],
         "hovertemplate": "<b>%{hovertext}</b><br><br>Class=%{customdata[0]}<br>Rapgef2_Amount=%{customdata[2]}<br>Cluster=%{customdata[1]}<br>Rapgef2_PVal=%{customdata[3]}<extra></extra>",
         "hovertext": [
          "Microglia_Macrophage_C1qb [#11]",
          "Microglia_Macrophage_Tmem119-Mrc1 [#11]",
          "Microglia_Macrophage_C1qb [#9]",
          "Microglia_Macrophage_C1qb [#11]",
          "Microglia_Macrophage_C1qb [#5]",
          "Microglia_Macrophage_C1qb [#10]",
          "Microglia_Macrophage_C1qb [#6]",
          "Microglia_Macrophage_C1qb [#7]"
         ],
         "legendgroup": "Microglia_Macrophage",
         "marker": {
          "color": "#00cc96"
         },
         "name": "Microglia_Macrophage",
         "offsetgroup": "Microglia_Macrophage",
         "orientation": "v",
         "showlegend": true,
         "textposition": "auto",
         "type": "bar",
         "x": [
          "Microglia_Macrophage",
          "Microglia_Macrophage",
          "Microglia_Macrophage",
          "Microglia_Macrophage",
          "Microglia_Macrophage",
          "Microglia_Macrophage",
          "Microglia_Macrophage",
          "Microglia_Macrophage"
         ],
         "xaxis": "x",
         "y": [
          1.9459101490553101,
          1.79175946922805,
          1.79175946922805,
          1.6094379124341003,
          1.38629436111989,
          1.38629436111989,
          1.38629436111989,
          1.38629436111989
         ],
         "yaxis": "y"
        },
        {
         "alignmentgroup": "True",
         "customdata": [
          [
           "Polydendrocyte",
           "Polydendrocyte_Tnr [#10]",
           1.9459101490553101,
           0.000152815223778874
          ],
          [
           "Polydendrocyte",
           "Polydendrocyte_Cacng4 [#6]",
           1.9459101490553101,
           0.0069983746516588
          ],
          [
           "Polydendrocyte",
           "Polydendrocyte_Tnr [#9]",
           1.9459101490553101,
           1.2003031355035401e-16
          ],
          [
           "Polydendrocyte",
           "Polydendrocyte_Tnr [#10]",
           1.79175946922805,
           6.3607687731623e-20
          ],
          [
           "Polydendrocyte",
           "Polydendrocyte_Cacng4 [#6]",
           1.79175946922805,
           0.251857801049146
          ],
          [
           "Polydendrocyte",
           "Polydendrocyte_Tnr [#4]",
           1.6094379124341003,
           0.00771879891596438
          ],
          [
           "Polydendrocyte",
           "Polydendrocyte_Tnr [#12]",
           1.6094379124341003,
           0.00327500487207077
          ],
          [
           "Polydendrocyte",
           "Polydendrocyte_Tnr [#5]",
           1.38629436111989,
           0.9295341041400258
          ],
          [
           "Polydendrocyte",
           "Polydendrocytes_Tnr [#5]",
           1.38629436111989,
           1.33730692279079e-11
          ],
          [
           "Polydendrocyte",
           "Polydendrocyte_Tnr [#5]",
           1.38629436111989,
           0.0607223888241891
          ]
         ],
         "hovertemplate": "<b>%{hovertext}</b><br><br>Class=%{customdata[0]}<br>Rapgef2_Amount=%{customdata[2]}<br>Cluster=%{customdata[1]}<br>Rapgef2_PVal=%{customdata[3]}<extra></extra>",
         "hovertext": [
          "Polydendrocyte_Tnr [#10]",
          "Polydendrocyte_Cacng4 [#6]",
          "Polydendrocyte_Tnr [#9]",
          "Polydendrocyte_Tnr [#10]",
          "Polydendrocyte_Cacng4 [#6]",
          "Polydendrocyte_Tnr [#4]",
          "Polydendrocyte_Tnr [#12]",
          "Polydendrocyte_Tnr [#5]",
          "Polydendrocytes_Tnr [#5]",
          "Polydendrocyte_Tnr [#5]"
         ],
         "legendgroup": "Polydendrocyte",
         "marker": {
          "color": "#ab63fa"
         },
         "name": "Polydendrocyte",
         "offsetgroup": "Polydendrocyte",
         "orientation": "v",
         "showlegend": true,
         "textposition": "auto",
         "type": "bar",
         "x": [
          "Polydendrocyte",
          "Polydendrocyte",
          "Polydendrocyte",
          "Polydendrocyte",
          "Polydendrocyte",
          "Polydendrocyte",
          "Polydendrocyte",
          "Polydendrocyte",
          "Polydendrocyte",
          "Polydendrocyte"
         ],
         "xaxis": "x",
         "y": [
          1.9459101490553101,
          1.9459101490553101,
          1.9459101490553101,
          1.79175946922805,
          1.79175946922805,
          1.6094379124341003,
          1.6094379124341003,
          1.38629436111989,
          1.38629436111989,
          1.38629436111989
         ],
         "yaxis": "y"
        },
        {
         "alignmentgroup": "True",
         "customdata": [
          [
           "Mural",
           "Mural_Rgs5Acta2 [#13]",
           1.79175946922805,
           8.119370014787241e-05
          ],
          [
           "Mural",
           "Mural_Rgs5Acta2 [#8]",
           1.79175946922805,
           0.189023615583846
          ],
          [
           "Mural",
           "Mural_Rgs5Acta2 [#16]",
           1.79175946922805,
           2.3515885448863e-14
          ],
          [
           "Mural",
           "Mural_Rgs5Acta2 [#13]",
           1.6094379124341003,
           1.50161641052176e-12
          ],
          [
           "Mural",
           "Mural_Rgs5Acta2 [#8]",
           1.6094379124341003,
           1.53275060204671e-05
          ],
          [
           "Mural",
           "Mural_Rgs5Acta2 [#13]",
           1.38629436111989,
           0.0268152843274057
          ],
          [
           "Mural",
           "Mural_Rgs5Acta2 [#5]",
           1.09861228866811,
           5.3517746994949e-09
          ]
         ],
         "hovertemplate": "<b>%{hovertext}</b><br><br>Class=%{customdata[0]}<br>Rapgef2_Amount=%{customdata[2]}<br>Cluster=%{customdata[1]}<br>Rapgef2_PVal=%{customdata[3]}<extra></extra>",
         "hovertext": [
          "Mural_Rgs5Acta2 [#13]",
          "Mural_Rgs5Acta2 [#8]",
          "Mural_Rgs5Acta2 [#16]",
          "Mural_Rgs5Acta2 [#13]",
          "Mural_Rgs5Acta2 [#8]",
          "Mural_Rgs5Acta2 [#13]",
          "Mural_Rgs5Acta2 [#5]"
         ],
         "legendgroup": "Mural",
         "marker": {
          "color": "#FFA15A"
         },
         "name": "Mural",
         "offsetgroup": "Mural",
         "orientation": "v",
         "showlegend": true,
         "textposition": "auto",
         "type": "bar",
         "x": [
          "Mural",
          "Mural",
          "Mural",
          "Mural",
          "Mural",
          "Mural",
          "Mural"
         ],
         "xaxis": "x",
         "y": [
          1.79175946922805,
          1.79175946922805,
          1.79175946922805,
          1.6094379124341003,
          1.6094379124341003,
          1.38629436111989,
          1.09861228866811
         ],
         "yaxis": "y"
        },
        {
         "alignmentgroup": "True",
         "customdata": [
          [
           "Fibroblast-Like",
           "Fibroblast-Like_Dcn [#11]",
           1.6094379124341003,
           0.270637432891013
          ],
          [
           "Fibroblast-Like",
           "Fibroblast-Like_Dcn [#14]",
           1.6094379124341003,
           1.04647936919361e-06
          ],
          [
           "Fibroblast-Like",
           "Fibroblast-Like_Dcn [#17]",
           1.6094379124341003,
           1.4386936541247902e-10
          ],
          [
           "Fibroblast-Like",
           "Fibroblast-Like_Dcn [#14]",
           1.38629436111989,
           2.58624032364085e-10
          ],
          [
           "Fibroblast-Like",
           "Fibroblast-Like_Dcn [#14]",
           1.38629436111989,
           0.504613607373631
          ],
          [
           "Fibroblast-Like",
           "Fibroblast-Like_Dcn [#9]",
           1.09861228866811,
           0.000529451734125346
          ],
          [
           "Fibroblast-Like",
           "Fibroblast-Like_Dcn [#9]",
           1.09861228866811,
           0.000286117428408625
          ],
          [
           "Fibroblast-Like",
           "Fibroblast-Like_Dcn [#6]",
           1.09861228866811,
           0.00347509202417995
          ]
         ],
         "hovertemplate": "<b>%{hovertext}</b><br><br>Class=%{customdata[0]}<br>Rapgef2_Amount=%{customdata[2]}<br>Cluster=%{customdata[1]}<br>Rapgef2_PVal=%{customdata[3]}<extra></extra>",
         "hovertext": [
          "Fibroblast-Like_Dcn [#11]",
          "Fibroblast-Like_Dcn [#14]",
          "Fibroblast-Like_Dcn [#17]",
          "Fibroblast-Like_Dcn [#14]",
          "Fibroblast-Like_Dcn [#14]",
          "Fibroblast-Like_Dcn [#9]",
          "Fibroblast-Like_Dcn [#9]",
          "Fibroblast-Like_Dcn [#6]"
         ],
         "legendgroup": "Fibroblast-Like",
         "marker": {
          "color": "#19d3f3"
         },
         "name": "Fibroblast-Like",
         "offsetgroup": "Fibroblast-Like",
         "orientation": "v",
         "showlegend": true,
         "textposition": "auto",
         "type": "bar",
         "x": [
          "Fibroblast-Like",
          "Fibroblast-Like",
          "Fibroblast-Like",
          "Fibroblast-Like",
          "Fibroblast-Like",
          "Fibroblast-Like",
          "Fibroblast-Like",
          "Fibroblast-Like"
         ],
         "xaxis": "x",
         "y": [
          1.6094379124341003,
          1.6094379124341003,
          1.6094379124341003,
          1.38629436111989,
          1.38629436111989,
          1.09861228866811,
          1.09861228866811,
          1.09861228866811
         ],
         "yaxis": "y"
        },
        {
         "alignmentgroup": "True",
         "customdata": [
          [
           "Ependyma",
           "Ependyma [#11]",
           1.6094379124341003,
           1.54716792094626e-20
          ],
          [
           "Ependyma",
           "Ependyma [#6]",
           1.38629436111989,
           0.8509395884992971
          ],
          [
           "Ependyma",
           "Ependyma [#10]",
           1.38629436111989,
           0.000123412095684622
          ],
          [
           "Ependyma",
           "Ependyma [#1]",
           1.09861228866811,
           2.56294224586472e-11
          ],
          [
           "Ependyma",
           "Ependyma [#8]",
           0,
           0.282091515156483
          ]
         ],
         "hovertemplate": "<b>%{hovertext}</b><br><br>Class=%{customdata[0]}<br>Rapgef2_Amount=%{customdata[2]}<br>Cluster=%{customdata[1]}<br>Rapgef2_PVal=%{customdata[3]}<extra></extra>",
         "hovertext": [
          "Ependyma [#11]",
          "Ependyma [#6]",
          "Ependyma [#10]",
          "Ependyma [#1]",
          "Ependyma [#8]"
         ],
         "legendgroup": "Ependyma",
         "marker": {
          "color": "#FF6692"
         },
         "name": "Ependyma",
         "offsetgroup": "Ependyma",
         "orientation": "v",
         "showlegend": true,
         "textposition": "auto",
         "type": "bar",
         "x": [
          "Ependyma",
          "Ependyma",
          "Ependyma",
          "Ependyma",
          "Ependyma"
         ],
         "xaxis": "x",
         "y": [
          1.6094379124341003,
          1.38629436111989,
          1.38629436111989,
          1.09861228866811,
          0
         ],
         "yaxis": "y"
        },
        {
         "alignmentgroup": "True",
         "customdata": [
          [
           "Astrocyte",
           "Astrocyte_Gja1 [#8]",
           1.38629436111989,
           0.207546139989629
          ],
          [
           "Astrocyte",
           "Astrocyte_Gja1 [#7]",
           1.38629436111989,
           0.8238031283144499
          ],
          [
           "Astrocyte",
           "Astrocyte_Gja1 [#8]",
           1.09861228866811,
           8.30033878669186e-108
          ],
          [
           "Astrocyte",
           "Astrocyte_Gja1 [#8]",
           1.09861228866811,
           1.80165119787941e-95
          ],
          [
           "Astrocyte",
           "Astrocyte_Gja1 [#5]",
           1.09861228866811,
           2.9024595334880697e-62
          ],
          [
           "Astrocyte",
           "Astrocyte_Gja1 [#7]",
           1.09861228866811,
           0
          ],
          [
           "Astrocyte",
           "Astrocyte_Gja1 [#7]",
           1.09861228866811,
           7.057369680979029e-05
          ],
          [
           "Astrocyte",
           "Astrocyte_Gja1 [#11]",
           1.09861228866811,
           2.8617207807286203e-06
          ],
          [
           "Astrocyte",
           "BergmannGlia_Gpr37l1 [#7]",
           0.693147180559945,
           4.7275554824616604e-17
          ],
          [
           "Astrocyte",
           "Astrocyte_Gja1 [#4]",
           0.693147180559945,
           2.829559034875449e-77
          ]
         ],
         "hovertemplate": "<b>%{hovertext}</b><br><br>Class=%{customdata[0]}<br>Rapgef2_Amount=%{customdata[2]}<br>Cluster=%{customdata[1]}<br>Rapgef2_PVal=%{customdata[3]}<extra></extra>",
         "hovertext": [
          "Astrocyte_Gja1 [#8]",
          "Astrocyte_Gja1 [#7]",
          "Astrocyte_Gja1 [#8]",
          "Astrocyte_Gja1 [#8]",
          "Astrocyte_Gja1 [#5]",
          "Astrocyte_Gja1 [#7]",
          "Astrocyte_Gja1 [#7]",
          "Astrocyte_Gja1 [#11]",
          "BergmannGlia_Gpr37l1 [#7]",
          "Astrocyte_Gja1 [#4]"
         ],
         "legendgroup": "Astrocyte",
         "marker": {
          "color": "#B6E880"
         },
         "name": "Astrocyte",
         "offsetgroup": "Astrocyte",
         "orientation": "v",
         "showlegend": true,
         "textposition": "auto",
         "type": "bar",
         "x": [
          "Astrocyte",
          "Astrocyte",
          "Astrocyte",
          "Astrocyte",
          "Astrocyte",
          "Astrocyte",
          "Astrocyte",
          "Astrocyte",
          "Astrocyte",
          "Astrocyte"
         ],
         "xaxis": "x",
         "y": [
          1.38629436111989,
          1.38629436111989,
          1.09861228866811,
          1.09861228866811,
          1.09861228866811,
          1.09861228866811,
          1.09861228866811,
          1.09861228866811,
          0.693147180559945,
          0.693147180559945
         ],
         "yaxis": "y"
        },
        {
         "alignmentgroup": "True",
         "customdata": [
          [
           "Oligodendrocyte",
           "Oligodendrocyte_Tfr [#9]",
           1.38629436111989,
           3.35475989642239e-48
          ],
          [
           "Oligodendrocyte",
           "Oligodendrocyte_Tfr [#9]",
           1.09861228866811,
           2.9336053861321694e-138
          ],
          [
           "Oligodendrocyte",
           "Oligodendrocyte_Tfr [#1]",
           1.09861228866811,
           1.0166639501301e-76
          ],
          [
           "Oligodendrocyte",
           "Oligodendrocyte_Mbp [#8]",
           1.09861228866811,
           0.25150354255119195
          ],
          [
           "Oligodendrocyte",
           "Oligodendrocyte_Tfr [#10]",
           1.09861228866811,
           3.1884195149426384e-252
          ],
          [
           "Oligodendrocyte",
           "Oligodendrocyte_Tfr [#8]",
           1.09861228866811,
           5.344614663645819e-115
          ],
          [
           "Oligodendrocyte",
           "Oligodendrocytes_Tfr [#3]",
           1.09861228866811,
           1.25885744507358e-67
          ],
          [
           "Oligodendrocyte",
           "Oligodendrocyte_Tfr [#10]",
           1.09861228866811,
           1.868357956949709e-168
          ],
          [
           "Oligodendrocyte",
           "Oligodendrocyte_Tfr [#8]",
           1.09861228866811,
           1.4015507805e-314
          ],
          [
           "Oligodendrocyte",
           "Oligodendrocyte_Mbp [#11]",
           0.693147180559945,
           0.0041185124783610794
          ],
          [
           "Oligodendrocyte",
           "Oligodendrocyte_Mbp [#9]",
           0.693147180559945,
           0.00011140520851921299
          ]
         ],
         "hovertemplate": "<b>%{hovertext}</b><br><br>Class=%{customdata[0]}<br>Rapgef2_Amount=%{customdata[2]}<br>Cluster=%{customdata[1]}<br>Rapgef2_PVal=%{customdata[3]}<extra></extra>",
         "hovertext": [
          "Oligodendrocyte_Tfr [#9]",
          "Oligodendrocyte_Tfr [#9]",
          "Oligodendrocyte_Tfr [#1]",
          "Oligodendrocyte_Mbp [#8]",
          "Oligodendrocyte_Tfr [#10]",
          "Oligodendrocyte_Tfr [#8]",
          "Oligodendrocytes_Tfr [#3]",
          "Oligodendrocyte_Tfr [#10]",
          "Oligodendrocyte_Tfr [#8]",
          "Oligodendrocyte_Mbp [#11]",
          "Oligodendrocyte_Mbp [#9]"
         ],
         "legendgroup": "Oligodendrocyte",
         "marker": {
          "color": "#FF97FF"
         },
         "name": "Oligodendrocyte",
         "offsetgroup": "Oligodendrocyte",
         "orientation": "v",
         "showlegend": true,
         "textposition": "auto",
         "type": "bar",
         "x": [
          "Oligodendrocyte",
          "Oligodendrocyte",
          "Oligodendrocyte",
          "Oligodendrocyte",
          "Oligodendrocyte",
          "Oligodendrocyte",
          "Oligodendrocyte",
          "Oligodendrocyte",
          "Oligodendrocyte",
          "Oligodendrocyte",
          "Oligodendrocyte"
         ],
         "xaxis": "x",
         "y": [
          1.38629436111989,
          1.09861228866811,
          1.09861228866811,
          1.09861228866811,
          1.09861228866811,
          1.09861228866811,
          1.09861228866811,
          1.09861228866811,
          1.09861228866811,
          0.693147180559945,
          0.693147180559945
         ],
         "yaxis": "y"
        },
        {
         "alignmentgroup": "True",
         "customdata": [
          [
           "Mural_Fibroblast-Like",
           "Mural_Fibroblast-Like_Rgs5Acta2-Dcn [#3]",
           1.38629436111989,
           0.639263644667849
          ]
         ],
         "hovertemplate": "<b>%{hovertext}</b><br><br>Class=%{customdata[0]}<br>Rapgef2_Amount=%{customdata[2]}<br>Cluster=%{customdata[1]}<br>Rapgef2_PVal=%{customdata[3]}<extra></extra>",
         "hovertext": [
          "Mural_Fibroblast-Like_Rgs5Acta2-Dcn [#3]"
         ],
         "legendgroup": "Mural_Fibroblast-Like",
         "marker": {
          "color": "#FECB52"
         },
         "name": "Mural_Fibroblast-Like",
         "offsetgroup": "Mural_Fibroblast-Like",
         "orientation": "v",
         "showlegend": true,
         "textposition": "auto",
         "type": "bar",
         "x": [
          "Mural_Fibroblast-Like"
         ],
         "xaxis": "x",
         "y": [
          1.38629436111989
         ],
         "yaxis": "y"
        },
        {
         "alignmentgroup": "True",
         "customdata": [
          [
           "Neurogenesis",
           "Neurogenesis_Sox4 [#13]",
           1.38629436111989,
           7.41730218135675e-18
          ],
          [
           "Neurogenesis",
           "Neurogenesis_Sox4 [#2]",
           0.693147180559945,
           8.91329084250312e-29
          ]
         ],
         "hovertemplate": "<b>%{hovertext}</b><br><br>Class=%{customdata[0]}<br>Rapgef2_Amount=%{customdata[2]}<br>Cluster=%{customdata[1]}<br>Rapgef2_PVal=%{customdata[3]}<extra></extra>",
         "hovertext": [
          "Neurogenesis_Sox4 [#13]",
          "Neurogenesis_Sox4 [#2]"
         ],
         "legendgroup": "Neurogenesis",
         "marker": {
          "color": "#636efa"
         },
         "name": "Neurogenesis",
         "offsetgroup": "Neurogenesis",
         "orientation": "v",
         "showlegend": true,
         "textposition": "auto",
         "type": "bar",
         "x": [
          "Neurogenesis",
          "Neurogenesis"
         ],
         "xaxis": "x",
         "y": [
          1.38629436111989,
          0.693147180559945
         ],
         "yaxis": "y"
        },
        {
         "alignmentgroup": "True",
         "customdata": [
          [
           "Oligodendrocyte_Polydendrocyte",
           "Oligodendrocyte_Polydendrocyte_Tfr_Tnr [#6]",
           1.09861228866811,
           0.00036323604305688197
          ]
         ],
         "hovertemplate": "<b>%{hovertext}</b><br><br>Class=%{customdata[0]}<br>Rapgef2_Amount=%{customdata[2]}<br>Cluster=%{customdata[1]}<br>Rapgef2_PVal=%{customdata[3]}<extra></extra>",
         "hovertext": [
          "Oligodendrocyte_Polydendrocyte_Tfr_Tnr [#6]"
         ],
         "legendgroup": "Oligodendrocyte_Polydendrocyte",
         "marker": {
          "color": "#EF553B"
         },
         "name": "Oligodendrocyte_Polydendrocyte",
         "offsetgroup": "Oligodendrocyte_Polydendrocyte",
         "orientation": "v",
         "showlegend": true,
         "textposition": "auto",
         "type": "bar",
         "x": [
          "Oligodendrocyte_Polydendrocyte"
         ],
         "xaxis": "x",
         "y": [
          1.09861228866811
         ],
         "yaxis": "y"
        },
        {
         "alignmentgroup": "True",
         "customdata": [
          [
           "Choroid_Plexus",
           "Choroid_Plexus_Ttr [#9]",
           0.693147180559945,
           0.0426465568287287
          ],
          [
           "Choroid_Plexus",
           "Choroid_Plexus_Ttr [#12]",
           0.693147180559945,
           3.84913180354258e-08
          ]
         ],
         "hovertemplate": "<b>%{hovertext}</b><br><br>Class=%{customdata[0]}<br>Rapgef2_Amount=%{customdata[2]}<br>Cluster=%{customdata[1]}<br>Rapgef2_PVal=%{customdata[3]}<extra></extra>",
         "hovertext": [
          "Choroid_Plexus_Ttr [#9]",
          "Choroid_Plexus_Ttr [#12]"
         ],
         "legendgroup": "Choroid_Plexus",
         "marker": {
          "color": "#00cc96"
         },
         "name": "Choroid_Plexus",
         "offsetgroup": "Choroid_Plexus",
         "orientation": "v",
         "showlegend": true,
         "textposition": "auto",
         "type": "bar",
         "x": [
          "Choroid_Plexus",
          "Choroid_Plexus"
         ],
         "xaxis": "x",
         "y": [
          0.693147180559945,
          0.693147180559945
         ],
         "yaxis": "y"
        }
       ],
       "layout": {
        "barmode": "relative",
        "height": 800,
        "legend": {
         "title": {
          "text": "Class"
         },
         "tracegroupgap": 0
        },
        "margin": {
         "t": 60
        },
        "template": {
         "data": {
          "bar": [
           {
            "error_x": {
             "color": "#2a3f5f"
            },
            "error_y": {
             "color": "#2a3f5f"
            },
            "marker": {
             "line": {
              "color": "#E5ECF6",
              "width": 0.5
             }
            },
            "type": "bar"
           }
          ],
          "barpolar": [
           {
            "marker": {
             "line": {
              "color": "#E5ECF6",
              "width": 0.5
             }
            },
            "type": "barpolar"
           }
          ],
          "carpet": [
           {
            "aaxis": {
             "endlinecolor": "#2a3f5f",
             "gridcolor": "white",
             "linecolor": "white",
             "minorgridcolor": "white",
             "startlinecolor": "#2a3f5f"
            },
            "baxis": {
             "endlinecolor": "#2a3f5f",
             "gridcolor": "white",
             "linecolor": "white",
             "minorgridcolor": "white",
             "startlinecolor": "#2a3f5f"
            },
            "type": "carpet"
           }
          ],
          "choropleth": [
           {
            "colorbar": {
             "outlinewidth": 0,
             "ticks": ""
            },
            "type": "choropleth"
           }
          ],
          "contour": [
           {
            "colorbar": {
             "outlinewidth": 0,
             "ticks": ""
            },
            "colorscale": [
             [
              0,
              "#0d0887"
             ],
             [
              0.1111111111111111,
              "#46039f"
             ],
             [
              0.2222222222222222,
              "#7201a8"
             ],
             [
              0.3333333333333333,
              "#9c179e"
             ],
             [
              0.4444444444444444,
              "#bd3786"
             ],
             [
              0.5555555555555556,
              "#d8576b"
             ],
             [
              0.6666666666666666,
              "#ed7953"
             ],
             [
              0.7777777777777778,
              "#fb9f3a"
             ],
             [
              0.8888888888888888,
              "#fdca26"
             ],
             [
              1,
              "#f0f921"
             ]
            ],
            "type": "contour"
           }
          ],
          "contourcarpet": [
           {
            "colorbar": {
             "outlinewidth": 0,
             "ticks": ""
            },
            "type": "contourcarpet"
           }
          ],
          "heatmap": [
           {
            "colorbar": {
             "outlinewidth": 0,
             "ticks": ""
            },
            "colorscale": [
             [
              0,
              "#0d0887"
             ],
             [
              0.1111111111111111,
              "#46039f"
             ],
             [
              0.2222222222222222,
              "#7201a8"
             ],
             [
              0.3333333333333333,
              "#9c179e"
             ],
             [
              0.4444444444444444,
              "#bd3786"
             ],
             [
              0.5555555555555556,
              "#d8576b"
             ],
             [
              0.6666666666666666,
              "#ed7953"
             ],
             [
              0.7777777777777778,
              "#fb9f3a"
             ],
             [
              0.8888888888888888,
              "#fdca26"
             ],
             [
              1,
              "#f0f921"
             ]
            ],
            "type": "heatmap"
           }
          ],
          "heatmapgl": [
           {
            "colorbar": {
             "outlinewidth": 0,
             "ticks": ""
            },
            "colorscale": [
             [
              0,
              "#0d0887"
             ],
             [
              0.1111111111111111,
              "#46039f"
             ],
             [
              0.2222222222222222,
              "#7201a8"
             ],
             [
              0.3333333333333333,
              "#9c179e"
             ],
             [
              0.4444444444444444,
              "#bd3786"
             ],
             [
              0.5555555555555556,
              "#d8576b"
             ],
             [
              0.6666666666666666,
              "#ed7953"
             ],
             [
              0.7777777777777778,
              "#fb9f3a"
             ],
             [
              0.8888888888888888,
              "#fdca26"
             ],
             [
              1,
              "#f0f921"
             ]
            ],
            "type": "heatmapgl"
           }
          ],
          "histogram": [
           {
            "marker": {
             "colorbar": {
              "outlinewidth": 0,
              "ticks": ""
             }
            },
            "type": "histogram"
           }
          ],
          "histogram2d": [
           {
            "colorbar": {
             "outlinewidth": 0,
             "ticks": ""
            },
            "colorscale": [
             [
              0,
              "#0d0887"
             ],
             [
              0.1111111111111111,
              "#46039f"
             ],
             [
              0.2222222222222222,
              "#7201a8"
             ],
             [
              0.3333333333333333,
              "#9c179e"
             ],
             [
              0.4444444444444444,
              "#bd3786"
             ],
             [
              0.5555555555555556,
              "#d8576b"
             ],
             [
              0.6666666666666666,
              "#ed7953"
             ],
             [
              0.7777777777777778,
              "#fb9f3a"
             ],
             [
              0.8888888888888888,
              "#fdca26"
             ],
             [
              1,
              "#f0f921"
             ]
            ],
            "type": "histogram2d"
           }
          ],
          "histogram2dcontour": [
           {
            "colorbar": {
             "outlinewidth": 0,
             "ticks": ""
            },
            "colorscale": [
             [
              0,
              "#0d0887"
             ],
             [
              0.1111111111111111,
              "#46039f"
             ],
             [
              0.2222222222222222,
              "#7201a8"
             ],
             [
              0.3333333333333333,
              "#9c179e"
             ],
             [
              0.4444444444444444,
              "#bd3786"
             ],
             [
              0.5555555555555556,
              "#d8576b"
             ],
             [
              0.6666666666666666,
              "#ed7953"
             ],
             [
              0.7777777777777778,
              "#fb9f3a"
             ],
             [
              0.8888888888888888,
              "#fdca26"
             ],
             [
              1,
              "#f0f921"
             ]
            ],
            "type": "histogram2dcontour"
           }
          ],
          "mesh3d": [
           {
            "colorbar": {
             "outlinewidth": 0,
             "ticks": ""
            },
            "type": "mesh3d"
           }
          ],
          "parcoords": [
           {
            "line": {
             "colorbar": {
              "outlinewidth": 0,
              "ticks": ""
             }
            },
            "type": "parcoords"
           }
          ],
          "pie": [
           {
            "automargin": true,
            "type": "pie"
           }
          ],
          "scatter": [
           {
            "marker": {
             "colorbar": {
              "outlinewidth": 0,
              "ticks": ""
             }
            },
            "type": "scatter"
           }
          ],
          "scatter3d": [
           {
            "line": {
             "colorbar": {
              "outlinewidth": 0,
              "ticks": ""
             }
            },
            "marker": {
             "colorbar": {
              "outlinewidth": 0,
              "ticks": ""
             }
            },
            "type": "scatter3d"
           }
          ],
          "scattercarpet": [
           {
            "marker": {
             "colorbar": {
              "outlinewidth": 0,
              "ticks": ""
             }
            },
            "type": "scattercarpet"
           }
          ],
          "scattergeo": [
           {
            "marker": {
             "colorbar": {
              "outlinewidth": 0,
              "ticks": ""
             }
            },
            "type": "scattergeo"
           }
          ],
          "scattergl": [
           {
            "marker": {
             "colorbar": {
              "outlinewidth": 0,
              "ticks": ""
             }
            },
            "type": "scattergl"
           }
          ],
          "scattermapbox": [
           {
            "marker": {
             "colorbar": {
              "outlinewidth": 0,
              "ticks": ""
             }
            },
            "type": "scattermapbox"
           }
          ],
          "scatterpolar": [
           {
            "marker": {
             "colorbar": {
              "outlinewidth": 0,
              "ticks": ""
             }
            },
            "type": "scatterpolar"
           }
          ],
          "scatterpolargl": [
           {
            "marker": {
             "colorbar": {
              "outlinewidth": 0,
              "ticks": ""
             }
            },
            "type": "scatterpolargl"
           }
          ],
          "scatterternary": [
           {
            "marker": {
             "colorbar": {
              "outlinewidth": 0,
              "ticks": ""
             }
            },
            "type": "scatterternary"
           }
          ],
          "surface": [
           {
            "colorbar": {
             "outlinewidth": 0,
             "ticks": ""
            },
            "colorscale": [
             [
              0,
              "#0d0887"
             ],
             [
              0.1111111111111111,
              "#46039f"
             ],
             [
              0.2222222222222222,
              "#7201a8"
             ],
             [
              0.3333333333333333,
              "#9c179e"
             ],
             [
              0.4444444444444444,
              "#bd3786"
             ],
             [
              0.5555555555555556,
              "#d8576b"
             ],
             [
              0.6666666666666666,
              "#ed7953"
             ],
             [
              0.7777777777777778,
              "#fb9f3a"
             ],
             [
              0.8888888888888888,
              "#fdca26"
             ],
             [
              1,
              "#f0f921"
             ]
            ],
            "type": "surface"
           }
          ],
          "table": [
           {
            "cells": {
             "fill": {
              "color": "#EBF0F8"
             },
             "line": {
              "color": "white"
             }
            },
            "header": {
             "fill": {
              "color": "#C8D4E3"
             },
             "line": {
              "color": "white"
             }
            },
            "type": "table"
           }
          ]
         },
         "layout": {
          "annotationdefaults": {
           "arrowcolor": "#2a3f5f",
           "arrowhead": 0,
           "arrowwidth": 1
          },
          "coloraxis": {
           "colorbar": {
            "outlinewidth": 0,
            "ticks": ""
           }
          },
          "colorscale": {
           "diverging": [
            [
             0,
             "#8e0152"
            ],
            [
             0.1,
             "#c51b7d"
            ],
            [
             0.2,
             "#de77ae"
            ],
            [
             0.3,
             "#f1b6da"
            ],
            [
             0.4,
             "#fde0ef"
            ],
            [
             0.5,
             "#f7f7f7"
            ],
            [
             0.6,
             "#e6f5d0"
            ],
            [
             0.7,
             "#b8e186"
            ],
            [
             0.8,
             "#7fbc41"
            ],
            [
             0.9,
             "#4d9221"
            ],
            [
             1,
             "#276419"
            ]
           ],
           "sequential": [
            [
             0,
             "#0d0887"
            ],
            [
             0.1111111111111111,
             "#46039f"
            ],
            [
             0.2222222222222222,
             "#7201a8"
            ],
            [
             0.3333333333333333,
             "#9c179e"
            ],
            [
             0.4444444444444444,
             "#bd3786"
            ],
            [
             0.5555555555555556,
             "#d8576b"
            ],
            [
             0.6666666666666666,
             "#ed7953"
            ],
            [
             0.7777777777777778,
             "#fb9f3a"
            ],
            [
             0.8888888888888888,
             "#fdca26"
            ],
            [
             1,
             "#f0f921"
            ]
           ],
           "sequentialminus": [
            [
             0,
             "#0d0887"
            ],
            [
             0.1111111111111111,
             "#46039f"
            ],
            [
             0.2222222222222222,
             "#7201a8"
            ],
            [
             0.3333333333333333,
             "#9c179e"
            ],
            [
             0.4444444444444444,
             "#bd3786"
            ],
            [
             0.5555555555555556,
             "#d8576b"
            ],
            [
             0.6666666666666666,
             "#ed7953"
            ],
            [
             0.7777777777777778,
             "#fb9f3a"
            ],
            [
             0.8888888888888888,
             "#fdca26"
            ],
            [
             1,
             "#f0f921"
            ]
           ]
          },
          "colorway": [
           "#636efa",
           "#EF553B",
           "#00cc96",
           "#ab63fa",
           "#FFA15A",
           "#19d3f3",
           "#FF6692",
           "#B6E880",
           "#FF97FF",
           "#FECB52"
          ],
          "font": {
           "color": "#2a3f5f"
          },
          "geo": {
           "bgcolor": "white",
           "lakecolor": "white",
           "landcolor": "#E5ECF6",
           "showlakes": true,
           "showland": true,
           "subunitcolor": "white"
          },
          "hoverlabel": {
           "align": "left"
          },
          "hovermode": "closest",
          "mapbox": {
           "style": "light"
          },
          "paper_bgcolor": "white",
          "plot_bgcolor": "#E5ECF6",
          "polar": {
           "angularaxis": {
            "gridcolor": "white",
            "linecolor": "white",
            "ticks": ""
           },
           "bgcolor": "#E5ECF6",
           "radialaxis": {
            "gridcolor": "white",
            "linecolor": "white",
            "ticks": ""
           }
          },
          "scene": {
           "xaxis": {
            "backgroundcolor": "#E5ECF6",
            "gridcolor": "white",
            "gridwidth": 2,
            "linecolor": "white",
            "showbackground": true,
            "ticks": "",
            "zerolinecolor": "white"
           },
           "yaxis": {
            "backgroundcolor": "#E5ECF6",
            "gridcolor": "white",
            "gridwidth": 2,
            "linecolor": "white",
            "showbackground": true,
            "ticks": "",
            "zerolinecolor": "white"
           },
           "zaxis": {
            "backgroundcolor": "#E5ECF6",
            "gridcolor": "white",
            "gridwidth": 2,
            "linecolor": "white",
            "showbackground": true,
            "ticks": "",
            "zerolinecolor": "white"
           }
          },
          "shapedefaults": {
           "line": {
            "color": "#2a3f5f"
           }
          },
          "ternary": {
           "aaxis": {
            "gridcolor": "white",
            "linecolor": "white",
            "ticks": ""
           },
           "baxis": {
            "gridcolor": "white",
            "linecolor": "white",
            "ticks": ""
           },
           "bgcolor": "#E5ECF6",
           "caxis": {
            "gridcolor": "white",
            "linecolor": "white",
            "ticks": ""
           }
          },
          "title": {
           "x": 0.05
          },
          "xaxis": {
           "automargin": true,
           "gridcolor": "white",
           "linecolor": "white",
           "ticks": "",
           "title": {
            "standoff": 15
           },
           "zerolinecolor": "white",
           "zerolinewidth": 2
          },
          "yaxis": {
           "automargin": true,
           "gridcolor": "white",
           "linecolor": "white",
           "ticks": "",
           "title": {
            "standoff": 15
           },
           "zerolinecolor": "white",
           "zerolinewidth": 2
          }
         }
        },
        "title": {
         "text": "Rapgef2: Adult mouse, Single Cell, Saunder, 2018 (DropViz)"
        },
        "width": 1000,
        "xaxis": {
         "anchor": "y",
         "categoryarray": [
          "Neuron",
          "Endothelial",
          "Microglia_Macrophage",
          "Polydendrocyte",
          "Mural",
          "Fibroblast-Like",
          "Ependyma",
          "Astrocyte",
          "Oligodendrocyte",
          "Mural_Fibroblast-Like",
          "Neurogenesis",
          "Oligodendrocyte_Polydendrocyte",
          "Choroid_Plexus"
         ],
         "categoryorder": "total descending",
         "domain": [
          0,
          1
         ],
         "title": {
          "text": "Cell Type"
         }
        },
        "yaxis": {
         "anchor": "x",
         "domain": [
          0,
          1
         ],
         "title": {
          "text": "Expression"
         }
        }
       }
      },
      "text/html": [
       "<div>\n",
       "        \n",
       "        \n",
       "            <div id=\"61e6534e-fedb-4458-b786-cd3131ab8faa\" class=\"plotly-graph-div\" style=\"height:800px; width:1000px;\"></div>\n",
       "            <script type=\"text/javascript\">\n",
       "                require([\"plotly\"], function(Plotly) {\n",
       "                    window.PLOTLYENV=window.PLOTLYENV || {};\n",
       "                    \n",
       "                if (document.getElementById(\"61e6534e-fedb-4458-b786-cd3131ab8faa\")) {\n",
       "                    Plotly.newPlot(\n",
       "                        '61e6534e-fedb-4458-b786-cd3131ab8faa',\n",
       "                        [{\"alignmentgroup\": \"True\", \"customdata\": [[\"Neuron\", \"Neuron_CA2CA3_Pvrl3-Rgs15-Calb2 [#6]\", 2.83321334405622, 0.0], [\"Neuron\", \"Neuron_Subiculum_Slc17a6 [#2]\", 2.7080502011022096, 8.395659836866479e-31], [\"Neuron\", \"RSG_Tshz2-Shisa8 [#6]\", 2.6390573296152597, 2.04576845240115e-107], [\"Neuron\", \"Neuron_Claustrum_Nr4a2 [#5]\", 2.484906649788, 4.08400032039014e-11], [\"Neuron\", \"Neuron_Layer5_Parm1 [#7]\", 2.3978952727983702, 2.38100419074208e-40], [\"Neuron\", \"Neuron_Subiculum_Entorhinal_Nxph3 [#3]\", 2.3978952727983702, 0.00308944818365243], [\"Neuron\", \"Neuron_Dentate_C1ql2 [#4]\", 2.3978952727983702, 8.476327376513849e-16], [\"Neuron\", \"Neuron_CA1_Subiculum_Postsubiculum_Entorhinal_Fibcd1-Dcn-Cbln1-Ptgfr-Fezf2 [#5]\", 2.3978952727983702, 0.0554503267529836], [\"Neuron\", \"Neuron_dSPN_Drd1 [#10]\", 2.3978952727983702, 1.0216283241220297e-79], [\"Neuron\", \"Neuron_Layer23_Nptxr [#6]\", 2.30258509299405, 9.457377094537159e-78], [\"Neuron\", \"Neuron_Ppp1r1b [#3]\", 2.30258509299405, 1.8449111529613893e-160], [\"Neuron\", \"Neuron_iSPN_Adora2a [#11]\", 2.30258509299405, 0.00025053024506471803], [\"Neuron\", \"Neuron_SPN_BNST_Amygdala_Otof [#13]\", 2.30258509299405, 0.153343908737328], [\"Neuron\", \"Neuron_Layer6Subplate_Syt6 [#3]\", 2.19722457733622, 1.3203933214913901e-05], [\"Neuron\", \"Neuron_Layer6Subplate_Syt6 [#1]\", 2.19722457733622, 0.194047659376876], [\"Neuron\", \"Neuron_Layer23_5_6_Subiculum_Calb1-Rorb-Fermt1-Tshz2-Oprk1-Crym-Sema3e [#2]\", 2.19722457733622, 0.0037563751311186703], [\"Neuron\", \"Neuron_Layer5_Bcl6 [#3]\", 2.19722457733622, 0.00431631623411374], [\"Neuron\", \"Interneuron_CGE_Cplx3-Synpr [#1]\", 2.07944154167984, 0.000279315538527082], [\"Neuron\", \"Interneuron_MGE_Sst-Pvalb [#2]\", 2.07944154167984, 2.7334910469714998e-05], [\"Neuron\", \"Neuron_Layer5b_Fezf2 [#4]\", 2.07944154167984, 0.000779548184255756], [\"Neuron\", \"Interneuron_CGE_Cplx3-Synpr [#4]\", 2.07944154167984, 0.0536532635228013], [\"Neuron\", \"Interneuron_MGE_Sst-Pvalb [#5]\", 2.07944154167984, 0.146184065984034], [\"Neuron\", \"Layer5b_Fezf2 [#7]\", 2.07944154167984, 0.22644718861229698], [\"Neuron\", \"Interneuron_Gad2 [#1]\", 2.07944154167984, 2.11724779689152e-44], [\"Neuron\", \"Neuron_Gad2-Ahi1 [#3]\", 2.07944154167984, 5.026535384337099e-56], [\"Neuron\", \"Interneurons_and_Other_Nnat [#4]\", 1.9459101490553101, 0.10706606257167], [\"Neuron\", \"Interneuron_Pvalb_Th_Pnoc [#14]\", 1.9459101490553101, 8.17709121905317e-07], [\"Neuron\", \"Interneuron_Sst [#15]\", 1.9459101490553101, 7.080372174011159e-07], [\"Neuron\", \"Neuron_CA3_C1ql3 [#1]\", 1.9459101490553101, 0.0256506522864582], [\"Neuron\", \"Neuron_Rora [#2]\", 1.9459101490553101, 0.0166059844979101], [\"Neuron\", \"Neuron_Syt1 [#4]\", 1.79175946922805, 1.25197128995084e-24], [\"Neuron\", \"Neuron_Gabra1 [#2]\", 1.79175946922805, 1.57532829508569e-25], [\"Neuron\", \"Neuron_CajalRetzius_Lhx1 [#14]\", 1.79175946922805, 1.18968826336102e-05], [\"Neuron\", \"Neuron_Gad2 [#3]\", 1.79175946922805, 6.17260809057622e-65], [\"Neuron\", \"Neuron_Habenula_Tac2 [#1]\", 1.79175946922805, 0.9543560730527451], [\"Neuron\", \"Neuron_Rora [#2]\", 1.79175946922805, 7.847678298460959e-35], [\"Neuron\", \"GranularNeuron_Gabra6 [#1]\", 1.6094379124341003, 1.73675101298754e-18], [\"Neuron\", \"Interneurons_Pvalb [#3]\", 1.6094379124341003, 0.203723812470323], [\"Neuron\", \"Interneuron_Chat [#12]\", 1.6094379124341003, 1.79125995385936e-09], [\"Neuron\", \"Neuron_Chat [#1]\", 1.38629436111989, 0.0028261219723870303], [\"Neuron\", \"Neuron_Th [#4]\", 1.38629436111989, 0.92859716777852], [\"Neuron\", \"PurkinjeNeuron_Pcp2 [#2]\", 0.693147180559945, 1.18792292476695e-10]], \"hovertemplate\": \"<b>%{hovertext}</b><br><br>Class=%{customdata[0]}<br>Rapgef2_Amount=%{customdata[2]}<br>Cluster=%{customdata[1]}<br>Rapgef2_PVal=%{customdata[3]}<extra></extra>\", \"hovertext\": [\"Neuron_CA2CA3_Pvrl3-Rgs15-Calb2 [#6]\", \"Neuron_Subiculum_Slc17a6 [#2]\", \"RSG_Tshz2-Shisa8 [#6]\", \"Neuron_Claustrum_Nr4a2 [#5]\", \"Neuron_Layer5_Parm1 [#7]\", \"Neuron_Subiculum_Entorhinal_Nxph3 [#3]\", \"Neuron_Dentate_C1ql2 [#4]\", \"Neuron_CA1_Subiculum_Postsubiculum_Entorhinal_Fibcd1-Dcn-Cbln1-Ptgfr-Fezf2 [#5]\", \"Neuron_dSPN_Drd1 [#10]\", \"Neuron_Layer23_Nptxr [#6]\", \"Neuron_Ppp1r1b [#3]\", \"Neuron_iSPN_Adora2a [#11]\", \"Neuron_SPN_BNST_Amygdala_Otof [#13]\", \"Neuron_Layer6Subplate_Syt6 [#3]\", \"Neuron_Layer6Subplate_Syt6 [#1]\", \"Neuron_Layer23_5_6_Subiculum_Calb1-Rorb-Fermt1-Tshz2-Oprk1-Crym-Sema3e [#2]\", \"Neuron_Layer5_Bcl6 [#3]\", \"Interneuron_CGE_Cplx3-Synpr [#1]\", \"Interneuron_MGE_Sst-Pvalb [#2]\", \"Neuron_Layer5b_Fezf2 [#4]\", \"Interneuron_CGE_Cplx3-Synpr [#4]\", \"Interneuron_MGE_Sst-Pvalb [#5]\", \"Layer5b_Fezf2 [#7]\", \"Interneuron_Gad2 [#1]\", \"Neuron_Gad2-Ahi1 [#3]\", \"Interneurons_and_Other_Nnat [#4]\", \"Interneuron_Pvalb_Th_Pnoc [#14]\", \"Interneuron_Sst [#15]\", \"Neuron_CA3_C1ql3 [#1]\", \"Neuron_Rora [#2]\", \"Neuron_Syt1 [#4]\", \"Neuron_Gabra1 [#2]\", \"Neuron_CajalRetzius_Lhx1 [#14]\", \"Neuron_Gad2 [#3]\", \"Neuron_Habenula_Tac2 [#1]\", \"Neuron_Rora [#2]\", \"GranularNeuron_Gabra6 [#1]\", \"Interneurons_Pvalb [#3]\", \"Interneuron_Chat [#12]\", \"Neuron_Chat [#1]\", \"Neuron_Th [#4]\", \"PurkinjeNeuron_Pcp2 [#2]\"], \"legendgroup\": \"Neuron\", \"marker\": {\"color\": \"#636efa\"}, \"name\": \"Neuron\", \"offsetgroup\": \"Neuron\", \"orientation\": \"v\", \"showlegend\": true, \"textposition\": \"auto\", \"type\": \"bar\", \"x\": [\"Neuron\", \"Neuron\", \"Neuron\", \"Neuron\", \"Neuron\", \"Neuron\", \"Neuron\", \"Neuron\", \"Neuron\", \"Neuron\", \"Neuron\", \"Neuron\", \"Neuron\", \"Neuron\", \"Neuron\", \"Neuron\", \"Neuron\", \"Neuron\", \"Neuron\", \"Neuron\", \"Neuron\", \"Neuron\", \"Neuron\", \"Neuron\", \"Neuron\", \"Neuron\", \"Neuron\", \"Neuron\", \"Neuron\", \"Neuron\", \"Neuron\", \"Neuron\", \"Neuron\", \"Neuron\", \"Neuron\", \"Neuron\", \"Neuron\", \"Neuron\", \"Neuron\", \"Neuron\", \"Neuron\", \"Neuron\"], \"xaxis\": \"x\", \"y\": [2.83321334405622, 2.7080502011022096, 2.6390573296152597, 2.484906649788, 2.3978952727983702, 2.3978952727983702, 2.3978952727983702, 2.3978952727983702, 2.3978952727983702, 2.30258509299405, 2.30258509299405, 2.30258509299405, 2.30258509299405, 2.19722457733622, 2.19722457733622, 2.19722457733622, 2.19722457733622, 2.07944154167984, 2.07944154167984, 2.07944154167984, 2.07944154167984, 2.07944154167984, 2.07944154167984, 2.07944154167984, 2.07944154167984, 1.9459101490553101, 1.9459101490553101, 1.9459101490553101, 1.9459101490553101, 1.9459101490553101, 1.79175946922805, 1.79175946922805, 1.79175946922805, 1.79175946922805, 1.79175946922805, 1.79175946922805, 1.6094379124341003, 1.6094379124341003, 1.6094379124341003, 1.38629436111989, 1.38629436111989, 0.693147180559945], \"yaxis\": \"y\"}, {\"alignmentgroup\": \"True\", \"customdata\": [[\"Endothelial\", \"Endothelial_Flt1 [#12]\", 2.3978952727983702, 4.40665977396744e-15], [\"Endothelial\", \"Endothelial_Flt1 [#7]\", 2.3978952727983702, 6.4904261133257686e-114], [\"Endothelial\", \"Endothelial_Flt1 [#4]\", 2.3978952727983702, 6.691088642699817e-171], [\"Endothelial\", \"Endothelial_Flt1 [#12]\", 2.30258509299405, 1.31248904844705e-05], [\"Endothelial\", \"Endothelial_Flt1 [#2]\", 2.30258509299405, 1.06178373845168e-52], [\"Endothelial\", \"Endothelial_Flt1 [#15]\", 2.30258509299405, 0.006363408180190829], [\"Endothelial\", \"Endothelial_Flt1 [#7]\", 2.30258509299405, 0.6284673104457571], [\"Endothelial\", \"Endothelial_Flt1 [#12]\", 2.30258509299405, 1.67267522002675e-110], [\"Endothelial\", \"Endothelial_Flt1 [#10]\", 1.79175946922805, 0.0144725822990474]], \"hovertemplate\": \"<b>%{hovertext}</b><br><br>Class=%{customdata[0]}<br>Rapgef2_Amount=%{customdata[2]}<br>Cluster=%{customdata[1]}<br>Rapgef2_PVal=%{customdata[3]}<extra></extra>\", \"hovertext\": [\"Endothelial_Flt1 [#12]\", \"Endothelial_Flt1 [#7]\", \"Endothelial_Flt1 [#4]\", \"Endothelial_Flt1 [#12]\", \"Endothelial_Flt1 [#2]\", \"Endothelial_Flt1 [#15]\", \"Endothelial_Flt1 [#7]\", \"Endothelial_Flt1 [#12]\", \"Endothelial_Flt1 [#10]\"], \"legendgroup\": \"Endothelial\", \"marker\": {\"color\": \"#EF553B\"}, \"name\": \"Endothelial\", \"offsetgroup\": \"Endothelial\", \"orientation\": \"v\", \"showlegend\": true, \"textposition\": \"auto\", \"type\": \"bar\", \"x\": [\"Endothelial\", \"Endothelial\", \"Endothelial\", \"Endothelial\", \"Endothelial\", \"Endothelial\", \"Endothelial\", \"Endothelial\", \"Endothelial\"], \"xaxis\": \"x\", \"y\": [2.3978952727983702, 2.3978952727983702, 2.3978952727983702, 2.30258509299405, 2.30258509299405, 2.30258509299405, 2.30258509299405, 2.30258509299405, 1.79175946922805], \"yaxis\": \"y\"}, {\"alignmentgroup\": \"True\", \"customdata\": [[\"Microglia_Macrophage\", \"Microglia_Macrophage_C1qb [#11]\", 1.9459101490553101, 0.000828026835336854], [\"Microglia_Macrophage\", \"Microglia_Macrophage_Tmem119-Mrc1 [#11]\", 1.79175946922805, 0.0007552144256360299], [\"Microglia_Macrophage\", \"Microglia_Macrophage_C1qb [#9]\", 1.79175946922805, 0.72435692397616], [\"Microglia_Macrophage\", \"Microglia_Macrophage_C1qb [#11]\", 1.6094379124341003, 0.350521353975846], [\"Microglia_Macrophage\", \"Microglia_Macrophage_C1qb [#5]\", 1.38629436111989, 1.0], [\"Microglia_Macrophage\", \"Microglia_Macrophage_C1qb [#10]\", 1.38629436111989, 1.20276580325459e-13], [\"Microglia_Macrophage\", \"Microglia_Macrophage_C1qb [#6]\", 1.38629436111989, 2.76480750070967e-08], [\"Microglia_Macrophage\", \"Microglia_Macrophage_C1qb [#7]\", 1.38629436111989, 0.21636739638133398]], \"hovertemplate\": \"<b>%{hovertext}</b><br><br>Class=%{customdata[0]}<br>Rapgef2_Amount=%{customdata[2]}<br>Cluster=%{customdata[1]}<br>Rapgef2_PVal=%{customdata[3]}<extra></extra>\", \"hovertext\": [\"Microglia_Macrophage_C1qb [#11]\", \"Microglia_Macrophage_Tmem119-Mrc1 [#11]\", \"Microglia_Macrophage_C1qb [#9]\", \"Microglia_Macrophage_C1qb [#11]\", \"Microglia_Macrophage_C1qb [#5]\", \"Microglia_Macrophage_C1qb [#10]\", \"Microglia_Macrophage_C1qb [#6]\", \"Microglia_Macrophage_C1qb [#7]\"], \"legendgroup\": \"Microglia_Macrophage\", \"marker\": {\"color\": \"#00cc96\"}, \"name\": \"Microglia_Macrophage\", \"offsetgroup\": \"Microglia_Macrophage\", \"orientation\": \"v\", \"showlegend\": true, \"textposition\": \"auto\", \"type\": \"bar\", \"x\": [\"Microglia_Macrophage\", \"Microglia_Macrophage\", \"Microglia_Macrophage\", \"Microglia_Macrophage\", \"Microglia_Macrophage\", \"Microglia_Macrophage\", \"Microglia_Macrophage\", \"Microglia_Macrophage\"], \"xaxis\": \"x\", \"y\": [1.9459101490553101, 1.79175946922805, 1.79175946922805, 1.6094379124341003, 1.38629436111989, 1.38629436111989, 1.38629436111989, 1.38629436111989], \"yaxis\": \"y\"}, {\"alignmentgroup\": \"True\", \"customdata\": [[\"Polydendrocyte\", \"Polydendrocyte_Tnr [#10]\", 1.9459101490553101, 0.000152815223778874], [\"Polydendrocyte\", \"Polydendrocyte_Cacng4 [#6]\", 1.9459101490553101, 0.0069983746516588], [\"Polydendrocyte\", \"Polydendrocyte_Tnr [#9]\", 1.9459101490553101, 1.2003031355035401e-16], [\"Polydendrocyte\", \"Polydendrocyte_Tnr [#10]\", 1.79175946922805, 6.3607687731623e-20], [\"Polydendrocyte\", \"Polydendrocyte_Cacng4 [#6]\", 1.79175946922805, 0.251857801049146], [\"Polydendrocyte\", \"Polydendrocyte_Tnr [#4]\", 1.6094379124341003, 0.00771879891596438], [\"Polydendrocyte\", \"Polydendrocyte_Tnr [#12]\", 1.6094379124341003, 0.00327500487207077], [\"Polydendrocyte\", \"Polydendrocyte_Tnr [#5]\", 1.38629436111989, 0.9295341041400258], [\"Polydendrocyte\", \"Polydendrocytes_Tnr [#5]\", 1.38629436111989, 1.33730692279079e-11], [\"Polydendrocyte\", \"Polydendrocyte_Tnr [#5]\", 1.38629436111989, 0.0607223888241891]], \"hovertemplate\": \"<b>%{hovertext}</b><br><br>Class=%{customdata[0]}<br>Rapgef2_Amount=%{customdata[2]}<br>Cluster=%{customdata[1]}<br>Rapgef2_PVal=%{customdata[3]}<extra></extra>\", \"hovertext\": [\"Polydendrocyte_Tnr [#10]\", \"Polydendrocyte_Cacng4 [#6]\", \"Polydendrocyte_Tnr [#9]\", \"Polydendrocyte_Tnr [#10]\", \"Polydendrocyte_Cacng4 [#6]\", \"Polydendrocyte_Tnr [#4]\", \"Polydendrocyte_Tnr [#12]\", \"Polydendrocyte_Tnr [#5]\", \"Polydendrocytes_Tnr [#5]\", \"Polydendrocyte_Tnr [#5]\"], \"legendgroup\": \"Polydendrocyte\", \"marker\": {\"color\": \"#ab63fa\"}, \"name\": \"Polydendrocyte\", \"offsetgroup\": \"Polydendrocyte\", \"orientation\": \"v\", \"showlegend\": true, \"textposition\": \"auto\", \"type\": \"bar\", \"x\": [\"Polydendrocyte\", \"Polydendrocyte\", \"Polydendrocyte\", \"Polydendrocyte\", \"Polydendrocyte\", \"Polydendrocyte\", \"Polydendrocyte\", \"Polydendrocyte\", \"Polydendrocyte\", \"Polydendrocyte\"], \"xaxis\": \"x\", \"y\": [1.9459101490553101, 1.9459101490553101, 1.9459101490553101, 1.79175946922805, 1.79175946922805, 1.6094379124341003, 1.6094379124341003, 1.38629436111989, 1.38629436111989, 1.38629436111989], \"yaxis\": \"y\"}, {\"alignmentgroup\": \"True\", \"customdata\": [[\"Mural\", \"Mural_Rgs5Acta2 [#13]\", 1.79175946922805, 8.119370014787241e-05], [\"Mural\", \"Mural_Rgs5Acta2 [#8]\", 1.79175946922805, 0.189023615583846], [\"Mural\", \"Mural_Rgs5Acta2 [#16]\", 1.79175946922805, 2.3515885448863e-14], [\"Mural\", \"Mural_Rgs5Acta2 [#13]\", 1.6094379124341003, 1.50161641052176e-12], [\"Mural\", \"Mural_Rgs5Acta2 [#8]\", 1.6094379124341003, 1.53275060204671e-05], [\"Mural\", \"Mural_Rgs5Acta2 [#13]\", 1.38629436111989, 0.0268152843274057], [\"Mural\", \"Mural_Rgs5Acta2 [#5]\", 1.09861228866811, 5.3517746994949e-09]], \"hovertemplate\": \"<b>%{hovertext}</b><br><br>Class=%{customdata[0]}<br>Rapgef2_Amount=%{customdata[2]}<br>Cluster=%{customdata[1]}<br>Rapgef2_PVal=%{customdata[3]}<extra></extra>\", \"hovertext\": [\"Mural_Rgs5Acta2 [#13]\", \"Mural_Rgs5Acta2 [#8]\", \"Mural_Rgs5Acta2 [#16]\", \"Mural_Rgs5Acta2 [#13]\", \"Mural_Rgs5Acta2 [#8]\", \"Mural_Rgs5Acta2 [#13]\", \"Mural_Rgs5Acta2 [#5]\"], \"legendgroup\": \"Mural\", \"marker\": {\"color\": \"#FFA15A\"}, \"name\": \"Mural\", \"offsetgroup\": \"Mural\", \"orientation\": \"v\", \"showlegend\": true, \"textposition\": \"auto\", \"type\": \"bar\", \"x\": [\"Mural\", \"Mural\", \"Mural\", \"Mural\", \"Mural\", \"Mural\", \"Mural\"], \"xaxis\": \"x\", \"y\": [1.79175946922805, 1.79175946922805, 1.79175946922805, 1.6094379124341003, 1.6094379124341003, 1.38629436111989, 1.09861228866811], \"yaxis\": \"y\"}, {\"alignmentgroup\": \"True\", \"customdata\": [[\"Fibroblast-Like\", \"Fibroblast-Like_Dcn [#11]\", 1.6094379124341003, 0.270637432891013], [\"Fibroblast-Like\", \"Fibroblast-Like_Dcn [#14]\", 1.6094379124341003, 1.04647936919361e-06], [\"Fibroblast-Like\", \"Fibroblast-Like_Dcn [#17]\", 1.6094379124341003, 1.4386936541247902e-10], [\"Fibroblast-Like\", \"Fibroblast-Like_Dcn [#14]\", 1.38629436111989, 2.58624032364085e-10], [\"Fibroblast-Like\", \"Fibroblast-Like_Dcn [#14]\", 1.38629436111989, 0.504613607373631], [\"Fibroblast-Like\", \"Fibroblast-Like_Dcn [#9]\", 1.09861228866811, 0.000529451734125346], [\"Fibroblast-Like\", \"Fibroblast-Like_Dcn [#9]\", 1.09861228866811, 0.000286117428408625], [\"Fibroblast-Like\", \"Fibroblast-Like_Dcn [#6]\", 1.09861228866811, 0.00347509202417995]], \"hovertemplate\": \"<b>%{hovertext}</b><br><br>Class=%{customdata[0]}<br>Rapgef2_Amount=%{customdata[2]}<br>Cluster=%{customdata[1]}<br>Rapgef2_PVal=%{customdata[3]}<extra></extra>\", \"hovertext\": [\"Fibroblast-Like_Dcn [#11]\", \"Fibroblast-Like_Dcn [#14]\", \"Fibroblast-Like_Dcn [#17]\", \"Fibroblast-Like_Dcn [#14]\", \"Fibroblast-Like_Dcn [#14]\", \"Fibroblast-Like_Dcn [#9]\", \"Fibroblast-Like_Dcn [#9]\", \"Fibroblast-Like_Dcn [#6]\"], \"legendgroup\": \"Fibroblast-Like\", \"marker\": {\"color\": \"#19d3f3\"}, \"name\": \"Fibroblast-Like\", \"offsetgroup\": \"Fibroblast-Like\", \"orientation\": \"v\", \"showlegend\": true, \"textposition\": \"auto\", \"type\": \"bar\", \"x\": [\"Fibroblast-Like\", \"Fibroblast-Like\", \"Fibroblast-Like\", \"Fibroblast-Like\", \"Fibroblast-Like\", \"Fibroblast-Like\", \"Fibroblast-Like\", \"Fibroblast-Like\"], \"xaxis\": \"x\", \"y\": [1.6094379124341003, 1.6094379124341003, 1.6094379124341003, 1.38629436111989, 1.38629436111989, 1.09861228866811, 1.09861228866811, 1.09861228866811], \"yaxis\": \"y\"}, {\"alignmentgroup\": \"True\", \"customdata\": [[\"Ependyma\", \"Ependyma [#11]\", 1.6094379124341003, 1.54716792094626e-20], [\"Ependyma\", \"Ependyma [#6]\", 1.38629436111989, 0.8509395884992971], [\"Ependyma\", \"Ependyma [#10]\", 1.38629436111989, 0.000123412095684622], [\"Ependyma\", \"Ependyma [#1]\", 1.09861228866811, 2.56294224586472e-11], [\"Ependyma\", \"Ependyma [#8]\", 0.0, 0.282091515156483]], \"hovertemplate\": \"<b>%{hovertext}</b><br><br>Class=%{customdata[0]}<br>Rapgef2_Amount=%{customdata[2]}<br>Cluster=%{customdata[1]}<br>Rapgef2_PVal=%{customdata[3]}<extra></extra>\", \"hovertext\": [\"Ependyma [#11]\", \"Ependyma [#6]\", \"Ependyma [#10]\", \"Ependyma [#1]\", \"Ependyma [#8]\"], \"legendgroup\": \"Ependyma\", \"marker\": {\"color\": \"#FF6692\"}, \"name\": \"Ependyma\", \"offsetgroup\": \"Ependyma\", \"orientation\": \"v\", \"showlegend\": true, \"textposition\": \"auto\", \"type\": \"bar\", \"x\": [\"Ependyma\", \"Ependyma\", \"Ependyma\", \"Ependyma\", \"Ependyma\"], \"xaxis\": \"x\", \"y\": [1.6094379124341003, 1.38629436111989, 1.38629436111989, 1.09861228866811, 0.0], \"yaxis\": \"y\"}, {\"alignmentgroup\": \"True\", \"customdata\": [[\"Astrocyte\", \"Astrocyte_Gja1 [#8]\", 1.38629436111989, 0.207546139989629], [\"Astrocyte\", \"Astrocyte_Gja1 [#7]\", 1.38629436111989, 0.8238031283144499], [\"Astrocyte\", \"Astrocyte_Gja1 [#8]\", 1.09861228866811, 8.30033878669186e-108], [\"Astrocyte\", \"Astrocyte_Gja1 [#8]\", 1.09861228866811, 1.80165119787941e-95], [\"Astrocyte\", \"Astrocyte_Gja1 [#5]\", 1.09861228866811, 2.9024595334880697e-62], [\"Astrocyte\", \"Astrocyte_Gja1 [#7]\", 1.09861228866811, 0.0], [\"Astrocyte\", \"Astrocyte_Gja1 [#7]\", 1.09861228866811, 7.057369680979029e-05], [\"Astrocyte\", \"Astrocyte_Gja1 [#11]\", 1.09861228866811, 2.8617207807286203e-06], [\"Astrocyte\", \"BergmannGlia_Gpr37l1 [#7]\", 0.693147180559945, 4.7275554824616604e-17], [\"Astrocyte\", \"Astrocyte_Gja1 [#4]\", 0.693147180559945, 2.829559034875449e-77]], \"hovertemplate\": \"<b>%{hovertext}</b><br><br>Class=%{customdata[0]}<br>Rapgef2_Amount=%{customdata[2]}<br>Cluster=%{customdata[1]}<br>Rapgef2_PVal=%{customdata[3]}<extra></extra>\", \"hovertext\": [\"Astrocyte_Gja1 [#8]\", \"Astrocyte_Gja1 [#7]\", \"Astrocyte_Gja1 [#8]\", \"Astrocyte_Gja1 [#8]\", \"Astrocyte_Gja1 [#5]\", \"Astrocyte_Gja1 [#7]\", \"Astrocyte_Gja1 [#7]\", \"Astrocyte_Gja1 [#11]\", \"BergmannGlia_Gpr37l1 [#7]\", \"Astrocyte_Gja1 [#4]\"], \"legendgroup\": \"Astrocyte\", \"marker\": {\"color\": \"#B6E880\"}, \"name\": \"Astrocyte\", \"offsetgroup\": \"Astrocyte\", \"orientation\": \"v\", \"showlegend\": true, \"textposition\": \"auto\", \"type\": \"bar\", \"x\": [\"Astrocyte\", \"Astrocyte\", \"Astrocyte\", \"Astrocyte\", \"Astrocyte\", \"Astrocyte\", \"Astrocyte\", \"Astrocyte\", \"Astrocyte\", \"Astrocyte\"], \"xaxis\": \"x\", \"y\": [1.38629436111989, 1.38629436111989, 1.09861228866811, 1.09861228866811, 1.09861228866811, 1.09861228866811, 1.09861228866811, 1.09861228866811, 0.693147180559945, 0.693147180559945], \"yaxis\": \"y\"}, {\"alignmentgroup\": \"True\", \"customdata\": [[\"Oligodendrocyte\", \"Oligodendrocyte_Tfr [#9]\", 1.38629436111989, 3.35475989642239e-48], [\"Oligodendrocyte\", \"Oligodendrocyte_Tfr [#9]\", 1.09861228866811, 2.9336053861321694e-138], [\"Oligodendrocyte\", \"Oligodendrocyte_Tfr [#1]\", 1.09861228866811, 1.0166639501301e-76], [\"Oligodendrocyte\", \"Oligodendrocyte_Mbp [#8]\", 1.09861228866811, 0.25150354255119195], [\"Oligodendrocyte\", \"Oligodendrocyte_Tfr [#10]\", 1.09861228866811, 3.1884195149426384e-252], [\"Oligodendrocyte\", \"Oligodendrocyte_Tfr [#8]\", 1.09861228866811, 5.344614663645819e-115], [\"Oligodendrocyte\", \"Oligodendrocytes_Tfr [#3]\", 1.09861228866811, 1.25885744507358e-67], [\"Oligodendrocyte\", \"Oligodendrocyte_Tfr [#10]\", 1.09861228866811, 1.868357956949709e-168], [\"Oligodendrocyte\", \"Oligodendrocyte_Tfr [#8]\", 1.09861228866811, 1.4015507805e-314], [\"Oligodendrocyte\", \"Oligodendrocyte_Mbp [#11]\", 0.693147180559945, 0.0041185124783610794], [\"Oligodendrocyte\", \"Oligodendrocyte_Mbp [#9]\", 0.693147180559945, 0.00011140520851921299]], \"hovertemplate\": \"<b>%{hovertext}</b><br><br>Class=%{customdata[0]}<br>Rapgef2_Amount=%{customdata[2]}<br>Cluster=%{customdata[1]}<br>Rapgef2_PVal=%{customdata[3]}<extra></extra>\", \"hovertext\": [\"Oligodendrocyte_Tfr [#9]\", \"Oligodendrocyte_Tfr [#9]\", \"Oligodendrocyte_Tfr [#1]\", \"Oligodendrocyte_Mbp [#8]\", \"Oligodendrocyte_Tfr [#10]\", \"Oligodendrocyte_Tfr [#8]\", \"Oligodendrocytes_Tfr [#3]\", \"Oligodendrocyte_Tfr [#10]\", \"Oligodendrocyte_Tfr [#8]\", \"Oligodendrocyte_Mbp [#11]\", \"Oligodendrocyte_Mbp [#9]\"], \"legendgroup\": \"Oligodendrocyte\", \"marker\": {\"color\": \"#FF97FF\"}, \"name\": \"Oligodendrocyte\", \"offsetgroup\": \"Oligodendrocyte\", \"orientation\": \"v\", \"showlegend\": true, \"textposition\": \"auto\", \"type\": \"bar\", \"x\": [\"Oligodendrocyte\", \"Oligodendrocyte\", \"Oligodendrocyte\", \"Oligodendrocyte\", \"Oligodendrocyte\", \"Oligodendrocyte\", \"Oligodendrocyte\", \"Oligodendrocyte\", \"Oligodendrocyte\", \"Oligodendrocyte\", \"Oligodendrocyte\"], \"xaxis\": \"x\", \"y\": [1.38629436111989, 1.09861228866811, 1.09861228866811, 1.09861228866811, 1.09861228866811, 1.09861228866811, 1.09861228866811, 1.09861228866811, 1.09861228866811, 0.693147180559945, 0.693147180559945], \"yaxis\": \"y\"}, {\"alignmentgroup\": \"True\", \"customdata\": [[\"Mural_Fibroblast-Like\", \"Mural_Fibroblast-Like_Rgs5Acta2-Dcn [#3]\", 1.38629436111989, 0.639263644667849]], \"hovertemplate\": \"<b>%{hovertext}</b><br><br>Class=%{customdata[0]}<br>Rapgef2_Amount=%{customdata[2]}<br>Cluster=%{customdata[1]}<br>Rapgef2_PVal=%{customdata[3]}<extra></extra>\", \"hovertext\": [\"Mural_Fibroblast-Like_Rgs5Acta2-Dcn [#3]\"], \"legendgroup\": \"Mural_Fibroblast-Like\", \"marker\": {\"color\": \"#FECB52\"}, \"name\": \"Mural_Fibroblast-Like\", \"offsetgroup\": \"Mural_Fibroblast-Like\", \"orientation\": \"v\", \"showlegend\": true, \"textposition\": \"auto\", \"type\": \"bar\", \"x\": [\"Mural_Fibroblast-Like\"], \"xaxis\": \"x\", \"y\": [1.38629436111989], \"yaxis\": \"y\"}, {\"alignmentgroup\": \"True\", \"customdata\": [[\"Neurogenesis\", \"Neurogenesis_Sox4 [#13]\", 1.38629436111989, 7.41730218135675e-18], [\"Neurogenesis\", \"Neurogenesis_Sox4 [#2]\", 0.693147180559945, 8.91329084250312e-29]], \"hovertemplate\": \"<b>%{hovertext}</b><br><br>Class=%{customdata[0]}<br>Rapgef2_Amount=%{customdata[2]}<br>Cluster=%{customdata[1]}<br>Rapgef2_PVal=%{customdata[3]}<extra></extra>\", \"hovertext\": [\"Neurogenesis_Sox4 [#13]\", \"Neurogenesis_Sox4 [#2]\"], \"legendgroup\": \"Neurogenesis\", \"marker\": {\"color\": \"#636efa\"}, \"name\": \"Neurogenesis\", \"offsetgroup\": \"Neurogenesis\", \"orientation\": \"v\", \"showlegend\": true, \"textposition\": \"auto\", \"type\": \"bar\", \"x\": [\"Neurogenesis\", \"Neurogenesis\"], \"xaxis\": \"x\", \"y\": [1.38629436111989, 0.693147180559945], \"yaxis\": \"y\"}, {\"alignmentgroup\": \"True\", \"customdata\": [[\"Oligodendrocyte_Polydendrocyte\", \"Oligodendrocyte_Polydendrocyte_Tfr_Tnr [#6]\", 1.09861228866811, 0.00036323604305688197]], \"hovertemplate\": \"<b>%{hovertext}</b><br><br>Class=%{customdata[0]}<br>Rapgef2_Amount=%{customdata[2]}<br>Cluster=%{customdata[1]}<br>Rapgef2_PVal=%{customdata[3]}<extra></extra>\", \"hovertext\": [\"Oligodendrocyte_Polydendrocyte_Tfr_Tnr [#6]\"], \"legendgroup\": \"Oligodendrocyte_Polydendrocyte\", \"marker\": {\"color\": \"#EF553B\"}, \"name\": \"Oligodendrocyte_Polydendrocyte\", \"offsetgroup\": \"Oligodendrocyte_Polydendrocyte\", \"orientation\": \"v\", \"showlegend\": true, \"textposition\": \"auto\", \"type\": \"bar\", \"x\": [\"Oligodendrocyte_Polydendrocyte\"], \"xaxis\": \"x\", \"y\": [1.09861228866811], \"yaxis\": \"y\"}, {\"alignmentgroup\": \"True\", \"customdata\": [[\"Choroid_Plexus\", \"Choroid_Plexus_Ttr [#9]\", 0.693147180559945, 0.0426465568287287], [\"Choroid_Plexus\", \"Choroid_Plexus_Ttr [#12]\", 0.693147180559945, 3.84913180354258e-08]], \"hovertemplate\": \"<b>%{hovertext}</b><br><br>Class=%{customdata[0]}<br>Rapgef2_Amount=%{customdata[2]}<br>Cluster=%{customdata[1]}<br>Rapgef2_PVal=%{customdata[3]}<extra></extra>\", \"hovertext\": [\"Choroid_Plexus_Ttr [#9]\", \"Choroid_Plexus_Ttr [#12]\"], \"legendgroup\": \"Choroid_Plexus\", \"marker\": {\"color\": \"#00cc96\"}, \"name\": \"Choroid_Plexus\", \"offsetgroup\": \"Choroid_Plexus\", \"orientation\": \"v\", \"showlegend\": true, \"textposition\": \"auto\", \"type\": \"bar\", \"x\": [\"Choroid_Plexus\", \"Choroid_Plexus\"], \"xaxis\": \"x\", \"y\": [0.693147180559945, 0.693147180559945], \"yaxis\": \"y\"}],\n",
       "                        {\"barmode\": \"relative\", \"height\": 800, \"legend\": {\"title\": {\"text\": \"Class\"}, \"tracegroupgap\": 0}, \"margin\": {\"t\": 60}, \"template\": {\"data\": {\"bar\": [{\"error_x\": {\"color\": \"#2a3f5f\"}, \"error_y\": {\"color\": \"#2a3f5f\"}, \"marker\": {\"line\": {\"color\": \"#E5ECF6\", \"width\": 0.5}}, \"type\": \"bar\"}], \"barpolar\": [{\"marker\": {\"line\": {\"color\": \"#E5ECF6\", \"width\": 0.5}}, \"type\": \"barpolar\"}], \"carpet\": [{\"aaxis\": {\"endlinecolor\": \"#2a3f5f\", \"gridcolor\": \"white\", \"linecolor\": \"white\", \"minorgridcolor\": \"white\", \"startlinecolor\": \"#2a3f5f\"}, \"baxis\": {\"endlinecolor\": \"#2a3f5f\", \"gridcolor\": \"white\", \"linecolor\": \"white\", \"minorgridcolor\": \"white\", \"startlinecolor\": \"#2a3f5f\"}, \"type\": \"carpet\"}], \"choropleth\": [{\"colorbar\": {\"outlinewidth\": 0, \"ticks\": \"\"}, \"type\": \"choropleth\"}], \"contour\": [{\"colorbar\": {\"outlinewidth\": 0, \"ticks\": \"\"}, \"colorscale\": [[0.0, \"#0d0887\"], [0.1111111111111111, \"#46039f\"], [0.2222222222222222, \"#7201a8\"], [0.3333333333333333, \"#9c179e\"], [0.4444444444444444, \"#bd3786\"], [0.5555555555555556, \"#d8576b\"], [0.6666666666666666, \"#ed7953\"], [0.7777777777777778, \"#fb9f3a\"], [0.8888888888888888, \"#fdca26\"], [1.0, \"#f0f921\"]], \"type\": \"contour\"}], \"contourcarpet\": [{\"colorbar\": {\"outlinewidth\": 0, \"ticks\": \"\"}, \"type\": \"contourcarpet\"}], \"heatmap\": [{\"colorbar\": {\"outlinewidth\": 0, \"ticks\": \"\"}, \"colorscale\": [[0.0, \"#0d0887\"], [0.1111111111111111, \"#46039f\"], [0.2222222222222222, \"#7201a8\"], [0.3333333333333333, \"#9c179e\"], [0.4444444444444444, \"#bd3786\"], [0.5555555555555556, \"#d8576b\"], [0.6666666666666666, \"#ed7953\"], [0.7777777777777778, \"#fb9f3a\"], [0.8888888888888888, \"#fdca26\"], [1.0, \"#f0f921\"]], \"type\": \"heatmap\"}], \"heatmapgl\": [{\"colorbar\": {\"outlinewidth\": 0, \"ticks\": \"\"}, \"colorscale\": [[0.0, \"#0d0887\"], [0.1111111111111111, \"#46039f\"], [0.2222222222222222, \"#7201a8\"], [0.3333333333333333, \"#9c179e\"], [0.4444444444444444, \"#bd3786\"], [0.5555555555555556, \"#d8576b\"], [0.6666666666666666, \"#ed7953\"], [0.7777777777777778, \"#fb9f3a\"], [0.8888888888888888, \"#fdca26\"], [1.0, \"#f0f921\"]], \"type\": \"heatmapgl\"}], \"histogram\": [{\"marker\": {\"colorbar\": {\"outlinewidth\": 0, \"ticks\": \"\"}}, \"type\": \"histogram\"}], \"histogram2d\": [{\"colorbar\": {\"outlinewidth\": 0, \"ticks\": \"\"}, \"colorscale\": [[0.0, \"#0d0887\"], [0.1111111111111111, \"#46039f\"], [0.2222222222222222, \"#7201a8\"], [0.3333333333333333, \"#9c179e\"], [0.4444444444444444, \"#bd3786\"], [0.5555555555555556, \"#d8576b\"], [0.6666666666666666, \"#ed7953\"], [0.7777777777777778, \"#fb9f3a\"], [0.8888888888888888, \"#fdca26\"], [1.0, \"#f0f921\"]], \"type\": \"histogram2d\"}], \"histogram2dcontour\": [{\"colorbar\": {\"outlinewidth\": 0, \"ticks\": \"\"}, \"colorscale\": [[0.0, \"#0d0887\"], [0.1111111111111111, \"#46039f\"], [0.2222222222222222, \"#7201a8\"], [0.3333333333333333, \"#9c179e\"], [0.4444444444444444, \"#bd3786\"], [0.5555555555555556, \"#d8576b\"], [0.6666666666666666, \"#ed7953\"], [0.7777777777777778, \"#fb9f3a\"], [0.8888888888888888, \"#fdca26\"], [1.0, \"#f0f921\"]], \"type\": \"histogram2dcontour\"}], \"mesh3d\": [{\"colorbar\": {\"outlinewidth\": 0, \"ticks\": \"\"}, \"type\": \"mesh3d\"}], \"parcoords\": [{\"line\": {\"colorbar\": {\"outlinewidth\": 0, \"ticks\": \"\"}}, \"type\": \"parcoords\"}], \"pie\": [{\"automargin\": true, \"type\": \"pie\"}], \"scatter\": [{\"marker\": {\"colorbar\": {\"outlinewidth\": 0, \"ticks\": \"\"}}, \"type\": \"scatter\"}], \"scatter3d\": [{\"line\": {\"colorbar\": {\"outlinewidth\": 0, \"ticks\": \"\"}}, \"marker\": {\"colorbar\": {\"outlinewidth\": 0, \"ticks\": \"\"}}, \"type\": \"scatter3d\"}], \"scattercarpet\": [{\"marker\": {\"colorbar\": {\"outlinewidth\": 0, \"ticks\": \"\"}}, \"type\": \"scattercarpet\"}], \"scattergeo\": [{\"marker\": {\"colorbar\": {\"outlinewidth\": 0, \"ticks\": \"\"}}, \"type\": \"scattergeo\"}], \"scattergl\": [{\"marker\": {\"colorbar\": {\"outlinewidth\": 0, \"ticks\": \"\"}}, \"type\": \"scattergl\"}], \"scattermapbox\": [{\"marker\": {\"colorbar\": {\"outlinewidth\": 0, \"ticks\": \"\"}}, \"type\": \"scattermapbox\"}], \"scatterpolar\": [{\"marker\": {\"colorbar\": {\"outlinewidth\": 0, \"ticks\": \"\"}}, \"type\": \"scatterpolar\"}], \"scatterpolargl\": [{\"marker\": {\"colorbar\": {\"outlinewidth\": 0, \"ticks\": \"\"}}, \"type\": \"scatterpolargl\"}], \"scatterternary\": [{\"marker\": {\"colorbar\": {\"outlinewidth\": 0, \"ticks\": \"\"}}, \"type\": \"scatterternary\"}], \"surface\": [{\"colorbar\": {\"outlinewidth\": 0, \"ticks\": \"\"}, \"colorscale\": [[0.0, \"#0d0887\"], [0.1111111111111111, \"#46039f\"], [0.2222222222222222, \"#7201a8\"], [0.3333333333333333, \"#9c179e\"], [0.4444444444444444, \"#bd3786\"], [0.5555555555555556, \"#d8576b\"], [0.6666666666666666, \"#ed7953\"], [0.7777777777777778, \"#fb9f3a\"], [0.8888888888888888, \"#fdca26\"], [1.0, \"#f0f921\"]], \"type\": \"surface\"}], \"table\": [{\"cells\": {\"fill\": {\"color\": \"#EBF0F8\"}, \"line\": {\"color\": \"white\"}}, \"header\": {\"fill\": {\"color\": \"#C8D4E3\"}, \"line\": {\"color\": \"white\"}}, \"type\": \"table\"}]}, \"layout\": {\"annotationdefaults\": {\"arrowcolor\": \"#2a3f5f\", \"arrowhead\": 0, \"arrowwidth\": 1}, \"coloraxis\": {\"colorbar\": {\"outlinewidth\": 0, \"ticks\": \"\"}}, \"colorscale\": {\"diverging\": [[0, \"#8e0152\"], [0.1, \"#c51b7d\"], [0.2, \"#de77ae\"], [0.3, \"#f1b6da\"], [0.4, \"#fde0ef\"], [0.5, \"#f7f7f7\"], [0.6, \"#e6f5d0\"], [0.7, \"#b8e186\"], [0.8, \"#7fbc41\"], [0.9, \"#4d9221\"], [1, \"#276419\"]], \"sequential\": [[0.0, \"#0d0887\"], [0.1111111111111111, \"#46039f\"], [0.2222222222222222, \"#7201a8\"], [0.3333333333333333, \"#9c179e\"], [0.4444444444444444, \"#bd3786\"], [0.5555555555555556, \"#d8576b\"], [0.6666666666666666, \"#ed7953\"], [0.7777777777777778, \"#fb9f3a\"], [0.8888888888888888, \"#fdca26\"], [1.0, \"#f0f921\"]], \"sequentialminus\": [[0.0, \"#0d0887\"], [0.1111111111111111, \"#46039f\"], [0.2222222222222222, \"#7201a8\"], [0.3333333333333333, \"#9c179e\"], [0.4444444444444444, \"#bd3786\"], [0.5555555555555556, \"#d8576b\"], [0.6666666666666666, \"#ed7953\"], [0.7777777777777778, \"#fb9f3a\"], [0.8888888888888888, \"#fdca26\"], [1.0, \"#f0f921\"]]}, \"colorway\": [\"#636efa\", \"#EF553B\", \"#00cc96\", \"#ab63fa\", \"#FFA15A\", \"#19d3f3\", \"#FF6692\", \"#B6E880\", \"#FF97FF\", \"#FECB52\"], \"font\": {\"color\": \"#2a3f5f\"}, \"geo\": {\"bgcolor\": \"white\", \"lakecolor\": \"white\", \"landcolor\": \"#E5ECF6\", \"showlakes\": true, \"showland\": true, \"subunitcolor\": \"white\"}, \"hoverlabel\": {\"align\": \"left\"}, \"hovermode\": \"closest\", \"mapbox\": {\"style\": \"light\"}, \"paper_bgcolor\": \"white\", \"plot_bgcolor\": \"#E5ECF6\", \"polar\": {\"angularaxis\": {\"gridcolor\": \"white\", \"linecolor\": \"white\", \"ticks\": \"\"}, \"bgcolor\": \"#E5ECF6\", \"radialaxis\": {\"gridcolor\": \"white\", \"linecolor\": \"white\", \"ticks\": \"\"}}, \"scene\": {\"xaxis\": {\"backgroundcolor\": \"#E5ECF6\", \"gridcolor\": \"white\", \"gridwidth\": 2, \"linecolor\": \"white\", \"showbackground\": true, \"ticks\": \"\", \"zerolinecolor\": \"white\"}, \"yaxis\": {\"backgroundcolor\": \"#E5ECF6\", \"gridcolor\": \"white\", \"gridwidth\": 2, \"linecolor\": \"white\", \"showbackground\": true, \"ticks\": \"\", \"zerolinecolor\": \"white\"}, \"zaxis\": {\"backgroundcolor\": \"#E5ECF6\", \"gridcolor\": \"white\", \"gridwidth\": 2, \"linecolor\": \"white\", \"showbackground\": true, \"ticks\": \"\", \"zerolinecolor\": \"white\"}}, \"shapedefaults\": {\"line\": {\"color\": \"#2a3f5f\"}}, \"ternary\": {\"aaxis\": {\"gridcolor\": \"white\", \"linecolor\": \"white\", \"ticks\": \"\"}, \"baxis\": {\"gridcolor\": \"white\", \"linecolor\": \"white\", \"ticks\": \"\"}, \"bgcolor\": \"#E5ECF6\", \"caxis\": {\"gridcolor\": \"white\", \"linecolor\": \"white\", \"ticks\": \"\"}}, \"title\": {\"x\": 0.05}, \"xaxis\": {\"automargin\": true, \"gridcolor\": \"white\", \"linecolor\": \"white\", \"ticks\": \"\", \"title\": {\"standoff\": 15}, \"zerolinecolor\": \"white\", \"zerolinewidth\": 2}, \"yaxis\": {\"automargin\": true, \"gridcolor\": \"white\", \"linecolor\": \"white\", \"ticks\": \"\", \"title\": {\"standoff\": 15}, \"zerolinecolor\": \"white\", \"zerolinewidth\": 2}}}, \"title\": {\"text\": \"Rapgef2: Adult mouse, Single Cell, Saunder, 2018 (DropViz)\"}, \"width\": 1000, \"xaxis\": {\"anchor\": \"y\", \"categoryarray\": [\"Neuron\", \"Endothelial\", \"Microglia_Macrophage\", \"Polydendrocyte\", \"Mural\", \"Fibroblast-Like\", \"Ependyma\", \"Astrocyte\", \"Oligodendrocyte\", \"Mural_Fibroblast-Like\", \"Neurogenesis\", \"Oligodendrocyte_Polydendrocyte\", \"Choroid_Plexus\"], \"categoryorder\": \"total descending\", \"domain\": [0.0, 1.0], \"title\": {\"text\": \"Cell Type\"}}, \"yaxis\": {\"anchor\": \"x\", \"domain\": [0.0, 1.0], \"title\": {\"text\": \"Expression\"}}},\n",
       "                        {\"responsive\": true}\n",
       "                    ).then(function(){\n",
       "                            \n",
       "var gd = document.getElementById('61e6534e-fedb-4458-b786-cd3131ab8faa');\n",
       "var x = new MutationObserver(function (mutations, observer) {{\n",
       "        var display = window.getComputedStyle(gd).display;\n",
       "        if (!display || display === 'none') {{\n",
       "            console.log([gd, 'removed!']);\n",
       "            Plotly.purge(gd);\n",
       "            observer.disconnect();\n",
       "        }}\n",
       "}});\n",
       "\n",
       "// Listen for the removal of the full notebook cells\n",
       "var notebookContainer = gd.closest('#notebook-container');\n",
       "if (notebookContainer) {{\n",
       "    x.observe(notebookContainer, {childList: true});\n",
       "}}\n",
       "\n",
       "// Listen for the clearing of the current output cell\n",
       "var outputEl = gd.closest('.output');\n",
       "if (outputEl) {{\n",
       "    x.observe(outputEl, {childList: true});\n",
       "}}\n",
       "\n",
       "                        })\n",
       "                };\n",
       "                });\n",
       "            </script>\n",
       "        </div>"
      ]
     },
     "metadata": {},
     "output_type": "display_data"
    },
    {
     "data": {
      "application/vnd.plotly.v1+json": {
       "config": {
        "plotlyServerURL": "https://plot.ly"
       },
       "data": [
        {
         "cells": {
          "align": "left",
          "fill": {
           "color": "lavender"
          },
          "values": [
           [
            "Hippocampus",
            "Hippocampus",
            "Posterior Cortex",
            "Frontal Cortex",
            "Frontal Cortex",
            "Posterior Cortex",
            "Globus Pallidus",
            "Hippocampus",
            "Hippocampus",
            "Hippocampus",
            "Striatum",
            "Thalamus",
            "Frontal Cortex",
            "Frontal Cortex",
            "Entopeduncular",
            "Globus Pallidus",
            "Hippocampus",
            "Striatum",
            "Striatum",
            "Striatum",
            "Substantia Nigra",
            "Frontal Cortex",
            "Posterior Cortex",
            "Posterior Cortex",
            "Posterior Cortex",
            "Frontal Cortex",
            "Frontal Cortex",
            "Frontal Cortex",
            "Posterior Cortex",
            "Posterior Cortex",
            "Posterior Cortex",
            "Hippocampus",
            "Thalamus",
            "Cerebellum",
            "Frontal Cortex",
            "Posterior Cortex",
            "Entopeduncular",
            "Hippocampus",
            "Striatum",
            "Striatum",
            "Substantia Nigra",
            "Substantia Nigra",
            "Cerebellum",
            "Frontal Cortex",
            "Posterior Cortex",
            "Posterior Cortex",
            "Entopeduncular",
            "Globus Pallidus",
            "Globus Pallidus",
            "Hippocampus",
            "Hippocampus",
            "Substantia Nigra",
            "Substantia Nigra",
            "Substantia Nigra",
            "Thalamus",
            "Thalamus",
            "Cerebellum",
            "Cerebellum",
            "Cerebellum",
            "Frontal Cortex",
            "Frontal Cortex",
            "Globus Pallidus",
            "Globus Pallidus",
            "Hippocampus",
            "Hippocampus",
            "Striatum",
            "Striatum",
            "Thalamus",
            "Cerebellum",
            "Cerebellum",
            "Posterior Cortex",
            "Posterior Cortex",
            "Entopeduncular",
            "Entopeduncular",
            "Entopeduncular",
            "Globus Pallidus",
            "Globus Pallidus",
            "Hippocampus",
            "Hippocampus",
            "Striatum",
            "Striatum",
            "Substantia Nigra",
            "Substantia Nigra",
            "Substantia Nigra",
            "Substantia Nigra",
            "Thalamus",
            "Thalamus",
            "Cerebellum",
            "Frontal Cortex",
            "Frontal Cortex",
            "Posterior Cortex",
            "Entopeduncular",
            "Entopeduncular",
            "Globus Pallidus",
            "Globus Pallidus",
            "Globus Pallidus",
            "Hippocampus",
            "Hippocampus",
            "Striatum",
            "Striatum",
            "Striatum",
            "Substantia Nigra",
            "Substantia Nigra",
            "Thalamus",
            "Thalamus",
            "Thalamus",
            "Thalamus",
            "Cerebellum",
            "Cerebellum",
            "Cerebellum",
            "Hippocampus",
            "Striatum",
            "Striatum",
            "Substantia Nigra",
            "Thalamus",
            "Substantia Nigra"
           ],
           [
            "Neuron",
            "Neuron",
            "Neuron",
            "Neuron",
            "Neuron",
            "Endothelial",
            "Endothelial",
            "Neuron",
            "Neuron",
            "Neuron",
            "Neuron",
            "Endothelial",
            "Endothelial",
            "Neuron",
            "Endothelial",
            "Neuron",
            "Endothelial",
            "Neuron",
            "Neuron",
            "Endothelial",
            "Endothelial",
            "Neuron",
            "Neuron",
            "Neuron",
            "Neuron",
            "Neuron",
            "Neuron",
            "Neuron",
            "Neuron",
            "Neuron",
            "Neuron",
            "Neuron",
            "Neuron",
            "Neuron",
            "Microglia_Macrophage",
            "Polydendrocyte",
            "Polydendrocyte",
            "Polydendrocyte",
            "Neuron",
            "Neuron",
            "Neuron",
            "Neuron",
            "Endothelial",
            "Polydendrocyte",
            "Microglia_Macrophage",
            "Mural",
            "Neuron",
            "Neuron",
            "Mural",
            "Neuron",
            "Mural",
            "Neuron",
            "Polydendrocyte",
            "Microglia_Macrophage",
            "Neuron",
            "Neuron",
            "Neuron",
            "Fibroblast-Like",
            "Neuron",
            "Mural",
            "Fibroblast-Like",
            "Microglia_Macrophage",
            "Polydendrocyte",
            "Ependyma",
            "Fibroblast-Like",
            "Neuron",
            "Mural",
            "Polydendrocyte",
            "Microglia_Macrophage",
            "Astrocyte",
            "Fibroblast-Like",
            "Oligodendrocyte",
            "Mural_Fibroblast-Like",
            "Polydendrocyte",
            "Astrocyte",
            "Neuron",
            "Ependyma",
            "Microglia_Macrophage",
            "Neurogenesis",
            "Polydendrocyte",
            "Microglia_Macrophage",
            "Mural",
            "Fibroblast-Like",
            "Neuron",
            "Polydendrocyte",
            "Ependyma",
            "Microglia_Macrophage",
            "Oligodendrocyte_Polydendrocyte",
            "Astrocyte",
            "Oligodendrocyte",
            "Astrocyte",
            "Oligodendrocyte",
            "Oligodendrocyte",
            "Oligodendrocyte",
            "Astrocyte",
            "Fibroblast-Like",
            "Astrocyte",
            "Oligodendrocyte",
            "Ependyma",
            "Oligodendrocyte",
            "Fibroblast-Like",
            "Oligodendrocyte",
            "Astrocyte",
            "Astrocyte",
            "Mural",
            "Fibroblast-Like",
            "Oligodendrocyte",
            "Neuron",
            "Astrocyte",
            "Choroid_Plexus",
            "Choroid_Plexus",
            "Neurogenesis",
            "Astrocyte",
            "Oligodendrocyte",
            "Oligodendrocyte",
            "Ependyma"
           ],
           [
            "Neuron_CA2CA3_Pvrl3-Rgs15-Calb2 [#6]",
            "Neuron_Subiculum_Slc17a6 [#2]",
            "RSG_Tshz2-Shisa8 [#6]",
            "Neuron_Claustrum_Nr4a2 [#5]",
            "Neuron_Layer5_Parm1 [#7]",
            "Endothelial_Flt1 [#12]",
            "Endothelial_Flt1 [#7]",
            "Neuron_Subiculum_Entorhinal_Nxph3 [#3]",
            "Neuron_Dentate_C1ql2 [#4]",
            "Neuron_CA1_Subiculum_Postsubiculum_Entorhinal_Fibcd1-Dcn-Cbln1-Ptgfr-Fezf2 [#5]",
            "Neuron_dSPN_Drd1 [#10]",
            "Endothelial_Flt1 [#4]",
            "Endothelial_Flt1 [#12]",
            "Neuron_Layer23_Nptxr [#6]",
            "Endothelial_Flt1 [#2]",
            "Neuron_Ppp1r1b [#3]",
            "Endothelial_Flt1 [#15]",
            "Neuron_iSPN_Adora2a [#11]",
            "Neuron_SPN_BNST_Amygdala_Otof [#13]",
            "Endothelial_Flt1 [#7]",
            "Endothelial_Flt1 [#12]",
            "Neuron_Layer6Subplate_Syt6 [#3]",
            "Neuron_Layer6Subplate_Syt6 [#1]",
            "Neuron_Layer23_5_6_Subiculum_Calb1-Rorb-Fermt1-Tshz2-Oprk1-Crym-Sema3e [#2]",
            "Neuron_Layer5_Bcl6 [#3]",
            "Interneuron_CGE_Cplx3-Synpr [#1]",
            "Interneuron_MGE_Sst-Pvalb [#2]",
            "Neuron_Layer5b_Fezf2 [#4]",
            "Interneuron_CGE_Cplx3-Synpr [#4]",
            "Interneuron_MGE_Sst-Pvalb [#5]",
            "Layer5b_Fezf2 [#7]",
            "Interneuron_Gad2 [#1]",
            "Neuron_Gad2-Ahi1 [#3]",
            "Interneurons_and_Other_Nnat [#4]",
            "Microglia_Macrophage_C1qb [#11]",
            "Polydendrocyte_Tnr [#10]",
            "Polydendrocyte_Cacng4 [#6]",
            "Polydendrocyte_Tnr [#9]",
            "Interneuron_Pvalb_Th_Pnoc [#14]",
            "Interneuron_Sst [#15]",
            "Neuron_CA3_C1ql3 [#1]",
            "Neuron_Rora [#2]",
            "Endothelial_Flt1 [#10]",
            "Polydendrocyte_Tnr [#10]",
            "Microglia_Macrophage_Tmem119-Mrc1 [#11]",
            "Mural_Rgs5Acta2 [#13]",
            "Neuron_Syt1 [#4]",
            "Neuron_Gabra1 [#2]",
            "Mural_Rgs5Acta2 [#8]",
            "Neuron_CajalRetzius_Lhx1 [#14]",
            "Mural_Rgs5Acta2 [#16]",
            "Neuron_Gad2 [#3]",
            "Polydendrocyte_Cacng4 [#6]",
            "Microglia_Macrophage_C1qb [#9]",
            "Neuron_Habenula_Tac2 [#1]",
            "Neuron_Rora [#2]",
            "GranularNeuron_Gabra6 [#1]",
            "Fibroblast-Like_Dcn [#11]",
            "Interneurons_Pvalb [#3]",
            "Mural_Rgs5Acta2 [#13]",
            "Fibroblast-Like_Dcn [#14]",
            "Microglia_Macrophage_C1qb [#11]",
            "Polydendrocyte_Tnr [#4]",
            "Ependyma [#11]",
            "Fibroblast-Like_Dcn [#17]",
            "Interneuron_Chat [#12]",
            "Mural_Rgs5Acta2 [#8]",
            "Polydendrocyte_Tnr [#12]",
            "Microglia_Macrophage_C1qb [#5]",
            "Astrocyte_Gja1 [#8]",
            "Fibroblast-Like_Dcn [#14]",
            "Oligodendrocyte_Tfr [#9]",
            "Mural_Fibroblast-Like_Rgs5Acta2-Dcn [#3]",
            "Polydendrocyte_Tnr [#5]",
            "Astrocyte_Gja1 [#7]",
            "Neuron_Chat [#1]",
            "Ependyma [#6]",
            "Microglia_Macrophage_C1qb [#10]",
            "Neurogenesis_Sox4 [#13]",
            "Polydendrocytes_Tnr [#5]",
            "Microglia_Macrophage_C1qb [#6]",
            "Mural_Rgs5Acta2 [#13]",
            "Fibroblast-Like_Dcn [#14]",
            "Neuron_Th [#4]",
            "Polydendrocyte_Tnr [#5]",
            "Ependyma [#10]",
            "Microglia_Macrophage_C1qb [#7]",
            "Oligodendrocyte_Polydendrocyte_Tfr_Tnr [#6]",
            "Astrocyte_Gja1 [#8]",
            "Oligodendrocyte_Tfr [#9]",
            "Astrocyte_Gja1 [#8]",
            "Oligodendrocyte_Tfr [#1]",
            "Oligodendrocyte_Mbp [#8]",
            "Oligodendrocyte_Tfr [#10]",
            "Astrocyte_Gja1 [#5]",
            "Fibroblast-Like_Dcn [#9]",
            "Astrocyte_Gja1 [#7]",
            "Oligodendrocyte_Tfr [#8]",
            "Ependyma [#1]",
            "Oligodendrocytes_Tfr [#3]",
            "Fibroblast-Like_Dcn [#9]",
            "Oligodendrocyte_Tfr [#10]",
            "Astrocyte_Gja1 [#7]",
            "Astrocyte_Gja1 [#11]",
            "Mural_Rgs5Acta2 [#5]",
            "Fibroblast-Like_Dcn [#6]",
            "Oligodendrocyte_Tfr [#8]",
            "PurkinjeNeuron_Pcp2 [#2]",
            "BergmannGlia_Gpr37l1 [#7]",
            "Choroid_Plexus_Ttr [#9]",
            "Choroid_Plexus_Ttr [#12]",
            "Neurogenesis_Sox4 [#2]",
            "Astrocyte_Gja1 [#4]",
            "Oligodendrocyte_Mbp [#11]",
            "Oligodendrocyte_Mbp [#9]",
            "Ependyma [#8]"
           ],
           [
            2.83321334405622,
            2.7080502011022096,
            2.6390573296152597,
            2.484906649788,
            2.3978952727983702,
            2.3978952727983702,
            2.3978952727983702,
            2.3978952727983702,
            2.3978952727983702,
            2.3978952727983702,
            2.3978952727983702,
            2.3978952727983702,
            2.30258509299405,
            2.30258509299405,
            2.30258509299405,
            2.30258509299405,
            2.30258509299405,
            2.30258509299405,
            2.30258509299405,
            2.30258509299405,
            2.30258509299405,
            2.19722457733622,
            2.19722457733622,
            2.19722457733622,
            2.19722457733622,
            2.07944154167984,
            2.07944154167984,
            2.07944154167984,
            2.07944154167984,
            2.07944154167984,
            2.07944154167984,
            2.07944154167984,
            2.07944154167984,
            1.9459101490553101,
            1.9459101490553101,
            1.9459101490553101,
            1.9459101490553101,
            1.9459101490553101,
            1.9459101490553101,
            1.9459101490553101,
            1.9459101490553101,
            1.9459101490553101,
            1.79175946922805,
            1.79175946922805,
            1.79175946922805,
            1.79175946922805,
            1.79175946922805,
            1.79175946922805,
            1.79175946922805,
            1.79175946922805,
            1.79175946922805,
            1.79175946922805,
            1.79175946922805,
            1.79175946922805,
            1.79175946922805,
            1.79175946922805,
            1.6094379124341003,
            1.6094379124341003,
            1.6094379124341003,
            1.6094379124341003,
            1.6094379124341003,
            1.6094379124341003,
            1.6094379124341003,
            1.6094379124341003,
            1.6094379124341003,
            1.6094379124341003,
            1.6094379124341003,
            1.6094379124341003,
            1.38629436111989,
            1.38629436111989,
            1.38629436111989,
            1.38629436111989,
            1.38629436111989,
            1.38629436111989,
            1.38629436111989,
            1.38629436111989,
            1.38629436111989,
            1.38629436111989,
            1.38629436111989,
            1.38629436111989,
            1.38629436111989,
            1.38629436111989,
            1.38629436111989,
            1.38629436111989,
            1.38629436111989,
            1.38629436111989,
            1.38629436111989,
            1.09861228866811,
            1.09861228866811,
            1.09861228866811,
            1.09861228866811,
            1.09861228866811,
            1.09861228866811,
            1.09861228866811,
            1.09861228866811,
            1.09861228866811,
            1.09861228866811,
            1.09861228866811,
            1.09861228866811,
            1.09861228866811,
            1.09861228866811,
            1.09861228866811,
            1.09861228866811,
            1.09861228866811,
            1.09861228866811,
            1.09861228866811,
            1.09861228866811,
            0.693147180559945,
            0.693147180559945,
            0.693147180559945,
            0.693147180559945,
            0.693147180559945,
            0.693147180559945,
            0.693147180559945,
            0.693147180559945,
            0
           ],
           [
            0,
            8.395659836866479e-31,
            2.04576845240115e-107,
            4.08400032039014e-11,
            2.38100419074208e-40,
            4.40665977396744e-15,
            6.4904261133257686e-114,
            0.00308944818365243,
            8.476327376513849e-16,
            0.0554503267529836,
            1.0216283241220297e-79,
            6.691088642699817e-171,
            1.31248904844705e-05,
            9.457377094537159e-78,
            1.06178373845168e-52,
            1.8449111529613893e-160,
            0.006363408180190829,
            0.00025053024506471803,
            0.153343908737328,
            0.6284673104457571,
            1.67267522002675e-110,
            1.3203933214913901e-05,
            0.194047659376876,
            0.0037563751311186703,
            0.00431631623411374,
            0.000279315538527082,
            2.7334910469714998e-05,
            0.000779548184255756,
            0.0536532635228013,
            0.146184065984034,
            0.22644718861229698,
            2.11724779689152e-44,
            5.026535384337099e-56,
            0.10706606257167,
            0.000828026835336854,
            0.000152815223778874,
            0.0069983746516588,
            1.2003031355035401e-16,
            8.17709121905317e-07,
            7.080372174011159e-07,
            0.0256506522864582,
            0.0166059844979101,
            0.0144725822990474,
            6.3607687731623e-20,
            0.0007552144256360299,
            8.119370014787241e-05,
            1.25197128995084e-24,
            1.57532829508569e-25,
            0.189023615583846,
            1.18968826336102e-05,
            2.3515885448863e-14,
            6.17260809057622e-65,
            0.251857801049146,
            0.72435692397616,
            0.9543560730527451,
            7.847678298460959e-35,
            1.73675101298754e-18,
            0.270637432891013,
            0.203723812470323,
            1.50161641052176e-12,
            1.04647936919361e-06,
            0.350521353975846,
            0.00771879891596438,
            1.54716792094626e-20,
            1.4386936541247902e-10,
            1.79125995385936e-09,
            1.53275060204671e-05,
            0.00327500487207077,
            1,
            0.207546139989629,
            2.58624032364085e-10,
            3.35475989642239e-48,
            0.639263644667849,
            0.9295341041400258,
            0.8238031283144499,
            0.0028261219723870303,
            0.8509395884992971,
            1.20276580325459e-13,
            7.41730218135675e-18,
            1.33730692279079e-11,
            2.76480750070967e-08,
            0.0268152843274057,
            0.504613607373631,
            0.92859716777852,
            0.0607223888241891,
            0.000123412095684622,
            0.21636739638133398,
            0.00036323604305688197,
            8.30033878669186e-108,
            2.9336053861321694e-138,
            1.80165119787941e-95,
            1.0166639501301e-76,
            0.25150354255119195,
            3.1884195149426384e-252,
            2.9024595334880697e-62,
            0.000529451734125346,
            0,
            5.344614663645819e-115,
            2.56294224586472e-11,
            1.25885744507358e-67,
            0.000286117428408625,
            1.868357956949709e-168,
            7.057369680979029e-05,
            2.8617207807286203e-06,
            5.3517746994949e-09,
            0.00347509202417995,
            1.4015507805e-314,
            1.18792292476695e-10,
            4.7275554824616604e-17,
            0.0426465568287287,
            3.84913180354258e-08,
            8.91329084250312e-29,
            2.829559034875449e-77,
            0.0041185124783610794,
            0.00011140520851921299,
            0.282091515156483
           ]
          ]
         },
         "header": {
          "align": "left",
          "fill": {
           "color": "paleturquoise"
          },
          "values": [
           "Region",
           "Class",
           "Cluster",
           "Rapgef2_Amount",
           "Rapgef2_PVal"
          ]
         },
         "type": "table"
        }
       ],
       "layout": {
        "template": {
         "data": {
          "bar": [
           {
            "error_x": {
             "color": "#2a3f5f"
            },
            "error_y": {
             "color": "#2a3f5f"
            },
            "marker": {
             "line": {
              "color": "#E5ECF6",
              "width": 0.5
             }
            },
            "type": "bar"
           }
          ],
          "barpolar": [
           {
            "marker": {
             "line": {
              "color": "#E5ECF6",
              "width": 0.5
             }
            },
            "type": "barpolar"
           }
          ],
          "carpet": [
           {
            "aaxis": {
             "endlinecolor": "#2a3f5f",
             "gridcolor": "white",
             "linecolor": "white",
             "minorgridcolor": "white",
             "startlinecolor": "#2a3f5f"
            },
            "baxis": {
             "endlinecolor": "#2a3f5f",
             "gridcolor": "white",
             "linecolor": "white",
             "minorgridcolor": "white",
             "startlinecolor": "#2a3f5f"
            },
            "type": "carpet"
           }
          ],
          "choropleth": [
           {
            "colorbar": {
             "outlinewidth": 0,
             "ticks": ""
            },
            "type": "choropleth"
           }
          ],
          "contour": [
           {
            "colorbar": {
             "outlinewidth": 0,
             "ticks": ""
            },
            "colorscale": [
             [
              0,
              "#0d0887"
             ],
             [
              0.1111111111111111,
              "#46039f"
             ],
             [
              0.2222222222222222,
              "#7201a8"
             ],
             [
              0.3333333333333333,
              "#9c179e"
             ],
             [
              0.4444444444444444,
              "#bd3786"
             ],
             [
              0.5555555555555556,
              "#d8576b"
             ],
             [
              0.6666666666666666,
              "#ed7953"
             ],
             [
              0.7777777777777778,
              "#fb9f3a"
             ],
             [
              0.8888888888888888,
              "#fdca26"
             ],
             [
              1,
              "#f0f921"
             ]
            ],
            "type": "contour"
           }
          ],
          "contourcarpet": [
           {
            "colorbar": {
             "outlinewidth": 0,
             "ticks": ""
            },
            "type": "contourcarpet"
           }
          ],
          "heatmap": [
           {
            "colorbar": {
             "outlinewidth": 0,
             "ticks": ""
            },
            "colorscale": [
             [
              0,
              "#0d0887"
             ],
             [
              0.1111111111111111,
              "#46039f"
             ],
             [
              0.2222222222222222,
              "#7201a8"
             ],
             [
              0.3333333333333333,
              "#9c179e"
             ],
             [
              0.4444444444444444,
              "#bd3786"
             ],
             [
              0.5555555555555556,
              "#d8576b"
             ],
             [
              0.6666666666666666,
              "#ed7953"
             ],
             [
              0.7777777777777778,
              "#fb9f3a"
             ],
             [
              0.8888888888888888,
              "#fdca26"
             ],
             [
              1,
              "#f0f921"
             ]
            ],
            "type": "heatmap"
           }
          ],
          "heatmapgl": [
           {
            "colorbar": {
             "outlinewidth": 0,
             "ticks": ""
            },
            "colorscale": [
             [
              0,
              "#0d0887"
             ],
             [
              0.1111111111111111,
              "#46039f"
             ],
             [
              0.2222222222222222,
              "#7201a8"
             ],
             [
              0.3333333333333333,
              "#9c179e"
             ],
             [
              0.4444444444444444,
              "#bd3786"
             ],
             [
              0.5555555555555556,
              "#d8576b"
             ],
             [
              0.6666666666666666,
              "#ed7953"
             ],
             [
              0.7777777777777778,
              "#fb9f3a"
             ],
             [
              0.8888888888888888,
              "#fdca26"
             ],
             [
              1,
              "#f0f921"
             ]
            ],
            "type": "heatmapgl"
           }
          ],
          "histogram": [
           {
            "marker": {
             "colorbar": {
              "outlinewidth": 0,
              "ticks": ""
             }
            },
            "type": "histogram"
           }
          ],
          "histogram2d": [
           {
            "colorbar": {
             "outlinewidth": 0,
             "ticks": ""
            },
            "colorscale": [
             [
              0,
              "#0d0887"
             ],
             [
              0.1111111111111111,
              "#46039f"
             ],
             [
              0.2222222222222222,
              "#7201a8"
             ],
             [
              0.3333333333333333,
              "#9c179e"
             ],
             [
              0.4444444444444444,
              "#bd3786"
             ],
             [
              0.5555555555555556,
              "#d8576b"
             ],
             [
              0.6666666666666666,
              "#ed7953"
             ],
             [
              0.7777777777777778,
              "#fb9f3a"
             ],
             [
              0.8888888888888888,
              "#fdca26"
             ],
             [
              1,
              "#f0f921"
             ]
            ],
            "type": "histogram2d"
           }
          ],
          "histogram2dcontour": [
           {
            "colorbar": {
             "outlinewidth": 0,
             "ticks": ""
            },
            "colorscale": [
             [
              0,
              "#0d0887"
             ],
             [
              0.1111111111111111,
              "#46039f"
             ],
             [
              0.2222222222222222,
              "#7201a8"
             ],
             [
              0.3333333333333333,
              "#9c179e"
             ],
             [
              0.4444444444444444,
              "#bd3786"
             ],
             [
              0.5555555555555556,
              "#d8576b"
             ],
             [
              0.6666666666666666,
              "#ed7953"
             ],
             [
              0.7777777777777778,
              "#fb9f3a"
             ],
             [
              0.8888888888888888,
              "#fdca26"
             ],
             [
              1,
              "#f0f921"
             ]
            ],
            "type": "histogram2dcontour"
           }
          ],
          "mesh3d": [
           {
            "colorbar": {
             "outlinewidth": 0,
             "ticks": ""
            },
            "type": "mesh3d"
           }
          ],
          "parcoords": [
           {
            "line": {
             "colorbar": {
              "outlinewidth": 0,
              "ticks": ""
             }
            },
            "type": "parcoords"
           }
          ],
          "pie": [
           {
            "automargin": true,
            "type": "pie"
           }
          ],
          "scatter": [
           {
            "marker": {
             "colorbar": {
              "outlinewidth": 0,
              "ticks": ""
             }
            },
            "type": "scatter"
           }
          ],
          "scatter3d": [
           {
            "line": {
             "colorbar": {
              "outlinewidth": 0,
              "ticks": ""
             }
            },
            "marker": {
             "colorbar": {
              "outlinewidth": 0,
              "ticks": ""
             }
            },
            "type": "scatter3d"
           }
          ],
          "scattercarpet": [
           {
            "marker": {
             "colorbar": {
              "outlinewidth": 0,
              "ticks": ""
             }
            },
            "type": "scattercarpet"
           }
          ],
          "scattergeo": [
           {
            "marker": {
             "colorbar": {
              "outlinewidth": 0,
              "ticks": ""
             }
            },
            "type": "scattergeo"
           }
          ],
          "scattergl": [
           {
            "marker": {
             "colorbar": {
              "outlinewidth": 0,
              "ticks": ""
             }
            },
            "type": "scattergl"
           }
          ],
          "scattermapbox": [
           {
            "marker": {
             "colorbar": {
              "outlinewidth": 0,
              "ticks": ""
             }
            },
            "type": "scattermapbox"
           }
          ],
          "scatterpolar": [
           {
            "marker": {
             "colorbar": {
              "outlinewidth": 0,
              "ticks": ""
             }
            },
            "type": "scatterpolar"
           }
          ],
          "scatterpolargl": [
           {
            "marker": {
             "colorbar": {
              "outlinewidth": 0,
              "ticks": ""
             }
            },
            "type": "scatterpolargl"
           }
          ],
          "scatterternary": [
           {
            "marker": {
             "colorbar": {
              "outlinewidth": 0,
              "ticks": ""
             }
            },
            "type": "scatterternary"
           }
          ],
          "surface": [
           {
            "colorbar": {
             "outlinewidth": 0,
             "ticks": ""
            },
            "colorscale": [
             [
              0,
              "#0d0887"
             ],
             [
              0.1111111111111111,
              "#46039f"
             ],
             [
              0.2222222222222222,
              "#7201a8"
             ],
             [
              0.3333333333333333,
              "#9c179e"
             ],
             [
              0.4444444444444444,
              "#bd3786"
             ],
             [
              0.5555555555555556,
              "#d8576b"
             ],
             [
              0.6666666666666666,
              "#ed7953"
             ],
             [
              0.7777777777777778,
              "#fb9f3a"
             ],
             [
              0.8888888888888888,
              "#fdca26"
             ],
             [
              1,
              "#f0f921"
             ]
            ],
            "type": "surface"
           }
          ],
          "table": [
           {
            "cells": {
             "fill": {
              "color": "#EBF0F8"
             },
             "line": {
              "color": "white"
             }
            },
            "header": {
             "fill": {
              "color": "#C8D4E3"
             },
             "line": {
              "color": "white"
             }
            },
            "type": "table"
           }
          ]
         },
         "layout": {
          "annotationdefaults": {
           "arrowcolor": "#2a3f5f",
           "arrowhead": 0,
           "arrowwidth": 1
          },
          "coloraxis": {
           "colorbar": {
            "outlinewidth": 0,
            "ticks": ""
           }
          },
          "colorscale": {
           "diverging": [
            [
             0,
             "#8e0152"
            ],
            [
             0.1,
             "#c51b7d"
            ],
            [
             0.2,
             "#de77ae"
            ],
            [
             0.3,
             "#f1b6da"
            ],
            [
             0.4,
             "#fde0ef"
            ],
            [
             0.5,
             "#f7f7f7"
            ],
            [
             0.6,
             "#e6f5d0"
            ],
            [
             0.7,
             "#b8e186"
            ],
            [
             0.8,
             "#7fbc41"
            ],
            [
             0.9,
             "#4d9221"
            ],
            [
             1,
             "#276419"
            ]
           ],
           "sequential": [
            [
             0,
             "#0d0887"
            ],
            [
             0.1111111111111111,
             "#46039f"
            ],
            [
             0.2222222222222222,
             "#7201a8"
            ],
            [
             0.3333333333333333,
             "#9c179e"
            ],
            [
             0.4444444444444444,
             "#bd3786"
            ],
            [
             0.5555555555555556,
             "#d8576b"
            ],
            [
             0.6666666666666666,
             "#ed7953"
            ],
            [
             0.7777777777777778,
             "#fb9f3a"
            ],
            [
             0.8888888888888888,
             "#fdca26"
            ],
            [
             1,
             "#f0f921"
            ]
           ],
           "sequentialminus": [
            [
             0,
             "#0d0887"
            ],
            [
             0.1111111111111111,
             "#46039f"
            ],
            [
             0.2222222222222222,
             "#7201a8"
            ],
            [
             0.3333333333333333,
             "#9c179e"
            ],
            [
             0.4444444444444444,
             "#bd3786"
            ],
            [
             0.5555555555555556,
             "#d8576b"
            ],
            [
             0.6666666666666666,
             "#ed7953"
            ],
            [
             0.7777777777777778,
             "#fb9f3a"
            ],
            [
             0.8888888888888888,
             "#fdca26"
            ],
            [
             1,
             "#f0f921"
            ]
           ]
          },
          "colorway": [
           "#636efa",
           "#EF553B",
           "#00cc96",
           "#ab63fa",
           "#FFA15A",
           "#19d3f3",
           "#FF6692",
           "#B6E880",
           "#FF97FF",
           "#FECB52"
          ],
          "font": {
           "color": "#2a3f5f"
          },
          "geo": {
           "bgcolor": "white",
           "lakecolor": "white",
           "landcolor": "#E5ECF6",
           "showlakes": true,
           "showland": true,
           "subunitcolor": "white"
          },
          "hoverlabel": {
           "align": "left"
          },
          "hovermode": "closest",
          "mapbox": {
           "style": "light"
          },
          "paper_bgcolor": "white",
          "plot_bgcolor": "#E5ECF6",
          "polar": {
           "angularaxis": {
            "gridcolor": "white",
            "linecolor": "white",
            "ticks": ""
           },
           "bgcolor": "#E5ECF6",
           "radialaxis": {
            "gridcolor": "white",
            "linecolor": "white",
            "ticks": ""
           }
          },
          "scene": {
           "xaxis": {
            "backgroundcolor": "#E5ECF6",
            "gridcolor": "white",
            "gridwidth": 2,
            "linecolor": "white",
            "showbackground": true,
            "ticks": "",
            "zerolinecolor": "white"
           },
           "yaxis": {
            "backgroundcolor": "#E5ECF6",
            "gridcolor": "white",
            "gridwidth": 2,
            "linecolor": "white",
            "showbackground": true,
            "ticks": "",
            "zerolinecolor": "white"
           },
           "zaxis": {
            "backgroundcolor": "#E5ECF6",
            "gridcolor": "white",
            "gridwidth": 2,
            "linecolor": "white",
            "showbackground": true,
            "ticks": "",
            "zerolinecolor": "white"
           }
          },
          "shapedefaults": {
           "line": {
            "color": "#2a3f5f"
           }
          },
          "ternary": {
           "aaxis": {
            "gridcolor": "white",
            "linecolor": "white",
            "ticks": ""
           },
           "baxis": {
            "gridcolor": "white",
            "linecolor": "white",
            "ticks": ""
           },
           "bgcolor": "#E5ECF6",
           "caxis": {
            "gridcolor": "white",
            "linecolor": "white",
            "ticks": ""
           }
          },
          "title": {
           "x": 0.05
          },
          "xaxis": {
           "automargin": true,
           "gridcolor": "white",
           "linecolor": "white",
           "ticks": "",
           "title": {
            "standoff": 15
           },
           "zerolinecolor": "white",
           "zerolinewidth": 2
          },
          "yaxis": {
           "automargin": true,
           "gridcolor": "white",
           "linecolor": "white",
           "ticks": "",
           "title": {
            "standoff": 15
           },
           "zerolinecolor": "white",
           "zerolinewidth": 2
          }
         }
        },
        "title": {
         "text": "Rapgef2: Adult mouse, Single Cell, Saunder, 2018 (DropViz)"
        }
       }
      },
      "text/html": [
       "<div>\n",
       "        \n",
       "        \n",
       "            <div id=\"0873e151-5594-46e8-8229-f684325b7a3a\" class=\"plotly-graph-div\" style=\"height:525px; width:100%;\"></div>\n",
       "            <script type=\"text/javascript\">\n",
       "                require([\"plotly\"], function(Plotly) {\n",
       "                    window.PLOTLYENV=window.PLOTLYENV || {};\n",
       "                    \n",
       "                if (document.getElementById(\"0873e151-5594-46e8-8229-f684325b7a3a\")) {\n",
       "                    Plotly.newPlot(\n",
       "                        '0873e151-5594-46e8-8229-f684325b7a3a',\n",
       "                        [{\"cells\": {\"align\": \"left\", \"fill\": {\"color\": \"lavender\"}, \"values\": [[\"Hippocampus\", \"Hippocampus\", \"Posterior Cortex\", \"Frontal Cortex\", \"Frontal Cortex\", \"Posterior Cortex\", \"Globus Pallidus\", \"Hippocampus\", \"Hippocampus\", \"Hippocampus\", \"Striatum\", \"Thalamus\", \"Frontal Cortex\", \"Frontal Cortex\", \"Entopeduncular\", \"Globus Pallidus\", \"Hippocampus\", \"Striatum\", \"Striatum\", \"Striatum\", \"Substantia Nigra\", \"Frontal Cortex\", \"Posterior Cortex\", \"Posterior Cortex\", \"Posterior Cortex\", \"Frontal Cortex\", \"Frontal Cortex\", \"Frontal Cortex\", \"Posterior Cortex\", \"Posterior Cortex\", \"Posterior Cortex\", \"Hippocampus\", \"Thalamus\", \"Cerebellum\", \"Frontal Cortex\", \"Posterior Cortex\", \"Entopeduncular\", \"Hippocampus\", \"Striatum\", \"Striatum\", \"Substantia Nigra\", \"Substantia Nigra\", \"Cerebellum\", \"Frontal Cortex\", \"Posterior Cortex\", \"Posterior Cortex\", \"Entopeduncular\", \"Globus Pallidus\", \"Globus Pallidus\", \"Hippocampus\", \"Hippocampus\", \"Substantia Nigra\", \"Substantia Nigra\", \"Substantia Nigra\", \"Thalamus\", \"Thalamus\", \"Cerebellum\", \"Cerebellum\", \"Cerebellum\", \"Frontal Cortex\", \"Frontal Cortex\", \"Globus Pallidus\", \"Globus Pallidus\", \"Hippocampus\", \"Hippocampus\", \"Striatum\", \"Striatum\", \"Thalamus\", \"Cerebellum\", \"Cerebellum\", \"Posterior Cortex\", \"Posterior Cortex\", \"Entopeduncular\", \"Entopeduncular\", \"Entopeduncular\", \"Globus Pallidus\", \"Globus Pallidus\", \"Hippocampus\", \"Hippocampus\", \"Striatum\", \"Striatum\", \"Substantia Nigra\", \"Substantia Nigra\", \"Substantia Nigra\", \"Substantia Nigra\", \"Thalamus\", \"Thalamus\", \"Cerebellum\", \"Frontal Cortex\", \"Frontal Cortex\", \"Posterior Cortex\", \"Entopeduncular\", \"Entopeduncular\", \"Globus Pallidus\", \"Globus Pallidus\", \"Globus Pallidus\", \"Hippocampus\", \"Hippocampus\", \"Striatum\", \"Striatum\", \"Striatum\", \"Substantia Nigra\", \"Substantia Nigra\", \"Thalamus\", \"Thalamus\", \"Thalamus\", \"Thalamus\", \"Cerebellum\", \"Cerebellum\", \"Cerebellum\", \"Hippocampus\", \"Striatum\", \"Striatum\", \"Substantia Nigra\", \"Thalamus\", \"Substantia Nigra\"], [\"Neuron\", \"Neuron\", \"Neuron\", \"Neuron\", \"Neuron\", \"Endothelial\", \"Endothelial\", \"Neuron\", \"Neuron\", \"Neuron\", \"Neuron\", \"Endothelial\", \"Endothelial\", \"Neuron\", \"Endothelial\", \"Neuron\", \"Endothelial\", \"Neuron\", \"Neuron\", \"Endothelial\", \"Endothelial\", \"Neuron\", \"Neuron\", \"Neuron\", \"Neuron\", \"Neuron\", \"Neuron\", \"Neuron\", \"Neuron\", \"Neuron\", \"Neuron\", \"Neuron\", \"Neuron\", \"Neuron\", \"Microglia_Macrophage\", \"Polydendrocyte\", \"Polydendrocyte\", \"Polydendrocyte\", \"Neuron\", \"Neuron\", \"Neuron\", \"Neuron\", \"Endothelial\", \"Polydendrocyte\", \"Microglia_Macrophage\", \"Mural\", \"Neuron\", \"Neuron\", \"Mural\", \"Neuron\", \"Mural\", \"Neuron\", \"Polydendrocyte\", \"Microglia_Macrophage\", \"Neuron\", \"Neuron\", \"Neuron\", \"Fibroblast-Like\", \"Neuron\", \"Mural\", \"Fibroblast-Like\", \"Microglia_Macrophage\", \"Polydendrocyte\", \"Ependyma\", \"Fibroblast-Like\", \"Neuron\", \"Mural\", \"Polydendrocyte\", \"Microglia_Macrophage\", \"Astrocyte\", \"Fibroblast-Like\", \"Oligodendrocyte\", \"Mural_Fibroblast-Like\", \"Polydendrocyte\", \"Astrocyte\", \"Neuron\", \"Ependyma\", \"Microglia_Macrophage\", \"Neurogenesis\", \"Polydendrocyte\", \"Microglia_Macrophage\", \"Mural\", \"Fibroblast-Like\", \"Neuron\", \"Polydendrocyte\", \"Ependyma\", \"Microglia_Macrophage\", \"Oligodendrocyte_Polydendrocyte\", \"Astrocyte\", \"Oligodendrocyte\", \"Astrocyte\", \"Oligodendrocyte\", \"Oligodendrocyte\", \"Oligodendrocyte\", \"Astrocyte\", \"Fibroblast-Like\", \"Astrocyte\", \"Oligodendrocyte\", \"Ependyma\", \"Oligodendrocyte\", \"Fibroblast-Like\", \"Oligodendrocyte\", \"Astrocyte\", \"Astrocyte\", \"Mural\", \"Fibroblast-Like\", \"Oligodendrocyte\", \"Neuron\", \"Astrocyte\", \"Choroid_Plexus\", \"Choroid_Plexus\", \"Neurogenesis\", \"Astrocyte\", \"Oligodendrocyte\", \"Oligodendrocyte\", \"Ependyma\"], [\"Neuron_CA2CA3_Pvrl3-Rgs15-Calb2 [#6]\", \"Neuron_Subiculum_Slc17a6 [#2]\", \"RSG_Tshz2-Shisa8 [#6]\", \"Neuron_Claustrum_Nr4a2 [#5]\", \"Neuron_Layer5_Parm1 [#7]\", \"Endothelial_Flt1 [#12]\", \"Endothelial_Flt1 [#7]\", \"Neuron_Subiculum_Entorhinal_Nxph3 [#3]\", \"Neuron_Dentate_C1ql2 [#4]\", \"Neuron_CA1_Subiculum_Postsubiculum_Entorhinal_Fibcd1-Dcn-Cbln1-Ptgfr-Fezf2 [#5]\", \"Neuron_dSPN_Drd1 [#10]\", \"Endothelial_Flt1 [#4]\", \"Endothelial_Flt1 [#12]\", \"Neuron_Layer23_Nptxr [#6]\", \"Endothelial_Flt1 [#2]\", \"Neuron_Ppp1r1b [#3]\", \"Endothelial_Flt1 [#15]\", \"Neuron_iSPN_Adora2a [#11]\", \"Neuron_SPN_BNST_Amygdala_Otof [#13]\", \"Endothelial_Flt1 [#7]\", \"Endothelial_Flt1 [#12]\", \"Neuron_Layer6Subplate_Syt6 [#3]\", \"Neuron_Layer6Subplate_Syt6 [#1]\", \"Neuron_Layer23_5_6_Subiculum_Calb1-Rorb-Fermt1-Tshz2-Oprk1-Crym-Sema3e [#2]\", \"Neuron_Layer5_Bcl6 [#3]\", \"Interneuron_CGE_Cplx3-Synpr [#1]\", \"Interneuron_MGE_Sst-Pvalb [#2]\", \"Neuron_Layer5b_Fezf2 [#4]\", \"Interneuron_CGE_Cplx3-Synpr [#4]\", \"Interneuron_MGE_Sst-Pvalb [#5]\", \"Layer5b_Fezf2 [#7]\", \"Interneuron_Gad2 [#1]\", \"Neuron_Gad2-Ahi1 [#3]\", \"Interneurons_and_Other_Nnat [#4]\", \"Microglia_Macrophage_C1qb [#11]\", \"Polydendrocyte_Tnr [#10]\", \"Polydendrocyte_Cacng4 [#6]\", \"Polydendrocyte_Tnr [#9]\", \"Interneuron_Pvalb_Th_Pnoc [#14]\", \"Interneuron_Sst [#15]\", \"Neuron_CA3_C1ql3 [#1]\", \"Neuron_Rora [#2]\", \"Endothelial_Flt1 [#10]\", \"Polydendrocyte_Tnr [#10]\", \"Microglia_Macrophage_Tmem119-Mrc1 [#11]\", \"Mural_Rgs5Acta2 [#13]\", \"Neuron_Syt1 [#4]\", \"Neuron_Gabra1 [#2]\", \"Mural_Rgs5Acta2 [#8]\", \"Neuron_CajalRetzius_Lhx1 [#14]\", \"Mural_Rgs5Acta2 [#16]\", \"Neuron_Gad2 [#3]\", \"Polydendrocyte_Cacng4 [#6]\", \"Microglia_Macrophage_C1qb [#9]\", \"Neuron_Habenula_Tac2 [#1]\", \"Neuron_Rora [#2]\", \"GranularNeuron_Gabra6 [#1]\", \"Fibroblast-Like_Dcn [#11]\", \"Interneurons_Pvalb [#3]\", \"Mural_Rgs5Acta2 [#13]\", \"Fibroblast-Like_Dcn [#14]\", \"Microglia_Macrophage_C1qb [#11]\", \"Polydendrocyte_Tnr [#4]\", \"Ependyma [#11]\", \"Fibroblast-Like_Dcn [#17]\", \"Interneuron_Chat [#12]\", \"Mural_Rgs5Acta2 [#8]\", \"Polydendrocyte_Tnr [#12]\", \"Microglia_Macrophage_C1qb [#5]\", \"Astrocyte_Gja1 [#8]\", \"Fibroblast-Like_Dcn [#14]\", \"Oligodendrocyte_Tfr [#9]\", \"Mural_Fibroblast-Like_Rgs5Acta2-Dcn [#3]\", \"Polydendrocyte_Tnr [#5]\", \"Astrocyte_Gja1 [#7]\", \"Neuron_Chat [#1]\", \"Ependyma [#6]\", \"Microglia_Macrophage_C1qb [#10]\", \"Neurogenesis_Sox4 [#13]\", \"Polydendrocytes_Tnr [#5]\", \"Microglia_Macrophage_C1qb [#6]\", \"Mural_Rgs5Acta2 [#13]\", \"Fibroblast-Like_Dcn [#14]\", \"Neuron_Th [#4]\", \"Polydendrocyte_Tnr [#5]\", \"Ependyma [#10]\", \"Microglia_Macrophage_C1qb [#7]\", \"Oligodendrocyte_Polydendrocyte_Tfr_Tnr [#6]\", \"Astrocyte_Gja1 [#8]\", \"Oligodendrocyte_Tfr [#9]\", \"Astrocyte_Gja1 [#8]\", \"Oligodendrocyte_Tfr [#1]\", \"Oligodendrocyte_Mbp [#8]\", \"Oligodendrocyte_Tfr [#10]\", \"Astrocyte_Gja1 [#5]\", \"Fibroblast-Like_Dcn [#9]\", \"Astrocyte_Gja1 [#7]\", \"Oligodendrocyte_Tfr [#8]\", \"Ependyma [#1]\", \"Oligodendrocytes_Tfr [#3]\", \"Fibroblast-Like_Dcn [#9]\", \"Oligodendrocyte_Tfr [#10]\", \"Astrocyte_Gja1 [#7]\", \"Astrocyte_Gja1 [#11]\", \"Mural_Rgs5Acta2 [#5]\", \"Fibroblast-Like_Dcn [#6]\", \"Oligodendrocyte_Tfr [#8]\", \"PurkinjeNeuron_Pcp2 [#2]\", \"BergmannGlia_Gpr37l1 [#7]\", \"Choroid_Plexus_Ttr [#9]\", \"Choroid_Plexus_Ttr [#12]\", \"Neurogenesis_Sox4 [#2]\", \"Astrocyte_Gja1 [#4]\", \"Oligodendrocyte_Mbp [#11]\", \"Oligodendrocyte_Mbp [#9]\", \"Ependyma [#8]\"], [2.83321334405622, 2.7080502011022096, 2.6390573296152597, 2.484906649788, 2.3978952727983702, 2.3978952727983702, 2.3978952727983702, 2.3978952727983702, 2.3978952727983702, 2.3978952727983702, 2.3978952727983702, 2.3978952727983702, 2.30258509299405, 2.30258509299405, 2.30258509299405, 2.30258509299405, 2.30258509299405, 2.30258509299405, 2.30258509299405, 2.30258509299405, 2.30258509299405, 2.19722457733622, 2.19722457733622, 2.19722457733622, 2.19722457733622, 2.07944154167984, 2.07944154167984, 2.07944154167984, 2.07944154167984, 2.07944154167984, 2.07944154167984, 2.07944154167984, 2.07944154167984, 1.9459101490553101, 1.9459101490553101, 1.9459101490553101, 1.9459101490553101, 1.9459101490553101, 1.9459101490553101, 1.9459101490553101, 1.9459101490553101, 1.9459101490553101, 1.79175946922805, 1.79175946922805, 1.79175946922805, 1.79175946922805, 1.79175946922805, 1.79175946922805, 1.79175946922805, 1.79175946922805, 1.79175946922805, 1.79175946922805, 1.79175946922805, 1.79175946922805, 1.79175946922805, 1.79175946922805, 1.6094379124341003, 1.6094379124341003, 1.6094379124341003, 1.6094379124341003, 1.6094379124341003, 1.6094379124341003, 1.6094379124341003, 1.6094379124341003, 1.6094379124341003, 1.6094379124341003, 1.6094379124341003, 1.6094379124341003, 1.38629436111989, 1.38629436111989, 1.38629436111989, 1.38629436111989, 1.38629436111989, 1.38629436111989, 1.38629436111989, 1.38629436111989, 1.38629436111989, 1.38629436111989, 1.38629436111989, 1.38629436111989, 1.38629436111989, 1.38629436111989, 1.38629436111989, 1.38629436111989, 1.38629436111989, 1.38629436111989, 1.38629436111989, 1.09861228866811, 1.09861228866811, 1.09861228866811, 1.09861228866811, 1.09861228866811, 1.09861228866811, 1.09861228866811, 1.09861228866811, 1.09861228866811, 1.09861228866811, 1.09861228866811, 1.09861228866811, 1.09861228866811, 1.09861228866811, 1.09861228866811, 1.09861228866811, 1.09861228866811, 1.09861228866811, 1.09861228866811, 1.09861228866811, 0.693147180559945, 0.693147180559945, 0.693147180559945, 0.693147180559945, 0.693147180559945, 0.693147180559945, 0.693147180559945, 0.693147180559945, 0.0], [0.0, 8.395659836866479e-31, 2.04576845240115e-107, 4.08400032039014e-11, 2.38100419074208e-40, 4.40665977396744e-15, 6.4904261133257686e-114, 0.00308944818365243, 8.476327376513849e-16, 0.0554503267529836, 1.0216283241220297e-79, 6.691088642699817e-171, 1.31248904844705e-05, 9.457377094537159e-78, 1.06178373845168e-52, 1.8449111529613893e-160, 0.006363408180190829, 0.00025053024506471803, 0.153343908737328, 0.6284673104457571, 1.67267522002675e-110, 1.3203933214913901e-05, 0.194047659376876, 0.0037563751311186703, 0.00431631623411374, 0.000279315538527082, 2.7334910469714998e-05, 0.000779548184255756, 0.0536532635228013, 0.146184065984034, 0.22644718861229698, 2.11724779689152e-44, 5.026535384337099e-56, 0.10706606257167, 0.000828026835336854, 0.000152815223778874, 0.0069983746516588, 1.2003031355035401e-16, 8.17709121905317e-07, 7.080372174011159e-07, 0.0256506522864582, 0.0166059844979101, 0.0144725822990474, 6.3607687731623e-20, 0.0007552144256360299, 8.119370014787241e-05, 1.25197128995084e-24, 1.57532829508569e-25, 0.189023615583846, 1.18968826336102e-05, 2.3515885448863e-14, 6.17260809057622e-65, 0.251857801049146, 0.72435692397616, 0.9543560730527451, 7.847678298460959e-35, 1.73675101298754e-18, 0.270637432891013, 0.203723812470323, 1.50161641052176e-12, 1.04647936919361e-06, 0.350521353975846, 0.00771879891596438, 1.54716792094626e-20, 1.4386936541247902e-10, 1.79125995385936e-09, 1.53275060204671e-05, 0.00327500487207077, 1.0, 0.207546139989629, 2.58624032364085e-10, 3.35475989642239e-48, 0.639263644667849, 0.9295341041400258, 0.8238031283144499, 0.0028261219723870303, 0.8509395884992971, 1.20276580325459e-13, 7.41730218135675e-18, 1.33730692279079e-11, 2.76480750070967e-08, 0.0268152843274057, 0.504613607373631, 0.92859716777852, 0.0607223888241891, 0.000123412095684622, 0.21636739638133398, 0.00036323604305688197, 8.30033878669186e-108, 2.9336053861321694e-138, 1.80165119787941e-95, 1.0166639501301e-76, 0.25150354255119195, 3.1884195149426384e-252, 2.9024595334880697e-62, 0.000529451734125346, 0.0, 5.344614663645819e-115, 2.56294224586472e-11, 1.25885744507358e-67, 0.000286117428408625, 1.868357956949709e-168, 7.057369680979029e-05, 2.8617207807286203e-06, 5.3517746994949e-09, 0.00347509202417995, 1.4015507805e-314, 1.18792292476695e-10, 4.7275554824616604e-17, 0.0426465568287287, 3.84913180354258e-08, 8.91329084250312e-29, 2.829559034875449e-77, 0.0041185124783610794, 0.00011140520851921299, 0.282091515156483]]}, \"header\": {\"align\": \"left\", \"fill\": {\"color\": \"paleturquoise\"}, \"values\": [\"Region\", \"Class\", \"Cluster\", \"Rapgef2_Amount\", \"Rapgef2_PVal\"]}, \"type\": \"table\"}],\n",
       "                        {\"template\": {\"data\": {\"bar\": [{\"error_x\": {\"color\": \"#2a3f5f\"}, \"error_y\": {\"color\": \"#2a3f5f\"}, \"marker\": {\"line\": {\"color\": \"#E5ECF6\", \"width\": 0.5}}, \"type\": \"bar\"}], \"barpolar\": [{\"marker\": {\"line\": {\"color\": \"#E5ECF6\", \"width\": 0.5}}, \"type\": \"barpolar\"}], \"carpet\": [{\"aaxis\": {\"endlinecolor\": \"#2a3f5f\", \"gridcolor\": \"white\", \"linecolor\": \"white\", \"minorgridcolor\": \"white\", \"startlinecolor\": \"#2a3f5f\"}, \"baxis\": {\"endlinecolor\": \"#2a3f5f\", \"gridcolor\": \"white\", \"linecolor\": \"white\", \"minorgridcolor\": \"white\", \"startlinecolor\": \"#2a3f5f\"}, \"type\": \"carpet\"}], \"choropleth\": [{\"colorbar\": {\"outlinewidth\": 0, \"ticks\": \"\"}, \"type\": \"choropleth\"}], \"contour\": [{\"colorbar\": {\"outlinewidth\": 0, \"ticks\": \"\"}, \"colorscale\": [[0.0, \"#0d0887\"], [0.1111111111111111, \"#46039f\"], [0.2222222222222222, \"#7201a8\"], [0.3333333333333333, \"#9c179e\"], [0.4444444444444444, \"#bd3786\"], [0.5555555555555556, \"#d8576b\"], [0.6666666666666666, \"#ed7953\"], [0.7777777777777778, \"#fb9f3a\"], [0.8888888888888888, \"#fdca26\"], [1.0, \"#f0f921\"]], \"type\": \"contour\"}], \"contourcarpet\": [{\"colorbar\": {\"outlinewidth\": 0, \"ticks\": \"\"}, \"type\": \"contourcarpet\"}], \"heatmap\": [{\"colorbar\": {\"outlinewidth\": 0, \"ticks\": \"\"}, \"colorscale\": [[0.0, \"#0d0887\"], [0.1111111111111111, \"#46039f\"], [0.2222222222222222, \"#7201a8\"], [0.3333333333333333, \"#9c179e\"], [0.4444444444444444, \"#bd3786\"], [0.5555555555555556, \"#d8576b\"], [0.6666666666666666, \"#ed7953\"], [0.7777777777777778, \"#fb9f3a\"], [0.8888888888888888, \"#fdca26\"], [1.0, \"#f0f921\"]], \"type\": \"heatmap\"}], \"heatmapgl\": [{\"colorbar\": {\"outlinewidth\": 0, \"ticks\": \"\"}, \"colorscale\": [[0.0, \"#0d0887\"], [0.1111111111111111, \"#46039f\"], [0.2222222222222222, \"#7201a8\"], [0.3333333333333333, \"#9c179e\"], [0.4444444444444444, \"#bd3786\"], [0.5555555555555556, \"#d8576b\"], [0.6666666666666666, \"#ed7953\"], [0.7777777777777778, \"#fb9f3a\"], [0.8888888888888888, \"#fdca26\"], [1.0, \"#f0f921\"]], \"type\": \"heatmapgl\"}], \"histogram\": [{\"marker\": {\"colorbar\": {\"outlinewidth\": 0, \"ticks\": \"\"}}, \"type\": \"histogram\"}], \"histogram2d\": [{\"colorbar\": {\"outlinewidth\": 0, \"ticks\": \"\"}, \"colorscale\": [[0.0, \"#0d0887\"], [0.1111111111111111, \"#46039f\"], [0.2222222222222222, \"#7201a8\"], [0.3333333333333333, \"#9c179e\"], [0.4444444444444444, \"#bd3786\"], [0.5555555555555556, \"#d8576b\"], [0.6666666666666666, \"#ed7953\"], [0.7777777777777778, \"#fb9f3a\"], [0.8888888888888888, \"#fdca26\"], [1.0, \"#f0f921\"]], \"type\": \"histogram2d\"}], \"histogram2dcontour\": [{\"colorbar\": {\"outlinewidth\": 0, \"ticks\": \"\"}, \"colorscale\": [[0.0, \"#0d0887\"], [0.1111111111111111, \"#46039f\"], [0.2222222222222222, \"#7201a8\"], [0.3333333333333333, \"#9c179e\"], [0.4444444444444444, \"#bd3786\"], [0.5555555555555556, \"#d8576b\"], [0.6666666666666666, \"#ed7953\"], [0.7777777777777778, \"#fb9f3a\"], [0.8888888888888888, \"#fdca26\"], [1.0, \"#f0f921\"]], \"type\": \"histogram2dcontour\"}], \"mesh3d\": [{\"colorbar\": {\"outlinewidth\": 0, \"ticks\": \"\"}, \"type\": \"mesh3d\"}], \"parcoords\": [{\"line\": {\"colorbar\": {\"outlinewidth\": 0, \"ticks\": \"\"}}, \"type\": \"parcoords\"}], \"pie\": [{\"automargin\": true, \"type\": \"pie\"}], \"scatter\": [{\"marker\": {\"colorbar\": {\"outlinewidth\": 0, \"ticks\": \"\"}}, \"type\": \"scatter\"}], \"scatter3d\": [{\"line\": {\"colorbar\": {\"outlinewidth\": 0, \"ticks\": \"\"}}, \"marker\": {\"colorbar\": {\"outlinewidth\": 0, \"ticks\": \"\"}}, \"type\": \"scatter3d\"}], \"scattercarpet\": [{\"marker\": {\"colorbar\": {\"outlinewidth\": 0, \"ticks\": \"\"}}, \"type\": \"scattercarpet\"}], \"scattergeo\": [{\"marker\": {\"colorbar\": {\"outlinewidth\": 0, \"ticks\": \"\"}}, \"type\": \"scattergeo\"}], \"scattergl\": [{\"marker\": {\"colorbar\": {\"outlinewidth\": 0, \"ticks\": \"\"}}, \"type\": \"scattergl\"}], \"scattermapbox\": [{\"marker\": {\"colorbar\": {\"outlinewidth\": 0, \"ticks\": \"\"}}, \"type\": \"scattermapbox\"}], \"scatterpolar\": [{\"marker\": {\"colorbar\": {\"outlinewidth\": 0, \"ticks\": \"\"}}, \"type\": \"scatterpolar\"}], \"scatterpolargl\": [{\"marker\": {\"colorbar\": {\"outlinewidth\": 0, \"ticks\": \"\"}}, \"type\": \"scatterpolargl\"}], \"scatterternary\": [{\"marker\": {\"colorbar\": {\"outlinewidth\": 0, \"ticks\": \"\"}}, \"type\": \"scatterternary\"}], \"surface\": [{\"colorbar\": {\"outlinewidth\": 0, \"ticks\": \"\"}, \"colorscale\": [[0.0, \"#0d0887\"], [0.1111111111111111, \"#46039f\"], [0.2222222222222222, \"#7201a8\"], [0.3333333333333333, \"#9c179e\"], [0.4444444444444444, \"#bd3786\"], [0.5555555555555556, \"#d8576b\"], [0.6666666666666666, \"#ed7953\"], [0.7777777777777778, \"#fb9f3a\"], [0.8888888888888888, \"#fdca26\"], [1.0, \"#f0f921\"]], \"type\": \"surface\"}], \"table\": [{\"cells\": {\"fill\": {\"color\": \"#EBF0F8\"}, \"line\": {\"color\": \"white\"}}, \"header\": {\"fill\": {\"color\": \"#C8D4E3\"}, \"line\": {\"color\": \"white\"}}, \"type\": \"table\"}]}, \"layout\": {\"annotationdefaults\": {\"arrowcolor\": \"#2a3f5f\", \"arrowhead\": 0, \"arrowwidth\": 1}, \"coloraxis\": {\"colorbar\": {\"outlinewidth\": 0, \"ticks\": \"\"}}, \"colorscale\": {\"diverging\": [[0, \"#8e0152\"], [0.1, \"#c51b7d\"], [0.2, \"#de77ae\"], [0.3, \"#f1b6da\"], [0.4, \"#fde0ef\"], [0.5, \"#f7f7f7\"], [0.6, \"#e6f5d0\"], [0.7, \"#b8e186\"], [0.8, \"#7fbc41\"], [0.9, \"#4d9221\"], [1, \"#276419\"]], \"sequential\": [[0.0, \"#0d0887\"], [0.1111111111111111, \"#46039f\"], [0.2222222222222222, \"#7201a8\"], [0.3333333333333333, \"#9c179e\"], [0.4444444444444444, \"#bd3786\"], [0.5555555555555556, \"#d8576b\"], [0.6666666666666666, \"#ed7953\"], [0.7777777777777778, \"#fb9f3a\"], [0.8888888888888888, \"#fdca26\"], [1.0, \"#f0f921\"]], \"sequentialminus\": [[0.0, \"#0d0887\"], [0.1111111111111111, \"#46039f\"], [0.2222222222222222, \"#7201a8\"], [0.3333333333333333, \"#9c179e\"], [0.4444444444444444, \"#bd3786\"], [0.5555555555555556, \"#d8576b\"], [0.6666666666666666, \"#ed7953\"], [0.7777777777777778, \"#fb9f3a\"], [0.8888888888888888, \"#fdca26\"], [1.0, \"#f0f921\"]]}, \"colorway\": [\"#636efa\", \"#EF553B\", \"#00cc96\", \"#ab63fa\", \"#FFA15A\", \"#19d3f3\", \"#FF6692\", \"#B6E880\", \"#FF97FF\", \"#FECB52\"], \"font\": {\"color\": \"#2a3f5f\"}, \"geo\": {\"bgcolor\": \"white\", \"lakecolor\": \"white\", \"landcolor\": \"#E5ECF6\", \"showlakes\": true, \"showland\": true, \"subunitcolor\": \"white\"}, \"hoverlabel\": {\"align\": \"left\"}, \"hovermode\": \"closest\", \"mapbox\": {\"style\": \"light\"}, \"paper_bgcolor\": \"white\", \"plot_bgcolor\": \"#E5ECF6\", \"polar\": {\"angularaxis\": {\"gridcolor\": \"white\", \"linecolor\": \"white\", \"ticks\": \"\"}, \"bgcolor\": \"#E5ECF6\", \"radialaxis\": {\"gridcolor\": \"white\", \"linecolor\": \"white\", \"ticks\": \"\"}}, \"scene\": {\"xaxis\": {\"backgroundcolor\": \"#E5ECF6\", \"gridcolor\": \"white\", \"gridwidth\": 2, \"linecolor\": \"white\", \"showbackground\": true, \"ticks\": \"\", \"zerolinecolor\": \"white\"}, \"yaxis\": {\"backgroundcolor\": \"#E5ECF6\", \"gridcolor\": \"white\", \"gridwidth\": 2, \"linecolor\": \"white\", \"showbackground\": true, \"ticks\": \"\", \"zerolinecolor\": \"white\"}, \"zaxis\": {\"backgroundcolor\": \"#E5ECF6\", \"gridcolor\": \"white\", \"gridwidth\": 2, \"linecolor\": \"white\", \"showbackground\": true, \"ticks\": \"\", \"zerolinecolor\": \"white\"}}, \"shapedefaults\": {\"line\": {\"color\": \"#2a3f5f\"}}, \"ternary\": {\"aaxis\": {\"gridcolor\": \"white\", \"linecolor\": \"white\", \"ticks\": \"\"}, \"baxis\": {\"gridcolor\": \"white\", \"linecolor\": \"white\", \"ticks\": \"\"}, \"bgcolor\": \"#E5ECF6\", \"caxis\": {\"gridcolor\": \"white\", \"linecolor\": \"white\", \"ticks\": \"\"}}, \"title\": {\"x\": 0.05}, \"xaxis\": {\"automargin\": true, \"gridcolor\": \"white\", \"linecolor\": \"white\", \"ticks\": \"\", \"title\": {\"standoff\": 15}, \"zerolinecolor\": \"white\", \"zerolinewidth\": 2}, \"yaxis\": {\"automargin\": true, \"gridcolor\": \"white\", \"linecolor\": \"white\", \"ticks\": \"\", \"title\": {\"standoff\": 15}, \"zerolinecolor\": \"white\", \"zerolinewidth\": 2}}}, \"title\": {\"text\": \"Rapgef2: Adult mouse, Single Cell, Saunder, 2018 (DropViz)\"}},\n",
       "                        {\"responsive\": true}\n",
       "                    ).then(function(){\n",
       "                            \n",
       "var gd = document.getElementById('0873e151-5594-46e8-8229-f684325b7a3a');\n",
       "var x = new MutationObserver(function (mutations, observer) {{\n",
       "        var display = window.getComputedStyle(gd).display;\n",
       "        if (!display || display === 'none') {{\n",
       "            console.log([gd, 'removed!']);\n",
       "            Plotly.purge(gd);\n",
       "            observer.disconnect();\n",
       "        }}\n",
       "}});\n",
       "\n",
       "// Listen for the removal of the full notebook cells\n",
       "var notebookContainer = gd.closest('#notebook-container');\n",
       "if (notebookContainer) {{\n",
       "    x.observe(notebookContainer, {childList: true});\n",
       "}}\n",
       "\n",
       "// Listen for the clearing of the current output cell\n",
       "var outputEl = gd.closest('.output');\n",
       "if (outputEl) {{\n",
       "    x.observe(outputEl, {childList: true});\n",
       "}}\n",
       "\n",
       "                        })\n",
       "                };\n",
       "                });\n",
       "            </script>\n",
       "        </div>"
      ]
     },
     "metadata": {},
     "output_type": "display_data"
    }
   ],
   "source": [
    "data = pd.read_csv(\"clusters.csv\")\n",
    "data.columns = ['Region','Class','Cluster','Rapgef2_Amount','Rapgef2_PVal']\n",
    "\n",
    "fig = px.bar(data, x=\"Class\", y=\"Rapgef2_Amount\", color = \"Class\", \n",
    "                    #facet_row = \"Region\",\n",
    "                     width=1000, height=800,\n",
    "                    hover_name = \"Cluster\",\n",
    "                    hover_data = [\"Class\", \"Cluster\", \"Rapgef2_Amount\", \"Rapgef2_PVal\"]\n",
    "                    )\n",
    "for a in fig.layout.annotations:\n",
    "    a.text = a.text.split(\"=\")[1]\n",
    "fig.update_yaxes(title_text='')\n",
    "fig.update_layout(\n",
    "    title=\"Rapgef2: Adult mouse, Single Cell, Saunder, 2018 (DropViz)\",\n",
    "    xaxis_title=\"Cell Type\",\n",
    "    yaxis_title=\"Expression\",xaxis={'categoryorder':'total descending'})\n",
    "fig.show()\n",
    "\n",
    "            ## print table\n",
    "fig2 = go.Figure(data=[go.Table(\n",
    "header=dict(values=list(data.columns),\n",
    "                    fill_color='paleturquoise',\n",
    "                    align='left'),\n",
    "cells=dict(values=[data.Region,data.Class, data.Cluster, data.Rapgef2_Amount,\n",
    "                              data.Rapgef2_PVal],\n",
    "                    fill_color='lavender',\n",
    "                    align='left'))\n",
    "                ])\n",
    "fig2.update_layout(\n",
    "    title=\"Rapgef2: Adult mouse, Single Cell, Saunder, 2018 (DropViz)\")\n",
    "\n",
    "fig2.show()"
   ]
  },
  {
   "cell_type": "code",
   "execution_count": 17,
   "metadata": {
    "hideCode": false,
    "hidePrompt": false
   },
   "outputs": [
    {
     "data": {
      "application/vnd.plotly.v1+json": {
       "config": {
        "plotlyServerURL": "https://plot.ly"
       },
       "data": [
        {
         "alignmentgroup": "True",
         "customdata": [
          [
           "e14.5",
           "Layer I [17-E]"
          ]
         ],
         "hovertemplate": "<b>%{hovertext}</b><br><br>Cell_Type=Layer I <br>Age=%{customdata[0]}<br>Category=%{x}<br>Expression=%{y}<br>Cluster=%{customdata[1]}<extra></extra>",
         "hovertext": [
          "Layer I "
         ],
         "legendgroup": "Layer I ",
         "marker": {
          "color": "#636efa"
         },
         "name": "Layer I ",
         "offsetgroup": "Layer I ",
         "orientation": "v",
         "showlegend": true,
         "textposition": "auto",
         "type": "bar",
         "x": [
          "Cortical Layers"
         ],
         "xaxis": "x",
         "y": [
          0.035783348
         ],
         "yaxis": "y"
        },
        {
         "alignmentgroup": "True",
         "customdata": [
          [
           "p0",
           "Layer I [19-P]"
          ]
         ],
         "hovertemplate": "<b>%{hovertext}</b><br><br>Cell_Type=Layer I <br>Age=%{customdata[0]}<br>Category=%{x}<br>Expression=%{y}<br>Cluster=%{customdata[1]}<extra></extra>",
         "hovertext": [
          "Layer I "
         ],
         "legendgroup": "Layer I ",
         "marker": {
          "color": "#636efa"
         },
         "name": "Layer I ",
         "offsetgroup": "Layer I ",
         "orientation": "v",
         "showlegend": false,
         "textposition": "auto",
         "type": "bar",
         "x": [
          "Cortical Layers"
         ],
         "xaxis": "x2",
         "y": [
          -0.060587172
         ],
         "yaxis": "y2"
        },
        {
         "alignmentgroup": "True",
         "customdata": [
          [
           "p0",
           "Layer II-IV [15-P]"
          ],
          [
           "p0",
           "Layer II-IV [1-P]"
          ],
          [
           "p0",
           "Layer II-IV [4-P]"
          ]
         ],
         "hovertemplate": "<b>%{hovertext}</b><br><br>Cell_Type=Layer II-IV <br>Age=%{customdata[0]}<br>Category=%{x}<br>Expression=%{y}<br>Cluster=%{customdata[1]}<extra></extra>",
         "hovertext": [
          "Layer II-IV ",
          "Layer II-IV ",
          "Layer II-IV "
         ],
         "legendgroup": "Layer II-IV ",
         "marker": {
          "color": "#EF553B"
         },
         "name": "Layer II-IV ",
         "offsetgroup": "Layer II-IV ",
         "orientation": "v",
         "showlegend": true,
         "textposition": "auto",
         "type": "bar",
         "x": [
          "Cortical Layers",
          "Cortical Layers",
          "Cortical Layers"
         ],
         "xaxis": "x2",
         "y": [
          -0.053296800000000005,
          -0.011128143,
          -0.015901945
         ],
         "yaxis": "y2"
        },
        {
         "alignmentgroup": "True",
         "customdata": [
          [
           "e14.5",
           "Layer V-VI [2-E]"
          ],
          [
           "e14.5",
           "Layer V-VI [3-E]"
          ],
          [
           "e14.5",
           "Layer V-VI [5-E]"
          ],
          [
           "e14.5",
           "Layer V-VI [13-E]"
          ],
          [
           "e14.5",
           "Layer V-VI [7-E]"
          ]
         ],
         "hovertemplate": "<b>%{hovertext}</b><br><br>Cell_Type=Layer V-VI <br>Age=%{customdata[0]}<br>Category=%{x}<br>Expression=%{y}<br>Cluster=%{customdata[1]}<extra></extra>",
         "hovertext": [
          "Layer V-VI ",
          "Layer V-VI ",
          "Layer V-VI ",
          "Layer V-VI ",
          "Layer V-VI "
         ],
         "legendgroup": "Layer V-VI ",
         "marker": {
          "color": "#00cc96"
         },
         "name": "Layer V-VI ",
         "offsetgroup": "Layer V-VI ",
         "orientation": "v",
         "showlegend": true,
         "textposition": "auto",
         "type": "bar",
         "x": [
          "Cortical Layers",
          "Cortical Layers",
          "Cortical Layers",
          "Cortical Layers",
          "Cortical Layers"
         ],
         "xaxis": "x",
         "y": [
          0.003438035,
          0.034018797999999996,
          0.085107604,
          0.030869591000000002,
          0.08179170599999999
         ],
         "yaxis": "y"
        },
        {
         "alignmentgroup": "True",
         "customdata": [
          [
           "p0",
           "Layer V-VI [18-P]"
          ],
          [
           "p0",
           "Layer V-VI [12-P]"
          ]
         ],
         "hovertemplate": "<b>%{hovertext}</b><br><br>Cell_Type=Layer V-VI <br>Age=%{customdata[0]}<br>Category=%{x}<br>Expression=%{y}<br>Cluster=%{customdata[1]}<extra></extra>",
         "hovertext": [
          "Layer V-VI ",
          "Layer V-VI "
         ],
         "legendgroup": "Layer V-VI ",
         "marker": {
          "color": "#00cc96"
         },
         "name": "Layer V-VI ",
         "offsetgroup": "Layer V-VI ",
         "orientation": "v",
         "showlegend": false,
         "textposition": "auto",
         "type": "bar",
         "x": [
          "Cortical Layers",
          "Cortical Layers"
         ],
         "xaxis": "x2",
         "y": [
          0.049780915999999995,
          0.129189029
         ],
         "yaxis": "y2"
        },
        {
         "alignmentgroup": "True",
         "customdata": [
          [
           "e14.5",
           "SVZ1 (migrating) [4-E]"
          ]
         ],
         "hovertemplate": "<b>%{hovertext}</b><br><br>Cell_Type=SVZ1 (migrating) <br>Age=%{customdata[0]}<br>Category=%{x}<br>Expression=%{y}<br>Cluster=%{customdata[1]}<extra></extra>",
         "hovertext": [
          "SVZ1 (migrating) "
         ],
         "legendgroup": "SVZ1 (migrating) ",
         "marker": {
          "color": "#ab63fa"
         },
         "name": "SVZ1 (migrating) ",
         "offsetgroup": "SVZ1 (migrating) ",
         "orientation": "v",
         "showlegend": true,
         "textposition": "auto",
         "type": "bar",
         "x": [
          "Proliferative"
         ],
         "xaxis": "x",
         "y": [
          0.08198662599999999
         ],
         "yaxis": "y"
        },
        {
         "alignmentgroup": "True",
         "customdata": [
          [
           "p0",
           "SVZ1 (migrating) [2-P]"
          ]
         ],
         "hovertemplate": "<b>%{hovertext}</b><br><br>Cell_Type=SVZ1 (migrating) <br>Age=%{customdata[0]}<br>Category=%{x}<br>Expression=%{y}<br>Cluster=%{customdata[1]}<extra></extra>",
         "hovertext": [
          "SVZ1 (migrating) "
         ],
         "legendgroup": "SVZ1 (migrating) ",
         "marker": {
          "color": "#ab63fa"
         },
         "name": "SVZ1 (migrating) ",
         "offsetgroup": "SVZ1 (migrating) ",
         "orientation": "v",
         "showlegend": false,
         "textposition": "auto",
         "type": "bar",
         "x": [
          "Proliferative"
         ],
         "xaxis": "x2",
         "y": [
          -0.09089812
         ],
         "yaxis": "y2"
        },
        {
         "alignmentgroup": "True",
         "customdata": [
          [
           "p0",
           "SVZ2 (migrating) [8-P]"
          ]
         ],
         "hovertemplate": "<b>%{hovertext}</b><br><br>Cell_Type=SVZ2 (migrating) <br>Age=%{customdata[0]}<br>Category=%{x}<br>Expression=%{y}<br>Cluster=%{customdata[1]}<extra></extra>",
         "hovertext": [
          "SVZ2 (migrating) "
         ],
         "legendgroup": "SVZ2 (migrating) ",
         "marker": {
          "color": "#FFA15A"
         },
         "name": "SVZ2 (migrating) ",
         "offsetgroup": "SVZ2 (migrating) ",
         "orientation": "v",
         "showlegend": true,
         "textposition": "auto",
         "type": "bar",
         "x": [
          "Proliferative"
         ],
         "xaxis": "x2",
         "y": [
          -3.54e-06
         ],
         "yaxis": "y2"
        },
        {
         "alignmentgroup": "True",
         "customdata": [
          [
           "e14.5",
           "Int1 [1-E]"
          ]
         ],
         "hovertemplate": "<b>%{hovertext}</b><br><br>Cell_Type=Int1 <br>Age=%{customdata[0]}<br>Category=%{x}<br>Expression=%{y}<br>Cluster=%{customdata[1]}<extra></extra>",
         "hovertext": [
          "Int1 "
         ],
         "legendgroup": "Int1 ",
         "marker": {
          "color": "#19d3f3"
         },
         "name": "Int1 ",
         "offsetgroup": "Int1 ",
         "orientation": "v",
         "showlegend": true,
         "textposition": "auto",
         "type": "bar",
         "x": [
          "Inhibitory"
         ],
         "xaxis": "x",
         "y": [
          -0.119255049
         ],
         "yaxis": "y"
        },
        {
         "alignmentgroup": "True",
         "customdata": [
          [
           "p0",
           "Int1 [5-P]"
          ]
         ],
         "hovertemplate": "<b>%{hovertext}</b><br><br>Cell_Type=Int1 <br>Age=%{customdata[0]}<br>Category=%{x}<br>Expression=%{y}<br>Cluster=%{customdata[1]}<extra></extra>",
         "hovertext": [
          "Int1 "
         ],
         "legendgroup": "Int1 ",
         "marker": {
          "color": "#19d3f3"
         },
         "name": "Int1 ",
         "offsetgroup": "Int1 ",
         "orientation": "v",
         "showlegend": false,
         "textposition": "auto",
         "type": "bar",
         "x": [
          "Inhibitory"
         ],
         "xaxis": "x2",
         "y": [
          -0.055491967999999996
         ],
         "yaxis": "y2"
        },
        {
         "alignmentgroup": "True",
         "customdata": [
          [
           "e14.5",
           "Int2 [12-E]"
          ]
         ],
         "hovertemplate": "<b>%{hovertext}</b><br><br>Cell_Type=Int2 <br>Age=%{customdata[0]}<br>Category=%{x}<br>Expression=%{y}<br>Cluster=%{customdata[1]}<extra></extra>",
         "hovertext": [
          "Int2 "
         ],
         "legendgroup": "Int2 ",
         "marker": {
          "color": "#FF6692"
         },
         "name": "Int2 ",
         "offsetgroup": "Int2 ",
         "orientation": "v",
         "showlegend": true,
         "textposition": "auto",
         "type": "bar",
         "x": [
          "Inhibitory"
         ],
         "xaxis": "x",
         "y": [
          0.074230353
         ],
         "yaxis": "y"
        },
        {
         "alignmentgroup": "True",
         "customdata": [
          [
           "p0",
           "Int2 [14-P]"
          ]
         ],
         "hovertemplate": "<b>%{hovertext}</b><br><br>Cell_Type=Int2 <br>Age=%{customdata[0]}<br>Category=%{x}<br>Expression=%{y}<br>Cluster=%{customdata[1]}<extra></extra>",
         "hovertext": [
          "Int2 "
         ],
         "legendgroup": "Int2 ",
         "marker": {
          "color": "#FF6692"
         },
         "name": "Int2 ",
         "offsetgroup": "Int2 ",
         "orientation": "v",
         "showlegend": false,
         "textposition": "auto",
         "type": "bar",
         "x": [
          "Inhibitory"
         ],
         "xaxis": "x2",
         "y": [
          0.073766575
         ],
         "yaxis": "y2"
        },
        {
         "alignmentgroup": "True",
         "customdata": [
          [
           "p0",
           "Int3 [11-P]"
          ]
         ],
         "hovertemplate": "<b>%{hovertext}</b><br><br>Cell_Type=Int3 <br>Age=%{customdata[0]}<br>Category=%{x}<br>Expression=%{y}<br>Cluster=%{customdata[1]}<extra></extra>",
         "hovertext": [
          "Int3 "
         ],
         "legendgroup": "Int3 ",
         "marker": {
          "color": "#B6E880"
         },
         "name": "Int3 ",
         "offsetgroup": "Int3 ",
         "orientation": "v",
         "showlegend": true,
         "textposition": "auto",
         "type": "bar",
         "x": [
          "Inhibitory"
         ],
         "xaxis": "x2",
         "y": [
          0.057162320999999995
         ],
         "yaxis": "y2"
        },
        {
         "alignmentgroup": "True",
         "customdata": [
          [
           "p0",
           "Int4 [6-P]"
          ]
         ],
         "hovertemplate": "<b>%{hovertext}</b><br><br>Cell_Type=Int4 <br>Age=%{customdata[0]}<br>Category=%{x}<br>Expression=%{y}<br>Cluster=%{customdata[1]}<extra></extra>",
         "hovertext": [
          "Int4 "
         ],
         "legendgroup": "Int4 ",
         "marker": {
          "color": "#FF97FF"
         },
         "name": "Int4 ",
         "offsetgroup": "Int4 ",
         "orientation": "v",
         "showlegend": true,
         "textposition": "auto",
         "type": "bar",
         "x": [
          "Inhibitory"
         ],
         "xaxis": "x2",
         "y": [
          -0.095149049
         ],
         "yaxis": "y2"
        },
        {
         "alignmentgroup": "True",
         "customdata": [
          [
           "e14.5",
           "Thalamic [19-E]"
          ]
         ],
         "hovertemplate": "<b>%{hovertext}</b><br><br>Cell_Type=Thalamic <br>Age=%{customdata[0]}<br>Category=%{x}<br>Expression=%{y}<br>Cluster=%{customdata[1]}<extra></extra>",
         "hovertext": [
          "Thalamic "
         ],
         "legendgroup": "Thalamic ",
         "marker": {
          "color": "#FECB52"
         },
         "name": "Thalamic ",
         "offsetgroup": "Thalamic ",
         "orientation": "v",
         "showlegend": true,
         "textposition": "auto",
         "type": "bar",
         "x": [
          "Midbrain"
         ],
         "xaxis": "x",
         "y": [
          -0.018170602
         ],
         "yaxis": "y"
        },
        {
         "alignmentgroup": "True",
         "customdata": [
          [
           "e14.5",
           "Striatal inh1 [16-E]"
          ]
         ],
         "hovertemplate": "<b>%{hovertext}</b><br><br>Cell_Type=Striatal inh1 <br>Age=%{customdata[0]}<br>Category=%{x}<br>Expression=%{y}<br>Cluster=%{customdata[1]}<extra></extra>",
         "hovertext": [
          "Striatal inh1 "
         ],
         "legendgroup": "Striatal inh1 ",
         "marker": {
          "color": "#636efa"
         },
         "name": "Striatal inh1 ",
         "offsetgroup": "Striatal inh1 ",
         "orientation": "v",
         "showlegend": true,
         "textposition": "auto",
         "type": "bar",
         "x": [
          "Midbrain"
         ],
         "xaxis": "x",
         "y": [
          -0.05996990000000001
         ],
         "yaxis": "y"
        },
        {
         "alignmentgroup": "True",
         "customdata": [
          [
           "p0",
           "Striatal inh1 [3-P]"
          ]
         ],
         "hovertemplate": "<b>%{hovertext}</b><br><br>Cell_Type=Striatal inh1 <br>Age=%{customdata[0]}<br>Category=%{x}<br>Expression=%{y}<br>Cluster=%{customdata[1]}<extra></extra>",
         "hovertext": [
          "Striatal inh1 "
         ],
         "legendgroup": "Striatal inh1 ",
         "marker": {
          "color": "#636efa"
         },
         "name": "Striatal inh1 ",
         "offsetgroup": "Striatal inh1 ",
         "orientation": "v",
         "showlegend": false,
         "textposition": "auto",
         "type": "bar",
         "x": [
          "Midbrain"
         ],
         "xaxis": "x2",
         "y": [
          0.027200405
         ],
         "yaxis": "y2"
        },
        {
         "alignmentgroup": "True",
         "customdata": [
          [
           "e14.5",
           "Striatal inh2 [9-E]"
          ]
         ],
         "hovertemplate": "<b>%{hovertext}</b><br><br>Cell_Type=Striatal inh2 <br>Age=%{customdata[0]}<br>Category=%{x}<br>Expression=%{y}<br>Cluster=%{customdata[1]}<extra></extra>",
         "hovertext": [
          "Striatal inh2 "
         ],
         "legendgroup": "Striatal inh2 ",
         "marker": {
          "color": "#EF553B"
         },
         "name": "Striatal inh2 ",
         "offsetgroup": "Striatal inh2 ",
         "orientation": "v",
         "showlegend": true,
         "textposition": "auto",
         "type": "bar",
         "x": [
          "Midbrain"
         ],
         "xaxis": "x",
         "y": [
          -0.10006749699999999
         ],
         "yaxis": "y"
        },
        {
         "alignmentgroup": "True",
         "customdata": [
          [
           "p0",
           "Striatal inh2 [7-P]"
          ]
         ],
         "hovertemplate": "<b>%{hovertext}</b><br><br>Cell_Type=Striatal inh2 <br>Age=%{customdata[0]}<br>Category=%{x}<br>Expression=%{y}<br>Cluster=%{customdata[1]}<extra></extra>",
         "hovertext": [
          "Striatal inh2 "
         ],
         "legendgroup": "Striatal inh2 ",
         "marker": {
          "color": "#EF553B"
         },
         "name": "Striatal inh2 ",
         "offsetgroup": "Striatal inh2 ",
         "orientation": "v",
         "showlegend": false,
         "textposition": "auto",
         "type": "bar",
         "x": [
          "Midbrain"
         ],
         "xaxis": "x2",
         "y": [
          0.009913432
         ],
         "yaxis": "y2"
        },
        {
         "alignmentgroup": "True",
         "customdata": [
          [
           "e14.5",
           "Ganglionic eminences [6-E]"
          ]
         ],
         "hovertemplate": "<b>%{hovertext}</b><br><br>Cell_Type=Ganglionic eminences <br>Age=%{customdata[0]}<br>Category=%{x}<br>Expression=%{y}<br>Cluster=%{customdata[1]}<extra></extra>",
         "hovertext": [
          "Ganglionic eminences "
         ],
         "legendgroup": "Ganglionic eminences ",
         "marker": {
          "color": "#00cc96"
         },
         "name": "Ganglionic eminences ",
         "offsetgroup": "Ganglionic eminences ",
         "orientation": "v",
         "showlegend": true,
         "textposition": "auto",
         "type": "bar",
         "x": [
          "Non-Neuronal"
         ],
         "xaxis": "x",
         "y": [
          -0.079695693
         ],
         "yaxis": "y"
        },
        {
         "alignmentgroup": "True",
         "customdata": [
          [
           "p0",
           "Ganglionic eminences [9-P]"
          ]
         ],
         "hovertemplate": "<b>%{hovertext}</b><br><br>Cell_Type=Ganglionic eminences <br>Age=%{customdata[0]}<br>Category=%{x}<br>Expression=%{y}<br>Cluster=%{customdata[1]}<extra></extra>",
         "hovertext": [
          "Ganglionic eminences "
         ],
         "legendgroup": "Ganglionic eminences ",
         "marker": {
          "color": "#00cc96"
         },
         "name": "Ganglionic eminences ",
         "offsetgroup": "Ganglionic eminences ",
         "orientation": "v",
         "showlegend": false,
         "textposition": "auto",
         "type": "bar",
         "x": [
          "Non-Neuronal"
         ],
         "xaxis": "x2",
         "y": [
          -0.04677294
         ],
         "yaxis": "y2"
        },
        {
         "alignmentgroup": "True",
         "customdata": [
          [
           "e14.5",
           "SVZ3 (proliferating) [15-E]"
          ]
         ],
         "hovertemplate": "<b>%{hovertext}</b><br><br>Cell_Type=SVZ3 (proliferating) <br>Age=%{customdata[0]}<br>Category=%{x}<br>Expression=%{y}<br>Cluster=%{customdata[1]}<extra></extra>",
         "hovertext": [
          "SVZ3 (proliferating) "
         ],
         "legendgroup": "SVZ3 (proliferating) ",
         "marker": {
          "color": "#ab63fa"
         },
         "name": "SVZ3 (proliferating) ",
         "offsetgroup": "SVZ3 (proliferating) ",
         "orientation": "v",
         "showlegend": true,
         "textposition": "auto",
         "type": "bar",
         "x": [
          "Proliferative"
         ],
         "xaxis": "x",
         "y": [
          0.0013201920000000002
         ],
         "yaxis": "y"
        },
        {
         "alignmentgroup": "True",
         "customdata": [
          [
           "e14.5",
           "SVZ2 (VZ-SVZ) [11-E]"
          ]
         ],
         "hovertemplate": "<b>%{hovertext}</b><br><br>Cell_Type=SVZ2 (VZ-SVZ) <br>Age=%{customdata[0]}<br>Category=%{x}<br>Expression=%{y}<br>Cluster=%{customdata[1]}<extra></extra>",
         "hovertext": [
          "SVZ2 (VZ-SVZ) "
         ],
         "legendgroup": "SVZ2 (VZ-SVZ) ",
         "marker": {
          "color": "#FFA15A"
         },
         "name": "SVZ2 (VZ-SVZ) ",
         "offsetgroup": "SVZ2 (VZ-SVZ) ",
         "orientation": "v",
         "showlegend": true,
         "textposition": "auto",
         "type": "bar",
         "x": [
          "Proliferative"
         ],
         "xaxis": "x",
         "y": [
          -0.056915783
         ],
         "yaxis": "y"
        },
        {
         "alignmentgroup": "True",
         "customdata": [
          [
           "e14.5",
           "RG2 [14-E]"
          ]
         ],
         "hovertemplate": "<b>%{hovertext}</b><br><br>Cell_Type=RG2 <br>Age=%{customdata[0]}<br>Category=%{x}<br>Expression=%{y}<br>Cluster=%{customdata[1]}<extra></extra>",
         "hovertext": [
          "RG2 "
         ],
         "legendgroup": "RG2 ",
         "marker": {
          "color": "#19d3f3"
         },
         "name": "RG2 ",
         "offsetgroup": "RG2 ",
         "orientation": "v",
         "showlegend": true,
         "textposition": "auto",
         "type": "bar",
         "x": [
          "Proliferative"
         ],
         "xaxis": "x",
         "y": [
          0.007653448
         ],
         "yaxis": "y"
        },
        {
         "alignmentgroup": "True",
         "customdata": [
          [
           "e14.5",
           "RG3 (cortical hem) [21-E]"
          ]
         ],
         "hovertemplate": "<b>%{hovertext}</b><br><br>Cell_Type=RG3 (cortical hem) <br>Age=%{customdata[0]}<br>Category=%{x}<br>Expression=%{y}<br>Cluster=%{customdata[1]}<extra></extra>",
         "hovertext": [
          "RG3 (cortical hem) "
         ],
         "legendgroup": "RG3 (cortical hem) ",
         "marker": {
          "color": "#FF6692"
         },
         "name": "RG3 (cortical hem) ",
         "offsetgroup": "RG3 (cortical hem) ",
         "orientation": "v",
         "showlegend": true,
         "textposition": "auto",
         "type": "bar",
         "x": [
          "Proliferative"
         ],
         "xaxis": "x",
         "y": [
          -0.148772245
         ],
         "yaxis": "y"
        },
        {
         "alignmentgroup": "True",
         "customdata": [
          [
           "e14.5",
           "RG1 [8-E]"
          ]
         ],
         "hovertemplate": "<b>%{hovertext}</b><br><br>Cell_Type=RG1 <br>Age=%{customdata[0]}<br>Category=%{x}<br>Expression=%{y}<br>Cluster=%{customdata[1]}<extra></extra>",
         "hovertext": [
          "RG1 "
         ],
         "legendgroup": "RG1 ",
         "marker": {
          "color": "#B6E880"
         },
         "name": "RG1 ",
         "offsetgroup": "RG1 ",
         "orientation": "v",
         "showlegend": true,
         "textposition": "auto",
         "type": "bar",
         "x": [
          "Proliferative"
         ],
         "xaxis": "x",
         "y": [
          -0.004143455999999999
         ],
         "yaxis": "y"
        },
        {
         "alignmentgroup": "True",
         "customdata": [
          [
           "e14.5",
           "RG4 [10-E]"
          ]
         ],
         "hovertemplate": "<b>%{hovertext}</b><br><br>Cell_Type=RG4 <br>Age=%{customdata[0]}<br>Category=%{x}<br>Expression=%{y}<br>Cluster=%{customdata[1]}<extra></extra>",
         "hovertext": [
          "RG4 "
         ],
         "legendgroup": "RG4 ",
         "marker": {
          "color": "#FF97FF"
         },
         "name": "RG4 ",
         "offsetgroup": "RG4 ",
         "orientation": "v",
         "showlegend": true,
         "textposition": "auto",
         "type": "bar",
         "x": [
          "Proliferative"
         ],
         "xaxis": "x",
         "y": [
          -0.010726578999999998
         ],
         "yaxis": "y"
        },
        {
         "alignmentgroup": "True",
         "customdata": [
          [
           "p0",
           "Astrocytes (immature) 1 [10-P]"
          ]
         ],
         "hovertemplate": "<b>%{hovertext}</b><br><br>Cell_Type=Astrocytes (immature) 1 <br>Age=%{customdata[0]}<br>Category=%{x}<br>Expression=%{y}<br>Cluster=%{customdata[1]}<extra></extra>",
         "hovertext": [
          "Astrocytes (immature) 1 "
         ],
         "legendgroup": "Astrocytes (immature) 1 ",
         "marker": {
          "color": "#FECB52"
         },
         "name": "Astrocytes (immature) 1 ",
         "offsetgroup": "Astrocytes (immature) 1 ",
         "orientation": "v",
         "showlegend": true,
         "textposition": "auto",
         "type": "bar",
         "x": [
          "Non-Neuronal"
         ],
         "xaxis": "x2",
         "y": [
          -0.016751734
         ],
         "yaxis": "y2"
        },
        {
         "alignmentgroup": "True",
         "customdata": [
          [
           "p0",
           "Astrocytes (immature) 2 [13-P]"
          ]
         ],
         "hovertemplate": "<b>%{hovertext}</b><br><br>Cell_Type=Astrocytes (immature) 2 <br>Age=%{customdata[0]}<br>Category=%{x}<br>Expression=%{y}<br>Cluster=%{customdata[1]}<extra></extra>",
         "hovertext": [
          "Astrocytes (immature) 2 "
         ],
         "legendgroup": "Astrocytes (immature) 2 ",
         "marker": {
          "color": "#636efa"
         },
         "name": "Astrocytes (immature) 2 ",
         "offsetgroup": "Astrocytes (immature) 2 ",
         "orientation": "v",
         "showlegend": true,
         "textposition": "auto",
         "type": "bar",
         "x": [
          "Non-Neuronal"
         ],
         "xaxis": "x2",
         "y": [
          0.062491668
         ],
         "yaxis": "y2"
        },
        {
         "alignmentgroup": "True",
         "customdata": [
          [
           "p0",
           "Oligodendrocytes [16-P]"
          ]
         ],
         "hovertemplate": "<b>%{hovertext}</b><br><br>Cell_Type=Oligodendrocytes <br>Age=%{customdata[0]}<br>Category=%{x}<br>Expression=%{y}<br>Cluster=%{customdata[1]}<extra></extra>",
         "hovertext": [
          "Oligodendrocytes "
         ],
         "legendgroup": "Oligodendrocytes ",
         "marker": {
          "color": "#EF553B"
         },
         "name": "Oligodendrocytes ",
         "offsetgroup": "Oligodendrocytes ",
         "orientation": "v",
         "showlegend": true,
         "textposition": "auto",
         "type": "bar",
         "x": [
          "Non-Neuronal"
         ],
         "xaxis": "x2",
         "y": [
          0.041792561
         ],
         "yaxis": "y2"
        },
        {
         "alignmentgroup": "True",
         "customdata": [
          [
           "e14.5",
           "Choroid plexus [22-E]"
          ]
         ],
         "hovertemplate": "<b>%{hovertext}</b><br><br>Cell_Type=Choroid plexus <br>Age=%{customdata[0]}<br>Category=%{x}<br>Expression=%{y}<br>Cluster=%{customdata[1]}<extra></extra>",
         "hovertext": [
          "Choroid plexus "
         ],
         "legendgroup": "Choroid plexus ",
         "marker": {
          "color": "#00cc96"
         },
         "name": "Choroid plexus ",
         "offsetgroup": "Choroid plexus ",
         "orientation": "v",
         "showlegend": true,
         "textposition": "auto",
         "type": "bar",
         "x": [
          "Non-Neuronal"
         ],
         "xaxis": "x",
         "y": [
          -0.017539161
         ],
         "yaxis": "y"
        },
        {
         "alignmentgroup": "True",
         "customdata": [
          [
           "p0",
           "Choroid plexus [20-P]"
          ]
         ],
         "hovertemplate": "<b>%{hovertext}</b><br><br>Cell_Type=Choroid plexus <br>Age=%{customdata[0]}<br>Category=%{x}<br>Expression=%{y}<br>Cluster=%{customdata[1]}<extra></extra>",
         "hovertext": [
          "Choroid plexus "
         ],
         "legendgroup": "Choroid plexus ",
         "marker": {
          "color": "#00cc96"
         },
         "name": "Choroid plexus ",
         "offsetgroup": "Choroid plexus ",
         "orientation": "v",
         "showlegend": false,
         "textposition": "auto",
         "type": "bar",
         "x": [
          "Non-Neuronal"
         ],
         "xaxis": "x2",
         "y": [
          -0.040309154
         ],
         "yaxis": "y2"
        },
        {
         "alignmentgroup": "True",
         "customdata": [
          [
           "e14.5",
           "Microglia [20-E]"
          ]
         ],
         "hovertemplate": "<b>%{hovertext}</b><br><br>Cell_Type=Microglia <br>Age=%{customdata[0]}<br>Category=%{x}<br>Expression=%{y}<br>Cluster=%{customdata[1]}<extra></extra>",
         "hovertext": [
          "Microglia "
         ],
         "legendgroup": "Microglia ",
         "marker": {
          "color": "#ab63fa"
         },
         "name": "Microglia ",
         "offsetgroup": "Microglia ",
         "orientation": "v",
         "showlegend": true,
         "textposition": "auto",
         "type": "bar",
         "x": [
          "Non-Neuronal"
         ],
         "xaxis": "x",
         "y": [
          -0.017471371
         ],
         "yaxis": "y"
        },
        {
         "alignmentgroup": "True",
         "customdata": [
          [
           "p0",
           "Microglia [22-P]"
          ]
         ],
         "hovertemplate": "<b>%{hovertext}</b><br><br>Cell_Type=Microglia <br>Age=%{customdata[0]}<br>Category=%{x}<br>Expression=%{y}<br>Cluster=%{customdata[1]}<extra></extra>",
         "hovertext": [
          "Microglia "
         ],
         "legendgroup": "Microglia ",
         "marker": {
          "color": "#ab63fa"
         },
         "name": "Microglia ",
         "offsetgroup": "Microglia ",
         "orientation": "v",
         "showlegend": false,
         "textposition": "auto",
         "type": "bar",
         "x": [
          "Non-Neuronal"
         ],
         "xaxis": "x2",
         "y": [
          -0.116139602
         ],
         "yaxis": "y2"
        },
        {
         "alignmentgroup": "True",
         "customdata": [
          [
           "e14.5",
           "Endothelial [18-E]"
          ]
         ],
         "hovertemplate": "<b>%{hovertext}</b><br><br>Cell_Type=Endothelial <br>Age=%{customdata[0]}<br>Category=%{x}<br>Expression=%{y}<br>Cluster=%{customdata[1]}<extra></extra>",
         "hovertext": [
          "Endothelial "
         ],
         "legendgroup": "Endothelial ",
         "marker": {
          "color": "#FFA15A"
         },
         "name": "Endothelial ",
         "offsetgroup": "Endothelial ",
         "orientation": "v",
         "showlegend": true,
         "textposition": "auto",
         "type": "bar",
         "x": [
          "Non-Neuronal"
         ],
         "xaxis": "x",
         "y": [
          0.267331428
         ],
         "yaxis": "y"
        },
        {
         "alignmentgroup": "True",
         "customdata": [
          [
           "p0",
           "Endothelial2 [21-P]"
          ]
         ],
         "hovertemplate": "<b>%{hovertext}</b><br><br>Cell_Type=Endothelial2 <br>Age=%{customdata[0]}<br>Category=%{x}<br>Expression=%{y}<br>Cluster=%{customdata[1]}<extra></extra>",
         "hovertext": [
          "Endothelial2 "
         ],
         "legendgroup": "Endothelial2 ",
         "marker": {
          "color": "#19d3f3"
         },
         "name": "Endothelial2 ",
         "offsetgroup": "Endothelial2 ",
         "orientation": "v",
         "showlegend": true,
         "textposition": "auto",
         "type": "bar",
         "x": [
          "Non-Neuronal"
         ],
         "xaxis": "x2",
         "y": [
          0.331144434
         ],
         "yaxis": "y2"
        },
        {
         "alignmentgroup": "True",
         "customdata": [
          [
           "p0",
           "Endothelial1 [17-P]"
          ]
         ],
         "hovertemplate": "<b>%{hovertext}</b><br><br>Cell_Type=Endothelial1 <br>Age=%{customdata[0]}<br>Category=%{x}<br>Expression=%{y}<br>Cluster=%{customdata[1]}<extra></extra>",
         "hovertext": [
          "Endothelial1 "
         ],
         "legendgroup": "Endothelial1 ",
         "marker": {
          "color": "#FF6692"
         },
         "name": "Endothelial1 ",
         "offsetgroup": "Endothelial1 ",
         "orientation": "v",
         "showlegend": true,
         "textposition": "auto",
         "type": "bar",
         "x": [
          "Non-Neuronal"
         ],
         "xaxis": "x2",
         "y": [
          0.377568151
         ],
         "yaxis": "y2"
        }
       ],
       "layout": {
        "annotations": [
         {
          "font": {},
          "showarrow": false,
          "text": "e14.5",
          "x": 0.245,
          "xanchor": "center",
          "xref": "paper",
          "y": 1,
          "yanchor": "bottom",
          "yref": "paper"
         },
         {
          "font": {},
          "showarrow": false,
          "text": "p0",
          "x": 0.755,
          "xanchor": "center",
          "xref": "paper",
          "y": 1,
          "yanchor": "bottom",
          "yref": "paper"
         }
        ],
        "barmode": "relative",
        "legend": {
         "title": {
          "text": "Cell_Type"
         },
         "tracegroupgap": 0
        },
        "margin": {
         "t": 60
        },
        "template": {
         "data": {
          "bar": [
           {
            "error_x": {
             "color": "#2a3f5f"
            },
            "error_y": {
             "color": "#2a3f5f"
            },
            "marker": {
             "line": {
              "color": "#E5ECF6",
              "width": 0.5
             }
            },
            "type": "bar"
           }
          ],
          "barpolar": [
           {
            "marker": {
             "line": {
              "color": "#E5ECF6",
              "width": 0.5
             }
            },
            "type": "barpolar"
           }
          ],
          "carpet": [
           {
            "aaxis": {
             "endlinecolor": "#2a3f5f",
             "gridcolor": "white",
             "linecolor": "white",
             "minorgridcolor": "white",
             "startlinecolor": "#2a3f5f"
            },
            "baxis": {
             "endlinecolor": "#2a3f5f",
             "gridcolor": "white",
             "linecolor": "white",
             "minorgridcolor": "white",
             "startlinecolor": "#2a3f5f"
            },
            "type": "carpet"
           }
          ],
          "choropleth": [
           {
            "colorbar": {
             "outlinewidth": 0,
             "ticks": ""
            },
            "type": "choropleth"
           }
          ],
          "contour": [
           {
            "colorbar": {
             "outlinewidth": 0,
             "ticks": ""
            },
            "colorscale": [
             [
              0,
              "#0d0887"
             ],
             [
              0.1111111111111111,
              "#46039f"
             ],
             [
              0.2222222222222222,
              "#7201a8"
             ],
             [
              0.3333333333333333,
              "#9c179e"
             ],
             [
              0.4444444444444444,
              "#bd3786"
             ],
             [
              0.5555555555555556,
              "#d8576b"
             ],
             [
              0.6666666666666666,
              "#ed7953"
             ],
             [
              0.7777777777777778,
              "#fb9f3a"
             ],
             [
              0.8888888888888888,
              "#fdca26"
             ],
             [
              1,
              "#f0f921"
             ]
            ],
            "type": "contour"
           }
          ],
          "contourcarpet": [
           {
            "colorbar": {
             "outlinewidth": 0,
             "ticks": ""
            },
            "type": "contourcarpet"
           }
          ],
          "heatmap": [
           {
            "colorbar": {
             "outlinewidth": 0,
             "ticks": ""
            },
            "colorscale": [
             [
              0,
              "#0d0887"
             ],
             [
              0.1111111111111111,
              "#46039f"
             ],
             [
              0.2222222222222222,
              "#7201a8"
             ],
             [
              0.3333333333333333,
              "#9c179e"
             ],
             [
              0.4444444444444444,
              "#bd3786"
             ],
             [
              0.5555555555555556,
              "#d8576b"
             ],
             [
              0.6666666666666666,
              "#ed7953"
             ],
             [
              0.7777777777777778,
              "#fb9f3a"
             ],
             [
              0.8888888888888888,
              "#fdca26"
             ],
             [
              1,
              "#f0f921"
             ]
            ],
            "type": "heatmap"
           }
          ],
          "heatmapgl": [
           {
            "colorbar": {
             "outlinewidth": 0,
             "ticks": ""
            },
            "colorscale": [
             [
              0,
              "#0d0887"
             ],
             [
              0.1111111111111111,
              "#46039f"
             ],
             [
              0.2222222222222222,
              "#7201a8"
             ],
             [
              0.3333333333333333,
              "#9c179e"
             ],
             [
              0.4444444444444444,
              "#bd3786"
             ],
             [
              0.5555555555555556,
              "#d8576b"
             ],
             [
              0.6666666666666666,
              "#ed7953"
             ],
             [
              0.7777777777777778,
              "#fb9f3a"
             ],
             [
              0.8888888888888888,
              "#fdca26"
             ],
             [
              1,
              "#f0f921"
             ]
            ],
            "type": "heatmapgl"
           }
          ],
          "histogram": [
           {
            "marker": {
             "colorbar": {
              "outlinewidth": 0,
              "ticks": ""
             }
            },
            "type": "histogram"
           }
          ],
          "histogram2d": [
           {
            "colorbar": {
             "outlinewidth": 0,
             "ticks": ""
            },
            "colorscale": [
             [
              0,
              "#0d0887"
             ],
             [
              0.1111111111111111,
              "#46039f"
             ],
             [
              0.2222222222222222,
              "#7201a8"
             ],
             [
              0.3333333333333333,
              "#9c179e"
             ],
             [
              0.4444444444444444,
              "#bd3786"
             ],
             [
              0.5555555555555556,
              "#d8576b"
             ],
             [
              0.6666666666666666,
              "#ed7953"
             ],
             [
              0.7777777777777778,
              "#fb9f3a"
             ],
             [
              0.8888888888888888,
              "#fdca26"
             ],
             [
              1,
              "#f0f921"
             ]
            ],
            "type": "histogram2d"
           }
          ],
          "histogram2dcontour": [
           {
            "colorbar": {
             "outlinewidth": 0,
             "ticks": ""
            },
            "colorscale": [
             [
              0,
              "#0d0887"
             ],
             [
              0.1111111111111111,
              "#46039f"
             ],
             [
              0.2222222222222222,
              "#7201a8"
             ],
             [
              0.3333333333333333,
              "#9c179e"
             ],
             [
              0.4444444444444444,
              "#bd3786"
             ],
             [
              0.5555555555555556,
              "#d8576b"
             ],
             [
              0.6666666666666666,
              "#ed7953"
             ],
             [
              0.7777777777777778,
              "#fb9f3a"
             ],
             [
              0.8888888888888888,
              "#fdca26"
             ],
             [
              1,
              "#f0f921"
             ]
            ],
            "type": "histogram2dcontour"
           }
          ],
          "mesh3d": [
           {
            "colorbar": {
             "outlinewidth": 0,
             "ticks": ""
            },
            "type": "mesh3d"
           }
          ],
          "parcoords": [
           {
            "line": {
             "colorbar": {
              "outlinewidth": 0,
              "ticks": ""
             }
            },
            "type": "parcoords"
           }
          ],
          "pie": [
           {
            "automargin": true,
            "type": "pie"
           }
          ],
          "scatter": [
           {
            "marker": {
             "colorbar": {
              "outlinewidth": 0,
              "ticks": ""
             }
            },
            "type": "scatter"
           }
          ],
          "scatter3d": [
           {
            "line": {
             "colorbar": {
              "outlinewidth": 0,
              "ticks": ""
             }
            },
            "marker": {
             "colorbar": {
              "outlinewidth": 0,
              "ticks": ""
             }
            },
            "type": "scatter3d"
           }
          ],
          "scattercarpet": [
           {
            "marker": {
             "colorbar": {
              "outlinewidth": 0,
              "ticks": ""
             }
            },
            "type": "scattercarpet"
           }
          ],
          "scattergeo": [
           {
            "marker": {
             "colorbar": {
              "outlinewidth": 0,
              "ticks": ""
             }
            },
            "type": "scattergeo"
           }
          ],
          "scattergl": [
           {
            "marker": {
             "colorbar": {
              "outlinewidth": 0,
              "ticks": ""
             }
            },
            "type": "scattergl"
           }
          ],
          "scattermapbox": [
           {
            "marker": {
             "colorbar": {
              "outlinewidth": 0,
              "ticks": ""
             }
            },
            "type": "scattermapbox"
           }
          ],
          "scatterpolar": [
           {
            "marker": {
             "colorbar": {
              "outlinewidth": 0,
              "ticks": ""
             }
            },
            "type": "scatterpolar"
           }
          ],
          "scatterpolargl": [
           {
            "marker": {
             "colorbar": {
              "outlinewidth": 0,
              "ticks": ""
             }
            },
            "type": "scatterpolargl"
           }
          ],
          "scatterternary": [
           {
            "marker": {
             "colorbar": {
              "outlinewidth": 0,
              "ticks": ""
             }
            },
            "type": "scatterternary"
           }
          ],
          "surface": [
           {
            "colorbar": {
             "outlinewidth": 0,
             "ticks": ""
            },
            "colorscale": [
             [
              0,
              "#0d0887"
             ],
             [
              0.1111111111111111,
              "#46039f"
             ],
             [
              0.2222222222222222,
              "#7201a8"
             ],
             [
              0.3333333333333333,
              "#9c179e"
             ],
             [
              0.4444444444444444,
              "#bd3786"
             ],
             [
              0.5555555555555556,
              "#d8576b"
             ],
             [
              0.6666666666666666,
              "#ed7953"
             ],
             [
              0.7777777777777778,
              "#fb9f3a"
             ],
             [
              0.8888888888888888,
              "#fdca26"
             ],
             [
              1,
              "#f0f921"
             ]
            ],
            "type": "surface"
           }
          ],
          "table": [
           {
            "cells": {
             "fill": {
              "color": "#EBF0F8"
             },
             "line": {
              "color": "white"
             }
            },
            "header": {
             "fill": {
              "color": "#C8D4E3"
             },
             "line": {
              "color": "white"
             }
            },
            "type": "table"
           }
          ]
         },
         "layout": {
          "annotationdefaults": {
           "arrowcolor": "#2a3f5f",
           "arrowhead": 0,
           "arrowwidth": 1
          },
          "coloraxis": {
           "colorbar": {
            "outlinewidth": 0,
            "ticks": ""
           }
          },
          "colorscale": {
           "diverging": [
            [
             0,
             "#8e0152"
            ],
            [
             0.1,
             "#c51b7d"
            ],
            [
             0.2,
             "#de77ae"
            ],
            [
             0.3,
             "#f1b6da"
            ],
            [
             0.4,
             "#fde0ef"
            ],
            [
             0.5,
             "#f7f7f7"
            ],
            [
             0.6,
             "#e6f5d0"
            ],
            [
             0.7,
             "#b8e186"
            ],
            [
             0.8,
             "#7fbc41"
            ],
            [
             0.9,
             "#4d9221"
            ],
            [
             1,
             "#276419"
            ]
           ],
           "sequential": [
            [
             0,
             "#0d0887"
            ],
            [
             0.1111111111111111,
             "#46039f"
            ],
            [
             0.2222222222222222,
             "#7201a8"
            ],
            [
             0.3333333333333333,
             "#9c179e"
            ],
            [
             0.4444444444444444,
             "#bd3786"
            ],
            [
             0.5555555555555556,
             "#d8576b"
            ],
            [
             0.6666666666666666,
             "#ed7953"
            ],
            [
             0.7777777777777778,
             "#fb9f3a"
            ],
            [
             0.8888888888888888,
             "#fdca26"
            ],
            [
             1,
             "#f0f921"
            ]
           ],
           "sequentialminus": [
            [
             0,
             "#0d0887"
            ],
            [
             0.1111111111111111,
             "#46039f"
            ],
            [
             0.2222222222222222,
             "#7201a8"
            ],
            [
             0.3333333333333333,
             "#9c179e"
            ],
            [
             0.4444444444444444,
             "#bd3786"
            ],
            [
             0.5555555555555556,
             "#d8576b"
            ],
            [
             0.6666666666666666,
             "#ed7953"
            ],
            [
             0.7777777777777778,
             "#fb9f3a"
            ],
            [
             0.8888888888888888,
             "#fdca26"
            ],
            [
             1,
             "#f0f921"
            ]
           ]
          },
          "colorway": [
           "#636efa",
           "#EF553B",
           "#00cc96",
           "#ab63fa",
           "#FFA15A",
           "#19d3f3",
           "#FF6692",
           "#B6E880",
           "#FF97FF",
           "#FECB52"
          ],
          "font": {
           "color": "#2a3f5f"
          },
          "geo": {
           "bgcolor": "white",
           "lakecolor": "white",
           "landcolor": "#E5ECF6",
           "showlakes": true,
           "showland": true,
           "subunitcolor": "white"
          },
          "hoverlabel": {
           "align": "left"
          },
          "hovermode": "closest",
          "mapbox": {
           "style": "light"
          },
          "paper_bgcolor": "white",
          "plot_bgcolor": "#E5ECF6",
          "polar": {
           "angularaxis": {
            "gridcolor": "white",
            "linecolor": "white",
            "ticks": ""
           },
           "bgcolor": "#E5ECF6",
           "radialaxis": {
            "gridcolor": "white",
            "linecolor": "white",
            "ticks": ""
           }
          },
          "scene": {
           "xaxis": {
            "backgroundcolor": "#E5ECF6",
            "gridcolor": "white",
            "gridwidth": 2,
            "linecolor": "white",
            "showbackground": true,
            "ticks": "",
            "zerolinecolor": "white"
           },
           "yaxis": {
            "backgroundcolor": "#E5ECF6",
            "gridcolor": "white",
            "gridwidth": 2,
            "linecolor": "white",
            "showbackground": true,
            "ticks": "",
            "zerolinecolor": "white"
           },
           "zaxis": {
            "backgroundcolor": "#E5ECF6",
            "gridcolor": "white",
            "gridwidth": 2,
            "linecolor": "white",
            "showbackground": true,
            "ticks": "",
            "zerolinecolor": "white"
           }
          },
          "shapedefaults": {
           "line": {
            "color": "#2a3f5f"
           }
          },
          "ternary": {
           "aaxis": {
            "gridcolor": "white",
            "linecolor": "white",
            "ticks": ""
           },
           "baxis": {
            "gridcolor": "white",
            "linecolor": "white",
            "ticks": ""
           },
           "bgcolor": "#E5ECF6",
           "caxis": {
            "gridcolor": "white",
            "linecolor": "white",
            "ticks": ""
           }
          },
          "title": {
           "x": 0.05
          },
          "xaxis": {
           "automargin": true,
           "gridcolor": "white",
           "linecolor": "white",
           "ticks": "",
           "title": {
            "standoff": 15
           },
           "zerolinecolor": "white",
           "zerolinewidth": 2
          },
          "yaxis": {
           "automargin": true,
           "gridcolor": "white",
           "linecolor": "white",
           "ticks": "",
           "title": {
            "standoff": 15
           },
           "zerolinecolor": "white",
           "zerolinewidth": 2
          }
         }
        },
        "title": {
         "text": "Rapgef2: E14.5 and P0, Single Cell, Simon and Loo"
        },
        "xaxis": {
         "anchor": "y",
         "domain": [
          0,
          0.49
         ],
         "title": {
          "text": "Cell Type"
         }
        },
        "xaxis2": {
         "anchor": "y2",
         "domain": [
          0.51,
          1
         ],
         "matches": "x",
         "title": {
          "text": "Category"
         }
        },
        "yaxis": {
         "anchor": "x",
         "domain": [
          0,
          1
         ],
         "title": {
          "text": "Expression"
         }
        },
        "yaxis2": {
         "anchor": "x2",
         "domain": [
          0,
          1
         ],
         "matches": "y",
         "showticklabels": false
        }
       }
      },
      "text/html": [
       "<div>\n",
       "        \n",
       "        \n",
       "            <div id=\"3c39d32c-d545-4d0b-a843-de640102c35a\" class=\"plotly-graph-div\" style=\"height:525px; width:100%;\"></div>\n",
       "            <script type=\"text/javascript\">\n",
       "                require([\"plotly\"], function(Plotly) {\n",
       "                    window.PLOTLYENV=window.PLOTLYENV || {};\n",
       "                    \n",
       "                if (document.getElementById(\"3c39d32c-d545-4d0b-a843-de640102c35a\")) {\n",
       "                    Plotly.newPlot(\n",
       "                        '3c39d32c-d545-4d0b-a843-de640102c35a',\n",
       "                        [{\"alignmentgroup\": \"True\", \"customdata\": [[\"e14.5\", \"Layer I [17-E]\"]], \"hovertemplate\": \"<b>%{hovertext}</b><br><br>Cell_Type=Layer I <br>Age=%{customdata[0]}<br>Category=%{x}<br>Expression=%{y}<br>Cluster=%{customdata[1]}<extra></extra>\", \"hovertext\": [\"Layer I \"], \"legendgroup\": \"Layer I \", \"marker\": {\"color\": \"#636efa\"}, \"name\": \"Layer I \", \"offsetgroup\": \"Layer I \", \"orientation\": \"v\", \"showlegend\": true, \"textposition\": \"auto\", \"type\": \"bar\", \"x\": [\"Cortical Layers\"], \"xaxis\": \"x\", \"y\": [0.035783348], \"yaxis\": \"y\"}, {\"alignmentgroup\": \"True\", \"customdata\": [[\"p0\", \"Layer I [19-P]\"]], \"hovertemplate\": \"<b>%{hovertext}</b><br><br>Cell_Type=Layer I <br>Age=%{customdata[0]}<br>Category=%{x}<br>Expression=%{y}<br>Cluster=%{customdata[1]}<extra></extra>\", \"hovertext\": [\"Layer I \"], \"legendgroup\": \"Layer I \", \"marker\": {\"color\": \"#636efa\"}, \"name\": \"Layer I \", \"offsetgroup\": \"Layer I \", \"orientation\": \"v\", \"showlegend\": false, \"textposition\": \"auto\", \"type\": \"bar\", \"x\": [\"Cortical Layers\"], \"xaxis\": \"x2\", \"y\": [-0.060587172], \"yaxis\": \"y2\"}, {\"alignmentgroup\": \"True\", \"customdata\": [[\"p0\", \"Layer II-IV [15-P]\"], [\"p0\", \"Layer II-IV [1-P]\"], [\"p0\", \"Layer II-IV [4-P]\"]], \"hovertemplate\": \"<b>%{hovertext}</b><br><br>Cell_Type=Layer II-IV <br>Age=%{customdata[0]}<br>Category=%{x}<br>Expression=%{y}<br>Cluster=%{customdata[1]}<extra></extra>\", \"hovertext\": [\"Layer II-IV \", \"Layer II-IV \", \"Layer II-IV \"], \"legendgroup\": \"Layer II-IV \", \"marker\": {\"color\": \"#EF553B\"}, \"name\": \"Layer II-IV \", \"offsetgroup\": \"Layer II-IV \", \"orientation\": \"v\", \"showlegend\": true, \"textposition\": \"auto\", \"type\": \"bar\", \"x\": [\"Cortical Layers\", \"Cortical Layers\", \"Cortical Layers\"], \"xaxis\": \"x2\", \"y\": [-0.053296800000000005, -0.011128143, -0.015901945], \"yaxis\": \"y2\"}, {\"alignmentgroup\": \"True\", \"customdata\": [[\"e14.5\", \"Layer V-VI [2-E]\"], [\"e14.5\", \"Layer V-VI [3-E]\"], [\"e14.5\", \"Layer V-VI [5-E]\"], [\"e14.5\", \"Layer V-VI [13-E]\"], [\"e14.5\", \"Layer V-VI [7-E]\"]], \"hovertemplate\": \"<b>%{hovertext}</b><br><br>Cell_Type=Layer V-VI <br>Age=%{customdata[0]}<br>Category=%{x}<br>Expression=%{y}<br>Cluster=%{customdata[1]}<extra></extra>\", \"hovertext\": [\"Layer V-VI \", \"Layer V-VI \", \"Layer V-VI \", \"Layer V-VI \", \"Layer V-VI \"], \"legendgroup\": \"Layer V-VI \", \"marker\": {\"color\": \"#00cc96\"}, \"name\": \"Layer V-VI \", \"offsetgroup\": \"Layer V-VI \", \"orientation\": \"v\", \"showlegend\": true, \"textposition\": \"auto\", \"type\": \"bar\", \"x\": [\"Cortical Layers\", \"Cortical Layers\", \"Cortical Layers\", \"Cortical Layers\", \"Cortical Layers\"], \"xaxis\": \"x\", \"y\": [0.003438035, 0.034018797999999996, 0.085107604, 0.030869591000000002, 0.08179170599999999], \"yaxis\": \"y\"}, {\"alignmentgroup\": \"True\", \"customdata\": [[\"p0\", \"Layer V-VI [18-P]\"], [\"p0\", \"Layer V-VI [12-P]\"]], \"hovertemplate\": \"<b>%{hovertext}</b><br><br>Cell_Type=Layer V-VI <br>Age=%{customdata[0]}<br>Category=%{x}<br>Expression=%{y}<br>Cluster=%{customdata[1]}<extra></extra>\", \"hovertext\": [\"Layer V-VI \", \"Layer V-VI \"], \"legendgroup\": \"Layer V-VI \", \"marker\": {\"color\": \"#00cc96\"}, \"name\": \"Layer V-VI \", \"offsetgroup\": \"Layer V-VI \", \"orientation\": \"v\", \"showlegend\": false, \"textposition\": \"auto\", \"type\": \"bar\", \"x\": [\"Cortical Layers\", \"Cortical Layers\"], \"xaxis\": \"x2\", \"y\": [0.049780915999999995, 0.129189029], \"yaxis\": \"y2\"}, {\"alignmentgroup\": \"True\", \"customdata\": [[\"e14.5\", \"SVZ1 (migrating) [4-E]\"]], \"hovertemplate\": \"<b>%{hovertext}</b><br><br>Cell_Type=SVZ1 (migrating) <br>Age=%{customdata[0]}<br>Category=%{x}<br>Expression=%{y}<br>Cluster=%{customdata[1]}<extra></extra>\", \"hovertext\": [\"SVZ1 (migrating) \"], \"legendgroup\": \"SVZ1 (migrating) \", \"marker\": {\"color\": \"#ab63fa\"}, \"name\": \"SVZ1 (migrating) \", \"offsetgroup\": \"SVZ1 (migrating) \", \"orientation\": \"v\", \"showlegend\": true, \"textposition\": \"auto\", \"type\": \"bar\", \"x\": [\"Proliferative\"], \"xaxis\": \"x\", \"y\": [0.08198662599999999], \"yaxis\": \"y\"}, {\"alignmentgroup\": \"True\", \"customdata\": [[\"p0\", \"SVZ1 (migrating) [2-P]\"]], \"hovertemplate\": \"<b>%{hovertext}</b><br><br>Cell_Type=SVZ1 (migrating) <br>Age=%{customdata[0]}<br>Category=%{x}<br>Expression=%{y}<br>Cluster=%{customdata[1]}<extra></extra>\", \"hovertext\": [\"SVZ1 (migrating) \"], \"legendgroup\": \"SVZ1 (migrating) \", \"marker\": {\"color\": \"#ab63fa\"}, \"name\": \"SVZ1 (migrating) \", \"offsetgroup\": \"SVZ1 (migrating) \", \"orientation\": \"v\", \"showlegend\": false, \"textposition\": \"auto\", \"type\": \"bar\", \"x\": [\"Proliferative\"], \"xaxis\": \"x2\", \"y\": [-0.09089812], \"yaxis\": \"y2\"}, {\"alignmentgroup\": \"True\", \"customdata\": [[\"p0\", \"SVZ2 (migrating) [8-P]\"]], \"hovertemplate\": \"<b>%{hovertext}</b><br><br>Cell_Type=SVZ2 (migrating) <br>Age=%{customdata[0]}<br>Category=%{x}<br>Expression=%{y}<br>Cluster=%{customdata[1]}<extra></extra>\", \"hovertext\": [\"SVZ2 (migrating) \"], \"legendgroup\": \"SVZ2 (migrating) \", \"marker\": {\"color\": \"#FFA15A\"}, \"name\": \"SVZ2 (migrating) \", \"offsetgroup\": \"SVZ2 (migrating) \", \"orientation\": \"v\", \"showlegend\": true, \"textposition\": \"auto\", \"type\": \"bar\", \"x\": [\"Proliferative\"], \"xaxis\": \"x2\", \"y\": [-3.54e-06], \"yaxis\": \"y2\"}, {\"alignmentgroup\": \"True\", \"customdata\": [[\"e14.5\", \"Int1 [1-E]\"]], \"hovertemplate\": \"<b>%{hovertext}</b><br><br>Cell_Type=Int1 <br>Age=%{customdata[0]}<br>Category=%{x}<br>Expression=%{y}<br>Cluster=%{customdata[1]}<extra></extra>\", \"hovertext\": [\"Int1 \"], \"legendgroup\": \"Int1 \", \"marker\": {\"color\": \"#19d3f3\"}, \"name\": \"Int1 \", \"offsetgroup\": \"Int1 \", \"orientation\": \"v\", \"showlegend\": true, \"textposition\": \"auto\", \"type\": \"bar\", \"x\": [\"Inhibitory\"], \"xaxis\": \"x\", \"y\": [-0.119255049], \"yaxis\": \"y\"}, {\"alignmentgroup\": \"True\", \"customdata\": [[\"p0\", \"Int1 [5-P]\"]], \"hovertemplate\": \"<b>%{hovertext}</b><br><br>Cell_Type=Int1 <br>Age=%{customdata[0]}<br>Category=%{x}<br>Expression=%{y}<br>Cluster=%{customdata[1]}<extra></extra>\", \"hovertext\": [\"Int1 \"], \"legendgroup\": \"Int1 \", \"marker\": {\"color\": \"#19d3f3\"}, \"name\": \"Int1 \", \"offsetgroup\": \"Int1 \", \"orientation\": \"v\", \"showlegend\": false, \"textposition\": \"auto\", \"type\": \"bar\", \"x\": [\"Inhibitory\"], \"xaxis\": \"x2\", \"y\": [-0.055491967999999996], \"yaxis\": \"y2\"}, {\"alignmentgroup\": \"True\", \"customdata\": [[\"e14.5\", \"Int2 [12-E]\"]], \"hovertemplate\": \"<b>%{hovertext}</b><br><br>Cell_Type=Int2 <br>Age=%{customdata[0]}<br>Category=%{x}<br>Expression=%{y}<br>Cluster=%{customdata[1]}<extra></extra>\", \"hovertext\": [\"Int2 \"], \"legendgroup\": \"Int2 \", \"marker\": {\"color\": \"#FF6692\"}, \"name\": \"Int2 \", \"offsetgroup\": \"Int2 \", \"orientation\": \"v\", \"showlegend\": true, \"textposition\": \"auto\", \"type\": \"bar\", \"x\": [\"Inhibitory\"], \"xaxis\": \"x\", \"y\": [0.074230353], \"yaxis\": \"y\"}, {\"alignmentgroup\": \"True\", \"customdata\": [[\"p0\", \"Int2 [14-P]\"]], \"hovertemplate\": \"<b>%{hovertext}</b><br><br>Cell_Type=Int2 <br>Age=%{customdata[0]}<br>Category=%{x}<br>Expression=%{y}<br>Cluster=%{customdata[1]}<extra></extra>\", \"hovertext\": [\"Int2 \"], \"legendgroup\": \"Int2 \", \"marker\": {\"color\": \"#FF6692\"}, \"name\": \"Int2 \", \"offsetgroup\": \"Int2 \", \"orientation\": \"v\", \"showlegend\": false, \"textposition\": \"auto\", \"type\": \"bar\", \"x\": [\"Inhibitory\"], \"xaxis\": \"x2\", \"y\": [0.073766575], \"yaxis\": \"y2\"}, {\"alignmentgroup\": \"True\", \"customdata\": [[\"p0\", \"Int3 [11-P]\"]], \"hovertemplate\": \"<b>%{hovertext}</b><br><br>Cell_Type=Int3 <br>Age=%{customdata[0]}<br>Category=%{x}<br>Expression=%{y}<br>Cluster=%{customdata[1]}<extra></extra>\", \"hovertext\": [\"Int3 \"], \"legendgroup\": \"Int3 \", \"marker\": {\"color\": \"#B6E880\"}, \"name\": \"Int3 \", \"offsetgroup\": \"Int3 \", \"orientation\": \"v\", \"showlegend\": true, \"textposition\": \"auto\", \"type\": \"bar\", \"x\": [\"Inhibitory\"], \"xaxis\": \"x2\", \"y\": [0.057162320999999995], \"yaxis\": \"y2\"}, {\"alignmentgroup\": \"True\", \"customdata\": [[\"p0\", \"Int4 [6-P]\"]], \"hovertemplate\": \"<b>%{hovertext}</b><br><br>Cell_Type=Int4 <br>Age=%{customdata[0]}<br>Category=%{x}<br>Expression=%{y}<br>Cluster=%{customdata[1]}<extra></extra>\", \"hovertext\": [\"Int4 \"], \"legendgroup\": \"Int4 \", \"marker\": {\"color\": \"#FF97FF\"}, \"name\": \"Int4 \", \"offsetgroup\": \"Int4 \", \"orientation\": \"v\", \"showlegend\": true, \"textposition\": \"auto\", \"type\": \"bar\", \"x\": [\"Inhibitory\"], \"xaxis\": \"x2\", \"y\": [-0.095149049], \"yaxis\": \"y2\"}, {\"alignmentgroup\": \"True\", \"customdata\": [[\"e14.5\", \"Thalamic [19-E]\"]], \"hovertemplate\": \"<b>%{hovertext}</b><br><br>Cell_Type=Thalamic <br>Age=%{customdata[0]}<br>Category=%{x}<br>Expression=%{y}<br>Cluster=%{customdata[1]}<extra></extra>\", \"hovertext\": [\"Thalamic \"], \"legendgroup\": \"Thalamic \", \"marker\": {\"color\": \"#FECB52\"}, \"name\": \"Thalamic \", \"offsetgroup\": \"Thalamic \", \"orientation\": \"v\", \"showlegend\": true, \"textposition\": \"auto\", \"type\": \"bar\", \"x\": [\"Midbrain\"], \"xaxis\": \"x\", \"y\": [-0.018170602], \"yaxis\": \"y\"}, {\"alignmentgroup\": \"True\", \"customdata\": [[\"e14.5\", \"Striatal inh1 [16-E]\"]], \"hovertemplate\": \"<b>%{hovertext}</b><br><br>Cell_Type=Striatal inh1 <br>Age=%{customdata[0]}<br>Category=%{x}<br>Expression=%{y}<br>Cluster=%{customdata[1]}<extra></extra>\", \"hovertext\": [\"Striatal inh1 \"], \"legendgroup\": \"Striatal inh1 \", \"marker\": {\"color\": \"#636efa\"}, \"name\": \"Striatal inh1 \", \"offsetgroup\": \"Striatal inh1 \", \"orientation\": \"v\", \"showlegend\": true, \"textposition\": \"auto\", \"type\": \"bar\", \"x\": [\"Midbrain\"], \"xaxis\": \"x\", \"y\": [-0.05996990000000001], \"yaxis\": \"y\"}, {\"alignmentgroup\": \"True\", \"customdata\": [[\"p0\", \"Striatal inh1 [3-P]\"]], \"hovertemplate\": \"<b>%{hovertext}</b><br><br>Cell_Type=Striatal inh1 <br>Age=%{customdata[0]}<br>Category=%{x}<br>Expression=%{y}<br>Cluster=%{customdata[1]}<extra></extra>\", \"hovertext\": [\"Striatal inh1 \"], \"legendgroup\": \"Striatal inh1 \", \"marker\": {\"color\": \"#636efa\"}, \"name\": \"Striatal inh1 \", \"offsetgroup\": \"Striatal inh1 \", \"orientation\": \"v\", \"showlegend\": false, \"textposition\": \"auto\", \"type\": \"bar\", \"x\": [\"Midbrain\"], \"xaxis\": \"x2\", \"y\": [0.027200405], \"yaxis\": \"y2\"}, {\"alignmentgroup\": \"True\", \"customdata\": [[\"e14.5\", \"Striatal inh2 [9-E]\"]], \"hovertemplate\": \"<b>%{hovertext}</b><br><br>Cell_Type=Striatal inh2 <br>Age=%{customdata[0]}<br>Category=%{x}<br>Expression=%{y}<br>Cluster=%{customdata[1]}<extra></extra>\", \"hovertext\": [\"Striatal inh2 \"], \"legendgroup\": \"Striatal inh2 \", \"marker\": {\"color\": \"#EF553B\"}, \"name\": \"Striatal inh2 \", \"offsetgroup\": \"Striatal inh2 \", \"orientation\": \"v\", \"showlegend\": true, \"textposition\": \"auto\", \"type\": \"bar\", \"x\": [\"Midbrain\"], \"xaxis\": \"x\", \"y\": [-0.10006749699999999], \"yaxis\": \"y\"}, {\"alignmentgroup\": \"True\", \"customdata\": [[\"p0\", \"Striatal inh2 [7-P]\"]], \"hovertemplate\": \"<b>%{hovertext}</b><br><br>Cell_Type=Striatal inh2 <br>Age=%{customdata[0]}<br>Category=%{x}<br>Expression=%{y}<br>Cluster=%{customdata[1]}<extra></extra>\", \"hovertext\": [\"Striatal inh2 \"], \"legendgroup\": \"Striatal inh2 \", \"marker\": {\"color\": \"#EF553B\"}, \"name\": \"Striatal inh2 \", \"offsetgroup\": \"Striatal inh2 \", \"orientation\": \"v\", \"showlegend\": false, \"textposition\": \"auto\", \"type\": \"bar\", \"x\": [\"Midbrain\"], \"xaxis\": \"x2\", \"y\": [0.009913432], \"yaxis\": \"y2\"}, {\"alignmentgroup\": \"True\", \"customdata\": [[\"e14.5\", \"Ganglionic eminences [6-E]\"]], \"hovertemplate\": \"<b>%{hovertext}</b><br><br>Cell_Type=Ganglionic eminences <br>Age=%{customdata[0]}<br>Category=%{x}<br>Expression=%{y}<br>Cluster=%{customdata[1]}<extra></extra>\", \"hovertext\": [\"Ganglionic eminences \"], \"legendgroup\": \"Ganglionic eminences \", \"marker\": {\"color\": \"#00cc96\"}, \"name\": \"Ganglionic eminences \", \"offsetgroup\": \"Ganglionic eminences \", \"orientation\": \"v\", \"showlegend\": true, \"textposition\": \"auto\", \"type\": \"bar\", \"x\": [\"Non-Neuronal\"], \"xaxis\": \"x\", \"y\": [-0.079695693], \"yaxis\": \"y\"}, {\"alignmentgroup\": \"True\", \"customdata\": [[\"p0\", \"Ganglionic eminences [9-P]\"]], \"hovertemplate\": \"<b>%{hovertext}</b><br><br>Cell_Type=Ganglionic eminences <br>Age=%{customdata[0]}<br>Category=%{x}<br>Expression=%{y}<br>Cluster=%{customdata[1]}<extra></extra>\", \"hovertext\": [\"Ganglionic eminences \"], \"legendgroup\": \"Ganglionic eminences \", \"marker\": {\"color\": \"#00cc96\"}, \"name\": \"Ganglionic eminences \", \"offsetgroup\": \"Ganglionic eminences \", \"orientation\": \"v\", \"showlegend\": false, \"textposition\": \"auto\", \"type\": \"bar\", \"x\": [\"Non-Neuronal\"], \"xaxis\": \"x2\", \"y\": [-0.04677294], \"yaxis\": \"y2\"}, {\"alignmentgroup\": \"True\", \"customdata\": [[\"e14.5\", \"SVZ3 (proliferating) [15-E]\"]], \"hovertemplate\": \"<b>%{hovertext}</b><br><br>Cell_Type=SVZ3 (proliferating) <br>Age=%{customdata[0]}<br>Category=%{x}<br>Expression=%{y}<br>Cluster=%{customdata[1]}<extra></extra>\", \"hovertext\": [\"SVZ3 (proliferating) \"], \"legendgroup\": \"SVZ3 (proliferating) \", \"marker\": {\"color\": \"#ab63fa\"}, \"name\": \"SVZ3 (proliferating) \", \"offsetgroup\": \"SVZ3 (proliferating) \", \"orientation\": \"v\", \"showlegend\": true, \"textposition\": \"auto\", \"type\": \"bar\", \"x\": [\"Proliferative\"], \"xaxis\": \"x\", \"y\": [0.0013201920000000002], \"yaxis\": \"y\"}, {\"alignmentgroup\": \"True\", \"customdata\": [[\"e14.5\", \"SVZ2 (VZ-SVZ) [11-E]\"]], \"hovertemplate\": \"<b>%{hovertext}</b><br><br>Cell_Type=SVZ2 (VZ-SVZ) <br>Age=%{customdata[0]}<br>Category=%{x}<br>Expression=%{y}<br>Cluster=%{customdata[1]}<extra></extra>\", \"hovertext\": [\"SVZ2 (VZ-SVZ) \"], \"legendgroup\": \"SVZ2 (VZ-SVZ) \", \"marker\": {\"color\": \"#FFA15A\"}, \"name\": \"SVZ2 (VZ-SVZ) \", \"offsetgroup\": \"SVZ2 (VZ-SVZ) \", \"orientation\": \"v\", \"showlegend\": true, \"textposition\": \"auto\", \"type\": \"bar\", \"x\": [\"Proliferative\"], \"xaxis\": \"x\", \"y\": [-0.056915783], \"yaxis\": \"y\"}, {\"alignmentgroup\": \"True\", \"customdata\": [[\"e14.5\", \"RG2 [14-E]\"]], \"hovertemplate\": \"<b>%{hovertext}</b><br><br>Cell_Type=RG2 <br>Age=%{customdata[0]}<br>Category=%{x}<br>Expression=%{y}<br>Cluster=%{customdata[1]}<extra></extra>\", \"hovertext\": [\"RG2 \"], \"legendgroup\": \"RG2 \", \"marker\": {\"color\": \"#19d3f3\"}, \"name\": \"RG2 \", \"offsetgroup\": \"RG2 \", \"orientation\": \"v\", \"showlegend\": true, \"textposition\": \"auto\", \"type\": \"bar\", \"x\": [\"Proliferative\"], \"xaxis\": \"x\", \"y\": [0.007653448], \"yaxis\": \"y\"}, {\"alignmentgroup\": \"True\", \"customdata\": [[\"e14.5\", \"RG3 (cortical hem) [21-E]\"]], \"hovertemplate\": \"<b>%{hovertext}</b><br><br>Cell_Type=RG3 (cortical hem) <br>Age=%{customdata[0]}<br>Category=%{x}<br>Expression=%{y}<br>Cluster=%{customdata[1]}<extra></extra>\", \"hovertext\": [\"RG3 (cortical hem) \"], \"legendgroup\": \"RG3 (cortical hem) \", \"marker\": {\"color\": \"#FF6692\"}, \"name\": \"RG3 (cortical hem) \", \"offsetgroup\": \"RG3 (cortical hem) \", \"orientation\": \"v\", \"showlegend\": true, \"textposition\": \"auto\", \"type\": \"bar\", \"x\": [\"Proliferative\"], \"xaxis\": \"x\", \"y\": [-0.148772245], \"yaxis\": \"y\"}, {\"alignmentgroup\": \"True\", \"customdata\": [[\"e14.5\", \"RG1 [8-E]\"]], \"hovertemplate\": \"<b>%{hovertext}</b><br><br>Cell_Type=RG1 <br>Age=%{customdata[0]}<br>Category=%{x}<br>Expression=%{y}<br>Cluster=%{customdata[1]}<extra></extra>\", \"hovertext\": [\"RG1 \"], \"legendgroup\": \"RG1 \", \"marker\": {\"color\": \"#B6E880\"}, \"name\": \"RG1 \", \"offsetgroup\": \"RG1 \", \"orientation\": \"v\", \"showlegend\": true, \"textposition\": \"auto\", \"type\": \"bar\", \"x\": [\"Proliferative\"], \"xaxis\": \"x\", \"y\": [-0.004143455999999999], \"yaxis\": \"y\"}, {\"alignmentgroup\": \"True\", \"customdata\": [[\"e14.5\", \"RG4 [10-E]\"]], \"hovertemplate\": \"<b>%{hovertext}</b><br><br>Cell_Type=RG4 <br>Age=%{customdata[0]}<br>Category=%{x}<br>Expression=%{y}<br>Cluster=%{customdata[1]}<extra></extra>\", \"hovertext\": [\"RG4 \"], \"legendgroup\": \"RG4 \", \"marker\": {\"color\": \"#FF97FF\"}, \"name\": \"RG4 \", \"offsetgroup\": \"RG4 \", \"orientation\": \"v\", \"showlegend\": true, \"textposition\": \"auto\", \"type\": \"bar\", \"x\": [\"Proliferative\"], \"xaxis\": \"x\", \"y\": [-0.010726578999999998], \"yaxis\": \"y\"}, {\"alignmentgroup\": \"True\", \"customdata\": [[\"p0\", \"Astrocytes (immature) 1 [10-P]\"]], \"hovertemplate\": \"<b>%{hovertext}</b><br><br>Cell_Type=Astrocytes (immature) 1 <br>Age=%{customdata[0]}<br>Category=%{x}<br>Expression=%{y}<br>Cluster=%{customdata[1]}<extra></extra>\", \"hovertext\": [\"Astrocytes (immature) 1 \"], \"legendgroup\": \"Astrocytes (immature) 1 \", \"marker\": {\"color\": \"#FECB52\"}, \"name\": \"Astrocytes (immature) 1 \", \"offsetgroup\": \"Astrocytes (immature) 1 \", \"orientation\": \"v\", \"showlegend\": true, \"textposition\": \"auto\", \"type\": \"bar\", \"x\": [\"Non-Neuronal\"], \"xaxis\": \"x2\", \"y\": [-0.016751734], \"yaxis\": \"y2\"}, {\"alignmentgroup\": \"True\", \"customdata\": [[\"p0\", \"Astrocytes (immature) 2 [13-P]\"]], \"hovertemplate\": \"<b>%{hovertext}</b><br><br>Cell_Type=Astrocytes (immature) 2 <br>Age=%{customdata[0]}<br>Category=%{x}<br>Expression=%{y}<br>Cluster=%{customdata[1]}<extra></extra>\", \"hovertext\": [\"Astrocytes (immature) 2 \"], \"legendgroup\": \"Astrocytes (immature) 2 \", \"marker\": {\"color\": \"#636efa\"}, \"name\": \"Astrocytes (immature) 2 \", \"offsetgroup\": \"Astrocytes (immature) 2 \", \"orientation\": \"v\", \"showlegend\": true, \"textposition\": \"auto\", \"type\": \"bar\", \"x\": [\"Non-Neuronal\"], \"xaxis\": \"x2\", \"y\": [0.062491668], \"yaxis\": \"y2\"}, {\"alignmentgroup\": \"True\", \"customdata\": [[\"p0\", \"Oligodendrocytes [16-P]\"]], \"hovertemplate\": \"<b>%{hovertext}</b><br><br>Cell_Type=Oligodendrocytes <br>Age=%{customdata[0]}<br>Category=%{x}<br>Expression=%{y}<br>Cluster=%{customdata[1]}<extra></extra>\", \"hovertext\": [\"Oligodendrocytes \"], \"legendgroup\": \"Oligodendrocytes \", \"marker\": {\"color\": \"#EF553B\"}, \"name\": \"Oligodendrocytes \", \"offsetgroup\": \"Oligodendrocytes \", \"orientation\": \"v\", \"showlegend\": true, \"textposition\": \"auto\", \"type\": \"bar\", \"x\": [\"Non-Neuronal\"], \"xaxis\": \"x2\", \"y\": [0.041792561], \"yaxis\": \"y2\"}, {\"alignmentgroup\": \"True\", \"customdata\": [[\"e14.5\", \"Choroid plexus [22-E]\"]], \"hovertemplate\": \"<b>%{hovertext}</b><br><br>Cell_Type=Choroid plexus <br>Age=%{customdata[0]}<br>Category=%{x}<br>Expression=%{y}<br>Cluster=%{customdata[1]}<extra></extra>\", \"hovertext\": [\"Choroid plexus \"], \"legendgroup\": \"Choroid plexus \", \"marker\": {\"color\": \"#00cc96\"}, \"name\": \"Choroid plexus \", \"offsetgroup\": \"Choroid plexus \", \"orientation\": \"v\", \"showlegend\": true, \"textposition\": \"auto\", \"type\": \"bar\", \"x\": [\"Non-Neuronal\"], \"xaxis\": \"x\", \"y\": [-0.017539161], \"yaxis\": \"y\"}, {\"alignmentgroup\": \"True\", \"customdata\": [[\"p0\", \"Choroid plexus [20-P]\"]], \"hovertemplate\": \"<b>%{hovertext}</b><br><br>Cell_Type=Choroid plexus <br>Age=%{customdata[0]}<br>Category=%{x}<br>Expression=%{y}<br>Cluster=%{customdata[1]}<extra></extra>\", \"hovertext\": [\"Choroid plexus \"], \"legendgroup\": \"Choroid plexus \", \"marker\": {\"color\": \"#00cc96\"}, \"name\": \"Choroid plexus \", \"offsetgroup\": \"Choroid plexus \", \"orientation\": \"v\", \"showlegend\": false, \"textposition\": \"auto\", \"type\": \"bar\", \"x\": [\"Non-Neuronal\"], \"xaxis\": \"x2\", \"y\": [-0.040309154], \"yaxis\": \"y2\"}, {\"alignmentgroup\": \"True\", \"customdata\": [[\"e14.5\", \"Microglia [20-E]\"]], \"hovertemplate\": \"<b>%{hovertext}</b><br><br>Cell_Type=Microglia <br>Age=%{customdata[0]}<br>Category=%{x}<br>Expression=%{y}<br>Cluster=%{customdata[1]}<extra></extra>\", \"hovertext\": [\"Microglia \"], \"legendgroup\": \"Microglia \", \"marker\": {\"color\": \"#ab63fa\"}, \"name\": \"Microglia \", \"offsetgroup\": \"Microglia \", \"orientation\": \"v\", \"showlegend\": true, \"textposition\": \"auto\", \"type\": \"bar\", \"x\": [\"Non-Neuronal\"], \"xaxis\": \"x\", \"y\": [-0.017471371], \"yaxis\": \"y\"}, {\"alignmentgroup\": \"True\", \"customdata\": [[\"p0\", \"Microglia [22-P]\"]], \"hovertemplate\": \"<b>%{hovertext}</b><br><br>Cell_Type=Microglia <br>Age=%{customdata[0]}<br>Category=%{x}<br>Expression=%{y}<br>Cluster=%{customdata[1]}<extra></extra>\", \"hovertext\": [\"Microglia \"], \"legendgroup\": \"Microglia \", \"marker\": {\"color\": \"#ab63fa\"}, \"name\": \"Microglia \", \"offsetgroup\": \"Microglia \", \"orientation\": \"v\", \"showlegend\": false, \"textposition\": \"auto\", \"type\": \"bar\", \"x\": [\"Non-Neuronal\"], \"xaxis\": \"x2\", \"y\": [-0.116139602], \"yaxis\": \"y2\"}, {\"alignmentgroup\": \"True\", \"customdata\": [[\"e14.5\", \"Endothelial [18-E]\"]], \"hovertemplate\": \"<b>%{hovertext}</b><br><br>Cell_Type=Endothelial <br>Age=%{customdata[0]}<br>Category=%{x}<br>Expression=%{y}<br>Cluster=%{customdata[1]}<extra></extra>\", \"hovertext\": [\"Endothelial \"], \"legendgroup\": \"Endothelial \", \"marker\": {\"color\": \"#FFA15A\"}, \"name\": \"Endothelial \", \"offsetgroup\": \"Endothelial \", \"orientation\": \"v\", \"showlegend\": true, \"textposition\": \"auto\", \"type\": \"bar\", \"x\": [\"Non-Neuronal\"], \"xaxis\": \"x\", \"y\": [0.267331428], \"yaxis\": \"y\"}, {\"alignmentgroup\": \"True\", \"customdata\": [[\"p0\", \"Endothelial2 [21-P]\"]], \"hovertemplate\": \"<b>%{hovertext}</b><br><br>Cell_Type=Endothelial2 <br>Age=%{customdata[0]}<br>Category=%{x}<br>Expression=%{y}<br>Cluster=%{customdata[1]}<extra></extra>\", \"hovertext\": [\"Endothelial2 \"], \"legendgroup\": \"Endothelial2 \", \"marker\": {\"color\": \"#19d3f3\"}, \"name\": \"Endothelial2 \", \"offsetgroup\": \"Endothelial2 \", \"orientation\": \"v\", \"showlegend\": true, \"textposition\": \"auto\", \"type\": \"bar\", \"x\": [\"Non-Neuronal\"], \"xaxis\": \"x2\", \"y\": [0.331144434], \"yaxis\": \"y2\"}, {\"alignmentgroup\": \"True\", \"customdata\": [[\"p0\", \"Endothelial1 [17-P]\"]], \"hovertemplate\": \"<b>%{hovertext}</b><br><br>Cell_Type=Endothelial1 <br>Age=%{customdata[0]}<br>Category=%{x}<br>Expression=%{y}<br>Cluster=%{customdata[1]}<extra></extra>\", \"hovertext\": [\"Endothelial1 \"], \"legendgroup\": \"Endothelial1 \", \"marker\": {\"color\": \"#FF6692\"}, \"name\": \"Endothelial1 \", \"offsetgroup\": \"Endothelial1 \", \"orientation\": \"v\", \"showlegend\": true, \"textposition\": \"auto\", \"type\": \"bar\", \"x\": [\"Non-Neuronal\"], \"xaxis\": \"x2\", \"y\": [0.377568151], \"yaxis\": \"y2\"}],\n",
       "                        {\"annotations\": [{\"font\": {}, \"showarrow\": false, \"text\": \"e14.5\", \"x\": 0.245, \"xanchor\": \"center\", \"xref\": \"paper\", \"y\": 1.0, \"yanchor\": \"bottom\", \"yref\": \"paper\"}, {\"font\": {}, \"showarrow\": false, \"text\": \"p0\", \"x\": 0.755, \"xanchor\": \"center\", \"xref\": \"paper\", \"y\": 1.0, \"yanchor\": \"bottom\", \"yref\": \"paper\"}], \"barmode\": \"relative\", \"legend\": {\"title\": {\"text\": \"Cell_Type\"}, \"tracegroupgap\": 0}, \"margin\": {\"t\": 60}, \"template\": {\"data\": {\"bar\": [{\"error_x\": {\"color\": \"#2a3f5f\"}, \"error_y\": {\"color\": \"#2a3f5f\"}, \"marker\": {\"line\": {\"color\": \"#E5ECF6\", \"width\": 0.5}}, \"type\": \"bar\"}], \"barpolar\": [{\"marker\": {\"line\": {\"color\": \"#E5ECF6\", \"width\": 0.5}}, \"type\": \"barpolar\"}], \"carpet\": [{\"aaxis\": {\"endlinecolor\": \"#2a3f5f\", \"gridcolor\": \"white\", \"linecolor\": \"white\", \"minorgridcolor\": \"white\", \"startlinecolor\": \"#2a3f5f\"}, \"baxis\": {\"endlinecolor\": \"#2a3f5f\", \"gridcolor\": \"white\", \"linecolor\": \"white\", \"minorgridcolor\": \"white\", \"startlinecolor\": \"#2a3f5f\"}, \"type\": \"carpet\"}], \"choropleth\": [{\"colorbar\": {\"outlinewidth\": 0, \"ticks\": \"\"}, \"type\": \"choropleth\"}], \"contour\": [{\"colorbar\": {\"outlinewidth\": 0, \"ticks\": \"\"}, \"colorscale\": [[0.0, \"#0d0887\"], [0.1111111111111111, \"#46039f\"], [0.2222222222222222, \"#7201a8\"], [0.3333333333333333, \"#9c179e\"], [0.4444444444444444, \"#bd3786\"], [0.5555555555555556, \"#d8576b\"], [0.6666666666666666, \"#ed7953\"], [0.7777777777777778, \"#fb9f3a\"], [0.8888888888888888, \"#fdca26\"], [1.0, \"#f0f921\"]], \"type\": \"contour\"}], \"contourcarpet\": [{\"colorbar\": {\"outlinewidth\": 0, \"ticks\": \"\"}, \"type\": \"contourcarpet\"}], \"heatmap\": [{\"colorbar\": {\"outlinewidth\": 0, \"ticks\": \"\"}, \"colorscale\": [[0.0, \"#0d0887\"], [0.1111111111111111, \"#46039f\"], [0.2222222222222222, \"#7201a8\"], [0.3333333333333333, \"#9c179e\"], [0.4444444444444444, \"#bd3786\"], [0.5555555555555556, \"#d8576b\"], [0.6666666666666666, \"#ed7953\"], [0.7777777777777778, \"#fb9f3a\"], [0.8888888888888888, \"#fdca26\"], [1.0, \"#f0f921\"]], \"type\": \"heatmap\"}], \"heatmapgl\": [{\"colorbar\": {\"outlinewidth\": 0, \"ticks\": \"\"}, \"colorscale\": [[0.0, \"#0d0887\"], [0.1111111111111111, \"#46039f\"], [0.2222222222222222, \"#7201a8\"], [0.3333333333333333, \"#9c179e\"], [0.4444444444444444, \"#bd3786\"], [0.5555555555555556, \"#d8576b\"], [0.6666666666666666, \"#ed7953\"], [0.7777777777777778, \"#fb9f3a\"], [0.8888888888888888, \"#fdca26\"], [1.0, \"#f0f921\"]], \"type\": \"heatmapgl\"}], \"histogram\": [{\"marker\": {\"colorbar\": {\"outlinewidth\": 0, \"ticks\": \"\"}}, \"type\": \"histogram\"}], \"histogram2d\": [{\"colorbar\": {\"outlinewidth\": 0, \"ticks\": \"\"}, \"colorscale\": [[0.0, \"#0d0887\"], [0.1111111111111111, \"#46039f\"], [0.2222222222222222, \"#7201a8\"], [0.3333333333333333, \"#9c179e\"], [0.4444444444444444, \"#bd3786\"], [0.5555555555555556, \"#d8576b\"], [0.6666666666666666, \"#ed7953\"], [0.7777777777777778, \"#fb9f3a\"], [0.8888888888888888, \"#fdca26\"], [1.0, \"#f0f921\"]], \"type\": \"histogram2d\"}], \"histogram2dcontour\": [{\"colorbar\": {\"outlinewidth\": 0, \"ticks\": \"\"}, \"colorscale\": [[0.0, \"#0d0887\"], [0.1111111111111111, \"#46039f\"], [0.2222222222222222, \"#7201a8\"], [0.3333333333333333, \"#9c179e\"], [0.4444444444444444, \"#bd3786\"], [0.5555555555555556, \"#d8576b\"], [0.6666666666666666, \"#ed7953\"], [0.7777777777777778, \"#fb9f3a\"], [0.8888888888888888, \"#fdca26\"], [1.0, \"#f0f921\"]], \"type\": \"histogram2dcontour\"}], \"mesh3d\": [{\"colorbar\": {\"outlinewidth\": 0, \"ticks\": \"\"}, \"type\": \"mesh3d\"}], \"parcoords\": [{\"line\": {\"colorbar\": {\"outlinewidth\": 0, \"ticks\": \"\"}}, \"type\": \"parcoords\"}], \"pie\": [{\"automargin\": true, \"type\": \"pie\"}], \"scatter\": [{\"marker\": {\"colorbar\": {\"outlinewidth\": 0, \"ticks\": \"\"}}, \"type\": \"scatter\"}], \"scatter3d\": [{\"line\": {\"colorbar\": {\"outlinewidth\": 0, \"ticks\": \"\"}}, \"marker\": {\"colorbar\": {\"outlinewidth\": 0, \"ticks\": \"\"}}, \"type\": \"scatter3d\"}], \"scattercarpet\": [{\"marker\": {\"colorbar\": {\"outlinewidth\": 0, \"ticks\": \"\"}}, \"type\": \"scattercarpet\"}], \"scattergeo\": [{\"marker\": {\"colorbar\": {\"outlinewidth\": 0, \"ticks\": \"\"}}, \"type\": \"scattergeo\"}], \"scattergl\": [{\"marker\": {\"colorbar\": {\"outlinewidth\": 0, \"ticks\": \"\"}}, \"type\": \"scattergl\"}], \"scattermapbox\": [{\"marker\": {\"colorbar\": {\"outlinewidth\": 0, \"ticks\": \"\"}}, \"type\": \"scattermapbox\"}], \"scatterpolar\": [{\"marker\": {\"colorbar\": {\"outlinewidth\": 0, \"ticks\": \"\"}}, \"type\": \"scatterpolar\"}], \"scatterpolargl\": [{\"marker\": {\"colorbar\": {\"outlinewidth\": 0, \"ticks\": \"\"}}, \"type\": \"scatterpolargl\"}], \"scatterternary\": [{\"marker\": {\"colorbar\": {\"outlinewidth\": 0, \"ticks\": \"\"}}, \"type\": \"scatterternary\"}], \"surface\": [{\"colorbar\": {\"outlinewidth\": 0, \"ticks\": \"\"}, \"colorscale\": [[0.0, \"#0d0887\"], [0.1111111111111111, \"#46039f\"], [0.2222222222222222, \"#7201a8\"], [0.3333333333333333, \"#9c179e\"], [0.4444444444444444, \"#bd3786\"], [0.5555555555555556, \"#d8576b\"], [0.6666666666666666, \"#ed7953\"], [0.7777777777777778, \"#fb9f3a\"], [0.8888888888888888, \"#fdca26\"], [1.0, \"#f0f921\"]], \"type\": \"surface\"}], \"table\": [{\"cells\": {\"fill\": {\"color\": \"#EBF0F8\"}, \"line\": {\"color\": \"white\"}}, \"header\": {\"fill\": {\"color\": \"#C8D4E3\"}, \"line\": {\"color\": \"white\"}}, \"type\": \"table\"}]}, \"layout\": {\"annotationdefaults\": {\"arrowcolor\": \"#2a3f5f\", \"arrowhead\": 0, \"arrowwidth\": 1}, \"coloraxis\": {\"colorbar\": {\"outlinewidth\": 0, \"ticks\": \"\"}}, \"colorscale\": {\"diverging\": [[0, \"#8e0152\"], [0.1, \"#c51b7d\"], [0.2, \"#de77ae\"], [0.3, \"#f1b6da\"], [0.4, \"#fde0ef\"], [0.5, \"#f7f7f7\"], [0.6, \"#e6f5d0\"], [0.7, \"#b8e186\"], [0.8, \"#7fbc41\"], [0.9, \"#4d9221\"], [1, \"#276419\"]], \"sequential\": [[0.0, \"#0d0887\"], [0.1111111111111111, \"#46039f\"], [0.2222222222222222, \"#7201a8\"], [0.3333333333333333, \"#9c179e\"], [0.4444444444444444, \"#bd3786\"], [0.5555555555555556, \"#d8576b\"], [0.6666666666666666, \"#ed7953\"], [0.7777777777777778, \"#fb9f3a\"], [0.8888888888888888, \"#fdca26\"], [1.0, \"#f0f921\"]], \"sequentialminus\": [[0.0, \"#0d0887\"], [0.1111111111111111, \"#46039f\"], [0.2222222222222222, \"#7201a8\"], [0.3333333333333333, \"#9c179e\"], [0.4444444444444444, \"#bd3786\"], [0.5555555555555556, \"#d8576b\"], [0.6666666666666666, \"#ed7953\"], [0.7777777777777778, \"#fb9f3a\"], [0.8888888888888888, \"#fdca26\"], [1.0, \"#f0f921\"]]}, \"colorway\": [\"#636efa\", \"#EF553B\", \"#00cc96\", \"#ab63fa\", \"#FFA15A\", \"#19d3f3\", \"#FF6692\", \"#B6E880\", \"#FF97FF\", \"#FECB52\"], \"font\": {\"color\": \"#2a3f5f\"}, \"geo\": {\"bgcolor\": \"white\", \"lakecolor\": \"white\", \"landcolor\": \"#E5ECF6\", \"showlakes\": true, \"showland\": true, \"subunitcolor\": \"white\"}, \"hoverlabel\": {\"align\": \"left\"}, \"hovermode\": \"closest\", \"mapbox\": {\"style\": \"light\"}, \"paper_bgcolor\": \"white\", \"plot_bgcolor\": \"#E5ECF6\", \"polar\": {\"angularaxis\": {\"gridcolor\": \"white\", \"linecolor\": \"white\", \"ticks\": \"\"}, \"bgcolor\": \"#E5ECF6\", \"radialaxis\": {\"gridcolor\": \"white\", \"linecolor\": \"white\", \"ticks\": \"\"}}, \"scene\": {\"xaxis\": {\"backgroundcolor\": \"#E5ECF6\", \"gridcolor\": \"white\", \"gridwidth\": 2, \"linecolor\": \"white\", \"showbackground\": true, \"ticks\": \"\", \"zerolinecolor\": \"white\"}, \"yaxis\": {\"backgroundcolor\": \"#E5ECF6\", \"gridcolor\": \"white\", \"gridwidth\": 2, \"linecolor\": \"white\", \"showbackground\": true, \"ticks\": \"\", \"zerolinecolor\": \"white\"}, \"zaxis\": {\"backgroundcolor\": \"#E5ECF6\", \"gridcolor\": \"white\", \"gridwidth\": 2, \"linecolor\": \"white\", \"showbackground\": true, \"ticks\": \"\", \"zerolinecolor\": \"white\"}}, \"shapedefaults\": {\"line\": {\"color\": \"#2a3f5f\"}}, \"ternary\": {\"aaxis\": {\"gridcolor\": \"white\", \"linecolor\": \"white\", \"ticks\": \"\"}, \"baxis\": {\"gridcolor\": \"white\", \"linecolor\": \"white\", \"ticks\": \"\"}, \"bgcolor\": \"#E5ECF6\", \"caxis\": {\"gridcolor\": \"white\", \"linecolor\": \"white\", \"ticks\": \"\"}}, \"title\": {\"x\": 0.05}, \"xaxis\": {\"automargin\": true, \"gridcolor\": \"white\", \"linecolor\": \"white\", \"ticks\": \"\", \"title\": {\"standoff\": 15}, \"zerolinecolor\": \"white\", \"zerolinewidth\": 2}, \"yaxis\": {\"automargin\": true, \"gridcolor\": \"white\", \"linecolor\": \"white\", \"ticks\": \"\", \"title\": {\"standoff\": 15}, \"zerolinecolor\": \"white\", \"zerolinewidth\": 2}}}, \"title\": {\"text\": \"Rapgef2: E14.5 and P0, Single Cell, Simon and Loo\"}, \"xaxis\": {\"anchor\": \"y\", \"domain\": [0.0, 0.49], \"title\": {\"text\": \"Cell Type\"}}, \"xaxis2\": {\"anchor\": \"y2\", \"domain\": [0.51, 1.0], \"matches\": \"x\", \"title\": {\"text\": \"Category\"}}, \"yaxis\": {\"anchor\": \"x\", \"domain\": [0.0, 1.0], \"title\": {\"text\": \"Expression\"}}, \"yaxis2\": {\"anchor\": \"x2\", \"domain\": [0.0, 1.0], \"matches\": \"y\", \"showticklabels\": false}},\n",
       "                        {\"responsive\": true}\n",
       "                    ).then(function(){\n",
       "                            \n",
       "var gd = document.getElementById('3c39d32c-d545-4d0b-a843-de640102c35a');\n",
       "var x = new MutationObserver(function (mutations, observer) {{\n",
       "        var display = window.getComputedStyle(gd).display;\n",
       "        if (!display || display === 'none') {{\n",
       "            console.log([gd, 'removed!']);\n",
       "            Plotly.purge(gd);\n",
       "            observer.disconnect();\n",
       "        }}\n",
       "}});\n",
       "\n",
       "// Listen for the removal of the full notebook cells\n",
       "var notebookContainer = gd.closest('#notebook-container');\n",
       "if (notebookContainer) {{\n",
       "    x.observe(notebookContainer, {childList: true});\n",
       "}}\n",
       "\n",
       "// Listen for the clearing of the current output cell\n",
       "var outputEl = gd.closest('.output');\n",
       "if (outputEl) {{\n",
       "    x.observe(outputEl, {childList: true});\n",
       "}}\n",
       "\n",
       "                        })\n",
       "                };\n",
       "                });\n",
       "            </script>\n",
       "        </div>"
      ]
     },
     "metadata": {},
     "output_type": "display_data"
    },
    {
     "data": {
      "application/vnd.plotly.v1+json": {
       "config": {
        "plotlyServerURL": "https://plot.ly"
       },
       "data": [
        {
         "cells": {
          "align": "left",
          "fill": {
           "color": "lavender"
          },
          "values": [
           [
            "Rapgef2",
            "Rapgef2",
            "Rapgef2",
            "Rapgef2",
            "Rapgef2",
            "Rapgef2",
            "Rapgef2",
            "Rapgef2",
            "Rapgef2",
            "Rapgef2",
            "Rapgef2",
            "Rapgef2",
            "Rapgef2",
            "Rapgef2",
            "Rapgef2",
            "Rapgef2",
            "Rapgef2",
            "Rapgef2",
            "Rapgef2",
            "Rapgef2",
            "Rapgef2",
            "Rapgef2",
            "Rapgef2",
            "Rapgef2",
            "Rapgef2",
            "Rapgef2",
            "Rapgef2",
            "Rapgef2",
            "Rapgef2",
            "Rapgef2",
            "Rapgef2",
            "Rapgef2",
            "Rapgef2",
            "Rapgef2",
            "Rapgef2",
            "Rapgef2",
            "Rapgef2",
            "Rapgef2",
            "Rapgef2",
            "Rapgef2",
            "Rapgef2",
            "Rapgef2",
            "Rapgef2",
            "Rapgef2"
           ],
           [
            "Layer I [17-E]",
            "Layer I [19-P]",
            "Layer II-IV [15-P]",
            "Layer II-IV [1-P]",
            "Layer II-IV [4-P]",
            "Layer V-VI [2-E]",
            "Layer V-VI [3-E]",
            "Layer V-VI [5-E]",
            "Layer V-VI [13-E]",
            "Layer V-VI [18-P]",
            "Layer V-VI [7-E]",
            "Layer V-VI [12-P]",
            "SVZ1 (migrating) [4-E]",
            "SVZ1 (migrating) [2-P]",
            "SVZ2 (migrating) [8-P]",
            "Int1 [1-E]",
            "Int2 [12-E]",
            "Int1 [5-P]",
            "Int3 [11-P]",
            "Int4 [6-P]",
            "Int2 [14-P]",
            "Thalamic [19-E]",
            "Striatal inh1 [16-E]",
            "Striatal inh2 [9-E]",
            "Striatal inh1 [3-P]",
            "Striatal inh2 [7-P]",
            "Ganglionic eminences [6-E]",
            "Ganglionic eminences [9-P]",
            "SVZ3 (proliferating) [15-E]",
            "SVZ2 (VZ-SVZ) [11-E]",
            "RG2 [14-E]",
            "RG3 (cortical hem) [21-E]",
            "RG1 [8-E]",
            "RG4 [10-E]",
            "Astrocytes (immature) 1 [10-P]",
            "Astrocytes (immature) 2 [13-P]",
            "Oligodendrocytes [16-P]",
            "Choroid plexus [22-E]",
            "Choroid plexus [20-P]",
            "Microglia [20-E]",
            "Microglia [22-P]",
            "Endothelial [18-E]",
            "Endothelial2 [21-P]",
            "Endothelial1 [17-P]"
           ],
           [
            0.035783348,
            -0.060587172,
            -0.053296800000000005,
            -0.011128143,
            -0.015901945,
            0.003438035,
            0.034018797999999996,
            0.085107604,
            0.030869591000000002,
            0.049780915999999995,
            0.08179170599999999,
            0.129189029,
            0.08198662599999999,
            -0.09089812,
            -3.54e-06,
            -0.119255049,
            0.074230353,
            -0.055491967999999996,
            0.057162320999999995,
            -0.095149049,
            0.073766575,
            -0.018170602,
            -0.05996990000000001,
            -0.10006749699999999,
            0.027200405,
            0.009913432,
            -0.079695693,
            -0.04677294,
            0.0013201920000000002,
            -0.056915783,
            0.007653448,
            -0.148772245,
            -0.004143455999999999,
            -0.010726578999999998,
            -0.016751734,
            0.062491668,
            0.041792561,
            -0.017539161,
            -0.040309154,
            -0.017471371,
            -0.116139602,
            0.267331428,
            0.331144434,
            0.377568151
           ],
           [
            "Layer I ",
            "Layer I ",
            "Layer II-IV ",
            "Layer II-IV ",
            "Layer II-IV ",
            "Layer V-VI ",
            "Layer V-VI ",
            "Layer V-VI ",
            "Layer V-VI ",
            "Layer V-VI ",
            "Layer V-VI ",
            "Layer V-VI ",
            "SVZ1 (migrating) ",
            "SVZ1 (migrating) ",
            "SVZ2 (migrating) ",
            "Int1 ",
            "Int2 ",
            "Int1 ",
            "Int3 ",
            "Int4 ",
            "Int2 ",
            "Thalamic ",
            "Striatal inh1 ",
            "Striatal inh2 ",
            "Striatal inh1 ",
            "Striatal inh2 ",
            "Ganglionic eminences ",
            "Ganglionic eminences ",
            "SVZ3 (proliferating) ",
            "SVZ2 (VZ-SVZ) ",
            "RG2 ",
            "RG3 (cortical hem) ",
            "RG1 ",
            "RG4 ",
            "Astrocytes (immature) 1 ",
            "Astrocytes (immature) 2 ",
            "Oligodendrocytes ",
            "Choroid plexus ",
            "Choroid plexus ",
            "Microglia ",
            "Microglia ",
            "Endothelial ",
            "Endothelial2 ",
            "Endothelial1 "
           ],
           [
            "e14.5",
            "p0",
            "p0",
            "p0",
            "p0",
            "e14.5",
            "e14.5",
            "e14.5",
            "e14.5",
            "p0",
            "e14.5",
            "p0",
            "e14.5",
            "p0",
            "p0",
            "e14.5",
            "e14.5",
            "p0",
            "p0",
            "p0",
            "p0",
            "e14.5",
            "e14.5",
            "e14.5",
            "p0",
            "p0",
            "e14.5",
            "p0",
            "e14.5",
            "e14.5",
            "e14.5",
            "e14.5",
            "e14.5",
            "e14.5",
            "p0",
            "p0",
            "p0",
            "e14.5",
            "p0",
            "e14.5",
            "p0",
            "e14.5",
            "p0",
            "p0"
           ],
           [
            "Cortical Layers",
            "Cortical Layers",
            "Cortical Layers",
            "Cortical Layers",
            "Cortical Layers",
            "Cortical Layers",
            "Cortical Layers",
            "Cortical Layers",
            "Cortical Layers",
            "Cortical Layers",
            "Cortical Layers",
            "Cortical Layers",
            "Proliferative",
            "Proliferative",
            "Proliferative",
            "Inhibitory",
            "Inhibitory",
            "Inhibitory",
            "Inhibitory",
            "Inhibitory",
            "Inhibitory",
            "Midbrain",
            "Midbrain",
            "Midbrain",
            "Midbrain",
            "Midbrain",
            "Non-Neuronal",
            "Non-Neuronal",
            "Proliferative",
            "Proliferative",
            "Proliferative",
            "Proliferative",
            "Proliferative",
            "Proliferative",
            "Non-Neuronal",
            "Non-Neuronal",
            "Non-Neuronal",
            "Non-Neuronal",
            "Non-Neuronal",
            "Non-Neuronal",
            "Non-Neuronal",
            "Non-Neuronal",
            "Non-Neuronal",
            "Non-Neuronal"
           ]
          ]
         },
         "header": {
          "align": "left",
          "fill": {
           "color": "paleturquoise"
          },
          "values": [
           "GeneID",
           "Cluster",
           "Expression",
           "Cell_Type",
           "Age",
           "Category"
          ]
         },
         "type": "table"
        }
       ],
       "layout": {
        "template": {
         "data": {
          "bar": [
           {
            "error_x": {
             "color": "#2a3f5f"
            },
            "error_y": {
             "color": "#2a3f5f"
            },
            "marker": {
             "line": {
              "color": "#E5ECF6",
              "width": 0.5
             }
            },
            "type": "bar"
           }
          ],
          "barpolar": [
           {
            "marker": {
             "line": {
              "color": "#E5ECF6",
              "width": 0.5
             }
            },
            "type": "barpolar"
           }
          ],
          "carpet": [
           {
            "aaxis": {
             "endlinecolor": "#2a3f5f",
             "gridcolor": "white",
             "linecolor": "white",
             "minorgridcolor": "white",
             "startlinecolor": "#2a3f5f"
            },
            "baxis": {
             "endlinecolor": "#2a3f5f",
             "gridcolor": "white",
             "linecolor": "white",
             "minorgridcolor": "white",
             "startlinecolor": "#2a3f5f"
            },
            "type": "carpet"
           }
          ],
          "choropleth": [
           {
            "colorbar": {
             "outlinewidth": 0,
             "ticks": ""
            },
            "type": "choropleth"
           }
          ],
          "contour": [
           {
            "colorbar": {
             "outlinewidth": 0,
             "ticks": ""
            },
            "colorscale": [
             [
              0,
              "#0d0887"
             ],
             [
              0.1111111111111111,
              "#46039f"
             ],
             [
              0.2222222222222222,
              "#7201a8"
             ],
             [
              0.3333333333333333,
              "#9c179e"
             ],
             [
              0.4444444444444444,
              "#bd3786"
             ],
             [
              0.5555555555555556,
              "#d8576b"
             ],
             [
              0.6666666666666666,
              "#ed7953"
             ],
             [
              0.7777777777777778,
              "#fb9f3a"
             ],
             [
              0.8888888888888888,
              "#fdca26"
             ],
             [
              1,
              "#f0f921"
             ]
            ],
            "type": "contour"
           }
          ],
          "contourcarpet": [
           {
            "colorbar": {
             "outlinewidth": 0,
             "ticks": ""
            },
            "type": "contourcarpet"
           }
          ],
          "heatmap": [
           {
            "colorbar": {
             "outlinewidth": 0,
             "ticks": ""
            },
            "colorscale": [
             [
              0,
              "#0d0887"
             ],
             [
              0.1111111111111111,
              "#46039f"
             ],
             [
              0.2222222222222222,
              "#7201a8"
             ],
             [
              0.3333333333333333,
              "#9c179e"
             ],
             [
              0.4444444444444444,
              "#bd3786"
             ],
             [
              0.5555555555555556,
              "#d8576b"
             ],
             [
              0.6666666666666666,
              "#ed7953"
             ],
             [
              0.7777777777777778,
              "#fb9f3a"
             ],
             [
              0.8888888888888888,
              "#fdca26"
             ],
             [
              1,
              "#f0f921"
             ]
            ],
            "type": "heatmap"
           }
          ],
          "heatmapgl": [
           {
            "colorbar": {
             "outlinewidth": 0,
             "ticks": ""
            },
            "colorscale": [
             [
              0,
              "#0d0887"
             ],
             [
              0.1111111111111111,
              "#46039f"
             ],
             [
              0.2222222222222222,
              "#7201a8"
             ],
             [
              0.3333333333333333,
              "#9c179e"
             ],
             [
              0.4444444444444444,
              "#bd3786"
             ],
             [
              0.5555555555555556,
              "#d8576b"
             ],
             [
              0.6666666666666666,
              "#ed7953"
             ],
             [
              0.7777777777777778,
              "#fb9f3a"
             ],
             [
              0.8888888888888888,
              "#fdca26"
             ],
             [
              1,
              "#f0f921"
             ]
            ],
            "type": "heatmapgl"
           }
          ],
          "histogram": [
           {
            "marker": {
             "colorbar": {
              "outlinewidth": 0,
              "ticks": ""
             }
            },
            "type": "histogram"
           }
          ],
          "histogram2d": [
           {
            "colorbar": {
             "outlinewidth": 0,
             "ticks": ""
            },
            "colorscale": [
             [
              0,
              "#0d0887"
             ],
             [
              0.1111111111111111,
              "#46039f"
             ],
             [
              0.2222222222222222,
              "#7201a8"
             ],
             [
              0.3333333333333333,
              "#9c179e"
             ],
             [
              0.4444444444444444,
              "#bd3786"
             ],
             [
              0.5555555555555556,
              "#d8576b"
             ],
             [
              0.6666666666666666,
              "#ed7953"
             ],
             [
              0.7777777777777778,
              "#fb9f3a"
             ],
             [
              0.8888888888888888,
              "#fdca26"
             ],
             [
              1,
              "#f0f921"
             ]
            ],
            "type": "histogram2d"
           }
          ],
          "histogram2dcontour": [
           {
            "colorbar": {
             "outlinewidth": 0,
             "ticks": ""
            },
            "colorscale": [
             [
              0,
              "#0d0887"
             ],
             [
              0.1111111111111111,
              "#46039f"
             ],
             [
              0.2222222222222222,
              "#7201a8"
             ],
             [
              0.3333333333333333,
              "#9c179e"
             ],
             [
              0.4444444444444444,
              "#bd3786"
             ],
             [
              0.5555555555555556,
              "#d8576b"
             ],
             [
              0.6666666666666666,
              "#ed7953"
             ],
             [
              0.7777777777777778,
              "#fb9f3a"
             ],
             [
              0.8888888888888888,
              "#fdca26"
             ],
             [
              1,
              "#f0f921"
             ]
            ],
            "type": "histogram2dcontour"
           }
          ],
          "mesh3d": [
           {
            "colorbar": {
             "outlinewidth": 0,
             "ticks": ""
            },
            "type": "mesh3d"
           }
          ],
          "parcoords": [
           {
            "line": {
             "colorbar": {
              "outlinewidth": 0,
              "ticks": ""
             }
            },
            "type": "parcoords"
           }
          ],
          "pie": [
           {
            "automargin": true,
            "type": "pie"
           }
          ],
          "scatter": [
           {
            "marker": {
             "colorbar": {
              "outlinewidth": 0,
              "ticks": ""
             }
            },
            "type": "scatter"
           }
          ],
          "scatter3d": [
           {
            "line": {
             "colorbar": {
              "outlinewidth": 0,
              "ticks": ""
             }
            },
            "marker": {
             "colorbar": {
              "outlinewidth": 0,
              "ticks": ""
             }
            },
            "type": "scatter3d"
           }
          ],
          "scattercarpet": [
           {
            "marker": {
             "colorbar": {
              "outlinewidth": 0,
              "ticks": ""
             }
            },
            "type": "scattercarpet"
           }
          ],
          "scattergeo": [
           {
            "marker": {
             "colorbar": {
              "outlinewidth": 0,
              "ticks": ""
             }
            },
            "type": "scattergeo"
           }
          ],
          "scattergl": [
           {
            "marker": {
             "colorbar": {
              "outlinewidth": 0,
              "ticks": ""
             }
            },
            "type": "scattergl"
           }
          ],
          "scattermapbox": [
           {
            "marker": {
             "colorbar": {
              "outlinewidth": 0,
              "ticks": ""
             }
            },
            "type": "scattermapbox"
           }
          ],
          "scatterpolar": [
           {
            "marker": {
             "colorbar": {
              "outlinewidth": 0,
              "ticks": ""
             }
            },
            "type": "scatterpolar"
           }
          ],
          "scatterpolargl": [
           {
            "marker": {
             "colorbar": {
              "outlinewidth": 0,
              "ticks": ""
             }
            },
            "type": "scatterpolargl"
           }
          ],
          "scatterternary": [
           {
            "marker": {
             "colorbar": {
              "outlinewidth": 0,
              "ticks": ""
             }
            },
            "type": "scatterternary"
           }
          ],
          "surface": [
           {
            "colorbar": {
             "outlinewidth": 0,
             "ticks": ""
            },
            "colorscale": [
             [
              0,
              "#0d0887"
             ],
             [
              0.1111111111111111,
              "#46039f"
             ],
             [
              0.2222222222222222,
              "#7201a8"
             ],
             [
              0.3333333333333333,
              "#9c179e"
             ],
             [
              0.4444444444444444,
              "#bd3786"
             ],
             [
              0.5555555555555556,
              "#d8576b"
             ],
             [
              0.6666666666666666,
              "#ed7953"
             ],
             [
              0.7777777777777778,
              "#fb9f3a"
             ],
             [
              0.8888888888888888,
              "#fdca26"
             ],
             [
              1,
              "#f0f921"
             ]
            ],
            "type": "surface"
           }
          ],
          "table": [
           {
            "cells": {
             "fill": {
              "color": "#EBF0F8"
             },
             "line": {
              "color": "white"
             }
            },
            "header": {
             "fill": {
              "color": "#C8D4E3"
             },
             "line": {
              "color": "white"
             }
            },
            "type": "table"
           }
          ]
         },
         "layout": {
          "annotationdefaults": {
           "arrowcolor": "#2a3f5f",
           "arrowhead": 0,
           "arrowwidth": 1
          },
          "coloraxis": {
           "colorbar": {
            "outlinewidth": 0,
            "ticks": ""
           }
          },
          "colorscale": {
           "diverging": [
            [
             0,
             "#8e0152"
            ],
            [
             0.1,
             "#c51b7d"
            ],
            [
             0.2,
             "#de77ae"
            ],
            [
             0.3,
             "#f1b6da"
            ],
            [
             0.4,
             "#fde0ef"
            ],
            [
             0.5,
             "#f7f7f7"
            ],
            [
             0.6,
             "#e6f5d0"
            ],
            [
             0.7,
             "#b8e186"
            ],
            [
             0.8,
             "#7fbc41"
            ],
            [
             0.9,
             "#4d9221"
            ],
            [
             1,
             "#276419"
            ]
           ],
           "sequential": [
            [
             0,
             "#0d0887"
            ],
            [
             0.1111111111111111,
             "#46039f"
            ],
            [
             0.2222222222222222,
             "#7201a8"
            ],
            [
             0.3333333333333333,
             "#9c179e"
            ],
            [
             0.4444444444444444,
             "#bd3786"
            ],
            [
             0.5555555555555556,
             "#d8576b"
            ],
            [
             0.6666666666666666,
             "#ed7953"
            ],
            [
             0.7777777777777778,
             "#fb9f3a"
            ],
            [
             0.8888888888888888,
             "#fdca26"
            ],
            [
             1,
             "#f0f921"
            ]
           ],
           "sequentialminus": [
            [
             0,
             "#0d0887"
            ],
            [
             0.1111111111111111,
             "#46039f"
            ],
            [
             0.2222222222222222,
             "#7201a8"
            ],
            [
             0.3333333333333333,
             "#9c179e"
            ],
            [
             0.4444444444444444,
             "#bd3786"
            ],
            [
             0.5555555555555556,
             "#d8576b"
            ],
            [
             0.6666666666666666,
             "#ed7953"
            ],
            [
             0.7777777777777778,
             "#fb9f3a"
            ],
            [
             0.8888888888888888,
             "#fdca26"
            ],
            [
             1,
             "#f0f921"
            ]
           ]
          },
          "colorway": [
           "#636efa",
           "#EF553B",
           "#00cc96",
           "#ab63fa",
           "#FFA15A",
           "#19d3f3",
           "#FF6692",
           "#B6E880",
           "#FF97FF",
           "#FECB52"
          ],
          "font": {
           "color": "#2a3f5f"
          },
          "geo": {
           "bgcolor": "white",
           "lakecolor": "white",
           "landcolor": "#E5ECF6",
           "showlakes": true,
           "showland": true,
           "subunitcolor": "white"
          },
          "hoverlabel": {
           "align": "left"
          },
          "hovermode": "closest",
          "mapbox": {
           "style": "light"
          },
          "paper_bgcolor": "white",
          "plot_bgcolor": "#E5ECF6",
          "polar": {
           "angularaxis": {
            "gridcolor": "white",
            "linecolor": "white",
            "ticks": ""
           },
           "bgcolor": "#E5ECF6",
           "radialaxis": {
            "gridcolor": "white",
            "linecolor": "white",
            "ticks": ""
           }
          },
          "scene": {
           "xaxis": {
            "backgroundcolor": "#E5ECF6",
            "gridcolor": "white",
            "gridwidth": 2,
            "linecolor": "white",
            "showbackground": true,
            "ticks": "",
            "zerolinecolor": "white"
           },
           "yaxis": {
            "backgroundcolor": "#E5ECF6",
            "gridcolor": "white",
            "gridwidth": 2,
            "linecolor": "white",
            "showbackground": true,
            "ticks": "",
            "zerolinecolor": "white"
           },
           "zaxis": {
            "backgroundcolor": "#E5ECF6",
            "gridcolor": "white",
            "gridwidth": 2,
            "linecolor": "white",
            "showbackground": true,
            "ticks": "",
            "zerolinecolor": "white"
           }
          },
          "shapedefaults": {
           "line": {
            "color": "#2a3f5f"
           }
          },
          "ternary": {
           "aaxis": {
            "gridcolor": "white",
            "linecolor": "white",
            "ticks": ""
           },
           "baxis": {
            "gridcolor": "white",
            "linecolor": "white",
            "ticks": ""
           },
           "bgcolor": "#E5ECF6",
           "caxis": {
            "gridcolor": "white",
            "linecolor": "white",
            "ticks": ""
           }
          },
          "title": {
           "x": 0.05
          },
          "xaxis": {
           "automargin": true,
           "gridcolor": "white",
           "linecolor": "white",
           "ticks": "",
           "title": {
            "standoff": 15
           },
           "zerolinecolor": "white",
           "zerolinewidth": 2
          },
          "yaxis": {
           "automargin": true,
           "gridcolor": "white",
           "linecolor": "white",
           "ticks": "",
           "title": {
            "standoff": 15
           },
           "zerolinecolor": "white",
           "zerolinewidth": 2
          }
         }
        },
        "title": {
         "text": "Rapgef2: E14.5 and P0, Single Cell, Simon and Loo"
        }
       }
      },
      "text/html": [
       "<div>\n",
       "        \n",
       "        \n",
       "            <div id=\"4e3a902d-ff9a-4ef9-a6fc-5df474da0138\" class=\"plotly-graph-div\" style=\"height:525px; width:100%;\"></div>\n",
       "            <script type=\"text/javascript\">\n",
       "                require([\"plotly\"], function(Plotly) {\n",
       "                    window.PLOTLYENV=window.PLOTLYENV || {};\n",
       "                    \n",
       "                if (document.getElementById(\"4e3a902d-ff9a-4ef9-a6fc-5df474da0138\")) {\n",
       "                    Plotly.newPlot(\n",
       "                        '4e3a902d-ff9a-4ef9-a6fc-5df474da0138',\n",
       "                        [{\"cells\": {\"align\": \"left\", \"fill\": {\"color\": \"lavender\"}, \"values\": [[\"Rapgef2\", \"Rapgef2\", \"Rapgef2\", \"Rapgef2\", \"Rapgef2\", \"Rapgef2\", \"Rapgef2\", \"Rapgef2\", \"Rapgef2\", \"Rapgef2\", \"Rapgef2\", \"Rapgef2\", \"Rapgef2\", \"Rapgef2\", \"Rapgef2\", \"Rapgef2\", \"Rapgef2\", \"Rapgef2\", \"Rapgef2\", \"Rapgef2\", \"Rapgef2\", \"Rapgef2\", \"Rapgef2\", \"Rapgef2\", \"Rapgef2\", \"Rapgef2\", \"Rapgef2\", \"Rapgef2\", \"Rapgef2\", \"Rapgef2\", \"Rapgef2\", \"Rapgef2\", \"Rapgef2\", \"Rapgef2\", \"Rapgef2\", \"Rapgef2\", \"Rapgef2\", \"Rapgef2\", \"Rapgef2\", \"Rapgef2\", \"Rapgef2\", \"Rapgef2\", \"Rapgef2\", \"Rapgef2\"], [\"Layer I [17-E]\", \"Layer I [19-P]\", \"Layer II-IV [15-P]\", \"Layer II-IV [1-P]\", \"Layer II-IV [4-P]\", \"Layer V-VI [2-E]\", \"Layer V-VI [3-E]\", \"Layer V-VI [5-E]\", \"Layer V-VI [13-E]\", \"Layer V-VI [18-P]\", \"Layer V-VI [7-E]\", \"Layer V-VI [12-P]\", \"SVZ1 (migrating) [4-E]\", \"SVZ1 (migrating) [2-P]\", \"SVZ2 (migrating) [8-P]\", \"Int1 [1-E]\", \"Int2 [12-E]\", \"Int1 [5-P]\", \"Int3 [11-P]\", \"Int4 [6-P]\", \"Int2 [14-P]\", \"Thalamic [19-E]\", \"Striatal inh1 [16-E]\", \"Striatal inh2 [9-E]\", \"Striatal inh1 [3-P]\", \"Striatal inh2 [7-P]\", \"Ganglionic eminences [6-E]\", \"Ganglionic eminences [9-P]\", \"SVZ3 (proliferating) [15-E]\", \"SVZ2 (VZ-SVZ) [11-E]\", \"RG2 [14-E]\", \"RG3 (cortical hem) [21-E]\", \"RG1 [8-E]\", \"RG4 [10-E]\", \"Astrocytes (immature) 1 [10-P]\", \"Astrocytes (immature) 2 [13-P]\", \"Oligodendrocytes [16-P]\", \"Choroid plexus [22-E]\", \"Choroid plexus [20-P]\", \"Microglia [20-E]\", \"Microglia [22-P]\", \"Endothelial [18-E]\", \"Endothelial2 [21-P]\", \"Endothelial1 [17-P]\"], [0.035783348, -0.060587172, -0.053296800000000005, -0.011128143, -0.015901945, 0.003438035, 0.034018797999999996, 0.085107604, 0.030869591000000002, 0.049780915999999995, 0.08179170599999999, 0.129189029, 0.08198662599999999, -0.09089812, -3.54e-06, -0.119255049, 0.074230353, -0.055491967999999996, 0.057162320999999995, -0.095149049, 0.073766575, -0.018170602, -0.05996990000000001, -0.10006749699999999, 0.027200405, 0.009913432, -0.079695693, -0.04677294, 0.0013201920000000002, -0.056915783, 0.007653448, -0.148772245, -0.004143455999999999, -0.010726578999999998, -0.016751734, 0.062491668, 0.041792561, -0.017539161, -0.040309154, -0.017471371, -0.116139602, 0.267331428, 0.331144434, 0.377568151], [\"Layer I \", \"Layer I \", \"Layer II-IV \", \"Layer II-IV \", \"Layer II-IV \", \"Layer V-VI \", \"Layer V-VI \", \"Layer V-VI \", \"Layer V-VI \", \"Layer V-VI \", \"Layer V-VI \", \"Layer V-VI \", \"SVZ1 (migrating) \", \"SVZ1 (migrating) \", \"SVZ2 (migrating) \", \"Int1 \", \"Int2 \", \"Int1 \", \"Int3 \", \"Int4 \", \"Int2 \", \"Thalamic \", \"Striatal inh1 \", \"Striatal inh2 \", \"Striatal inh1 \", \"Striatal inh2 \", \"Ganglionic eminences \", \"Ganglionic eminences \", \"SVZ3 (proliferating) \", \"SVZ2 (VZ-SVZ) \", \"RG2 \", \"RG3 (cortical hem) \", \"RG1 \", \"RG4 \", \"Astrocytes (immature) 1 \", \"Astrocytes (immature) 2 \", \"Oligodendrocytes \", \"Choroid plexus \", \"Choroid plexus \", \"Microglia \", \"Microglia \", \"Endothelial \", \"Endothelial2 \", \"Endothelial1 \"], [\"e14.5\", \"p0\", \"p0\", \"p0\", \"p0\", \"e14.5\", \"e14.5\", \"e14.5\", \"e14.5\", \"p0\", \"e14.5\", \"p0\", \"e14.5\", \"p0\", \"p0\", \"e14.5\", \"e14.5\", \"p0\", \"p0\", \"p0\", \"p0\", \"e14.5\", \"e14.5\", \"e14.5\", \"p0\", \"p0\", \"e14.5\", \"p0\", \"e14.5\", \"e14.5\", \"e14.5\", \"e14.5\", \"e14.5\", \"e14.5\", \"p0\", \"p0\", \"p0\", \"e14.5\", \"p0\", \"e14.5\", \"p0\", \"e14.5\", \"p0\", \"p0\"], [\"Cortical Layers\", \"Cortical Layers\", \"Cortical Layers\", \"Cortical Layers\", \"Cortical Layers\", \"Cortical Layers\", \"Cortical Layers\", \"Cortical Layers\", \"Cortical Layers\", \"Cortical Layers\", \"Cortical Layers\", \"Cortical Layers\", \"Proliferative\", \"Proliferative\", \"Proliferative\", \"Inhibitory\", \"Inhibitory\", \"Inhibitory\", \"Inhibitory\", \"Inhibitory\", \"Inhibitory\", \"Midbrain\", \"Midbrain\", \"Midbrain\", \"Midbrain\", \"Midbrain\", \"Non-Neuronal\", \"Non-Neuronal\", \"Proliferative\", \"Proliferative\", \"Proliferative\", \"Proliferative\", \"Proliferative\", \"Proliferative\", \"Non-Neuronal\", \"Non-Neuronal\", \"Non-Neuronal\", \"Non-Neuronal\", \"Non-Neuronal\", \"Non-Neuronal\", \"Non-Neuronal\", \"Non-Neuronal\", \"Non-Neuronal\", \"Non-Neuronal\"]]}, \"header\": {\"align\": \"left\", \"fill\": {\"color\": \"paleturquoise\"}, \"values\": [\"GeneID\", \"Cluster\", \"Expression\", \"Cell_Type\", \"Age\", \"Category\"]}, \"type\": \"table\"}],\n",
       "                        {\"template\": {\"data\": {\"bar\": [{\"error_x\": {\"color\": \"#2a3f5f\"}, \"error_y\": {\"color\": \"#2a3f5f\"}, \"marker\": {\"line\": {\"color\": \"#E5ECF6\", \"width\": 0.5}}, \"type\": \"bar\"}], \"barpolar\": [{\"marker\": {\"line\": {\"color\": \"#E5ECF6\", \"width\": 0.5}}, \"type\": \"barpolar\"}], \"carpet\": [{\"aaxis\": {\"endlinecolor\": \"#2a3f5f\", \"gridcolor\": \"white\", \"linecolor\": \"white\", \"minorgridcolor\": \"white\", \"startlinecolor\": \"#2a3f5f\"}, \"baxis\": {\"endlinecolor\": \"#2a3f5f\", \"gridcolor\": \"white\", \"linecolor\": \"white\", \"minorgridcolor\": \"white\", \"startlinecolor\": \"#2a3f5f\"}, \"type\": \"carpet\"}], \"choropleth\": [{\"colorbar\": {\"outlinewidth\": 0, \"ticks\": \"\"}, \"type\": \"choropleth\"}], \"contour\": [{\"colorbar\": {\"outlinewidth\": 0, \"ticks\": \"\"}, \"colorscale\": [[0.0, \"#0d0887\"], [0.1111111111111111, \"#46039f\"], [0.2222222222222222, \"#7201a8\"], [0.3333333333333333, \"#9c179e\"], [0.4444444444444444, \"#bd3786\"], [0.5555555555555556, \"#d8576b\"], [0.6666666666666666, \"#ed7953\"], [0.7777777777777778, \"#fb9f3a\"], [0.8888888888888888, \"#fdca26\"], [1.0, \"#f0f921\"]], \"type\": \"contour\"}], \"contourcarpet\": [{\"colorbar\": {\"outlinewidth\": 0, \"ticks\": \"\"}, \"type\": \"contourcarpet\"}], \"heatmap\": [{\"colorbar\": {\"outlinewidth\": 0, \"ticks\": \"\"}, \"colorscale\": [[0.0, \"#0d0887\"], [0.1111111111111111, \"#46039f\"], [0.2222222222222222, \"#7201a8\"], [0.3333333333333333, \"#9c179e\"], [0.4444444444444444, \"#bd3786\"], [0.5555555555555556, \"#d8576b\"], [0.6666666666666666, \"#ed7953\"], [0.7777777777777778, \"#fb9f3a\"], [0.8888888888888888, \"#fdca26\"], [1.0, \"#f0f921\"]], \"type\": \"heatmap\"}], \"heatmapgl\": [{\"colorbar\": {\"outlinewidth\": 0, \"ticks\": \"\"}, \"colorscale\": [[0.0, \"#0d0887\"], [0.1111111111111111, \"#46039f\"], [0.2222222222222222, \"#7201a8\"], [0.3333333333333333, \"#9c179e\"], [0.4444444444444444, \"#bd3786\"], [0.5555555555555556, \"#d8576b\"], [0.6666666666666666, \"#ed7953\"], [0.7777777777777778, \"#fb9f3a\"], [0.8888888888888888, \"#fdca26\"], [1.0, \"#f0f921\"]], \"type\": \"heatmapgl\"}], \"histogram\": [{\"marker\": {\"colorbar\": {\"outlinewidth\": 0, \"ticks\": \"\"}}, \"type\": \"histogram\"}], \"histogram2d\": [{\"colorbar\": {\"outlinewidth\": 0, \"ticks\": \"\"}, \"colorscale\": [[0.0, \"#0d0887\"], [0.1111111111111111, \"#46039f\"], [0.2222222222222222, \"#7201a8\"], [0.3333333333333333, \"#9c179e\"], [0.4444444444444444, \"#bd3786\"], [0.5555555555555556, \"#d8576b\"], [0.6666666666666666, \"#ed7953\"], [0.7777777777777778, \"#fb9f3a\"], [0.8888888888888888, \"#fdca26\"], [1.0, \"#f0f921\"]], \"type\": \"histogram2d\"}], \"histogram2dcontour\": [{\"colorbar\": {\"outlinewidth\": 0, \"ticks\": \"\"}, \"colorscale\": [[0.0, \"#0d0887\"], [0.1111111111111111, \"#46039f\"], [0.2222222222222222, \"#7201a8\"], [0.3333333333333333, \"#9c179e\"], [0.4444444444444444, \"#bd3786\"], [0.5555555555555556, \"#d8576b\"], [0.6666666666666666, \"#ed7953\"], [0.7777777777777778, \"#fb9f3a\"], [0.8888888888888888, \"#fdca26\"], [1.0, \"#f0f921\"]], \"type\": \"histogram2dcontour\"}], \"mesh3d\": [{\"colorbar\": {\"outlinewidth\": 0, \"ticks\": \"\"}, \"type\": \"mesh3d\"}], \"parcoords\": [{\"line\": {\"colorbar\": {\"outlinewidth\": 0, \"ticks\": \"\"}}, \"type\": \"parcoords\"}], \"pie\": [{\"automargin\": true, \"type\": \"pie\"}], \"scatter\": [{\"marker\": {\"colorbar\": {\"outlinewidth\": 0, \"ticks\": \"\"}}, \"type\": \"scatter\"}], \"scatter3d\": [{\"line\": {\"colorbar\": {\"outlinewidth\": 0, \"ticks\": \"\"}}, \"marker\": {\"colorbar\": {\"outlinewidth\": 0, \"ticks\": \"\"}}, \"type\": \"scatter3d\"}], \"scattercarpet\": [{\"marker\": {\"colorbar\": {\"outlinewidth\": 0, \"ticks\": \"\"}}, \"type\": \"scattercarpet\"}], \"scattergeo\": [{\"marker\": {\"colorbar\": {\"outlinewidth\": 0, \"ticks\": \"\"}}, \"type\": \"scattergeo\"}], \"scattergl\": [{\"marker\": {\"colorbar\": {\"outlinewidth\": 0, \"ticks\": \"\"}}, \"type\": \"scattergl\"}], \"scattermapbox\": [{\"marker\": {\"colorbar\": {\"outlinewidth\": 0, \"ticks\": \"\"}}, \"type\": \"scattermapbox\"}], \"scatterpolar\": [{\"marker\": {\"colorbar\": {\"outlinewidth\": 0, \"ticks\": \"\"}}, \"type\": \"scatterpolar\"}], \"scatterpolargl\": [{\"marker\": {\"colorbar\": {\"outlinewidth\": 0, \"ticks\": \"\"}}, \"type\": \"scatterpolargl\"}], \"scatterternary\": [{\"marker\": {\"colorbar\": {\"outlinewidth\": 0, \"ticks\": \"\"}}, \"type\": \"scatterternary\"}], \"surface\": [{\"colorbar\": {\"outlinewidth\": 0, \"ticks\": \"\"}, \"colorscale\": [[0.0, \"#0d0887\"], [0.1111111111111111, \"#46039f\"], [0.2222222222222222, \"#7201a8\"], [0.3333333333333333, \"#9c179e\"], [0.4444444444444444, \"#bd3786\"], [0.5555555555555556, \"#d8576b\"], [0.6666666666666666, \"#ed7953\"], [0.7777777777777778, \"#fb9f3a\"], [0.8888888888888888, \"#fdca26\"], [1.0, \"#f0f921\"]], \"type\": \"surface\"}], \"table\": [{\"cells\": {\"fill\": {\"color\": \"#EBF0F8\"}, \"line\": {\"color\": \"white\"}}, \"header\": {\"fill\": {\"color\": \"#C8D4E3\"}, \"line\": {\"color\": \"white\"}}, \"type\": \"table\"}]}, \"layout\": {\"annotationdefaults\": {\"arrowcolor\": \"#2a3f5f\", \"arrowhead\": 0, \"arrowwidth\": 1}, \"coloraxis\": {\"colorbar\": {\"outlinewidth\": 0, \"ticks\": \"\"}}, \"colorscale\": {\"diverging\": [[0, \"#8e0152\"], [0.1, \"#c51b7d\"], [0.2, \"#de77ae\"], [0.3, \"#f1b6da\"], [0.4, \"#fde0ef\"], [0.5, \"#f7f7f7\"], [0.6, \"#e6f5d0\"], [0.7, \"#b8e186\"], [0.8, \"#7fbc41\"], [0.9, \"#4d9221\"], [1, \"#276419\"]], \"sequential\": [[0.0, \"#0d0887\"], [0.1111111111111111, \"#46039f\"], [0.2222222222222222, \"#7201a8\"], [0.3333333333333333, \"#9c179e\"], [0.4444444444444444, \"#bd3786\"], [0.5555555555555556, \"#d8576b\"], [0.6666666666666666, \"#ed7953\"], [0.7777777777777778, \"#fb9f3a\"], [0.8888888888888888, \"#fdca26\"], [1.0, \"#f0f921\"]], \"sequentialminus\": [[0.0, \"#0d0887\"], [0.1111111111111111, \"#46039f\"], [0.2222222222222222, \"#7201a8\"], [0.3333333333333333, \"#9c179e\"], [0.4444444444444444, \"#bd3786\"], [0.5555555555555556, \"#d8576b\"], [0.6666666666666666, \"#ed7953\"], [0.7777777777777778, \"#fb9f3a\"], [0.8888888888888888, \"#fdca26\"], [1.0, \"#f0f921\"]]}, \"colorway\": [\"#636efa\", \"#EF553B\", \"#00cc96\", \"#ab63fa\", \"#FFA15A\", \"#19d3f3\", \"#FF6692\", \"#B6E880\", \"#FF97FF\", \"#FECB52\"], \"font\": {\"color\": \"#2a3f5f\"}, \"geo\": {\"bgcolor\": \"white\", \"lakecolor\": \"white\", \"landcolor\": \"#E5ECF6\", \"showlakes\": true, \"showland\": true, \"subunitcolor\": \"white\"}, \"hoverlabel\": {\"align\": \"left\"}, \"hovermode\": \"closest\", \"mapbox\": {\"style\": \"light\"}, \"paper_bgcolor\": \"white\", \"plot_bgcolor\": \"#E5ECF6\", \"polar\": {\"angularaxis\": {\"gridcolor\": \"white\", \"linecolor\": \"white\", \"ticks\": \"\"}, \"bgcolor\": \"#E5ECF6\", \"radialaxis\": {\"gridcolor\": \"white\", \"linecolor\": \"white\", \"ticks\": \"\"}}, \"scene\": {\"xaxis\": {\"backgroundcolor\": \"#E5ECF6\", \"gridcolor\": \"white\", \"gridwidth\": 2, \"linecolor\": \"white\", \"showbackground\": true, \"ticks\": \"\", \"zerolinecolor\": \"white\"}, \"yaxis\": {\"backgroundcolor\": \"#E5ECF6\", \"gridcolor\": \"white\", \"gridwidth\": 2, \"linecolor\": \"white\", \"showbackground\": true, \"ticks\": \"\", \"zerolinecolor\": \"white\"}, \"zaxis\": {\"backgroundcolor\": \"#E5ECF6\", \"gridcolor\": \"white\", \"gridwidth\": 2, \"linecolor\": \"white\", \"showbackground\": true, \"ticks\": \"\", \"zerolinecolor\": \"white\"}}, \"shapedefaults\": {\"line\": {\"color\": \"#2a3f5f\"}}, \"ternary\": {\"aaxis\": {\"gridcolor\": \"white\", \"linecolor\": \"white\", \"ticks\": \"\"}, \"baxis\": {\"gridcolor\": \"white\", \"linecolor\": \"white\", \"ticks\": \"\"}, \"bgcolor\": \"#E5ECF6\", \"caxis\": {\"gridcolor\": \"white\", \"linecolor\": \"white\", \"ticks\": \"\"}}, \"title\": {\"x\": 0.05}, \"xaxis\": {\"automargin\": true, \"gridcolor\": \"white\", \"linecolor\": \"white\", \"ticks\": \"\", \"title\": {\"standoff\": 15}, \"zerolinecolor\": \"white\", \"zerolinewidth\": 2}, \"yaxis\": {\"automargin\": true, \"gridcolor\": \"white\", \"linecolor\": \"white\", \"ticks\": \"\", \"title\": {\"standoff\": 15}, \"zerolinecolor\": \"white\", \"zerolinewidth\": 2}}}, \"title\": {\"text\": \"Rapgef2: E14.5 and P0, Single Cell, Simon and Loo\"}},\n",
       "                        {\"responsive\": true}\n",
       "                    ).then(function(){\n",
       "                            \n",
       "var gd = document.getElementById('4e3a902d-ff9a-4ef9-a6fc-5df474da0138');\n",
       "var x = new MutationObserver(function (mutations, observer) {{\n",
       "        var display = window.getComputedStyle(gd).display;\n",
       "        if (!display || display === 'none') {{\n",
       "            console.log([gd, 'removed!']);\n",
       "            Plotly.purge(gd);\n",
       "            observer.disconnect();\n",
       "        }}\n",
       "}});\n",
       "\n",
       "// Listen for the removal of the full notebook cells\n",
       "var notebookContainer = gd.closest('#notebook-container');\n",
       "if (notebookContainer) {{\n",
       "    x.observe(notebookContainer, {childList: true});\n",
       "}}\n",
       "\n",
       "// Listen for the clearing of the current output cell\n",
       "var outputEl = gd.closest('.output');\n",
       "if (outputEl) {{\n",
       "    x.observe(outputEl, {childList: true});\n",
       "}}\n",
       "\n",
       "                        })\n",
       "                };\n",
       "                });\n",
       "            </script>\n",
       "        </div>"
      ]
     },
     "metadata": {},
     "output_type": "display_data"
    }
   ],
   "source": [
    "data = pd.read_csv(\"LooSimon_MouseCortexDropSeq_E14P0_avgExpByCellType.csv\")\n",
    "# Get column names \n",
    "listOfColumnNames = list(data.columns.values[1:])\n",
    "idx = list(data['GeneID'])\n",
    "\n",
    "\n",
    "\n",
    "genes = ['Rapgef2']\n",
    "cells = listOfColumnNames\n",
    "data_gene_cell = data[cells]\n",
    "data_gene_cell.index= data['GeneID']\n",
    "data_gene_cell = data_gene_cell.loc[genes]\n",
    "data_gene_cell = data_gene_cell.reset_index()\n",
    "\n",
    "data_gene_cell2 = pd.melt(data_gene_cell, id_vars =['GeneID'],\n",
    "                              var_name ='Cluster', value_name ='Expression')\n",
    "\n",
    "ages = []\n",
    "cell_type = []\n",
    "supergroup = []\n",
    "\n",
    "import re\n",
    "for i in data_gene_cell2['Cluster']:    \n",
    "    if '-P]' in i:\n",
    "        ages.append('p0')\n",
    "    if '-E]' in i:\n",
    "        ages.append('e14.5')\n",
    "    if 'Layer' in i:\n",
    "        supergroup.append(\"Cortical Layers\")\n",
    "    if any(x in i for x in ['Endothelial','Choroid','Astrocyte','Oligo','Ganglionic','Micro']): \n",
    "        supergroup.append(\"Non-Neuronal\")\n",
    "    if any(x in i for x in ['SVZ','RG']): \n",
    "        supergroup.append(\"Proliferative\")\n",
    "    if \"Int\" in i:\n",
    "        supergroup.append(\"Inhibitory\")\n",
    "    if any(x in i for x in ['Thalamic','Striatal']): \n",
    "        supergroup.append(\"Midbrain\")\n",
    "    j = re.sub(\"[\\[].*?[\\]]\", \"\", i)\n",
    "    cell_type.append(j)\n",
    "\n",
    "data_gene_cell2['Cell_Type'] = cell_type\n",
    "data_gene_cell2['Age'] = ages\n",
    "data_gene_cell2['Category'] = supergroup\n",
    "\n",
    "\n",
    "fig = px.bar(data_gene_cell2, x=\"Category\", y=\"Expression\", color = \"Cell_Type\", \n",
    "             facet_col = \"Age\",\n",
    "             hover_name = \"Cell_Type\",\n",
    "             hover_data = [\"Age\", \"Cluster\"]\n",
    "            )\n",
    "#fig.update_layout(barmode='group')\n",
    "for a in fig.layout.annotations:\n",
    "    a.text = a.text.split(\"=\")[1]\n",
    "fig.update_layout(\n",
    "    title=\"Rapgef2: E14.5 and P0, Single Cell, Simon and Loo\",\n",
    "    xaxis_title=\"Category\",\n",
    "    yaxis_title=\"Expression\")\n",
    "fig.show()\n",
    "\n",
    "fig2 = go.Figure(data=[go.Table(\n",
    "        header=dict(values=list(data_gene_cell2.columns),\n",
    "                fill_color='paleturquoise',\n",
    "                align='left'),\n",
    "        cells=dict(values=[data_gene_cell2.GeneID, data_gene_cell2.Cluster, data_gene_cell2.Expression,\n",
    "                          data_gene_cell2.Cell_Type, data_gene_cell2.Age, data_gene_cell2.Category],\n",
    "                fill_color='lavender',\n",
    "                align='left'))\n",
    "            ])\n",
    "fig2.update_layout(\n",
    "    title=\"Rapgef2: E14.5 and P0, Single Cell, Simon and Loo\")\n",
    "fig2.show()"
   ]
  },
  {
   "cell_type": "code",
   "execution_count": 7,
   "metadata": {
    "hideCode": false,
    "hidePrompt": true
   },
   "outputs": [
    {
     "data": {
      "application/vnd.plotly.v1+json": {
       "config": {
        "plotlyServerURL": "https://plot.ly"
       },
       "data": [
        {
         "alignmentgroup": "True",
         "hovertemplate": "Age=10.5<br>variable=FPKM<br>Tissue=%{x}<br>value=%{y}<extra></extra>",
         "legendgroup": "10.5",
         "marker": {
          "color": "#636efa"
         },
         "name": "10.5",
         "offsetgroup": "10.5",
         "orientation": "v",
         "showlegend": true,
         "textposition": "auto",
         "type": "bar",
         "x": [
          "midbrain",
          "forebrain",
          "hindbrain",
          "forebrain",
          "midbrain",
          "midbrain",
          "hindbrain",
          "midbrain"
         ],
         "xaxis": "x",
         "y": [
          2.13,
          2.8,
          2.77,
          2.42,
          2.69,
          2.49,
          2.58,
          2.61
         ],
         "yaxis": "y"
        },
        {
         "alignmentgroup": "True",
         "hovertemplate": "Age=10.5<br>variable=TPM<br>Tissue=%{x}<br>value=%{y}<extra></extra>",
         "legendgroup": "10.5",
         "marker": {
          "color": "#636efa"
         },
         "name": "10.5",
         "offsetgroup": "10.5",
         "orientation": "v",
         "showlegend": false,
         "textposition": "auto",
         "type": "bar",
         "x": [
          "midbrain",
          "forebrain",
          "midbrain",
          "midbrain",
          "midbrain",
          "hindbrain",
          "hindbrain",
          "forebrain"
         ],
         "xaxis": "x2",
         "y": [
          4.19,
          4.4,
          3.7,
          4.03,
          3.3,
          4.16,
          4.01,
          3.76
         ],
         "yaxis": "y2"
        },
        {
         "alignmentgroup": "True",
         "hovertemplate": "Age=11.5<br>variable=FPKM<br>Tissue=%{x}<br>value=%{y}<extra></extra>",
         "legendgroup": "11.5",
         "marker": {
          "color": "#EF553B"
         },
         "name": "11.5",
         "offsetgroup": "11.5",
         "orientation": "v",
         "showlegend": true,
         "textposition": "auto",
         "type": "bar",
         "x": [
          "heart",
          "neural tube",
          "midbrain",
          "neural tube",
          "hindbrain",
          "forebrain",
          "midbrain",
          "liver",
          "hindbrain",
          "heart",
          "liver",
          "forebrain"
         ],
         "xaxis": "x",
         "y": [
          3.19,
          3.67,
          2.59,
          3.58,
          3.83,
          4.19,
          3.11,
          1.77,
          3.27,
          2.94,
          1.56,
          4.56
         ],
         "yaxis": "y"
        },
        {
         "alignmentgroup": "True",
         "hovertemplate": "Age=11.5<br>variable=TPM<br>Tissue=%{x}<br>value=%{y}<extra></extra>",
         "legendgroup": "11.5",
         "marker": {
          "color": "#EF553B"
         },
         "name": "11.5",
         "offsetgroup": "11.5",
         "orientation": "v",
         "showlegend": false,
         "textposition": "auto",
         "type": "bar",
         "x": [
          "midbrain",
          "neural tube",
          "forebrain",
          "midbrain",
          "neural tube",
          "hindbrain",
          "liver",
          "heart",
          "liver",
          "heart",
          "hindbrain",
          "forebrain"
         ],
         "xaxis": "x2",
         "y": [
          4.78,
          5.69,
          6.73,
          4.04,
          5.96,
          5.59,
          2.35,
          4.03,
          2.18,
          4.21,
          5.05,
          7.32
         ],
         "yaxis": "y2"
        },
        {
         "alignmentgroup": "True",
         "hovertemplate": "Age=12.5<br>variable=FPKM<br>Tissue=%{x}<br>value=%{y}<extra></extra>",
         "legendgroup": "12.5",
         "marker": {
          "color": "#00cc96"
         },
         "name": "12.5",
         "offsetgroup": "12.5",
         "orientation": "v",
         "showlegend": true,
         "textposition": "auto",
         "type": "bar",
         "x": [
          "midbrain",
          "hindbrain",
          "midbrain",
          "forebrain",
          "forebrain",
          "neural tube",
          "neural tube",
          "liver",
          "hindbrain",
          "heart",
          "heart",
          "liver"
         ],
         "xaxis": "x",
         "y": [
          5.51,
          5.9,
          4.82,
          5.02,
          4.55,
          4.34,
          4.4,
          1.53,
          5.89,
          4.62,
          5.11,
          1.63
         ],
         "yaxis": "y"
        },
        {
         "alignmentgroup": "True",
         "hovertemplate": "Age=12.5<br>variable=TPM<br>Tissue=%{x}<br>value=%{y}<extra></extra>",
         "legendgroup": "12.5",
         "marker": {
          "color": "#00cc96"
         },
         "name": "12.5",
         "offsetgroup": "12.5",
         "orientation": "v",
         "showlegend": false,
         "textposition": "auto",
         "type": "bar",
         "x": [
          "heart",
          "hindbrain",
          "liver",
          "liver",
          "neural tube",
          "heart",
          "forebrain",
          "neural tube",
          "midbrain",
          "forebrain",
          "hindbrain",
          "midbrain"
         ],
         "xaxis": "x2",
         "y": [
          6.89,
          10.01,
          1.95,
          1.82,
          7.36,
          7.52,
          7.49,
          7.11,
          9.15,
          8.4,
          9.85,
          8.04
         ],
         "yaxis": "y2"
        },
        {
         "alignmentgroup": "True",
         "hovertemplate": "Age=13.5<br>variable=FPKM<br>Tissue=%{x}<br>value=%{y}<extra></extra>",
         "legendgroup": "13.5",
         "marker": {
          "color": "#ab63fa"
         },
         "name": "13.5",
         "offsetgroup": "13.5",
         "orientation": "v",
         "showlegend": true,
         "textposition": "auto",
         "type": "bar",
         "x": [
          "heart",
          "liver",
          "hindbrain",
          "forebrain",
          "neural tube",
          "liver",
          "hindbrain",
          "neural tube",
          "midbrain",
          "midbrain",
          "forebrain",
          "heart"
         ],
         "xaxis": "x",
         "y": [
          2.54,
          0.77,
          4.85,
          3.96,
          4.39,
          0.91,
          4.22,
          3.46,
          4.43,
          3.98,
          4.15,
          2.89
         ],
         "yaxis": "y"
        },
        {
         "alignmentgroup": "True",
         "hovertemplate": "Age=13.5<br>variable=TPM<br>Tissue=%{x}<br>value=%{y}<extra></extra>",
         "legendgroup": "13.5",
         "marker": {
          "color": "#ab63fa"
         },
         "name": "13.5",
         "offsetgroup": "13.5",
         "orientation": "v",
         "showlegend": false,
         "textposition": "auto",
         "type": "bar",
         "x": [
          "heart",
          "liver",
          "heart",
          "forebrain",
          "midbrain",
          "midbrain",
          "hindbrain",
          "neural tube",
          "liver",
          "neural tube",
          "forebrain",
          "hindbrain"
         ],
         "xaxis": "x2",
         "y": [
          3.81,
          0.81,
          3.18,
          6.3,
          6.38,
          6.94,
          7.71,
          5.22,
          1.02,
          6.83,
          6.3,
          6.75
         ],
         "yaxis": "y2"
        },
        {
         "alignmentgroup": "True",
         "hovertemplate": "Age=14.5<br>variable=FPKM<br>Tissue=%{x}<br>value=%{y}<extra></extra>",
         "legendgroup": "14.5",
         "marker": {
          "color": "#FFA15A"
         },
         "name": "14.5",
         "offsetgroup": "14.5",
         "orientation": "v",
         "showlegend": true,
         "textposition": "auto",
         "type": "bar",
         "x": [
          "neural tube",
          "liver",
          "midbrain",
          "hindbrain",
          "midbrain",
          "neural tube",
          "hindbrain",
          "liver",
          "forebrain",
          "heart",
          "forebrain",
          "heart"
         ],
         "xaxis": "x",
         "y": [
          6.08,
          0.99,
          6.94,
          6.74,
          7.54,
          7.01,
          7.6,
          1.41,
          5.23,
          4.15,
          5.41,
          4.56
         ],
         "yaxis": "y"
        },
        {
         "alignmentgroup": "True",
         "hovertemplate": "Age=14.5<br>variable=TPM<br>Tissue=%{x}<br>value=%{y}<extra></extra>",
         "legendgroup": "14.5",
         "marker": {
          "color": "#FFA15A"
         },
         "name": "14.5",
         "offsetgroup": "14.5",
         "orientation": "v",
         "showlegend": false,
         "textposition": "auto",
         "type": "bar",
         "x": [
          "liver",
          "hindbrain",
          "forebrain",
          "heart",
          "heart",
          "neural tube",
          "forebrain",
          "neural tube",
          "midbrain",
          "midbrain",
          "hindbrain",
          "liver"
         ],
         "xaxis": "x2",
         "y": [
          1.4,
          13.03,
          8.07,
          5.71,
          6.21,
          11.54,
          8.98,
          10.57,
          11.91,
          11.86,
          11.01,
          0.95
         ],
         "yaxis": "y2"
        },
        {
         "alignmentgroup": "True",
         "hovertemplate": "Age=15.5<br>variable=FPKM<br>Tissue=%{x}<br>value=%{y}<extra></extra>",
         "legendgroup": "15.5",
         "marker": {
          "color": "#19d3f3"
         },
         "name": "15.5",
         "offsetgroup": "15.5",
         "orientation": "v",
         "showlegend": true,
         "textposition": "auto",
         "type": "bar",
         "x": [
          "midbrain",
          "forebrain",
          "liver",
          "midbrain",
          "hindbrain",
          "heart",
          "liver",
          "neural tube",
          "neural tube",
          "forebrain",
          "hindbrain",
          "heart"
         ],
         "xaxis": "x",
         "y": [
          6.98,
          5.93,
          1.31,
          7.27,
          6.53,
          3.65,
          0.86,
          5.73,
          5.6,
          5.78,
          6.67,
          3.45
         ],
         "yaxis": "y"
        },
        {
         "alignmentgroup": "True",
         "hovertemplate": "Age=15.5<br>variable=TPM<br>Tissue=%{x}<br>value=%{y}<extra></extra>",
         "legendgroup": "15.5",
         "marker": {
          "color": "#19d3f3"
         },
         "name": "15.5",
         "offsetgroup": "15.5",
         "orientation": "v",
         "showlegend": false,
         "textposition": "auto",
         "type": "bar",
         "x": [
          "heart",
          "forebrain",
          "midbrain",
          "liver",
          "forebrain",
          "midbrain",
          "hindbrain",
          "liver",
          "heart",
          "neural tube",
          "neural tube",
          "hindbrain"
         ],
         "xaxis": "x2",
         "y": [
          4.72,
          9.43,
          12.13,
          1.41,
          9.81,
          11.7,
          10.89,
          0.9,
          4.71,
          8.94,
          9.16,
          10.4
         ],
         "yaxis": "y2"
        },
        {
         "alignmentgroup": "True",
         "hovertemplate": "Age=16.5<br>variable=FPKM<br>Tissue=%{x}<br>value=%{y}<extra></extra>",
         "legendgroup": "16.5",
         "marker": {
          "color": "#FF6692"
         },
         "name": "16.5",
         "offsetgroup": "16.5",
         "orientation": "v",
         "showlegend": true,
         "textposition": "auto",
         "type": "bar",
         "x": [
          "heart",
          "heart",
          "liver",
          "midbrain",
          "midbrain",
          "forebrain",
          "forebrain",
          "liver",
          "hindbrain",
          "hindbrain"
         ],
         "xaxis": "x",
         "y": [
          3.27,
          2.87,
          0.85,
          7.6,
          7.66,
          5.28,
          6.52,
          1.15,
          6.18,
          5.62
         ],
         "yaxis": "y"
        },
        {
         "alignmentgroup": "True",
         "hovertemplate": "Age=16.5<br>variable=TPM<br>Tissue=%{x}<br>value=%{y}<extra></extra>",
         "legendgroup": "16.5",
         "marker": {
          "color": "#FF6692"
         },
         "name": "16.5",
         "offsetgroup": "16.5",
         "orientation": "v",
         "showlegend": false,
         "textposition": "auto",
         "type": "bar",
         "x": [
          "hindbrain",
          "heart",
          "liver",
          "liver",
          "midbrain",
          "hindbrain",
          "heart",
          "forebrain",
          "midbrain",
          "forebrain"
         ],
         "xaxis": "x2",
         "y": [
          9.18,
          3.91,
          0.9,
          1.24,
          13.08,
          10.45,
          4.55,
          11.11,
          13,
          9.19
         ],
         "yaxis": "y2"
        },
        {
         "alignmentgroup": "True",
         "hovertemplate": "Age=p0<br>variable=FPKM<br>Tissue=%{x}<br>value=%{y}<extra></extra>",
         "legendgroup": "p0",
         "marker": {
          "color": "#B6E880"
         },
         "name": "p0",
         "offsetgroup": "p0",
         "orientation": "v",
         "showlegend": true,
         "textposition": "auto",
         "type": "bar",
         "x": [
          "forebrain",
          "forebrain",
          "liver",
          "neural tube",
          "hindbrain",
          "neural tube",
          "heart",
          "hindbrain",
          "midbrain",
          "midbrain",
          "liver",
          "heart"
         ],
         "xaxis": "x",
         "y": [
          4.8,
          3.12,
          1.31,
          5.94,
          4.76,
          5.1,
          2.21,
          4.47,
          5.07,
          5.2,
          1.32,
          2.14
         ],
         "yaxis": "y"
        },
        {
         "alignmentgroup": "True",
         "hovertemplate": "Age=p0<br>variable=TPM<br>Tissue=%{x}<br>value=%{y}<extra></extra>",
         "legendgroup": "p0",
         "marker": {
          "color": "#B6E880"
         },
         "name": "p0",
         "offsetgroup": "p0",
         "orientation": "v",
         "showlegend": false,
         "textposition": "auto",
         "type": "bar",
         "x": [
          "midbrain",
          "neural tube",
          "heart",
          "hindbrain",
          "liver",
          "liver",
          "heart",
          "forebrain",
          "neural tube",
          "midbrain",
          "hindbrain",
          "forebrain"
         ],
         "xaxis": "x2",
         "y": [
          8.19,
          9.28,
          2.68,
          7.41,
          1.55,
          1.53,
          2.53,
          7.73,
          7.68,
          8.31,
          6.88,
          4.49
         ],
         "yaxis": "y2"
        }
       ],
       "layout": {
        "annotations": [
         {
          "font": {},
          "showarrow": false,
          "text": "FPKM",
          "x": 0.245,
          "xanchor": "center",
          "xref": "paper",
          "y": 1,
          "yanchor": "bottom",
          "yref": "paper"
         },
         {
          "font": {},
          "showarrow": false,
          "text": "TPM",
          "x": 0.755,
          "xanchor": "center",
          "xref": "paper",
          "y": 1,
          "yanchor": "bottom",
          "yref": "paper"
         }
        ],
        "barmode": "relative",
        "height": 600,
        "legend": {
         "title": {
          "text": "Age"
         },
         "tracegroupgap": 0
        },
        "margin": {
         "t": 60
        },
        "template": {
         "data": {
          "bar": [
           {
            "error_x": {
             "color": "#2a3f5f"
            },
            "error_y": {
             "color": "#2a3f5f"
            },
            "marker": {
             "line": {
              "color": "#E5ECF6",
              "width": 0.5
             }
            },
            "type": "bar"
           }
          ],
          "barpolar": [
           {
            "marker": {
             "line": {
              "color": "#E5ECF6",
              "width": 0.5
             }
            },
            "type": "barpolar"
           }
          ],
          "carpet": [
           {
            "aaxis": {
             "endlinecolor": "#2a3f5f",
             "gridcolor": "white",
             "linecolor": "white",
             "minorgridcolor": "white",
             "startlinecolor": "#2a3f5f"
            },
            "baxis": {
             "endlinecolor": "#2a3f5f",
             "gridcolor": "white",
             "linecolor": "white",
             "minorgridcolor": "white",
             "startlinecolor": "#2a3f5f"
            },
            "type": "carpet"
           }
          ],
          "choropleth": [
           {
            "colorbar": {
             "outlinewidth": 0,
             "ticks": ""
            },
            "type": "choropleth"
           }
          ],
          "contour": [
           {
            "colorbar": {
             "outlinewidth": 0,
             "ticks": ""
            },
            "colorscale": [
             [
              0,
              "#0d0887"
             ],
             [
              0.1111111111111111,
              "#46039f"
             ],
             [
              0.2222222222222222,
              "#7201a8"
             ],
             [
              0.3333333333333333,
              "#9c179e"
             ],
             [
              0.4444444444444444,
              "#bd3786"
             ],
             [
              0.5555555555555556,
              "#d8576b"
             ],
             [
              0.6666666666666666,
              "#ed7953"
             ],
             [
              0.7777777777777778,
              "#fb9f3a"
             ],
             [
              0.8888888888888888,
              "#fdca26"
             ],
             [
              1,
              "#f0f921"
             ]
            ],
            "type": "contour"
           }
          ],
          "contourcarpet": [
           {
            "colorbar": {
             "outlinewidth": 0,
             "ticks": ""
            },
            "type": "contourcarpet"
           }
          ],
          "heatmap": [
           {
            "colorbar": {
             "outlinewidth": 0,
             "ticks": ""
            },
            "colorscale": [
             [
              0,
              "#0d0887"
             ],
             [
              0.1111111111111111,
              "#46039f"
             ],
             [
              0.2222222222222222,
              "#7201a8"
             ],
             [
              0.3333333333333333,
              "#9c179e"
             ],
             [
              0.4444444444444444,
              "#bd3786"
             ],
             [
              0.5555555555555556,
              "#d8576b"
             ],
             [
              0.6666666666666666,
              "#ed7953"
             ],
             [
              0.7777777777777778,
              "#fb9f3a"
             ],
             [
              0.8888888888888888,
              "#fdca26"
             ],
             [
              1,
              "#f0f921"
             ]
            ],
            "type": "heatmap"
           }
          ],
          "heatmapgl": [
           {
            "colorbar": {
             "outlinewidth": 0,
             "ticks": ""
            },
            "colorscale": [
             [
              0,
              "#0d0887"
             ],
             [
              0.1111111111111111,
              "#46039f"
             ],
             [
              0.2222222222222222,
              "#7201a8"
             ],
             [
              0.3333333333333333,
              "#9c179e"
             ],
             [
              0.4444444444444444,
              "#bd3786"
             ],
             [
              0.5555555555555556,
              "#d8576b"
             ],
             [
              0.6666666666666666,
              "#ed7953"
             ],
             [
              0.7777777777777778,
              "#fb9f3a"
             ],
             [
              0.8888888888888888,
              "#fdca26"
             ],
             [
              1,
              "#f0f921"
             ]
            ],
            "type": "heatmapgl"
           }
          ],
          "histogram": [
           {
            "marker": {
             "colorbar": {
              "outlinewidth": 0,
              "ticks": ""
             }
            },
            "type": "histogram"
           }
          ],
          "histogram2d": [
           {
            "colorbar": {
             "outlinewidth": 0,
             "ticks": ""
            },
            "colorscale": [
             [
              0,
              "#0d0887"
             ],
             [
              0.1111111111111111,
              "#46039f"
             ],
             [
              0.2222222222222222,
              "#7201a8"
             ],
             [
              0.3333333333333333,
              "#9c179e"
             ],
             [
              0.4444444444444444,
              "#bd3786"
             ],
             [
              0.5555555555555556,
              "#d8576b"
             ],
             [
              0.6666666666666666,
              "#ed7953"
             ],
             [
              0.7777777777777778,
              "#fb9f3a"
             ],
             [
              0.8888888888888888,
              "#fdca26"
             ],
             [
              1,
              "#f0f921"
             ]
            ],
            "type": "histogram2d"
           }
          ],
          "histogram2dcontour": [
           {
            "colorbar": {
             "outlinewidth": 0,
             "ticks": ""
            },
            "colorscale": [
             [
              0,
              "#0d0887"
             ],
             [
              0.1111111111111111,
              "#46039f"
             ],
             [
              0.2222222222222222,
              "#7201a8"
             ],
             [
              0.3333333333333333,
              "#9c179e"
             ],
             [
              0.4444444444444444,
              "#bd3786"
             ],
             [
              0.5555555555555556,
              "#d8576b"
             ],
             [
              0.6666666666666666,
              "#ed7953"
             ],
             [
              0.7777777777777778,
              "#fb9f3a"
             ],
             [
              0.8888888888888888,
              "#fdca26"
             ],
             [
              1,
              "#f0f921"
             ]
            ],
            "type": "histogram2dcontour"
           }
          ],
          "mesh3d": [
           {
            "colorbar": {
             "outlinewidth": 0,
             "ticks": ""
            },
            "type": "mesh3d"
           }
          ],
          "parcoords": [
           {
            "line": {
             "colorbar": {
              "outlinewidth": 0,
              "ticks": ""
             }
            },
            "type": "parcoords"
           }
          ],
          "pie": [
           {
            "automargin": true,
            "type": "pie"
           }
          ],
          "scatter": [
           {
            "marker": {
             "colorbar": {
              "outlinewidth": 0,
              "ticks": ""
             }
            },
            "type": "scatter"
           }
          ],
          "scatter3d": [
           {
            "line": {
             "colorbar": {
              "outlinewidth": 0,
              "ticks": ""
             }
            },
            "marker": {
             "colorbar": {
              "outlinewidth": 0,
              "ticks": ""
             }
            },
            "type": "scatter3d"
           }
          ],
          "scattercarpet": [
           {
            "marker": {
             "colorbar": {
              "outlinewidth": 0,
              "ticks": ""
             }
            },
            "type": "scattercarpet"
           }
          ],
          "scattergeo": [
           {
            "marker": {
             "colorbar": {
              "outlinewidth": 0,
              "ticks": ""
             }
            },
            "type": "scattergeo"
           }
          ],
          "scattergl": [
           {
            "marker": {
             "colorbar": {
              "outlinewidth": 0,
              "ticks": ""
             }
            },
            "type": "scattergl"
           }
          ],
          "scattermapbox": [
           {
            "marker": {
             "colorbar": {
              "outlinewidth": 0,
              "ticks": ""
             }
            },
            "type": "scattermapbox"
           }
          ],
          "scatterpolar": [
           {
            "marker": {
             "colorbar": {
              "outlinewidth": 0,
              "ticks": ""
             }
            },
            "type": "scatterpolar"
           }
          ],
          "scatterpolargl": [
           {
            "marker": {
             "colorbar": {
              "outlinewidth": 0,
              "ticks": ""
             }
            },
            "type": "scatterpolargl"
           }
          ],
          "scatterternary": [
           {
            "marker": {
             "colorbar": {
              "outlinewidth": 0,
              "ticks": ""
             }
            },
            "type": "scatterternary"
           }
          ],
          "surface": [
           {
            "colorbar": {
             "outlinewidth": 0,
             "ticks": ""
            },
            "colorscale": [
             [
              0,
              "#0d0887"
             ],
             [
              0.1111111111111111,
              "#46039f"
             ],
             [
              0.2222222222222222,
              "#7201a8"
             ],
             [
              0.3333333333333333,
              "#9c179e"
             ],
             [
              0.4444444444444444,
              "#bd3786"
             ],
             [
              0.5555555555555556,
              "#d8576b"
             ],
             [
              0.6666666666666666,
              "#ed7953"
             ],
             [
              0.7777777777777778,
              "#fb9f3a"
             ],
             [
              0.8888888888888888,
              "#fdca26"
             ],
             [
              1,
              "#f0f921"
             ]
            ],
            "type": "surface"
           }
          ],
          "table": [
           {
            "cells": {
             "fill": {
              "color": "#EBF0F8"
             },
             "line": {
              "color": "white"
             }
            },
            "header": {
             "fill": {
              "color": "#C8D4E3"
             },
             "line": {
              "color": "white"
             }
            },
            "type": "table"
           }
          ]
         },
         "layout": {
          "annotationdefaults": {
           "arrowcolor": "#2a3f5f",
           "arrowhead": 0,
           "arrowwidth": 1
          },
          "coloraxis": {
           "colorbar": {
            "outlinewidth": 0,
            "ticks": ""
           }
          },
          "colorscale": {
           "diverging": [
            [
             0,
             "#8e0152"
            ],
            [
             0.1,
             "#c51b7d"
            ],
            [
             0.2,
             "#de77ae"
            ],
            [
             0.3,
             "#f1b6da"
            ],
            [
             0.4,
             "#fde0ef"
            ],
            [
             0.5,
             "#f7f7f7"
            ],
            [
             0.6,
             "#e6f5d0"
            ],
            [
             0.7,
             "#b8e186"
            ],
            [
             0.8,
             "#7fbc41"
            ],
            [
             0.9,
             "#4d9221"
            ],
            [
             1,
             "#276419"
            ]
           ],
           "sequential": [
            [
             0,
             "#0d0887"
            ],
            [
             0.1111111111111111,
             "#46039f"
            ],
            [
             0.2222222222222222,
             "#7201a8"
            ],
            [
             0.3333333333333333,
             "#9c179e"
            ],
            [
             0.4444444444444444,
             "#bd3786"
            ],
            [
             0.5555555555555556,
             "#d8576b"
            ],
            [
             0.6666666666666666,
             "#ed7953"
            ],
            [
             0.7777777777777778,
             "#fb9f3a"
            ],
            [
             0.8888888888888888,
             "#fdca26"
            ],
            [
             1,
             "#f0f921"
            ]
           ],
           "sequentialminus": [
            [
             0,
             "#0d0887"
            ],
            [
             0.1111111111111111,
             "#46039f"
            ],
            [
             0.2222222222222222,
             "#7201a8"
            ],
            [
             0.3333333333333333,
             "#9c179e"
            ],
            [
             0.4444444444444444,
             "#bd3786"
            ],
            [
             0.5555555555555556,
             "#d8576b"
            ],
            [
             0.6666666666666666,
             "#ed7953"
            ],
            [
             0.7777777777777778,
             "#fb9f3a"
            ],
            [
             0.8888888888888888,
             "#fdca26"
            ],
            [
             1,
             "#f0f921"
            ]
           ]
          },
          "colorway": [
           "#636efa",
           "#EF553B",
           "#00cc96",
           "#ab63fa",
           "#FFA15A",
           "#19d3f3",
           "#FF6692",
           "#B6E880",
           "#FF97FF",
           "#FECB52"
          ],
          "font": {
           "color": "#2a3f5f"
          },
          "geo": {
           "bgcolor": "white",
           "lakecolor": "white",
           "landcolor": "#E5ECF6",
           "showlakes": true,
           "showland": true,
           "subunitcolor": "white"
          },
          "hoverlabel": {
           "align": "left"
          },
          "hovermode": "closest",
          "mapbox": {
           "style": "light"
          },
          "paper_bgcolor": "white",
          "plot_bgcolor": "#E5ECF6",
          "polar": {
           "angularaxis": {
            "gridcolor": "white",
            "linecolor": "white",
            "ticks": ""
           },
           "bgcolor": "#E5ECF6",
           "radialaxis": {
            "gridcolor": "white",
            "linecolor": "white",
            "ticks": ""
           }
          },
          "scene": {
           "xaxis": {
            "backgroundcolor": "#E5ECF6",
            "gridcolor": "white",
            "gridwidth": 2,
            "linecolor": "white",
            "showbackground": true,
            "ticks": "",
            "zerolinecolor": "white"
           },
           "yaxis": {
            "backgroundcolor": "#E5ECF6",
            "gridcolor": "white",
            "gridwidth": 2,
            "linecolor": "white",
            "showbackground": true,
            "ticks": "",
            "zerolinecolor": "white"
           },
           "zaxis": {
            "backgroundcolor": "#E5ECF6",
            "gridcolor": "white",
            "gridwidth": 2,
            "linecolor": "white",
            "showbackground": true,
            "ticks": "",
            "zerolinecolor": "white"
           }
          },
          "shapedefaults": {
           "line": {
            "color": "#2a3f5f"
           }
          },
          "ternary": {
           "aaxis": {
            "gridcolor": "white",
            "linecolor": "white",
            "ticks": ""
           },
           "baxis": {
            "gridcolor": "white",
            "linecolor": "white",
            "ticks": ""
           },
           "bgcolor": "#E5ECF6",
           "caxis": {
            "gridcolor": "white",
            "linecolor": "white",
            "ticks": ""
           }
          },
          "title": {
           "x": 0.05
          },
          "xaxis": {
           "automargin": true,
           "gridcolor": "white",
           "linecolor": "white",
           "ticks": "",
           "title": {
            "standoff": 15
           },
           "zerolinecolor": "white",
           "zerolinewidth": 2
          },
          "yaxis": {
           "automargin": true,
           "gridcolor": "white",
           "linecolor": "white",
           "ticks": "",
           "title": {
            "standoff": 15
           },
           "zerolinecolor": "white",
           "zerolinewidth": 2
          }
         }
        },
        "title": {
         "text": "Rapgef2: Poly-A Oligo-dt primed, B Wold, ENCODE"
        },
        "width": 1000,
        "xaxis": {
         "anchor": "y",
         "categoryorder": "total descending",
         "domain": [
          0,
          0.49
         ],
         "title": {
          "text": "Cell Type"
         }
        },
        "xaxis2": {
         "anchor": "y2",
         "domain": [
          0.51,
          1
         ],
         "matches": "x",
         "title": {
          "text": "Tissue"
         }
        },
        "yaxis": {
         "anchor": "x",
         "domain": [
          0,
          1
         ],
         "title": {
          "text": "Expression"
         }
        },
        "yaxis2": {
         "anchor": "x2",
         "domain": [
          0,
          1
         ],
         "matches": "y",
         "showticklabels": false,
         "title": {
          "text": ""
         }
        }
       }
      },
      "text/html": [
       "<div>\n",
       "        \n",
       "        \n",
       "            <div id=\"ca5004a2-a702-42f3-9761-08115663bf32\" class=\"plotly-graph-div\" style=\"height:600px; width:1000px;\"></div>\n",
       "            <script type=\"text/javascript\">\n",
       "                require([\"plotly\"], function(Plotly) {\n",
       "                    window.PLOTLYENV=window.PLOTLYENV || {};\n",
       "                    \n",
       "                if (document.getElementById(\"ca5004a2-a702-42f3-9761-08115663bf32\")) {\n",
       "                    Plotly.newPlot(\n",
       "                        'ca5004a2-a702-42f3-9761-08115663bf32',\n",
       "                        [{\"alignmentgroup\": \"True\", \"hovertemplate\": \"Age=10.5<br>variable=FPKM<br>Tissue=%{x}<br>value=%{y}<extra></extra>\", \"legendgroup\": \"10.5\", \"marker\": {\"color\": \"#636efa\"}, \"name\": \"10.5\", \"offsetgroup\": \"10.5\", \"orientation\": \"v\", \"showlegend\": true, \"textposition\": \"auto\", \"type\": \"bar\", \"x\": [\"midbrain\", \"forebrain\", \"hindbrain\", \"forebrain\", \"midbrain\", \"midbrain\", \"hindbrain\", \"midbrain\"], \"xaxis\": \"x\", \"y\": [2.13, 2.8, 2.77, 2.42, 2.69, 2.49, 2.58, 2.61], \"yaxis\": \"y\"}, {\"alignmentgroup\": \"True\", \"hovertemplate\": \"Age=10.5<br>variable=TPM<br>Tissue=%{x}<br>value=%{y}<extra></extra>\", \"legendgroup\": \"10.5\", \"marker\": {\"color\": \"#636efa\"}, \"name\": \"10.5\", \"offsetgroup\": \"10.5\", \"orientation\": \"v\", \"showlegend\": false, \"textposition\": \"auto\", \"type\": \"bar\", \"x\": [\"midbrain\", \"forebrain\", \"midbrain\", \"midbrain\", \"midbrain\", \"hindbrain\", \"hindbrain\", \"forebrain\"], \"xaxis\": \"x2\", \"y\": [4.19, 4.4, 3.7, 4.03, 3.3, 4.16, 4.01, 3.76], \"yaxis\": \"y2\"}, {\"alignmentgroup\": \"True\", \"hovertemplate\": \"Age=11.5<br>variable=FPKM<br>Tissue=%{x}<br>value=%{y}<extra></extra>\", \"legendgroup\": \"11.5\", \"marker\": {\"color\": \"#EF553B\"}, \"name\": \"11.5\", \"offsetgroup\": \"11.5\", \"orientation\": \"v\", \"showlegend\": true, \"textposition\": \"auto\", \"type\": \"bar\", \"x\": [\"heart\", \"neural tube\", \"midbrain\", \"neural tube\", \"hindbrain\", \"forebrain\", \"midbrain\", \"liver\", \"hindbrain\", \"heart\", \"liver\", \"forebrain\"], \"xaxis\": \"x\", \"y\": [3.19, 3.67, 2.59, 3.58, 3.83, 4.19, 3.11, 1.77, 3.27, 2.94, 1.56, 4.56], \"yaxis\": \"y\"}, {\"alignmentgroup\": \"True\", \"hovertemplate\": \"Age=11.5<br>variable=TPM<br>Tissue=%{x}<br>value=%{y}<extra></extra>\", \"legendgroup\": \"11.5\", \"marker\": {\"color\": \"#EF553B\"}, \"name\": \"11.5\", \"offsetgroup\": \"11.5\", \"orientation\": \"v\", \"showlegend\": false, \"textposition\": \"auto\", \"type\": \"bar\", \"x\": [\"midbrain\", \"neural tube\", \"forebrain\", \"midbrain\", \"neural tube\", \"hindbrain\", \"liver\", \"heart\", \"liver\", \"heart\", \"hindbrain\", \"forebrain\"], \"xaxis\": \"x2\", \"y\": [4.78, 5.69, 6.73, 4.04, 5.96, 5.59, 2.35, 4.03, 2.18, 4.21, 5.05, 7.32], \"yaxis\": \"y2\"}, {\"alignmentgroup\": \"True\", \"hovertemplate\": \"Age=12.5<br>variable=FPKM<br>Tissue=%{x}<br>value=%{y}<extra></extra>\", \"legendgroup\": \"12.5\", \"marker\": {\"color\": \"#00cc96\"}, \"name\": \"12.5\", \"offsetgroup\": \"12.5\", \"orientation\": \"v\", \"showlegend\": true, \"textposition\": \"auto\", \"type\": \"bar\", \"x\": [\"midbrain\", \"hindbrain\", \"midbrain\", \"forebrain\", \"forebrain\", \"neural tube\", \"neural tube\", \"liver\", \"hindbrain\", \"heart\", \"heart\", \"liver\"], \"xaxis\": \"x\", \"y\": [5.51, 5.9, 4.82, 5.02, 4.55, 4.34, 4.4, 1.53, 5.89, 4.62, 5.11, 1.63], \"yaxis\": \"y\"}, {\"alignmentgroup\": \"True\", \"hovertemplate\": \"Age=12.5<br>variable=TPM<br>Tissue=%{x}<br>value=%{y}<extra></extra>\", \"legendgroup\": \"12.5\", \"marker\": {\"color\": \"#00cc96\"}, \"name\": \"12.5\", \"offsetgroup\": \"12.5\", \"orientation\": \"v\", \"showlegend\": false, \"textposition\": \"auto\", \"type\": \"bar\", \"x\": [\"heart\", \"hindbrain\", \"liver\", \"liver\", \"neural tube\", \"heart\", \"forebrain\", \"neural tube\", \"midbrain\", \"forebrain\", \"hindbrain\", \"midbrain\"], \"xaxis\": \"x2\", \"y\": [6.89, 10.01, 1.95, 1.82, 7.36, 7.52, 7.49, 7.11, 9.15, 8.4, 9.85, 8.04], \"yaxis\": \"y2\"}, {\"alignmentgroup\": \"True\", \"hovertemplate\": \"Age=13.5<br>variable=FPKM<br>Tissue=%{x}<br>value=%{y}<extra></extra>\", \"legendgroup\": \"13.5\", \"marker\": {\"color\": \"#ab63fa\"}, \"name\": \"13.5\", \"offsetgroup\": \"13.5\", \"orientation\": \"v\", \"showlegend\": true, \"textposition\": \"auto\", \"type\": \"bar\", \"x\": [\"heart\", \"liver\", \"hindbrain\", \"forebrain\", \"neural tube\", \"liver\", \"hindbrain\", \"neural tube\", \"midbrain\", \"midbrain\", \"forebrain\", \"heart\"], \"xaxis\": \"x\", \"y\": [2.54, 0.77, 4.85, 3.96, 4.39, 0.91, 4.22, 3.46, 4.43, 3.98, 4.15, 2.89], \"yaxis\": \"y\"}, {\"alignmentgroup\": \"True\", \"hovertemplate\": \"Age=13.5<br>variable=TPM<br>Tissue=%{x}<br>value=%{y}<extra></extra>\", \"legendgroup\": \"13.5\", \"marker\": {\"color\": \"#ab63fa\"}, \"name\": \"13.5\", \"offsetgroup\": \"13.5\", \"orientation\": \"v\", \"showlegend\": false, \"textposition\": \"auto\", \"type\": \"bar\", \"x\": [\"heart\", \"liver\", \"heart\", \"forebrain\", \"midbrain\", \"midbrain\", \"hindbrain\", \"neural tube\", \"liver\", \"neural tube\", \"forebrain\", \"hindbrain\"], \"xaxis\": \"x2\", \"y\": [3.81, 0.81, 3.18, 6.3, 6.38, 6.94, 7.71, 5.22, 1.02, 6.83, 6.3, 6.75], \"yaxis\": \"y2\"}, {\"alignmentgroup\": \"True\", \"hovertemplate\": \"Age=14.5<br>variable=FPKM<br>Tissue=%{x}<br>value=%{y}<extra></extra>\", \"legendgroup\": \"14.5\", \"marker\": {\"color\": \"#FFA15A\"}, \"name\": \"14.5\", \"offsetgroup\": \"14.5\", \"orientation\": \"v\", \"showlegend\": true, \"textposition\": \"auto\", \"type\": \"bar\", \"x\": [\"neural tube\", \"liver\", \"midbrain\", \"hindbrain\", \"midbrain\", \"neural tube\", \"hindbrain\", \"liver\", \"forebrain\", \"heart\", \"forebrain\", \"heart\"], \"xaxis\": \"x\", \"y\": [6.08, 0.99, 6.94, 6.74, 7.54, 7.01, 7.6, 1.41, 5.23, 4.15, 5.41, 4.56], \"yaxis\": \"y\"}, {\"alignmentgroup\": \"True\", \"hovertemplate\": \"Age=14.5<br>variable=TPM<br>Tissue=%{x}<br>value=%{y}<extra></extra>\", \"legendgroup\": \"14.5\", \"marker\": {\"color\": \"#FFA15A\"}, \"name\": \"14.5\", \"offsetgroup\": \"14.5\", \"orientation\": \"v\", \"showlegend\": false, \"textposition\": \"auto\", \"type\": \"bar\", \"x\": [\"liver\", \"hindbrain\", \"forebrain\", \"heart\", \"heart\", \"neural tube\", \"forebrain\", \"neural tube\", \"midbrain\", \"midbrain\", \"hindbrain\", \"liver\"], \"xaxis\": \"x2\", \"y\": [1.4, 13.03, 8.07, 5.71, 6.21, 11.54, 8.98, 10.57, 11.91, 11.86, 11.01, 0.95], \"yaxis\": \"y2\"}, {\"alignmentgroup\": \"True\", \"hovertemplate\": \"Age=15.5<br>variable=FPKM<br>Tissue=%{x}<br>value=%{y}<extra></extra>\", \"legendgroup\": \"15.5\", \"marker\": {\"color\": \"#19d3f3\"}, \"name\": \"15.5\", \"offsetgroup\": \"15.5\", \"orientation\": \"v\", \"showlegend\": true, \"textposition\": \"auto\", \"type\": \"bar\", \"x\": [\"midbrain\", \"forebrain\", \"liver\", \"midbrain\", \"hindbrain\", \"heart\", \"liver\", \"neural tube\", \"neural tube\", \"forebrain\", \"hindbrain\", \"heart\"], \"xaxis\": \"x\", \"y\": [6.98, 5.93, 1.31, 7.27, 6.53, 3.65, 0.86, 5.73, 5.6, 5.78, 6.67, 3.45], \"yaxis\": \"y\"}, {\"alignmentgroup\": \"True\", \"hovertemplate\": \"Age=15.5<br>variable=TPM<br>Tissue=%{x}<br>value=%{y}<extra></extra>\", \"legendgroup\": \"15.5\", \"marker\": {\"color\": \"#19d3f3\"}, \"name\": \"15.5\", \"offsetgroup\": \"15.5\", \"orientation\": \"v\", \"showlegend\": false, \"textposition\": \"auto\", \"type\": \"bar\", \"x\": [\"heart\", \"forebrain\", \"midbrain\", \"liver\", \"forebrain\", \"midbrain\", \"hindbrain\", \"liver\", \"heart\", \"neural tube\", \"neural tube\", \"hindbrain\"], \"xaxis\": \"x2\", \"y\": [4.72, 9.43, 12.13, 1.41, 9.81, 11.7, 10.89, 0.9, 4.71, 8.94, 9.16, 10.4], \"yaxis\": \"y2\"}, {\"alignmentgroup\": \"True\", \"hovertemplate\": \"Age=16.5<br>variable=FPKM<br>Tissue=%{x}<br>value=%{y}<extra></extra>\", \"legendgroup\": \"16.5\", \"marker\": {\"color\": \"#FF6692\"}, \"name\": \"16.5\", \"offsetgroup\": \"16.5\", \"orientation\": \"v\", \"showlegend\": true, \"textposition\": \"auto\", \"type\": \"bar\", \"x\": [\"heart\", \"heart\", \"liver\", \"midbrain\", \"midbrain\", \"forebrain\", \"forebrain\", \"liver\", \"hindbrain\", \"hindbrain\"], \"xaxis\": \"x\", \"y\": [3.27, 2.87, 0.85, 7.6, 7.66, 5.28, 6.52, 1.15, 6.18, 5.62], \"yaxis\": \"y\"}, {\"alignmentgroup\": \"True\", \"hovertemplate\": \"Age=16.5<br>variable=TPM<br>Tissue=%{x}<br>value=%{y}<extra></extra>\", \"legendgroup\": \"16.5\", \"marker\": {\"color\": \"#FF6692\"}, \"name\": \"16.5\", \"offsetgroup\": \"16.5\", \"orientation\": \"v\", \"showlegend\": false, \"textposition\": \"auto\", \"type\": \"bar\", \"x\": [\"hindbrain\", \"heart\", \"liver\", \"liver\", \"midbrain\", \"hindbrain\", \"heart\", \"forebrain\", \"midbrain\", \"forebrain\"], \"xaxis\": \"x2\", \"y\": [9.18, 3.91, 0.9, 1.24, 13.08, 10.45, 4.55, 11.11, 13.0, 9.19], \"yaxis\": \"y2\"}, {\"alignmentgroup\": \"True\", \"hovertemplate\": \"Age=p0<br>variable=FPKM<br>Tissue=%{x}<br>value=%{y}<extra></extra>\", \"legendgroup\": \"p0\", \"marker\": {\"color\": \"#B6E880\"}, \"name\": \"p0\", \"offsetgroup\": \"p0\", \"orientation\": \"v\", \"showlegend\": true, \"textposition\": \"auto\", \"type\": \"bar\", \"x\": [\"forebrain\", \"forebrain\", \"liver\", \"neural tube\", \"hindbrain\", \"neural tube\", \"heart\", \"hindbrain\", \"midbrain\", \"midbrain\", \"liver\", \"heart\"], \"xaxis\": \"x\", \"y\": [4.8, 3.12, 1.31, 5.94, 4.76, 5.1, 2.21, 4.47, 5.07, 5.2, 1.32, 2.14], \"yaxis\": \"y\"}, {\"alignmentgroup\": \"True\", \"hovertemplate\": \"Age=p0<br>variable=TPM<br>Tissue=%{x}<br>value=%{y}<extra></extra>\", \"legendgroup\": \"p0\", \"marker\": {\"color\": \"#B6E880\"}, \"name\": \"p0\", \"offsetgroup\": \"p0\", \"orientation\": \"v\", \"showlegend\": false, \"textposition\": \"auto\", \"type\": \"bar\", \"x\": [\"midbrain\", \"neural tube\", \"heart\", \"hindbrain\", \"liver\", \"liver\", \"heart\", \"forebrain\", \"neural tube\", \"midbrain\", \"hindbrain\", \"forebrain\"], \"xaxis\": \"x2\", \"y\": [8.19, 9.28, 2.68, 7.41, 1.55, 1.53, 2.53, 7.73, 7.68, 8.31, 6.88, 4.49], \"yaxis\": \"y2\"}],\n",
       "                        {\"annotations\": [{\"font\": {}, \"showarrow\": false, \"text\": \"FPKM\", \"x\": 0.245, \"xanchor\": \"center\", \"xref\": \"paper\", \"y\": 1.0, \"yanchor\": \"bottom\", \"yref\": \"paper\"}, {\"font\": {}, \"showarrow\": false, \"text\": \"TPM\", \"x\": 0.755, \"xanchor\": \"center\", \"xref\": \"paper\", \"y\": 1.0, \"yanchor\": \"bottom\", \"yref\": \"paper\"}], \"barmode\": \"relative\", \"height\": 600, \"legend\": {\"title\": {\"text\": \"Age\"}, \"tracegroupgap\": 0}, \"margin\": {\"t\": 60}, \"template\": {\"data\": {\"bar\": [{\"error_x\": {\"color\": \"#2a3f5f\"}, \"error_y\": {\"color\": \"#2a3f5f\"}, \"marker\": {\"line\": {\"color\": \"#E5ECF6\", \"width\": 0.5}}, \"type\": \"bar\"}], \"barpolar\": [{\"marker\": {\"line\": {\"color\": \"#E5ECF6\", \"width\": 0.5}}, \"type\": \"barpolar\"}], \"carpet\": [{\"aaxis\": {\"endlinecolor\": \"#2a3f5f\", \"gridcolor\": \"white\", \"linecolor\": \"white\", \"minorgridcolor\": \"white\", \"startlinecolor\": \"#2a3f5f\"}, \"baxis\": {\"endlinecolor\": \"#2a3f5f\", \"gridcolor\": \"white\", \"linecolor\": \"white\", \"minorgridcolor\": \"white\", \"startlinecolor\": \"#2a3f5f\"}, \"type\": \"carpet\"}], \"choropleth\": [{\"colorbar\": {\"outlinewidth\": 0, \"ticks\": \"\"}, \"type\": \"choropleth\"}], \"contour\": [{\"colorbar\": {\"outlinewidth\": 0, \"ticks\": \"\"}, \"colorscale\": [[0.0, \"#0d0887\"], [0.1111111111111111, \"#46039f\"], [0.2222222222222222, \"#7201a8\"], [0.3333333333333333, \"#9c179e\"], [0.4444444444444444, \"#bd3786\"], [0.5555555555555556, \"#d8576b\"], [0.6666666666666666, \"#ed7953\"], [0.7777777777777778, \"#fb9f3a\"], [0.8888888888888888, \"#fdca26\"], [1.0, \"#f0f921\"]], \"type\": \"contour\"}], \"contourcarpet\": [{\"colorbar\": {\"outlinewidth\": 0, \"ticks\": \"\"}, \"type\": \"contourcarpet\"}], \"heatmap\": [{\"colorbar\": {\"outlinewidth\": 0, \"ticks\": \"\"}, \"colorscale\": [[0.0, \"#0d0887\"], [0.1111111111111111, \"#46039f\"], [0.2222222222222222, \"#7201a8\"], [0.3333333333333333, \"#9c179e\"], [0.4444444444444444, \"#bd3786\"], [0.5555555555555556, \"#d8576b\"], [0.6666666666666666, \"#ed7953\"], [0.7777777777777778, \"#fb9f3a\"], [0.8888888888888888, \"#fdca26\"], [1.0, \"#f0f921\"]], \"type\": \"heatmap\"}], \"heatmapgl\": [{\"colorbar\": {\"outlinewidth\": 0, \"ticks\": \"\"}, \"colorscale\": [[0.0, \"#0d0887\"], [0.1111111111111111, \"#46039f\"], [0.2222222222222222, \"#7201a8\"], [0.3333333333333333, \"#9c179e\"], [0.4444444444444444, \"#bd3786\"], [0.5555555555555556, \"#d8576b\"], [0.6666666666666666, \"#ed7953\"], [0.7777777777777778, \"#fb9f3a\"], [0.8888888888888888, \"#fdca26\"], [1.0, \"#f0f921\"]], \"type\": \"heatmapgl\"}], \"histogram\": [{\"marker\": {\"colorbar\": {\"outlinewidth\": 0, \"ticks\": \"\"}}, \"type\": \"histogram\"}], \"histogram2d\": [{\"colorbar\": {\"outlinewidth\": 0, \"ticks\": \"\"}, \"colorscale\": [[0.0, \"#0d0887\"], [0.1111111111111111, \"#46039f\"], [0.2222222222222222, \"#7201a8\"], [0.3333333333333333, \"#9c179e\"], [0.4444444444444444, \"#bd3786\"], [0.5555555555555556, \"#d8576b\"], [0.6666666666666666, \"#ed7953\"], [0.7777777777777778, \"#fb9f3a\"], [0.8888888888888888, \"#fdca26\"], [1.0, \"#f0f921\"]], \"type\": \"histogram2d\"}], \"histogram2dcontour\": [{\"colorbar\": {\"outlinewidth\": 0, \"ticks\": \"\"}, \"colorscale\": [[0.0, \"#0d0887\"], [0.1111111111111111, \"#46039f\"], [0.2222222222222222, \"#7201a8\"], [0.3333333333333333, \"#9c179e\"], [0.4444444444444444, \"#bd3786\"], [0.5555555555555556, \"#d8576b\"], [0.6666666666666666, \"#ed7953\"], [0.7777777777777778, \"#fb9f3a\"], [0.8888888888888888, \"#fdca26\"], [1.0, \"#f0f921\"]], \"type\": \"histogram2dcontour\"}], \"mesh3d\": [{\"colorbar\": {\"outlinewidth\": 0, \"ticks\": \"\"}, \"type\": \"mesh3d\"}], \"parcoords\": [{\"line\": {\"colorbar\": {\"outlinewidth\": 0, \"ticks\": \"\"}}, \"type\": \"parcoords\"}], \"pie\": [{\"automargin\": true, \"type\": \"pie\"}], \"scatter\": [{\"marker\": {\"colorbar\": {\"outlinewidth\": 0, \"ticks\": \"\"}}, \"type\": \"scatter\"}], \"scatter3d\": [{\"line\": {\"colorbar\": {\"outlinewidth\": 0, \"ticks\": \"\"}}, \"marker\": {\"colorbar\": {\"outlinewidth\": 0, \"ticks\": \"\"}}, \"type\": \"scatter3d\"}], \"scattercarpet\": [{\"marker\": {\"colorbar\": {\"outlinewidth\": 0, \"ticks\": \"\"}}, \"type\": \"scattercarpet\"}], \"scattergeo\": [{\"marker\": {\"colorbar\": {\"outlinewidth\": 0, \"ticks\": \"\"}}, \"type\": \"scattergeo\"}], \"scattergl\": [{\"marker\": {\"colorbar\": {\"outlinewidth\": 0, \"ticks\": \"\"}}, \"type\": \"scattergl\"}], \"scattermapbox\": [{\"marker\": {\"colorbar\": {\"outlinewidth\": 0, \"ticks\": \"\"}}, \"type\": \"scattermapbox\"}], \"scatterpolar\": [{\"marker\": {\"colorbar\": {\"outlinewidth\": 0, \"ticks\": \"\"}}, \"type\": \"scatterpolar\"}], \"scatterpolargl\": [{\"marker\": {\"colorbar\": {\"outlinewidth\": 0, \"ticks\": \"\"}}, \"type\": \"scatterpolargl\"}], \"scatterternary\": [{\"marker\": {\"colorbar\": {\"outlinewidth\": 0, \"ticks\": \"\"}}, \"type\": \"scatterternary\"}], \"surface\": [{\"colorbar\": {\"outlinewidth\": 0, \"ticks\": \"\"}, \"colorscale\": [[0.0, \"#0d0887\"], [0.1111111111111111, \"#46039f\"], [0.2222222222222222, \"#7201a8\"], [0.3333333333333333, \"#9c179e\"], [0.4444444444444444, \"#bd3786\"], [0.5555555555555556, \"#d8576b\"], [0.6666666666666666, \"#ed7953\"], [0.7777777777777778, \"#fb9f3a\"], [0.8888888888888888, \"#fdca26\"], [1.0, \"#f0f921\"]], \"type\": \"surface\"}], \"table\": [{\"cells\": {\"fill\": {\"color\": \"#EBF0F8\"}, \"line\": {\"color\": \"white\"}}, \"header\": {\"fill\": {\"color\": \"#C8D4E3\"}, \"line\": {\"color\": \"white\"}}, \"type\": \"table\"}]}, \"layout\": {\"annotationdefaults\": {\"arrowcolor\": \"#2a3f5f\", \"arrowhead\": 0, \"arrowwidth\": 1}, \"coloraxis\": {\"colorbar\": {\"outlinewidth\": 0, \"ticks\": \"\"}}, \"colorscale\": {\"diverging\": [[0, \"#8e0152\"], [0.1, \"#c51b7d\"], [0.2, \"#de77ae\"], [0.3, \"#f1b6da\"], [0.4, \"#fde0ef\"], [0.5, \"#f7f7f7\"], [0.6, \"#e6f5d0\"], [0.7, \"#b8e186\"], [0.8, \"#7fbc41\"], [0.9, \"#4d9221\"], [1, \"#276419\"]], \"sequential\": [[0.0, \"#0d0887\"], [0.1111111111111111, \"#46039f\"], [0.2222222222222222, \"#7201a8\"], [0.3333333333333333, \"#9c179e\"], [0.4444444444444444, \"#bd3786\"], [0.5555555555555556, \"#d8576b\"], [0.6666666666666666, \"#ed7953\"], [0.7777777777777778, \"#fb9f3a\"], [0.8888888888888888, \"#fdca26\"], [1.0, \"#f0f921\"]], \"sequentialminus\": [[0.0, \"#0d0887\"], [0.1111111111111111, \"#46039f\"], [0.2222222222222222, \"#7201a8\"], [0.3333333333333333, \"#9c179e\"], [0.4444444444444444, \"#bd3786\"], [0.5555555555555556, \"#d8576b\"], [0.6666666666666666, \"#ed7953\"], [0.7777777777777778, \"#fb9f3a\"], [0.8888888888888888, \"#fdca26\"], [1.0, \"#f0f921\"]]}, \"colorway\": [\"#636efa\", \"#EF553B\", \"#00cc96\", \"#ab63fa\", \"#FFA15A\", \"#19d3f3\", \"#FF6692\", \"#B6E880\", \"#FF97FF\", \"#FECB52\"], \"font\": {\"color\": \"#2a3f5f\"}, \"geo\": {\"bgcolor\": \"white\", \"lakecolor\": \"white\", \"landcolor\": \"#E5ECF6\", \"showlakes\": true, \"showland\": true, \"subunitcolor\": \"white\"}, \"hoverlabel\": {\"align\": \"left\"}, \"hovermode\": \"closest\", \"mapbox\": {\"style\": \"light\"}, \"paper_bgcolor\": \"white\", \"plot_bgcolor\": \"#E5ECF6\", \"polar\": {\"angularaxis\": {\"gridcolor\": \"white\", \"linecolor\": \"white\", \"ticks\": \"\"}, \"bgcolor\": \"#E5ECF6\", \"radialaxis\": {\"gridcolor\": \"white\", \"linecolor\": \"white\", \"ticks\": \"\"}}, \"scene\": {\"xaxis\": {\"backgroundcolor\": \"#E5ECF6\", \"gridcolor\": \"white\", \"gridwidth\": 2, \"linecolor\": \"white\", \"showbackground\": true, \"ticks\": \"\", \"zerolinecolor\": \"white\"}, \"yaxis\": {\"backgroundcolor\": \"#E5ECF6\", \"gridcolor\": \"white\", \"gridwidth\": 2, \"linecolor\": \"white\", \"showbackground\": true, \"ticks\": \"\", \"zerolinecolor\": \"white\"}, \"zaxis\": {\"backgroundcolor\": \"#E5ECF6\", \"gridcolor\": \"white\", \"gridwidth\": 2, \"linecolor\": \"white\", \"showbackground\": true, \"ticks\": \"\", \"zerolinecolor\": \"white\"}}, \"shapedefaults\": {\"line\": {\"color\": \"#2a3f5f\"}}, \"ternary\": {\"aaxis\": {\"gridcolor\": \"white\", \"linecolor\": \"white\", \"ticks\": \"\"}, \"baxis\": {\"gridcolor\": \"white\", \"linecolor\": \"white\", \"ticks\": \"\"}, \"bgcolor\": \"#E5ECF6\", \"caxis\": {\"gridcolor\": \"white\", \"linecolor\": \"white\", \"ticks\": \"\"}}, \"title\": {\"x\": 0.05}, \"xaxis\": {\"automargin\": true, \"gridcolor\": \"white\", \"linecolor\": \"white\", \"ticks\": \"\", \"title\": {\"standoff\": 15}, \"zerolinecolor\": \"white\", \"zerolinewidth\": 2}, \"yaxis\": {\"automargin\": true, \"gridcolor\": \"white\", \"linecolor\": \"white\", \"ticks\": \"\", \"title\": {\"standoff\": 15}, \"zerolinecolor\": \"white\", \"zerolinewidth\": 2}}}, \"title\": {\"text\": \"Rapgef2: Poly-A Oligo-dt primed, B Wold, ENCODE\"}, \"width\": 1000, \"xaxis\": {\"anchor\": \"y\", \"categoryorder\": \"total descending\", \"domain\": [0.0, 0.49], \"title\": {\"text\": \"Cell Type\"}}, \"xaxis2\": {\"anchor\": \"y2\", \"domain\": [0.51, 1.0], \"matches\": \"x\", \"title\": {\"text\": \"Tissue\"}}, \"yaxis\": {\"anchor\": \"x\", \"domain\": [0.0, 1.0], \"title\": {\"text\": \"Expression\"}}, \"yaxis2\": {\"anchor\": \"x2\", \"domain\": [0.0, 1.0], \"matches\": \"y\", \"showticklabels\": false, \"title\": {\"text\": \"\"}}},\n",
       "                        {\"responsive\": true}\n",
       "                    ).then(function(){\n",
       "                            \n",
       "var gd = document.getElementById('ca5004a2-a702-42f3-9761-08115663bf32');\n",
       "var x = new MutationObserver(function (mutations, observer) {{\n",
       "        var display = window.getComputedStyle(gd).display;\n",
       "        if (!display || display === 'none') {{\n",
       "            console.log([gd, 'removed!']);\n",
       "            Plotly.purge(gd);\n",
       "            observer.disconnect();\n",
       "        }}\n",
       "}});\n",
       "\n",
       "// Listen for the removal of the full notebook cells\n",
       "var notebookContainer = gd.closest('#notebook-container');\n",
       "if (notebookContainer) {{\n",
       "    x.observe(notebookContainer, {childList: true});\n",
       "}}\n",
       "\n",
       "// Listen for the clearing of the current output cell\n",
       "var outputEl = gd.closest('.output');\n",
       "if (outputEl) {{\n",
       "    x.observe(outputEl, {childList: true});\n",
       "}}\n",
       "\n",
       "                        })\n",
       "                };\n",
       "                });\n",
       "            </script>\n",
       "        </div>"
      ]
     },
     "metadata": {},
     "output_type": "display_data"
    },
    {
     "data": {
      "application/vnd.plotly.v1+json": {
       "config": {
        "plotlyServerURL": "https://plot.ly"
       },
       "data": [
        {
         "cells": {
          "align": "left",
          "fill": {
           "color": "lavender"
          },
          "values": [
           [
            "10.5",
            "10.5",
            "10.5",
            "10.5",
            "10.5",
            "10.5",
            "10.5",
            "10.5",
            "10.5",
            "10.5",
            "10.5",
            "10.5",
            "10.5",
            "10.5",
            "10.5",
            "10.5",
            "11.5",
            "11.5",
            "11.5",
            "11.5",
            "11.5",
            "11.5",
            "11.5",
            "11.5",
            "11.5",
            "11.5",
            "11.5",
            "11.5",
            "11.5",
            "11.5",
            "11.5",
            "11.5",
            "11.5",
            "11.5",
            "11.5",
            "11.5",
            "11.5",
            "11.5",
            "11.5",
            "11.5",
            "12.5",
            "12.5",
            "12.5",
            "12.5",
            "12.5",
            "12.5",
            "12.5",
            "12.5",
            "12.5",
            "12.5",
            "12.5",
            "12.5",
            "12.5",
            "12.5",
            "12.5",
            "12.5",
            "12.5",
            "12.5",
            "12.5",
            "12.5",
            "12.5",
            "12.5",
            "12.5",
            "12.5",
            "13.5",
            "13.5",
            "13.5",
            "13.5",
            "13.5",
            "13.5",
            "13.5",
            "13.5",
            "13.5",
            "13.5",
            "13.5",
            "13.5",
            "13.5",
            "13.5",
            "13.5",
            "13.5",
            "13.5",
            "13.5",
            "13.5",
            "13.5",
            "13.5",
            "13.5",
            "13.5",
            "13.5",
            "14.5",
            "14.5",
            "14.5",
            "14.5",
            "14.5",
            "14.5",
            "14.5",
            "14.5",
            "14.5",
            "14.5",
            "14.5",
            "14.5",
            "14.5",
            "14.5",
            "14.5",
            "14.5",
            "14.5",
            "14.5",
            "14.5",
            "14.5",
            "14.5",
            "14.5",
            "14.5",
            "14.5",
            "15.5",
            "15.5",
            "15.5",
            "15.5",
            "15.5",
            "15.5",
            "15.5",
            "15.5",
            "15.5",
            "15.5",
            "15.5",
            "15.5",
            "15.5",
            "15.5",
            "15.5",
            "15.5",
            "15.5",
            "15.5",
            "15.5",
            "15.5",
            "15.5",
            "15.5",
            "15.5",
            "15.5",
            "16.5",
            "16.5",
            "16.5",
            "16.5",
            "16.5",
            "16.5",
            "16.5",
            "16.5",
            "16.5",
            "16.5",
            "16.5",
            "16.5",
            "16.5",
            "16.5",
            "16.5",
            "16.5",
            "16.5",
            "16.5",
            "16.5",
            "16.5",
            "p0",
            "p0",
            "p0",
            "p0",
            "p0",
            "p0",
            "p0",
            "p0",
            "p0",
            "p0",
            "p0",
            "p0",
            "p0",
            "p0",
            "p0",
            "p0",
            "p0",
            "p0",
            "p0",
            "p0",
            "p0",
            "p0",
            "p0",
            "p0"
           ],
           [
            "midbrain",
            "forebrain",
            "hindbrain",
            "forebrain",
            "midbrain",
            "midbrain",
            "forebrain",
            "midbrain",
            "midbrain",
            "midbrain",
            "midbrain",
            "hindbrain",
            "hindbrain",
            "hindbrain",
            "midbrain",
            "forebrain",
            "midbrain",
            "heart",
            "neural tube",
            "neural tube",
            "midbrain",
            "forebrain",
            "neural tube",
            "hindbrain",
            "midbrain",
            "neural tube",
            "forebrain",
            "midbrain",
            "hindbrain",
            "liver",
            "hindbrain",
            "liver",
            "heart",
            "heart",
            "liver",
            "liver",
            "forebrain",
            "heart",
            "hindbrain",
            "forebrain",
            "heart",
            "hindbrain",
            "liver",
            "midbrain",
            "hindbrain",
            "liver",
            "midbrain",
            "forebrain",
            "forebrain",
            "neural tube",
            "neural tube",
            "liver",
            "hindbrain",
            "heart",
            "heart",
            "neural tube",
            "liver",
            "heart",
            "forebrain",
            "neural tube",
            "midbrain",
            "forebrain",
            "hindbrain",
            "midbrain",
            "heart",
            "liver",
            "hindbrain",
            "heart",
            "liver",
            "heart",
            "forebrain",
            "neural tube",
            "forebrain",
            "midbrain",
            "liver",
            "hindbrain",
            "neural tube",
            "midbrain",
            "midbrain",
            "forebrain",
            "midbrain",
            "hindbrain",
            "neural tube",
            "liver",
            "neural tube",
            "heart",
            "forebrain",
            "hindbrain",
            "liver",
            "neural tube",
            "hindbrain",
            "forebrain",
            "heart",
            "liver",
            "midbrain",
            "hindbrain",
            "heart",
            "midbrain",
            "neural tube",
            "neural tube",
            "forebrain",
            "neural tube",
            "hindbrain",
            "liver",
            "midbrain",
            "forebrain",
            "heart",
            "forebrain",
            "midbrain",
            "hindbrain",
            "heart",
            "liver",
            "midbrain",
            "forebrain",
            "heart",
            "liver",
            "midbrain",
            "hindbrain",
            "heart",
            "liver",
            "neural tube",
            "forebrain",
            "midbrain",
            "liver",
            "forebrain",
            "midbrain",
            "hindbrain",
            "liver",
            "neural tube",
            "heart",
            "neural tube",
            "forebrain",
            "neural tube",
            "hindbrain",
            "heart",
            "hindbrain",
            "heart",
            "heart",
            "hindbrain",
            "liver",
            "heart",
            "midbrain",
            "liver",
            "liver",
            "midbrain",
            "midbrain",
            "forebrain",
            "hindbrain",
            "heart",
            "forebrain",
            "forebrain",
            "liver",
            "midbrain",
            "hindbrain",
            "forebrain",
            "hindbrain",
            "forebrain",
            "forebrain",
            "liver",
            "neural tube",
            "midbrain",
            "hindbrain",
            "neural tube",
            "neural tube",
            "heart",
            "heart",
            "hindbrain",
            "midbrain",
            "midbrain",
            "hindbrain",
            "liver",
            "liver",
            "heart",
            "forebrain",
            "neural tube",
            "midbrain",
            "liver",
            "heart",
            "hindbrain",
            "forebrain"
           ],
           [
            "FPKM",
            "FPKM",
            "FPKM",
            "FPKM",
            "TPM",
            "FPKM",
            "TPM",
            "TPM",
            "TPM",
            "TPM",
            "FPKM",
            "TPM",
            "TPM",
            "FPKM",
            "FPKM",
            "TPM",
            "TPM",
            "FPKM",
            "FPKM",
            "TPM",
            "FPKM",
            "TPM",
            "FPKM",
            "FPKM",
            "TPM",
            "TPM",
            "FPKM",
            "FPKM",
            "TPM",
            "FPKM",
            "FPKM",
            "TPM",
            "TPM",
            "FPKM",
            "FPKM",
            "TPM",
            "FPKM",
            "TPM",
            "TPM",
            "TPM",
            "TPM",
            "TPM",
            "TPM",
            "FPKM",
            "FPKM",
            "TPM",
            "FPKM",
            "FPKM",
            "FPKM",
            "FPKM",
            "FPKM",
            "FPKM",
            "FPKM",
            "FPKM",
            "FPKM",
            "TPM",
            "FPKM",
            "TPM",
            "TPM",
            "TPM",
            "TPM",
            "TPM",
            "TPM",
            "TPM",
            "FPKM",
            "FPKM",
            "FPKM",
            "TPM",
            "TPM",
            "TPM",
            "FPKM",
            "FPKM",
            "TPM",
            "TPM",
            "FPKM",
            "FPKM",
            "FPKM",
            "FPKM",
            "FPKM",
            "FPKM",
            "TPM",
            "TPM",
            "TPM",
            "TPM",
            "TPM",
            "FPKM",
            "TPM",
            "TPM",
            "TPM",
            "FPKM",
            "TPM",
            "TPM",
            "TPM",
            "FPKM",
            "FPKM",
            "FPKM",
            "TPM",
            "FPKM",
            "FPKM",
            "TPM",
            "TPM",
            "TPM",
            "FPKM",
            "FPKM",
            "TPM",
            "FPKM",
            "FPKM",
            "FPKM",
            "TPM",
            "TPM",
            "FPKM",
            "TPM",
            "FPKM",
            "FPKM",
            "TPM",
            "FPKM",
            "FPKM",
            "FPKM",
            "FPKM",
            "FPKM",
            "FPKM",
            "TPM",
            "TPM",
            "TPM",
            "TPM",
            "TPM",
            "TPM",
            "TPM",
            "FPKM",
            "TPM",
            "TPM",
            "FPKM",
            "TPM",
            "FPKM",
            "FPKM",
            "TPM",
            "FPKM",
            "FPKM",
            "TPM",
            "FPKM",
            "TPM",
            "FPKM",
            "TPM",
            "TPM",
            "TPM",
            "FPKM",
            "FPKM",
            "TPM",
            "TPM",
            "TPM",
            "FPKM",
            "FPKM",
            "TPM",
            "FPKM",
            "TPM",
            "FPKM",
            "FPKM",
            "FPKM",
            "FPKM",
            "FPKM",
            "TPM",
            "FPKM",
            "FPKM",
            "TPM",
            "FPKM",
            "TPM",
            "FPKM",
            "FPKM",
            "FPKM",
            "TPM",
            "TPM",
            "TPM",
            "TPM",
            "TPM",
            "TPM",
            "TPM",
            "FPKM",
            "FPKM",
            "TPM",
            "TPM"
           ],
           [
            2.13,
            2.8,
            2.77,
            2.42,
            4.19,
            2.69,
            4.4,
            3.7,
            4.03,
            3.3,
            2.49,
            4.16,
            4.01,
            2.58,
            2.61,
            3.76,
            4.78,
            3.19,
            3.67,
            5.69,
            2.59,
            6.73,
            3.58,
            3.83,
            4.04,
            5.96,
            4.19,
            3.11,
            5.59,
            1.77,
            3.27,
            2.35,
            4.03,
            2.94,
            1.56,
            2.18,
            4.56,
            4.21,
            5.05,
            7.32,
            6.89,
            10.01,
            1.95,
            5.51,
            5.9,
            1.82,
            4.82,
            5.02,
            4.55,
            4.34,
            4.4,
            1.53,
            5.89,
            4.62,
            5.11,
            7.36,
            1.63,
            7.52,
            7.49,
            7.11,
            9.15,
            8.4,
            9.85,
            8.04,
            2.54,
            0.77,
            4.85,
            3.81,
            0.81,
            3.18,
            3.96,
            4.39,
            6.3,
            6.38,
            0.91,
            4.22,
            3.46,
            4.43,
            3.98,
            4.15,
            6.94,
            7.71,
            5.22,
            1.02,
            6.83,
            2.89,
            6.3,
            6.75,
            1.4,
            6.08,
            13.03,
            8.07,
            5.71,
            0.99,
            6.94,
            6.74,
            6.21,
            7.54,
            7.01,
            11.54,
            8.98,
            10.57,
            7.6,
            1.41,
            11.91,
            5.23,
            4.15,
            5.41,
            11.86,
            11.01,
            4.56,
            0.95,
            6.98,
            5.93,
            4.72,
            1.31,
            7.27,
            6.53,
            3.65,
            0.86,
            5.73,
            9.43,
            12.13,
            1.41,
            9.81,
            11.7,
            10.89,
            0.9,
            5.6,
            4.71,
            8.94,
            5.78,
            9.16,
            6.67,
            3.45,
            10.4,
            3.27,
            2.87,
            9.18,
            0.85,
            3.91,
            7.6,
            0.9,
            1.24,
            13.08,
            7.66,
            5.28,
            10.45,
            4.55,
            11.11,
            6.52,
            1.15,
            13,
            6.18,
            9.19,
            5.62,
            4.8,
            3.12,
            1.31,
            5.94,
            8.19,
            4.76,
            5.1,
            9.28,
            2.21,
            2.68,
            4.47,
            5.07,
            5.2,
            7.41,
            1.55,
            1.53,
            2.53,
            7.73,
            7.68,
            8.31,
            1.32,
            2.14,
            6.88,
            4.49
           ]
          ]
         },
         "header": {
          "align": "left",
          "fill": {
           "color": "paleturquoise"
          },
          "values": [
           "Age",
           "Tissue",
           "variable",
           "value"
          ]
         },
         "type": "table"
        }
       ],
       "layout": {
        "template": {
         "data": {
          "bar": [
           {
            "error_x": {
             "color": "#2a3f5f"
            },
            "error_y": {
             "color": "#2a3f5f"
            },
            "marker": {
             "line": {
              "color": "#E5ECF6",
              "width": 0.5
             }
            },
            "type": "bar"
           }
          ],
          "barpolar": [
           {
            "marker": {
             "line": {
              "color": "#E5ECF6",
              "width": 0.5
             }
            },
            "type": "barpolar"
           }
          ],
          "carpet": [
           {
            "aaxis": {
             "endlinecolor": "#2a3f5f",
             "gridcolor": "white",
             "linecolor": "white",
             "minorgridcolor": "white",
             "startlinecolor": "#2a3f5f"
            },
            "baxis": {
             "endlinecolor": "#2a3f5f",
             "gridcolor": "white",
             "linecolor": "white",
             "minorgridcolor": "white",
             "startlinecolor": "#2a3f5f"
            },
            "type": "carpet"
           }
          ],
          "choropleth": [
           {
            "colorbar": {
             "outlinewidth": 0,
             "ticks": ""
            },
            "type": "choropleth"
           }
          ],
          "contour": [
           {
            "colorbar": {
             "outlinewidth": 0,
             "ticks": ""
            },
            "colorscale": [
             [
              0,
              "#0d0887"
             ],
             [
              0.1111111111111111,
              "#46039f"
             ],
             [
              0.2222222222222222,
              "#7201a8"
             ],
             [
              0.3333333333333333,
              "#9c179e"
             ],
             [
              0.4444444444444444,
              "#bd3786"
             ],
             [
              0.5555555555555556,
              "#d8576b"
             ],
             [
              0.6666666666666666,
              "#ed7953"
             ],
             [
              0.7777777777777778,
              "#fb9f3a"
             ],
             [
              0.8888888888888888,
              "#fdca26"
             ],
             [
              1,
              "#f0f921"
             ]
            ],
            "type": "contour"
           }
          ],
          "contourcarpet": [
           {
            "colorbar": {
             "outlinewidth": 0,
             "ticks": ""
            },
            "type": "contourcarpet"
           }
          ],
          "heatmap": [
           {
            "colorbar": {
             "outlinewidth": 0,
             "ticks": ""
            },
            "colorscale": [
             [
              0,
              "#0d0887"
             ],
             [
              0.1111111111111111,
              "#46039f"
             ],
             [
              0.2222222222222222,
              "#7201a8"
             ],
             [
              0.3333333333333333,
              "#9c179e"
             ],
             [
              0.4444444444444444,
              "#bd3786"
             ],
             [
              0.5555555555555556,
              "#d8576b"
             ],
             [
              0.6666666666666666,
              "#ed7953"
             ],
             [
              0.7777777777777778,
              "#fb9f3a"
             ],
             [
              0.8888888888888888,
              "#fdca26"
             ],
             [
              1,
              "#f0f921"
             ]
            ],
            "type": "heatmap"
           }
          ],
          "heatmapgl": [
           {
            "colorbar": {
             "outlinewidth": 0,
             "ticks": ""
            },
            "colorscale": [
             [
              0,
              "#0d0887"
             ],
             [
              0.1111111111111111,
              "#46039f"
             ],
             [
              0.2222222222222222,
              "#7201a8"
             ],
             [
              0.3333333333333333,
              "#9c179e"
             ],
             [
              0.4444444444444444,
              "#bd3786"
             ],
             [
              0.5555555555555556,
              "#d8576b"
             ],
             [
              0.6666666666666666,
              "#ed7953"
             ],
             [
              0.7777777777777778,
              "#fb9f3a"
             ],
             [
              0.8888888888888888,
              "#fdca26"
             ],
             [
              1,
              "#f0f921"
             ]
            ],
            "type": "heatmapgl"
           }
          ],
          "histogram": [
           {
            "marker": {
             "colorbar": {
              "outlinewidth": 0,
              "ticks": ""
             }
            },
            "type": "histogram"
           }
          ],
          "histogram2d": [
           {
            "colorbar": {
             "outlinewidth": 0,
             "ticks": ""
            },
            "colorscale": [
             [
              0,
              "#0d0887"
             ],
             [
              0.1111111111111111,
              "#46039f"
             ],
             [
              0.2222222222222222,
              "#7201a8"
             ],
             [
              0.3333333333333333,
              "#9c179e"
             ],
             [
              0.4444444444444444,
              "#bd3786"
             ],
             [
              0.5555555555555556,
              "#d8576b"
             ],
             [
              0.6666666666666666,
              "#ed7953"
             ],
             [
              0.7777777777777778,
              "#fb9f3a"
             ],
             [
              0.8888888888888888,
              "#fdca26"
             ],
             [
              1,
              "#f0f921"
             ]
            ],
            "type": "histogram2d"
           }
          ],
          "histogram2dcontour": [
           {
            "colorbar": {
             "outlinewidth": 0,
             "ticks": ""
            },
            "colorscale": [
             [
              0,
              "#0d0887"
             ],
             [
              0.1111111111111111,
              "#46039f"
             ],
             [
              0.2222222222222222,
              "#7201a8"
             ],
             [
              0.3333333333333333,
              "#9c179e"
             ],
             [
              0.4444444444444444,
              "#bd3786"
             ],
             [
              0.5555555555555556,
              "#d8576b"
             ],
             [
              0.6666666666666666,
              "#ed7953"
             ],
             [
              0.7777777777777778,
              "#fb9f3a"
             ],
             [
              0.8888888888888888,
              "#fdca26"
             ],
             [
              1,
              "#f0f921"
             ]
            ],
            "type": "histogram2dcontour"
           }
          ],
          "mesh3d": [
           {
            "colorbar": {
             "outlinewidth": 0,
             "ticks": ""
            },
            "type": "mesh3d"
           }
          ],
          "parcoords": [
           {
            "line": {
             "colorbar": {
              "outlinewidth": 0,
              "ticks": ""
             }
            },
            "type": "parcoords"
           }
          ],
          "pie": [
           {
            "automargin": true,
            "type": "pie"
           }
          ],
          "scatter": [
           {
            "marker": {
             "colorbar": {
              "outlinewidth": 0,
              "ticks": ""
             }
            },
            "type": "scatter"
           }
          ],
          "scatter3d": [
           {
            "line": {
             "colorbar": {
              "outlinewidth": 0,
              "ticks": ""
             }
            },
            "marker": {
             "colorbar": {
              "outlinewidth": 0,
              "ticks": ""
             }
            },
            "type": "scatter3d"
           }
          ],
          "scattercarpet": [
           {
            "marker": {
             "colorbar": {
              "outlinewidth": 0,
              "ticks": ""
             }
            },
            "type": "scattercarpet"
           }
          ],
          "scattergeo": [
           {
            "marker": {
             "colorbar": {
              "outlinewidth": 0,
              "ticks": ""
             }
            },
            "type": "scattergeo"
           }
          ],
          "scattergl": [
           {
            "marker": {
             "colorbar": {
              "outlinewidth": 0,
              "ticks": ""
             }
            },
            "type": "scattergl"
           }
          ],
          "scattermapbox": [
           {
            "marker": {
             "colorbar": {
              "outlinewidth": 0,
              "ticks": ""
             }
            },
            "type": "scattermapbox"
           }
          ],
          "scatterpolar": [
           {
            "marker": {
             "colorbar": {
              "outlinewidth": 0,
              "ticks": ""
             }
            },
            "type": "scatterpolar"
           }
          ],
          "scatterpolargl": [
           {
            "marker": {
             "colorbar": {
              "outlinewidth": 0,
              "ticks": ""
             }
            },
            "type": "scatterpolargl"
           }
          ],
          "scatterternary": [
           {
            "marker": {
             "colorbar": {
              "outlinewidth": 0,
              "ticks": ""
             }
            },
            "type": "scatterternary"
           }
          ],
          "surface": [
           {
            "colorbar": {
             "outlinewidth": 0,
             "ticks": ""
            },
            "colorscale": [
             [
              0,
              "#0d0887"
             ],
             [
              0.1111111111111111,
              "#46039f"
             ],
             [
              0.2222222222222222,
              "#7201a8"
             ],
             [
              0.3333333333333333,
              "#9c179e"
             ],
             [
              0.4444444444444444,
              "#bd3786"
             ],
             [
              0.5555555555555556,
              "#d8576b"
             ],
             [
              0.6666666666666666,
              "#ed7953"
             ],
             [
              0.7777777777777778,
              "#fb9f3a"
             ],
             [
              0.8888888888888888,
              "#fdca26"
             ],
             [
              1,
              "#f0f921"
             ]
            ],
            "type": "surface"
           }
          ],
          "table": [
           {
            "cells": {
             "fill": {
              "color": "#EBF0F8"
             },
             "line": {
              "color": "white"
             }
            },
            "header": {
             "fill": {
              "color": "#C8D4E3"
             },
             "line": {
              "color": "white"
             }
            },
            "type": "table"
           }
          ]
         },
         "layout": {
          "annotationdefaults": {
           "arrowcolor": "#2a3f5f",
           "arrowhead": 0,
           "arrowwidth": 1
          },
          "coloraxis": {
           "colorbar": {
            "outlinewidth": 0,
            "ticks": ""
           }
          },
          "colorscale": {
           "diverging": [
            [
             0,
             "#8e0152"
            ],
            [
             0.1,
             "#c51b7d"
            ],
            [
             0.2,
             "#de77ae"
            ],
            [
             0.3,
             "#f1b6da"
            ],
            [
             0.4,
             "#fde0ef"
            ],
            [
             0.5,
             "#f7f7f7"
            ],
            [
             0.6,
             "#e6f5d0"
            ],
            [
             0.7,
             "#b8e186"
            ],
            [
             0.8,
             "#7fbc41"
            ],
            [
             0.9,
             "#4d9221"
            ],
            [
             1,
             "#276419"
            ]
           ],
           "sequential": [
            [
             0,
             "#0d0887"
            ],
            [
             0.1111111111111111,
             "#46039f"
            ],
            [
             0.2222222222222222,
             "#7201a8"
            ],
            [
             0.3333333333333333,
             "#9c179e"
            ],
            [
             0.4444444444444444,
             "#bd3786"
            ],
            [
             0.5555555555555556,
             "#d8576b"
            ],
            [
             0.6666666666666666,
             "#ed7953"
            ],
            [
             0.7777777777777778,
             "#fb9f3a"
            ],
            [
             0.8888888888888888,
             "#fdca26"
            ],
            [
             1,
             "#f0f921"
            ]
           ],
           "sequentialminus": [
            [
             0,
             "#0d0887"
            ],
            [
             0.1111111111111111,
             "#46039f"
            ],
            [
             0.2222222222222222,
             "#7201a8"
            ],
            [
             0.3333333333333333,
             "#9c179e"
            ],
            [
             0.4444444444444444,
             "#bd3786"
            ],
            [
             0.5555555555555556,
             "#d8576b"
            ],
            [
             0.6666666666666666,
             "#ed7953"
            ],
            [
             0.7777777777777778,
             "#fb9f3a"
            ],
            [
             0.8888888888888888,
             "#fdca26"
            ],
            [
             1,
             "#f0f921"
            ]
           ]
          },
          "colorway": [
           "#636efa",
           "#EF553B",
           "#00cc96",
           "#ab63fa",
           "#FFA15A",
           "#19d3f3",
           "#FF6692",
           "#B6E880",
           "#FF97FF",
           "#FECB52"
          ],
          "font": {
           "color": "#2a3f5f"
          },
          "geo": {
           "bgcolor": "white",
           "lakecolor": "white",
           "landcolor": "#E5ECF6",
           "showlakes": true,
           "showland": true,
           "subunitcolor": "white"
          },
          "hoverlabel": {
           "align": "left"
          },
          "hovermode": "closest",
          "mapbox": {
           "style": "light"
          },
          "paper_bgcolor": "white",
          "plot_bgcolor": "#E5ECF6",
          "polar": {
           "angularaxis": {
            "gridcolor": "white",
            "linecolor": "white",
            "ticks": ""
           },
           "bgcolor": "#E5ECF6",
           "radialaxis": {
            "gridcolor": "white",
            "linecolor": "white",
            "ticks": ""
           }
          },
          "scene": {
           "xaxis": {
            "backgroundcolor": "#E5ECF6",
            "gridcolor": "white",
            "gridwidth": 2,
            "linecolor": "white",
            "showbackground": true,
            "ticks": "",
            "zerolinecolor": "white"
           },
           "yaxis": {
            "backgroundcolor": "#E5ECF6",
            "gridcolor": "white",
            "gridwidth": 2,
            "linecolor": "white",
            "showbackground": true,
            "ticks": "",
            "zerolinecolor": "white"
           },
           "zaxis": {
            "backgroundcolor": "#E5ECF6",
            "gridcolor": "white",
            "gridwidth": 2,
            "linecolor": "white",
            "showbackground": true,
            "ticks": "",
            "zerolinecolor": "white"
           }
          },
          "shapedefaults": {
           "line": {
            "color": "#2a3f5f"
           }
          },
          "ternary": {
           "aaxis": {
            "gridcolor": "white",
            "linecolor": "white",
            "ticks": ""
           },
           "baxis": {
            "gridcolor": "white",
            "linecolor": "white",
            "ticks": ""
           },
           "bgcolor": "#E5ECF6",
           "caxis": {
            "gridcolor": "white",
            "linecolor": "white",
            "ticks": ""
           }
          },
          "title": {
           "x": 0.05
          },
          "xaxis": {
           "automargin": true,
           "gridcolor": "white",
           "linecolor": "white",
           "ticks": "",
           "title": {
            "standoff": 15
           },
           "zerolinecolor": "white",
           "zerolinewidth": 2
          },
          "yaxis": {
           "automargin": true,
           "gridcolor": "white",
           "linecolor": "white",
           "ticks": "",
           "title": {
            "standoff": 15
           },
           "zerolinecolor": "white",
           "zerolinewidth": 2
          }
         }
        },
        "title": {
         "text": "Rapgef2: Poly-A Oligo-dt primed, B Wold, ENCODE"
        }
       }
      },
      "text/html": [
       "<div>\n",
       "        \n",
       "        \n",
       "            <div id=\"31c34968-a492-47fa-8487-1731eca121c1\" class=\"plotly-graph-div\" style=\"height:525px; width:100%;\"></div>\n",
       "            <script type=\"text/javascript\">\n",
       "                require([\"plotly\"], function(Plotly) {\n",
       "                    window.PLOTLYENV=window.PLOTLYENV || {};\n",
       "                    \n",
       "                if (document.getElementById(\"31c34968-a492-47fa-8487-1731eca121c1\")) {\n",
       "                    Plotly.newPlot(\n",
       "                        '31c34968-a492-47fa-8487-1731eca121c1',\n",
       "                        [{\"cells\": {\"align\": \"left\", \"fill\": {\"color\": \"lavender\"}, \"values\": [[\"10.5\", \"10.5\", \"10.5\", \"10.5\", \"10.5\", \"10.5\", \"10.5\", \"10.5\", \"10.5\", \"10.5\", \"10.5\", \"10.5\", \"10.5\", \"10.5\", \"10.5\", \"10.5\", \"11.5\", \"11.5\", \"11.5\", \"11.5\", \"11.5\", \"11.5\", \"11.5\", \"11.5\", \"11.5\", \"11.5\", \"11.5\", \"11.5\", \"11.5\", \"11.5\", \"11.5\", \"11.5\", \"11.5\", \"11.5\", \"11.5\", \"11.5\", \"11.5\", \"11.5\", \"11.5\", \"11.5\", \"12.5\", \"12.5\", \"12.5\", \"12.5\", \"12.5\", \"12.5\", \"12.5\", \"12.5\", \"12.5\", \"12.5\", \"12.5\", \"12.5\", \"12.5\", \"12.5\", \"12.5\", \"12.5\", \"12.5\", \"12.5\", \"12.5\", \"12.5\", \"12.5\", \"12.5\", \"12.5\", \"12.5\", \"13.5\", \"13.5\", \"13.5\", \"13.5\", \"13.5\", \"13.5\", \"13.5\", \"13.5\", \"13.5\", \"13.5\", \"13.5\", \"13.5\", \"13.5\", \"13.5\", \"13.5\", \"13.5\", \"13.5\", \"13.5\", \"13.5\", \"13.5\", \"13.5\", \"13.5\", \"13.5\", \"13.5\", \"14.5\", \"14.5\", \"14.5\", \"14.5\", \"14.5\", \"14.5\", \"14.5\", \"14.5\", \"14.5\", \"14.5\", \"14.5\", \"14.5\", \"14.5\", \"14.5\", \"14.5\", \"14.5\", \"14.5\", \"14.5\", \"14.5\", \"14.5\", \"14.5\", \"14.5\", \"14.5\", \"14.5\", \"15.5\", \"15.5\", \"15.5\", \"15.5\", \"15.5\", \"15.5\", \"15.5\", \"15.5\", \"15.5\", \"15.5\", \"15.5\", \"15.5\", \"15.5\", \"15.5\", \"15.5\", \"15.5\", \"15.5\", \"15.5\", \"15.5\", \"15.5\", \"15.5\", \"15.5\", \"15.5\", \"15.5\", \"16.5\", \"16.5\", \"16.5\", \"16.5\", \"16.5\", \"16.5\", \"16.5\", \"16.5\", \"16.5\", \"16.5\", \"16.5\", \"16.5\", \"16.5\", \"16.5\", \"16.5\", \"16.5\", \"16.5\", \"16.5\", \"16.5\", \"16.5\", \"p0\", \"p0\", \"p0\", \"p0\", \"p0\", \"p0\", \"p0\", \"p0\", \"p0\", \"p0\", \"p0\", \"p0\", \"p0\", \"p0\", \"p0\", \"p0\", \"p0\", \"p0\", \"p0\", \"p0\", \"p0\", \"p0\", \"p0\", \"p0\"], [\"midbrain\", \"forebrain\", \"hindbrain\", \"forebrain\", \"midbrain\", \"midbrain\", \"forebrain\", \"midbrain\", \"midbrain\", \"midbrain\", \"midbrain\", \"hindbrain\", \"hindbrain\", \"hindbrain\", \"midbrain\", \"forebrain\", \"midbrain\", \"heart\", \"neural tube\", \"neural tube\", \"midbrain\", \"forebrain\", \"neural tube\", \"hindbrain\", \"midbrain\", \"neural tube\", \"forebrain\", \"midbrain\", \"hindbrain\", \"liver\", \"hindbrain\", \"liver\", \"heart\", \"heart\", \"liver\", \"liver\", \"forebrain\", \"heart\", \"hindbrain\", \"forebrain\", \"heart\", \"hindbrain\", \"liver\", \"midbrain\", \"hindbrain\", \"liver\", \"midbrain\", \"forebrain\", \"forebrain\", \"neural tube\", \"neural tube\", \"liver\", \"hindbrain\", \"heart\", \"heart\", \"neural tube\", \"liver\", \"heart\", \"forebrain\", \"neural tube\", \"midbrain\", \"forebrain\", \"hindbrain\", \"midbrain\", \"heart\", \"liver\", \"hindbrain\", \"heart\", \"liver\", \"heart\", \"forebrain\", \"neural tube\", \"forebrain\", \"midbrain\", \"liver\", \"hindbrain\", \"neural tube\", \"midbrain\", \"midbrain\", \"forebrain\", \"midbrain\", \"hindbrain\", \"neural tube\", \"liver\", \"neural tube\", \"heart\", \"forebrain\", \"hindbrain\", \"liver\", \"neural tube\", \"hindbrain\", \"forebrain\", \"heart\", \"liver\", \"midbrain\", \"hindbrain\", \"heart\", \"midbrain\", \"neural tube\", \"neural tube\", \"forebrain\", \"neural tube\", \"hindbrain\", \"liver\", \"midbrain\", \"forebrain\", \"heart\", \"forebrain\", \"midbrain\", \"hindbrain\", \"heart\", \"liver\", \"midbrain\", \"forebrain\", \"heart\", \"liver\", \"midbrain\", \"hindbrain\", \"heart\", \"liver\", \"neural tube\", \"forebrain\", \"midbrain\", \"liver\", \"forebrain\", \"midbrain\", \"hindbrain\", \"liver\", \"neural tube\", \"heart\", \"neural tube\", \"forebrain\", \"neural tube\", \"hindbrain\", \"heart\", \"hindbrain\", \"heart\", \"heart\", \"hindbrain\", \"liver\", \"heart\", \"midbrain\", \"liver\", \"liver\", \"midbrain\", \"midbrain\", \"forebrain\", \"hindbrain\", \"heart\", \"forebrain\", \"forebrain\", \"liver\", \"midbrain\", \"hindbrain\", \"forebrain\", \"hindbrain\", \"forebrain\", \"forebrain\", \"liver\", \"neural tube\", \"midbrain\", \"hindbrain\", \"neural tube\", \"neural tube\", \"heart\", \"heart\", \"hindbrain\", \"midbrain\", \"midbrain\", \"hindbrain\", \"liver\", \"liver\", \"heart\", \"forebrain\", \"neural tube\", \"midbrain\", \"liver\", \"heart\", \"hindbrain\", \"forebrain\"], [\"FPKM\", \"FPKM\", \"FPKM\", \"FPKM\", \"TPM\", \"FPKM\", \"TPM\", \"TPM\", \"TPM\", \"TPM\", \"FPKM\", \"TPM\", \"TPM\", \"FPKM\", \"FPKM\", \"TPM\", \"TPM\", \"FPKM\", \"FPKM\", \"TPM\", \"FPKM\", \"TPM\", \"FPKM\", \"FPKM\", \"TPM\", \"TPM\", \"FPKM\", \"FPKM\", \"TPM\", \"FPKM\", \"FPKM\", \"TPM\", \"TPM\", \"FPKM\", \"FPKM\", \"TPM\", \"FPKM\", \"TPM\", \"TPM\", \"TPM\", \"TPM\", \"TPM\", \"TPM\", \"FPKM\", \"FPKM\", \"TPM\", \"FPKM\", \"FPKM\", \"FPKM\", \"FPKM\", \"FPKM\", \"FPKM\", \"FPKM\", \"FPKM\", \"FPKM\", \"TPM\", \"FPKM\", \"TPM\", \"TPM\", \"TPM\", \"TPM\", \"TPM\", \"TPM\", \"TPM\", \"FPKM\", \"FPKM\", \"FPKM\", \"TPM\", \"TPM\", \"TPM\", \"FPKM\", \"FPKM\", \"TPM\", \"TPM\", \"FPKM\", \"FPKM\", \"FPKM\", \"FPKM\", \"FPKM\", \"FPKM\", \"TPM\", \"TPM\", \"TPM\", \"TPM\", \"TPM\", \"FPKM\", \"TPM\", \"TPM\", \"TPM\", \"FPKM\", \"TPM\", \"TPM\", \"TPM\", \"FPKM\", \"FPKM\", \"FPKM\", \"TPM\", \"FPKM\", \"FPKM\", \"TPM\", \"TPM\", \"TPM\", \"FPKM\", \"FPKM\", \"TPM\", \"FPKM\", \"FPKM\", \"FPKM\", \"TPM\", \"TPM\", \"FPKM\", \"TPM\", \"FPKM\", \"FPKM\", \"TPM\", \"FPKM\", \"FPKM\", \"FPKM\", \"FPKM\", \"FPKM\", \"FPKM\", \"TPM\", \"TPM\", \"TPM\", \"TPM\", \"TPM\", \"TPM\", \"TPM\", \"FPKM\", \"TPM\", \"TPM\", \"FPKM\", \"TPM\", \"FPKM\", \"FPKM\", \"TPM\", \"FPKM\", \"FPKM\", \"TPM\", \"FPKM\", \"TPM\", \"FPKM\", \"TPM\", \"TPM\", \"TPM\", \"FPKM\", \"FPKM\", \"TPM\", \"TPM\", \"TPM\", \"FPKM\", \"FPKM\", \"TPM\", \"FPKM\", \"TPM\", \"FPKM\", \"FPKM\", \"FPKM\", \"FPKM\", \"FPKM\", \"TPM\", \"FPKM\", \"FPKM\", \"TPM\", \"FPKM\", \"TPM\", \"FPKM\", \"FPKM\", \"FPKM\", \"TPM\", \"TPM\", \"TPM\", \"TPM\", \"TPM\", \"TPM\", \"TPM\", \"FPKM\", \"FPKM\", \"TPM\", \"TPM\"], [2.13, 2.8, 2.77, 2.42, 4.19, 2.69, 4.4, 3.7, 4.03, 3.3, 2.49, 4.16, 4.01, 2.58, 2.61, 3.76, 4.78, 3.19, 3.67, 5.69, 2.59, 6.73, 3.58, 3.83, 4.04, 5.96, 4.19, 3.11, 5.59, 1.77, 3.27, 2.35, 4.03, 2.94, 1.56, 2.18, 4.56, 4.21, 5.05, 7.32, 6.89, 10.01, 1.95, 5.51, 5.9, 1.82, 4.82, 5.02, 4.55, 4.34, 4.4, 1.53, 5.89, 4.62, 5.11, 7.36, 1.63, 7.52, 7.49, 7.11, 9.15, 8.4, 9.85, 8.04, 2.54, 0.77, 4.85, 3.81, 0.81, 3.18, 3.96, 4.39, 6.3, 6.38, 0.91, 4.22, 3.46, 4.43, 3.98, 4.15, 6.94, 7.71, 5.22, 1.02, 6.83, 2.89, 6.3, 6.75, 1.4, 6.08, 13.03, 8.07, 5.71, 0.99, 6.94, 6.74, 6.21, 7.54, 7.01, 11.54, 8.98, 10.57, 7.6, 1.41, 11.91, 5.23, 4.15, 5.41, 11.86, 11.01, 4.56, 0.95, 6.98, 5.93, 4.72, 1.31, 7.27, 6.53, 3.65, 0.86, 5.73, 9.43, 12.13, 1.41, 9.81, 11.7, 10.89, 0.9, 5.6, 4.71, 8.94, 5.78, 9.16, 6.67, 3.45, 10.4, 3.27, 2.87, 9.18, 0.85, 3.91, 7.6, 0.9, 1.24, 13.08, 7.66, 5.28, 10.45, 4.55, 11.11, 6.52, 1.15, 13.0, 6.18, 9.19, 5.62, 4.8, 3.12, 1.31, 5.94, 8.19, 4.76, 5.1, 9.28, 2.21, 2.68, 4.47, 5.07, 5.2, 7.41, 1.55, 1.53, 2.53, 7.73, 7.68, 8.31, 1.32, 2.14, 6.88, 4.49]]}, \"header\": {\"align\": \"left\", \"fill\": {\"color\": \"paleturquoise\"}, \"values\": [\"Age\", \"Tissue\", \"variable\", \"value\"]}, \"type\": \"table\"}],\n",
       "                        {\"template\": {\"data\": {\"bar\": [{\"error_x\": {\"color\": \"#2a3f5f\"}, \"error_y\": {\"color\": \"#2a3f5f\"}, \"marker\": {\"line\": {\"color\": \"#E5ECF6\", \"width\": 0.5}}, \"type\": \"bar\"}], \"barpolar\": [{\"marker\": {\"line\": {\"color\": \"#E5ECF6\", \"width\": 0.5}}, \"type\": \"barpolar\"}], \"carpet\": [{\"aaxis\": {\"endlinecolor\": \"#2a3f5f\", \"gridcolor\": \"white\", \"linecolor\": \"white\", \"minorgridcolor\": \"white\", \"startlinecolor\": \"#2a3f5f\"}, \"baxis\": {\"endlinecolor\": \"#2a3f5f\", \"gridcolor\": \"white\", \"linecolor\": \"white\", \"minorgridcolor\": \"white\", \"startlinecolor\": \"#2a3f5f\"}, \"type\": \"carpet\"}], \"choropleth\": [{\"colorbar\": {\"outlinewidth\": 0, \"ticks\": \"\"}, \"type\": \"choropleth\"}], \"contour\": [{\"colorbar\": {\"outlinewidth\": 0, \"ticks\": \"\"}, \"colorscale\": [[0.0, \"#0d0887\"], [0.1111111111111111, \"#46039f\"], [0.2222222222222222, \"#7201a8\"], [0.3333333333333333, \"#9c179e\"], [0.4444444444444444, \"#bd3786\"], [0.5555555555555556, \"#d8576b\"], [0.6666666666666666, \"#ed7953\"], [0.7777777777777778, \"#fb9f3a\"], [0.8888888888888888, \"#fdca26\"], [1.0, \"#f0f921\"]], \"type\": \"contour\"}], \"contourcarpet\": [{\"colorbar\": {\"outlinewidth\": 0, \"ticks\": \"\"}, \"type\": \"contourcarpet\"}], \"heatmap\": [{\"colorbar\": {\"outlinewidth\": 0, \"ticks\": \"\"}, \"colorscale\": [[0.0, \"#0d0887\"], [0.1111111111111111, \"#46039f\"], [0.2222222222222222, \"#7201a8\"], [0.3333333333333333, \"#9c179e\"], [0.4444444444444444, \"#bd3786\"], [0.5555555555555556, \"#d8576b\"], [0.6666666666666666, \"#ed7953\"], [0.7777777777777778, \"#fb9f3a\"], [0.8888888888888888, \"#fdca26\"], [1.0, \"#f0f921\"]], \"type\": \"heatmap\"}], \"heatmapgl\": [{\"colorbar\": {\"outlinewidth\": 0, \"ticks\": \"\"}, \"colorscale\": [[0.0, \"#0d0887\"], [0.1111111111111111, \"#46039f\"], [0.2222222222222222, \"#7201a8\"], [0.3333333333333333, \"#9c179e\"], [0.4444444444444444, \"#bd3786\"], [0.5555555555555556, \"#d8576b\"], [0.6666666666666666, \"#ed7953\"], [0.7777777777777778, \"#fb9f3a\"], [0.8888888888888888, \"#fdca26\"], [1.0, \"#f0f921\"]], \"type\": \"heatmapgl\"}], \"histogram\": [{\"marker\": {\"colorbar\": {\"outlinewidth\": 0, \"ticks\": \"\"}}, \"type\": \"histogram\"}], \"histogram2d\": [{\"colorbar\": {\"outlinewidth\": 0, \"ticks\": \"\"}, \"colorscale\": [[0.0, \"#0d0887\"], [0.1111111111111111, \"#46039f\"], [0.2222222222222222, \"#7201a8\"], [0.3333333333333333, \"#9c179e\"], [0.4444444444444444, \"#bd3786\"], [0.5555555555555556, \"#d8576b\"], [0.6666666666666666, \"#ed7953\"], [0.7777777777777778, \"#fb9f3a\"], [0.8888888888888888, \"#fdca26\"], [1.0, \"#f0f921\"]], \"type\": \"histogram2d\"}], \"histogram2dcontour\": [{\"colorbar\": {\"outlinewidth\": 0, \"ticks\": \"\"}, \"colorscale\": [[0.0, \"#0d0887\"], [0.1111111111111111, \"#46039f\"], [0.2222222222222222, \"#7201a8\"], [0.3333333333333333, \"#9c179e\"], [0.4444444444444444, \"#bd3786\"], [0.5555555555555556, \"#d8576b\"], [0.6666666666666666, \"#ed7953\"], [0.7777777777777778, \"#fb9f3a\"], [0.8888888888888888, \"#fdca26\"], [1.0, \"#f0f921\"]], \"type\": \"histogram2dcontour\"}], \"mesh3d\": [{\"colorbar\": {\"outlinewidth\": 0, \"ticks\": \"\"}, \"type\": \"mesh3d\"}], \"parcoords\": [{\"line\": {\"colorbar\": {\"outlinewidth\": 0, \"ticks\": \"\"}}, \"type\": \"parcoords\"}], \"pie\": [{\"automargin\": true, \"type\": \"pie\"}], \"scatter\": [{\"marker\": {\"colorbar\": {\"outlinewidth\": 0, \"ticks\": \"\"}}, \"type\": \"scatter\"}], \"scatter3d\": [{\"line\": {\"colorbar\": {\"outlinewidth\": 0, \"ticks\": \"\"}}, \"marker\": {\"colorbar\": {\"outlinewidth\": 0, \"ticks\": \"\"}}, \"type\": \"scatter3d\"}], \"scattercarpet\": [{\"marker\": {\"colorbar\": {\"outlinewidth\": 0, \"ticks\": \"\"}}, \"type\": \"scattercarpet\"}], \"scattergeo\": [{\"marker\": {\"colorbar\": {\"outlinewidth\": 0, \"ticks\": \"\"}}, \"type\": \"scattergeo\"}], \"scattergl\": [{\"marker\": {\"colorbar\": {\"outlinewidth\": 0, \"ticks\": \"\"}}, \"type\": \"scattergl\"}], \"scattermapbox\": [{\"marker\": {\"colorbar\": {\"outlinewidth\": 0, \"ticks\": \"\"}}, \"type\": \"scattermapbox\"}], \"scatterpolar\": [{\"marker\": {\"colorbar\": {\"outlinewidth\": 0, \"ticks\": \"\"}}, \"type\": \"scatterpolar\"}], \"scatterpolargl\": [{\"marker\": {\"colorbar\": {\"outlinewidth\": 0, \"ticks\": \"\"}}, \"type\": \"scatterpolargl\"}], \"scatterternary\": [{\"marker\": {\"colorbar\": {\"outlinewidth\": 0, \"ticks\": \"\"}}, \"type\": \"scatterternary\"}], \"surface\": [{\"colorbar\": {\"outlinewidth\": 0, \"ticks\": \"\"}, \"colorscale\": [[0.0, \"#0d0887\"], [0.1111111111111111, \"#46039f\"], [0.2222222222222222, \"#7201a8\"], [0.3333333333333333, \"#9c179e\"], [0.4444444444444444, \"#bd3786\"], [0.5555555555555556, \"#d8576b\"], [0.6666666666666666, \"#ed7953\"], [0.7777777777777778, \"#fb9f3a\"], [0.8888888888888888, \"#fdca26\"], [1.0, \"#f0f921\"]], \"type\": \"surface\"}], \"table\": [{\"cells\": {\"fill\": {\"color\": \"#EBF0F8\"}, \"line\": {\"color\": \"white\"}}, \"header\": {\"fill\": {\"color\": \"#C8D4E3\"}, \"line\": {\"color\": \"white\"}}, \"type\": \"table\"}]}, \"layout\": {\"annotationdefaults\": {\"arrowcolor\": \"#2a3f5f\", \"arrowhead\": 0, \"arrowwidth\": 1}, \"coloraxis\": {\"colorbar\": {\"outlinewidth\": 0, \"ticks\": \"\"}}, \"colorscale\": {\"diverging\": [[0, \"#8e0152\"], [0.1, \"#c51b7d\"], [0.2, \"#de77ae\"], [0.3, \"#f1b6da\"], [0.4, \"#fde0ef\"], [0.5, \"#f7f7f7\"], [0.6, \"#e6f5d0\"], [0.7, \"#b8e186\"], [0.8, \"#7fbc41\"], [0.9, \"#4d9221\"], [1, \"#276419\"]], \"sequential\": [[0.0, \"#0d0887\"], [0.1111111111111111, \"#46039f\"], [0.2222222222222222, \"#7201a8\"], [0.3333333333333333, \"#9c179e\"], [0.4444444444444444, \"#bd3786\"], [0.5555555555555556, \"#d8576b\"], [0.6666666666666666, \"#ed7953\"], [0.7777777777777778, \"#fb9f3a\"], [0.8888888888888888, \"#fdca26\"], [1.0, \"#f0f921\"]], \"sequentialminus\": [[0.0, \"#0d0887\"], [0.1111111111111111, \"#46039f\"], [0.2222222222222222, \"#7201a8\"], [0.3333333333333333, \"#9c179e\"], [0.4444444444444444, \"#bd3786\"], [0.5555555555555556, \"#d8576b\"], [0.6666666666666666, \"#ed7953\"], [0.7777777777777778, \"#fb9f3a\"], [0.8888888888888888, \"#fdca26\"], [1.0, \"#f0f921\"]]}, \"colorway\": [\"#636efa\", \"#EF553B\", \"#00cc96\", \"#ab63fa\", \"#FFA15A\", \"#19d3f3\", \"#FF6692\", \"#B6E880\", \"#FF97FF\", \"#FECB52\"], \"font\": {\"color\": \"#2a3f5f\"}, \"geo\": {\"bgcolor\": \"white\", \"lakecolor\": \"white\", \"landcolor\": \"#E5ECF6\", \"showlakes\": true, \"showland\": true, \"subunitcolor\": \"white\"}, \"hoverlabel\": {\"align\": \"left\"}, \"hovermode\": \"closest\", \"mapbox\": {\"style\": \"light\"}, \"paper_bgcolor\": \"white\", \"plot_bgcolor\": \"#E5ECF6\", \"polar\": {\"angularaxis\": {\"gridcolor\": \"white\", \"linecolor\": \"white\", \"ticks\": \"\"}, \"bgcolor\": \"#E5ECF6\", \"radialaxis\": {\"gridcolor\": \"white\", \"linecolor\": \"white\", \"ticks\": \"\"}}, \"scene\": {\"xaxis\": {\"backgroundcolor\": \"#E5ECF6\", \"gridcolor\": \"white\", \"gridwidth\": 2, \"linecolor\": \"white\", \"showbackground\": true, \"ticks\": \"\", \"zerolinecolor\": \"white\"}, \"yaxis\": {\"backgroundcolor\": \"#E5ECF6\", \"gridcolor\": \"white\", \"gridwidth\": 2, \"linecolor\": \"white\", \"showbackground\": true, \"ticks\": \"\", \"zerolinecolor\": \"white\"}, \"zaxis\": {\"backgroundcolor\": \"#E5ECF6\", \"gridcolor\": \"white\", \"gridwidth\": 2, \"linecolor\": \"white\", \"showbackground\": true, \"ticks\": \"\", \"zerolinecolor\": \"white\"}}, \"shapedefaults\": {\"line\": {\"color\": \"#2a3f5f\"}}, \"ternary\": {\"aaxis\": {\"gridcolor\": \"white\", \"linecolor\": \"white\", \"ticks\": \"\"}, \"baxis\": {\"gridcolor\": \"white\", \"linecolor\": \"white\", \"ticks\": \"\"}, \"bgcolor\": \"#E5ECF6\", \"caxis\": {\"gridcolor\": \"white\", \"linecolor\": \"white\", \"ticks\": \"\"}}, \"title\": {\"x\": 0.05}, \"xaxis\": {\"automargin\": true, \"gridcolor\": \"white\", \"linecolor\": \"white\", \"ticks\": \"\", \"title\": {\"standoff\": 15}, \"zerolinecolor\": \"white\", \"zerolinewidth\": 2}, \"yaxis\": {\"automargin\": true, \"gridcolor\": \"white\", \"linecolor\": \"white\", \"ticks\": \"\", \"title\": {\"standoff\": 15}, \"zerolinecolor\": \"white\", \"zerolinewidth\": 2}}}, \"title\": {\"text\": \"Rapgef2: Poly-A Oligo-dt primed, B Wold, ENCODE\"}},\n",
       "                        {\"responsive\": true}\n",
       "                    ).then(function(){\n",
       "                            \n",
       "var gd = document.getElementById('31c34968-a492-47fa-8487-1731eca121c1');\n",
       "var x = new MutationObserver(function (mutations, observer) {{\n",
       "        var display = window.getComputedStyle(gd).display;\n",
       "        if (!display || display === 'none') {{\n",
       "            console.log([gd, 'removed!']);\n",
       "            Plotly.purge(gd);\n",
       "            observer.disconnect();\n",
       "        }}\n",
       "}});\n",
       "\n",
       "// Listen for the removal of the full notebook cells\n",
       "var notebookContainer = gd.closest('#notebook-container');\n",
       "if (notebookContainer) {{\n",
       "    x.observe(notebookContainer, {childList: true});\n",
       "}}\n",
       "\n",
       "// Listen for the clearing of the current output cell\n",
       "var outputEl = gd.closest('.output');\n",
       "if (outputEl) {{\n",
       "    x.observe(outputEl, {childList: true});\n",
       "}}\n",
       "\n",
       "                        })\n",
       "                };\n",
       "                });\n",
       "            </script>\n",
       "        </div>"
      ]
     },
     "metadata": {},
     "output_type": "display_data"
    }
   ],
   "source": [
    "\n",
    "df1 = pd.read_excel(r'C:\\Users\\dbaka\\OneDrive\\Desktop\\Eiden lab\\Python Scripts\\Rapgef2 Datasets\\ENCODE_Rapgef2_geneLevel.xlsx')\n",
    "df1.sort_values(by=['Age'], inplace=True)\n",
    "\n",
    "\n",
    "fig = px.bar(df1, x=\"Tissue\", y=\"value\", color = \"Age\", \n",
    "                    facet_col = \"variable\",\n",
    "             #facet_wrap = 4,\n",
    "                    width=1000, height=600,\n",
    "                    #hover_name = \"cluster_label\",\n",
    "                    #hover_data = [\"higher_cluster\", \"Cell_Type\", \"Expression\"]\n",
    "                    )\n",
    "for a in fig.layout.annotations:\n",
    "    a.text = a.text.split(\"=\")[1]\n",
    "fig.update_yaxes(title_text='')\n",
    "fig.update_layout(\n",
    "    title=\"Rapgef2: Poly-A Oligo-dt primed, B Wold, ENCODE\",\n",
    "    xaxis_title=\"Cell Type\",\n",
    "    yaxis_title=\"Expression\",\n",
    "    xaxis={'categoryorder':'total descending'})\n",
    "fig.show()\n",
    "\n",
    "            ## print table\n",
    "fig2 = go.Figure(data=[go.Table(\n",
    "    header=dict(values=list(df1.columns),\n",
    "                fill_color='paleturquoise',\n",
    "                align='left'),\n",
    "    cells=dict(values=[df1.Age,df1.Tissue, df1.variable, df1.value],\n",
    "               fill_color='lavender',\n",
    "               align='left'))\n",
    "])\n",
    "\n",
    "\n",
    "fig2.update_layout(title=\"Rapgef2: Poly-A Oligo-dt primed, B Wold, ENCODE\")\n",
    "fig2.show()\n"
   ]
  }
 ],
 "metadata": {
  "celltoolbar": "Hide code",
  "kernelspec": {
   "display_name": "Python 3",
   "language": "python",
   "name": "python3"
  },
  "language_info": {
   "codemirror_mode": {
    "name": "ipython",
    "version": 3
   },
   "file_extension": ".py",
   "mimetype": "text/x-python",
   "name": "python",
   "nbconvert_exporter": "python",
   "pygments_lexer": "ipython3",
   "version": "3.7.6"
  }
 },
 "nbformat": 4,
 "nbformat_minor": 4
}
